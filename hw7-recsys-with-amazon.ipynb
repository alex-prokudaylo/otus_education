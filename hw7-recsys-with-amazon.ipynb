{
 "cells": [
  {
   "cell_type": "code",
   "execution_count": 1,
   "id": "2b7bea06",
   "metadata": {
    "_cell_guid": "b1076dfc-b9ad-4769-8c92-a6c4dae69d19",
    "_uuid": "8f2839f25d086af736a60e9eeb907d3b93b6e0e5",
    "execution": {
     "iopub.execute_input": "2022-06-24T06:46:40.606142Z",
     "iopub.status.busy": "2022-06-24T06:46:40.604912Z",
     "iopub.status.idle": "2022-06-24T06:46:41.978777Z",
     "shell.execute_reply": "2022-06-24T06:46:41.977375Z"
    },
    "papermill": {
     "duration": 1.393039,
     "end_time": "2022-06-24T06:46:41.981755",
     "exception": false,
     "start_time": "2022-06-24T06:46:40.588716",
     "status": "completed"
    },
    "tags": []
   },
   "outputs": [],
   "source": [
    "import numpy as np # linear algebra\n",
    "import pandas as pd # data processing, CSV file I/O (e.g. pd.read_csv)\n",
    "import gzip \n",
    "import os\n",
    "import json\n",
    "\n",
    "from tqdm import tqdm_notebook\n",
    "from sklearn.metrics import mean_squared_error\n",
    "from sklearn.metrics.pairwise import cosine_similarity\n",
    "from sklearn.base import BaseEstimator\n",
    "from sklearn.model_selection import train_test_split\n",
    "from sklearn.metrics import mean_squared_error\n"
   ]
  },
  {
   "cell_type": "code",
   "execution_count": 2,
   "id": "462ab1bd",
   "metadata": {
    "execution": {
     "iopub.execute_input": "2022-06-24T06:46:42.007013Z",
     "iopub.status.busy": "2022-06-24T06:46:42.006479Z",
     "iopub.status.idle": "2022-06-24T06:46:44.374290Z",
     "shell.execute_reply": "2022-06-24T06:46:44.372774Z"
    },
    "papermill": {
     "duration": 2.384747,
     "end_time": "2022-06-24T06:46:44.377440",
     "exception": false,
     "start_time": "2022-06-24T06:46:41.992693",
     "status": "completed"
    },
    "tags": []
   },
   "outputs": [
    {
     "name": "stdout",
     "output_type": "stream",
     "text": [
      "--2022-06-24 06:46:42--  http://deepyeti.ucsd.edu/jianmo/amazon/categoryFilesSmall/Industrial_and_Scientific.csv\r\n",
      "Resolving deepyeti.ucsd.edu (deepyeti.ucsd.edu)... 169.228.63.50\r\n",
      "Connecting to deepyeti.ucsd.edu (deepyeti.ucsd.edu)|169.228.63.50|:80... connected.\r\n",
      "HTTP request sent, awaiting response... 200 OK\r\n",
      "Length: 73390279 (70M) [application/octet-stream]\r\n",
      "Saving to: ‘Industrial_and_Scientific.csv’\r\n",
      "\r\n",
      "Industrial_and_Scie 100%[===================>]  69.99M  64.1MB/s    in 1.1s    \r\n",
      "\r\n",
      "2022-06-24 06:46:44 (64.1 MB/s) - ‘Industrial_and_Scientific.csv’ saved [73390279/73390279]\r\n",
      "\r\n"
     ]
    }
   ],
   "source": [
    "# Загрузка данных\n",
    "# Industrial and Scientific: 5-core (77,071 reviews), ratings only (1,758,333 ratings), metadata (167,524 products)\n",
    "# metadata - http://deepyeti.ucsd.edu/jianmo/amazon/index.html\n",
    "\n",
    "!wget http://deepyeti.ucsd.edu/jianmo/amazon/categoryFilesSmall/Industrial_and_Scientific.csv\n",
    "#!wget http://deepyeti.ucsd.edu/jianmo/amazon/categoryFilesSmall/Industrial_and_Scientific_5.json.gz"
   ]
  },
  {
   "cell_type": "code",
   "execution_count": 3,
   "id": "98b3154f",
   "metadata": {
    "execution": {
     "iopub.execute_input": "2022-06-24T06:46:44.402184Z",
     "iopub.status.busy": "2022-06-24T06:46:44.401690Z",
     "iopub.status.idle": "2022-06-24T06:46:47.113834Z",
     "shell.execute_reply": "2022-06-24T06:46:47.112782Z"
    },
    "papermill": {
     "duration": 2.727493,
     "end_time": "2022-06-24T06:46:47.116310",
     "exception": false,
     "start_time": "2022-06-24T06:46:44.388817",
     "status": "completed"
    },
    "tags": []
   },
   "outputs": [
    {
     "data": {
      "text/html": [
       "<div>\n",
       "<style scoped>\n",
       "    .dataframe tbody tr th:only-of-type {\n",
       "        vertical-align: middle;\n",
       "    }\n",
       "\n",
       "    .dataframe tbody tr th {\n",
       "        vertical-align: top;\n",
       "    }\n",
       "\n",
       "    .dataframe thead th {\n",
       "        text-align: right;\n",
       "    }\n",
       "</style>\n",
       "<table border=\"1\" class=\"dataframe\">\n",
       "  <thead>\n",
       "    <tr style=\"text-align: right;\">\n",
       "      <th></th>\n",
       "      <th>item_id</th>\n",
       "      <th>person_id</th>\n",
       "      <th>mark</th>\n",
       "      <th>time</th>\n",
       "    </tr>\n",
       "  </thead>\n",
       "  <tbody>\n",
       "    <tr>\n",
       "      <th>0</th>\n",
       "      <td>0176496920</td>\n",
       "      <td>A3FANY5GOT5X0W</td>\n",
       "      <td>5.0</td>\n",
       "      <td>1358899200</td>\n",
       "    </tr>\n",
       "    <tr>\n",
       "      <th>1</th>\n",
       "      <td>0176496920</td>\n",
       "      <td>AT6HRPPYOPHMB</td>\n",
       "      <td>5.0</td>\n",
       "      <td>1352073600</td>\n",
       "    </tr>\n",
       "    <tr>\n",
       "      <th>2</th>\n",
       "      <td>0176496920</td>\n",
       "      <td>A4IX7B38LIN1E</td>\n",
       "      <td>4.0</td>\n",
       "      <td>1350432000</td>\n",
       "    </tr>\n",
       "    <tr>\n",
       "      <th>3</th>\n",
       "      <td>0176496920</td>\n",
       "      <td>A12Q4LR8N17AOZ</td>\n",
       "      <td>5.0</td>\n",
       "      <td>1490745600</td>\n",
       "    </tr>\n",
       "    <tr>\n",
       "      <th>4</th>\n",
       "      <td>0176496920</td>\n",
       "      <td>A1GJXZZPOZ3OD9</td>\n",
       "      <td>1.0</td>\n",
       "      <td>1490054400</td>\n",
       "    </tr>\n",
       "  </tbody>\n",
       "</table>\n",
       "</div>"
      ],
      "text/plain": [
       "      item_id       person_id  mark        time\n",
       "0  0176496920  A3FANY5GOT5X0W   5.0  1358899200\n",
       "1  0176496920   AT6HRPPYOPHMB   5.0  1352073600\n",
       "2  0176496920   A4IX7B38LIN1E   4.0  1350432000\n",
       "3  0176496920  A12Q4LR8N17AOZ   5.0  1490745600\n",
       "4  0176496920  A1GJXZZPOZ3OD9   1.0  1490054400"
      ]
     },
     "execution_count": 3,
     "metadata": {},
     "output_type": "execute_result"
    }
   ],
   "source": [
    "data_r = pd.read_csv(\"./Industrial_and_Scientific.csv\", names=[\"item_id\", \"person_id\", \"mark\", \"time\"], parse_dates=['time'])\n",
    "data_r.head()"
   ]
  },
  {
   "cell_type": "code",
   "execution_count": 4,
   "id": "89463155",
   "metadata": {
    "execution": {
     "iopub.execute_input": "2022-06-24T06:46:47.142962Z",
     "iopub.status.busy": "2022-06-24T06:46:47.142360Z",
     "iopub.status.idle": "2022-06-24T06:46:47.172104Z",
     "shell.execute_reply": "2022-06-24T06:46:47.170705Z"
    },
    "papermill": {
     "duration": 0.046331,
     "end_time": "2022-06-24T06:46:47.174939",
     "exception": false,
     "start_time": "2022-06-24T06:46:47.128608",
     "status": "completed"
    },
    "tags": []
   },
   "outputs": [
    {
     "name": "stdout",
     "output_type": "stream",
     "text": [
      "<class 'pandas.core.frame.DataFrame'>\n",
      "RangeIndex: 1758333 entries, 0 to 1758332\n",
      "Data columns (total 4 columns):\n",
      " #   Column     Dtype  \n",
      "---  ------     -----  \n",
      " 0   item_id    object \n",
      " 1   person_id  object \n",
      " 2   mark       float64\n",
      " 3   time       object \n",
      "dtypes: float64(1), object(3)\n",
      "memory usage: 53.7+ MB\n"
     ]
    }
   ],
   "source": [
    "data_r.info()"
   ]
  },
  {
   "cell_type": "code",
   "execution_count": 5,
   "id": "29119633",
   "metadata": {
    "execution": {
     "iopub.execute_input": "2022-06-24T06:46:47.201349Z",
     "iopub.status.busy": "2022-06-24T06:46:47.200785Z",
     "iopub.status.idle": "2022-06-24T06:46:48.059114Z",
     "shell.execute_reply": "2022-06-24T06:46:48.057279Z"
    },
    "papermill": {
     "duration": 0.876246,
     "end_time": "2022-06-24T06:46:48.063427",
     "exception": false,
     "start_time": "2022-06-24T06:46:47.187181",
     "status": "completed"
    },
    "tags": []
   },
   "outputs": [
    {
     "name": "stdout",
     "output_type": "stream",
     "text": [
      "item_id 165764\n",
      "person_id 1246131\n"
     ]
    }
   ],
   "source": [
    "for col in ['item_id', 'person_id']:\n",
    "    print(col, len(data_r[col].unique()))"
   ]
  },
  {
   "cell_type": "code",
   "execution_count": 6,
   "id": "ebfcafdd",
   "metadata": {
    "execution": {
     "iopub.execute_input": "2022-06-24T06:46:48.091179Z",
     "iopub.status.busy": "2022-06-24T06:46:48.090665Z",
     "iopub.status.idle": "2022-06-24T06:46:54.378837Z",
     "shell.execute_reply": "2022-06-24T06:46:54.377522Z"
    },
    "papermill": {
     "duration": 6.304067,
     "end_time": "2022-06-24T06:46:54.381079",
     "exception": false,
     "start_time": "2022-06-24T06:46:48.077012",
     "status": "completed"
    },
    "tags": []
   },
   "outputs": [
    {
     "name": "stdout",
     "output_type": "stream",
     "text": [
      "1 1.411033831916548 156\n"
     ]
    }
   ],
   "source": [
    "# Сколько оценок оставляют пользователи \n",
    "a = data_r.groupby(\"person_id\")[\"item_id\"].count()\n",
    "print(a.min(),a.mean(), a.max())"
   ]
  },
  {
   "cell_type": "code",
   "execution_count": 7,
   "id": "43deb931",
   "metadata": {
    "execution": {
     "iopub.execute_input": "2022-06-24T06:46:54.407567Z",
     "iopub.status.busy": "2022-06-24T06:46:54.407068Z",
     "iopub.status.idle": "2022-06-24T06:46:55.175176Z",
     "shell.execute_reply": "2022-06-24T06:46:55.174054Z"
    },
    "papermill": {
     "duration": 0.784369,
     "end_time": "2022-06-24T06:46:55.177607",
     "exception": false,
     "start_time": "2022-06-24T06:46:54.393238",
     "status": "completed"
    },
    "tags": []
   },
   "outputs": [
    {
     "name": "stdout",
     "output_type": "stream",
     "text": [
      "1 10.607447938032383 14331\n"
     ]
    }
   ],
   "source": [
    "# Сколько оценок остаполучают товары\n",
    "a = data_r.groupby(\"item_id\")[\"person_id\"].count()\n",
    "print(a.min(),a.mean(), a.max())"
   ]
  },
  {
   "cell_type": "code",
   "execution_count": 8,
   "id": "63e5fbfb",
   "metadata": {
    "execution": {
     "iopub.execute_input": "2022-06-24T06:46:55.205394Z",
     "iopub.status.busy": "2022-06-24T06:46:55.204153Z",
     "iopub.status.idle": "2022-06-24T06:47:01.653527Z",
     "shell.execute_reply": "2022-06-24T06:47:01.652039Z"
    },
    "papermill": {
     "duration": 6.466577,
     "end_time": "2022-06-24T06:47:01.656590",
     "exception": false,
     "start_time": "2022-06-24T06:46:55.190013",
     "status": "completed"
    },
    "tags": []
   },
   "outputs": [
    {
     "name": "stdout",
     "output_type": "stream",
     "text": [
      "59219 items were taken from 1758333\n"
     ]
    }
   ],
   "source": [
    "# Давольно много пользователей с одной-двумя оценками. Их будет трудно делить на трей-тест. \n",
    "# К тому же думается, что user-based для них не даст интересных результатов. \n",
    "# user-based будем применять для пользователей с количеством отывов больще n\n",
    "# Ну и пямять экономим.\n",
    "\n",
    "n = 10\n",
    "\n",
    "data_r[\"person_marks\"] = data_r.groupby(\"person_id\")[\"item_id\"].transform(\"count\")\n",
    "data_reduced = data_r[data_r[\"person_marks\"] > n]\n",
    "print(data_reduced.shape[0], \"items were taken from\", data_r.shape[0])"
   ]
  },
  {
   "cell_type": "code",
   "execution_count": null,
   "id": "1ad92403",
   "metadata": {
    "papermill": {
     "duration": 0.012058,
     "end_time": "2022-06-24T06:47:01.681873",
     "exception": false,
     "start_time": "2022-06-24T06:47:01.669815",
     "status": "completed"
    },
    "tags": []
   },
   "outputs": [],
   "source": []
  },
  {
   "cell_type": "code",
   "execution_count": 9,
   "id": "f041a6e6",
   "metadata": {
    "execution": {
     "iopub.execute_input": "2022-06-24T06:47:01.710158Z",
     "iopub.status.busy": "2022-06-24T06:47:01.709631Z",
     "iopub.status.idle": "2022-06-24T06:47:01.723477Z",
     "shell.execute_reply": "2022-06-24T06:47:01.722473Z"
    },
    "papermill": {
     "duration": 0.030634,
     "end_time": "2022-06-24T06:47:01.725798",
     "exception": false,
     "start_time": "2022-06-24T06:47:01.695164",
     "status": "completed"
    },
    "tags": []
   },
   "outputs": [
    {
     "data": {
      "text/plain": [
       "5.0    42781\n",
       "4.0     9566\n",
       "3.0     3515\n",
       "1.0     1912\n",
       "2.0     1445\n",
       "Name: mark, dtype: int64"
      ]
     },
     "execution_count": 9,
     "metadata": {},
     "output_type": "execute_result"
    }
   ],
   "source": [
    "data_reduced.mark.value_counts()"
   ]
  },
  {
   "cell_type": "code",
   "execution_count": 10,
   "id": "67dcd011",
   "metadata": {
    "execution": {
     "iopub.execute_input": "2022-06-24T06:47:01.754084Z",
     "iopub.status.busy": "2022-06-24T06:47:01.753539Z",
     "iopub.status.idle": "2022-06-24T06:47:01.794391Z",
     "shell.execute_reply": "2022-06-24T06:47:01.792773Z"
    },
    "papermill": {
     "duration": 0.05918,
     "end_time": "2022-06-24T06:47:01.798490",
     "exception": false,
     "start_time": "2022-06-24T06:47:01.739310",
     "status": "completed"
    },
    "tags": []
   },
   "outputs": [
    {
     "name": "stdout",
     "output_type": "stream",
     "text": [
      "item_id 25967\n",
      "person_id 3648\n"
     ]
    }
   ],
   "source": [
    "for col in ['item_id', 'person_id']:\n",
    "    print(col, len(data_reduced[col].unique()))"
   ]
  },
  {
   "cell_type": "code",
   "execution_count": 11,
   "id": "9a86c562",
   "metadata": {
    "execution": {
     "iopub.execute_input": "2022-06-24T06:47:01.827205Z",
     "iopub.status.busy": "2022-06-24T06:47:01.826661Z",
     "iopub.status.idle": "2022-06-24T06:47:01.839528Z",
     "shell.execute_reply": "2022-06-24T06:47:01.838607Z"
    },
    "papermill": {
     "duration": 0.029458,
     "end_time": "2022-06-24T06:47:01.841719",
     "exception": false,
     "start_time": "2022-06-24T06:47:01.812261",
     "status": "completed"
    },
    "tags": []
   },
   "outputs": [],
   "source": [
    "rmse = lambda y_true, y_pred: np.sqrt(mean_squared_error(y_true, y_pred))\n",
    "\n",
    "def train_test_split_rs(X, ratio=0.2, user_col='userId', item_col='movieId',\n",
    "                     rating_col='rating', time_col='timestamp'):\n",
    "    # сортируем оценки по времени\n",
    "    X.sort_values(by=[time_col], inplace=True)\n",
    "    # список всех юзеров\n",
    "    userIds = X[user_col].unique()\n",
    "    X_train_data = []\n",
    "    X_test_data = []\n",
    "    y_train = []\n",
    "    y_test = []\n",
    "    for userId in tqdm_notebook(userIds):\n",
    "        curUser = X[X[user_col] == userId]\n",
    "        # определяем позицию, по которой делим выборку и размещаем данные по массивам\n",
    "        idx = int(curUser.shape[0] * (1 - ratio))\n",
    "        X_train_data.append(curUser[[user_col, item_col]].iloc[:idx, :].values)\n",
    "        X_test_data.append(curUser[[user_col, item_col]].iloc[idx:, :].values)\n",
    "        y_train.append(curUser[rating_col].values[:idx])\n",
    "        y_test.append(curUser[rating_col].values[idx:])\n",
    "    # cтекуем данные по каждому пользователю в общие массивы\n",
    "    X_train = pd.DataFrame(np.vstack(X_train_data), columns=[user_col, item_col])\n",
    "    X_test = pd.DataFrame(np.vstack(X_test_data), columns=[user_col, item_col])\n",
    "    y_train = np.hstack(y_train)\n",
    "    y_test = np.hstack(y_test)\n",
    "    return X_train, X_test, y_train, y_test"
   ]
  },
  {
   "cell_type": "code",
   "execution_count": 12,
   "id": "9e0ea3aa",
   "metadata": {
    "execution": {
     "iopub.execute_input": "2022-06-24T06:47:01.870369Z",
     "iopub.status.busy": "2022-06-24T06:47:01.869122Z",
     "iopub.status.idle": "2022-06-24T06:48:10.405684Z",
     "shell.execute_reply": "2022-06-24T06:48:10.403844Z"
    },
    "papermill": {
     "duration": 68.553644,
     "end_time": "2022-06-24T06:48:10.408328",
     "exception": false,
     "start_time": "2022-06-24T06:47:01.854684",
     "status": "completed"
    },
    "tags": []
   },
   "outputs": [
    {
     "name": "stderr",
     "output_type": "stream",
     "text": [
      "/opt/conda/lib/python3.7/site-packages/pandas/util/_decorators.py:311: SettingWithCopyWarning: \n",
      "A value is trying to be set on a copy of a slice from a DataFrame\n",
      "\n",
      "See the caveats in the documentation: https://pandas.pydata.org/pandas-docs/stable/user_guide/indexing.html#returning-a-view-versus-a-copy\n",
      "  return func(*args, **kwargs)\n",
      "/opt/conda/lib/python3.7/site-packages/ipykernel_launcher.py:13: TqdmDeprecationWarning: This function will be removed in tqdm==5.0.0\n",
      "Please use `tqdm.notebook.tqdm` instead of `tqdm.tqdm_notebook`\n",
      "  del sys.path[0]\n"
     ]
    },
    {
     "data": {
      "application/vnd.jupyter.widget-view+json": {
       "model_id": "f1bceb4f0ac94984a452694b277e0f74",
       "version_major": 2,
       "version_minor": 0
      },
      "text/plain": [
       "  0%|          | 0/3648 [00:00<?, ?it/s]"
      ]
     },
     "metadata": {},
     "output_type": "display_data"
    },
    {
     "name": "stdout",
     "output_type": "stream",
     "text": [
      "(45612, 2) (13607, 2)\n",
      "CPU times: user 1min 8s, sys: 725 ms, total: 1min 9s\n",
      "Wall time: 1min 8s\n"
     ]
    }
   ],
   "source": [
    "%%time\n",
    "X_train, X_test, y_train, y_test = train_test_split_rs(data_reduced, ratio=0.2, user_col='person_id', item_col='item_id',\n",
    "                     rating_col='mark', time_col='time')\n",
    "\n",
    "#X_train, X_test, y_train, y_test = train_test_split(data_reduced[['person_id', 'item_id']], data_reduced['mark'], stratify=data_reduced['person_id'], test_size=0.2, random_state=42)\n",
    "print(X_train.shape, X_test.shape)"
   ]
  },
  {
   "cell_type": "markdown",
   "id": "29f1272d",
   "metadata": {
    "papermill": {
     "duration": 0.012191,
     "end_time": "2022-06-24T06:48:10.433334",
     "exception": false,
     "start_time": "2022-06-24T06:48:10.421143",
     "status": "completed"
    },
    "tags": []
   },
   "source": [
    "# Collaborative filtering User-based model"
   ]
  },
  {
   "cell_type": "code",
   "execution_count": 13,
   "id": "4dc5a0d2",
   "metadata": {
    "execution": {
     "iopub.execute_input": "2022-06-24T06:48:10.460673Z",
     "iopub.status.busy": "2022-06-24T06:48:10.460182Z",
     "iopub.status.idle": "2022-06-24T06:48:10.478409Z",
     "shell.execute_reply": "2022-06-24T06:48:10.477081Z"
    },
    "papermill": {
     "duration": 0.035255,
     "end_time": "2022-06-24T06:48:10.480922",
     "exception": false,
     "start_time": "2022-06-24T06:48:10.445667",
     "status": "completed"
    },
    "tags": []
   },
   "outputs": [],
   "source": [
    "class UserBased(BaseEstimator):\n",
    "    def fit(self, X, y, user_col='userId', item_col='movieId'):\n",
    "        self.false_predict = 0\n",
    "        X = X.copy()\n",
    "        # сохраним текущих пользователей и имеющиеся предметы\n",
    "        self.users = X[user_col].unique()\n",
    "        self.items = X[item_col].unique()\n",
    "        \n",
    "        X['y'] = y\n",
    "        # рассчитаем среднее значение рейтинга для пользователя и предмета\n",
    "        self.mean_y_user = X.groupby(user_col)['y'].mean()\n",
    "        self.mean_y_item = X.groupby(item_col)['y'].mean()\n",
    "        \n",
    "        # вычитаем среднюю оценку пользователя\n",
    "        X['y'] -= X[user_col].apply(lambda x: self.mean_y_user[x])\n",
    "        \n",
    "        # создаём векторы для каждого пользователя из просмотренных фильмов\n",
    "        # для неизвестных фильмов ставим оценку 0\n",
    "        self.user_ratings = pd.pivot_table(X, values='y', index=user_col,\n",
    "                                           columns=item_col, fill_value=0.00001) #0 -self.mean_y_user.mean()\n",
    "        \n",
    "        \n",
    "        # считаем попарную схожесть между юзерами\n",
    "        self.user_sim = cosine_similarity(self.user_ratings)\n",
    "        \n",
    "        # также сделаем словарь - {значение user_col: index в user_ratings}\n",
    "        self.user_pos = dict()\n",
    "        for user in self.users:\n",
    "            self.user_pos[user] = np.argwhere(self.user_ratings.index.values == user)[0][0]\n",
    "        return self\n",
    "    \n",
    "    def predict_rating(self, pr_user, pr_item):\n",
    "        # если в обучающей выборке нет такого предмета\n",
    "        # или пользователя, то вернём 0\n",
    "        if not pr_item in self.items or not pr_user in self.users:\n",
    "            self.false_predict += 1\n",
    "            return 0\n",
    "        \n",
    "        # считаем числитель и знаменатель дроби из формулы предсказания\n",
    "        numerator = self.user_sim[self.user_pos[pr_user]].dot(\n",
    "                        self.user_ratings.loc[:, pr_item])   \n",
    "        # вычитаем 1, так как схожесть пользователя с самим собой равна 1,\n",
    "        # но модель не должна это учитывать\n",
    "        denominator = np.abs(self.user_sim[self.user_pos[pr_user]]).sum() - 1\n",
    "        \n",
    "        ans = self.mean_y_user[pr_user] + numerator / denominator\n",
    "        \n",
    "        return ans\n",
    "    \n",
    "    def predict(self, X, user_col='userId', item_col='movieId'):\n",
    "        y = X[[user_col, item_col]].apply(lambda row: self.predict_rating(row[0], row[1]), axis=1)\n",
    "        print(self.false_predict, \" items wasn't in train.\")\n",
    "        self.false_predict = 0\n",
    "        return y\n"
   ]
  },
  {
   "cell_type": "code",
   "execution_count": 14,
   "id": "9e9eee7c",
   "metadata": {
    "execution": {
     "iopub.execute_input": "2022-06-24T06:48:10.510251Z",
     "iopub.status.busy": "2022-06-24T06:48:10.509778Z",
     "iopub.status.idle": "2022-06-24T06:48:32.527030Z",
     "shell.execute_reply": "2022-06-24T06:48:32.525828Z"
    },
    "papermill": {
     "duration": 22.035305,
     "end_time": "2022-06-24T06:48:32.529612",
     "exception": false,
     "start_time": "2022-06-24T06:48:10.494307",
     "status": "completed"
    },
    "tags": []
   },
   "outputs": [
    {
     "name": "stdout",
     "output_type": "stream",
     "text": [
      "start fitting...\n",
      "CPU times: user 33.1 s, sys: 4.35 s, total: 37.4 s\n",
      "Wall time: 22 s\n"
     ]
    }
   ],
   "source": [
    "%%time\n",
    "print('start fitting...')\n",
    "ub = UserBased().fit(X_train, y_train, user_col='person_id', item_col='item_id')\n"
   ]
  },
  {
   "cell_type": "code",
   "execution_count": 15,
   "id": "4e85f94f",
   "metadata": {
    "execution": {
     "iopub.execute_input": "2022-06-24T06:48:32.559603Z",
     "iopub.status.busy": "2022-06-24T06:48:32.558604Z",
     "iopub.status.idle": "2022-06-24T06:49:06.571474Z",
     "shell.execute_reply": "2022-06-24T06:49:06.570250Z"
    },
    "papermill": {
     "duration": 34.044021,
     "end_time": "2022-06-24T06:49:06.587429",
     "exception": false,
     "start_time": "2022-06-24T06:48:32.543408",
     "status": "completed"
    },
    "tags": []
   },
   "outputs": [
    {
     "name": "stdout",
     "output_type": "stream",
     "text": [
      "start predicting...\n",
      "5123  items wasn't in train.\n",
      "rmse = 2.9072999963338804\n"
     ]
    }
   ],
   "source": [
    "print('start predicting...')\n",
    "pred = ub.predict(X_test, user_col='person_id', item_col='item_id')\n",
    "print('rmse = {}'.format(mean_squared_error(y_test, pred, squared=False)))\n"
   ]
  },
  {
   "cell_type": "code",
   "execution_count": 16,
   "id": "d19435cc",
   "metadata": {
    "execution": {
     "iopub.execute_input": "2022-06-24T06:49:06.615862Z",
     "iopub.status.busy": "2022-06-24T06:49:06.615353Z",
     "iopub.status.idle": "2022-06-24T06:49:13.164393Z",
     "shell.execute_reply": "2022-06-24T06:49:13.162989Z"
    },
    "papermill": {
     "duration": 6.56688,
     "end_time": "2022-06-24T06:49:13.167501",
     "exception": false,
     "start_time": "2022-06-24T06:49:06.600621",
     "status": "completed"
    },
    "tags": []
   },
   "outputs": [],
   "source": [
    "un_lst = list(X_train['item_id'].unique())\n",
    "X_test[\"in_train\"] = X_test.apply(lambda a: 1 if a[\"item_id\"] in un_lst else 0, axis=1)\n",
    "#print(X_test_.shape, X_test.shape)\n",
    "X_test[\"y\"] = y_test"
   ]
  },
  {
   "cell_type": "code",
   "execution_count": 17,
   "id": "e4fef157",
   "metadata": {
    "execution": {
     "iopub.execute_input": "2022-06-24T06:49:13.199753Z",
     "iopub.status.busy": "2022-06-24T06:49:13.199200Z",
     "iopub.status.idle": "2022-06-24T06:49:13.209087Z",
     "shell.execute_reply": "2022-06-24T06:49:13.207888Z"
    },
    "papermill": {
     "duration": 0.028721,
     "end_time": "2022-06-24T06:49:13.211741",
     "exception": false,
     "start_time": "2022-06-24T06:49:13.183020",
     "status": "completed"
    },
    "tags": []
   },
   "outputs": [],
   "source": [
    "X_test_cleared = X_test[X_test[\"in_train\"] == 1]\n",
    "y_test_cleared = X_test_cleared['y']"
   ]
  },
  {
   "cell_type": "code",
   "execution_count": 18,
   "id": "2bad114b",
   "metadata": {
    "execution": {
     "iopub.execute_input": "2022-06-24T06:49:13.241861Z",
     "iopub.status.busy": "2022-06-24T06:49:13.240886Z",
     "iopub.status.idle": "2022-06-24T06:49:37.395072Z",
     "shell.execute_reply": "2022-06-24T06:49:37.393672Z"
    },
    "papermill": {
     "duration": 24.172609,
     "end_time": "2022-06-24T06:49:37.398160",
     "exception": false,
     "start_time": "2022-06-24T06:49:13.225551",
     "status": "completed"
    },
    "tags": []
   },
   "outputs": [
    {
     "name": "stdout",
     "output_type": "stream",
     "text": [
      "start predicting...\n",
      "0  items wasn't in train.\n",
      "rmse = 0.8800472539235036\n"
     ]
    }
   ],
   "source": [
    "print('start predicting...')\n",
    "pred = ub.predict(X_test_cleared, user_col='person_id', item_col='item_id')\n",
    "print('rmse = {}'.format(mean_squared_error(y_test_cleared, pred, squared=False)))"
   ]
  },
  {
   "cell_type": "markdown",
   "id": "2848bca7",
   "metadata": {
    "papermill": {
     "duration": 0.013611,
     "end_time": "2022-06-24T06:49:37.425748",
     "exception": false,
     "start_time": "2022-06-24T06:49:37.412137",
     "status": "completed"
    },
    "tags": []
   },
   "source": [
    "# Collaborative filtering with Surprise"
   ]
  },
  {
   "cell_type": "code",
   "execution_count": 19,
   "id": "a64808aa",
   "metadata": {
    "execution": {
     "iopub.execute_input": "2022-06-24T06:49:37.455750Z",
     "iopub.status.busy": "2022-06-24T06:49:37.455271Z",
     "iopub.status.idle": "2022-06-24T06:49:51.482560Z",
     "shell.execute_reply": "2022-06-24T06:49:51.480865Z"
    },
    "papermill": {
     "duration": 14.045641,
     "end_time": "2022-06-24T06:49:51.485686",
     "exception": false,
     "start_time": "2022-06-24T06:49:37.440045",
     "status": "completed"
    },
    "tags": []
   },
   "outputs": [
    {
     "name": "stdout",
     "output_type": "stream",
     "text": [
      "Collecting surprise\r\n",
      "  Downloading surprise-0.1-py2.py3-none-any.whl (1.8 kB)\r\n",
      "Requirement already satisfied: scikit-surprise in /opt/conda/lib/python3.7/site-packages (from surprise) (1.1.1)\r\n",
      "Requirement already satisfied: scipy>=1.0.0 in /opt/conda/lib/python3.7/site-packages (from scikit-surprise->surprise) (1.7.3)\r\n",
      "Requirement already satisfied: numpy>=1.11.2 in /opt/conda/lib/python3.7/site-packages (from scikit-surprise->surprise) (1.21.6)\r\n",
      "Requirement already satisfied: six>=1.10.0 in /opt/conda/lib/python3.7/site-packages (from scikit-surprise->surprise) (1.16.0)\r\n",
      "Requirement already satisfied: joblib>=0.11 in /opt/conda/lib/python3.7/site-packages (from scikit-surprise->surprise) (1.1.0)\r\n",
      "Installing collected packages: surprise\r\n",
      "Successfully installed surprise-0.1\r\n",
      "\u001b[33mWARNING: Running pip as the 'root' user can result in broken permissions and conflicting behaviour with the system package manager. It is recommended to use a virtual environment instead: https://pip.pypa.io/warnings/venv\u001b[0m\u001b[33m\r\n",
      "\u001b[0m"
     ]
    }
   ],
   "source": [
    "!pip install surprise"
   ]
  },
  {
   "cell_type": "code",
   "execution_count": 20,
   "id": "ae60fd03",
   "metadata": {
    "execution": {
     "iopub.execute_input": "2022-06-24T06:49:51.517239Z",
     "iopub.status.busy": "2022-06-24T06:49:51.516628Z",
     "iopub.status.idle": "2022-06-24T06:49:51.579344Z",
     "shell.execute_reply": "2022-06-24T06:49:51.578212Z"
    },
    "papermill": {
     "duration": 0.082278,
     "end_time": "2022-06-24T06:49:51.582171",
     "exception": false,
     "start_time": "2022-06-24T06:49:51.499893",
     "status": "completed"
    },
    "tags": []
   },
   "outputs": [],
   "source": [
    "from surprise import Dataset\n",
    "from surprise import KNNBasic, SVD\n",
    "from surprise import Reader\n",
    "from surprise.model_selection import cross_validate, split\n",
    "from surprise.model_selection import train_test_split\n",
    "from surprise import accuracy\n"
   ]
  },
  {
   "cell_type": "code",
   "execution_count": 21,
   "id": "a4c71572",
   "metadata": {
    "execution": {
     "iopub.execute_input": "2022-06-24T06:49:51.614040Z",
     "iopub.status.busy": "2022-06-24T06:49:51.612884Z",
     "iopub.status.idle": "2022-06-24T06:49:51.763316Z",
     "shell.execute_reply": "2022-06-24T06:49:51.762207Z"
    },
    "papermill": {
     "duration": 0.169083,
     "end_time": "2022-06-24T06:49:51.766168",
     "exception": false,
     "start_time": "2022-06-24T06:49:51.597085",
     "status": "completed"
    },
    "tags": []
   },
   "outputs": [],
   "source": [
    "# Подгружаем данные. Lля этого алгоритма также урезанную версию. Все опять не помещаются в память.\n",
    "\n",
    "reader = Reader(rating_scale=(1, 5))\n",
    "data_suprise_cf = Dataset.load_from_df(data_reduced[[ 'person_id', 'item_id', 'mark']], reader)"
   ]
  },
  {
   "cell_type": "code",
   "execution_count": 22,
   "id": "4351c222",
   "metadata": {
    "execution": {
     "iopub.execute_input": "2022-06-24T06:49:51.796341Z",
     "iopub.status.busy": "2022-06-24T06:49:51.795804Z",
     "iopub.status.idle": "2022-06-24T06:49:53.338462Z",
     "shell.execute_reply": "2022-06-24T06:49:53.337210Z"
    },
    "papermill": {
     "duration": 1.560599,
     "end_time": "2022-06-24T06:49:53.340692",
     "exception": false,
     "start_time": "2022-06-24T06:49:51.780093",
     "status": "completed"
    },
    "tags": []
   },
   "outputs": [
    {
     "name": "stdout",
     "output_type": "stream",
     "text": [
      "Computing the msd similarity matrix...\n",
      "Done computing similarity matrix.\n",
      "RMSE: 0.9840\n",
      "CPU times: user 1.45 s, sys: 91.2 ms, total: 1.54 s\n",
      "Wall time: 1.53 s\n"
     ]
    },
    {
     "data": {
      "text/plain": [
       "0.9840224001155745"
      ]
     },
     "execution_count": 22,
     "metadata": {},
     "output_type": "execute_result"
    }
   ],
   "source": [
    "%%time\n",
    "\n",
    "#A basic collaborative filtering algorithm.\n",
    "algo_knn = KNNBasic()\n",
    "\n",
    "# test set is made of 20% of the ratings.\n",
    "trainset, testset = train_test_split(data_suprise_cf, test_size=0.2)\n",
    "\n",
    "# Train the algorithm on the trainset, and predict ratings for the testset\n",
    "algo_knn.fit(trainset)\n",
    "\n",
    "predictions = algo_knn.test(testset)\n",
    "\n",
    "# Then compute RMSE\n",
    "accuracy.rmse(predictions)\n"
   ]
  },
  {
   "cell_type": "markdown",
   "id": "d7e0c90c",
   "metadata": {
    "papermill": {
     "duration": 0.013496,
     "end_time": "2022-06-24T06:49:53.368020",
     "exception": false,
     "start_time": "2022-06-24T06:49:53.354524",
     "status": "completed"
    },
    "tags": []
   },
   "source": [
    "# Surprise SVD"
   ]
  },
  {
   "cell_type": "code",
   "execution_count": 23,
   "id": "4e57ceef",
   "metadata": {
    "execution": {
     "iopub.execute_input": "2022-06-24T06:49:53.398817Z",
     "iopub.status.busy": "2022-06-24T06:49:53.398058Z",
     "iopub.status.idle": "2022-06-24T06:49:55.905543Z",
     "shell.execute_reply": "2022-06-24T06:49:55.904220Z"
    },
    "papermill": {
     "duration": 2.526076,
     "end_time": "2022-06-24T06:49:55.908215",
     "exception": false,
     "start_time": "2022-06-24T06:49:53.382139",
     "status": "completed"
    },
    "tags": []
   },
   "outputs": [],
   "source": [
    "# Подгружаем данные, для этого алгоритма уже все.\n",
    "\n",
    "reader = Reader(rating_scale=(1, 5))\n",
    "\n",
    "data_suprise = Dataset.load_from_df(data_r[[ 'person_id', 'item_id', 'mark']], reader)"
   ]
  },
  {
   "cell_type": "code",
   "execution_count": 24,
   "id": "db9b5c98",
   "metadata": {
    "execution": {
     "iopub.execute_input": "2022-06-24T06:49:55.938708Z",
     "iopub.status.busy": "2022-06-24T06:49:55.938216Z",
     "iopub.status.idle": "2022-06-24T06:53:21.354131Z",
     "shell.execute_reply": "2022-06-24T06:53:21.352996Z"
    },
    "papermill": {
     "duration": 205.447394,
     "end_time": "2022-06-24T06:53:21.369797",
     "exception": false,
     "start_time": "2022-06-24T06:49:55.922403",
     "status": "completed"
    },
    "tags": []
   },
   "outputs": [
    {
     "name": "stdout",
     "output_type": "stream",
     "text": [
      "RMSE: 1.1649\n",
      "CPU times: user 3min 24s, sys: 923 ms, total: 3min 25s\n",
      "Wall time: 3min 25s\n"
     ]
    },
    {
     "data": {
      "text/plain": [
       "1.1648709642994037"
      ]
     },
     "execution_count": 24,
     "metadata": {},
     "output_type": "execute_result"
    }
   ],
   "source": [
    "%%time\n",
    "\n",
    "algo_svd = SVD()\n",
    "\n",
    "trainset, testset = train_test_split(data_suprise, test_size=0.2)\n",
    "\n",
    "algo_svd.fit(trainset)\n",
    "\n",
    "predictions = algo_svd.test(testset)\n",
    "\n",
    "# Then compute RMSE\n",
    "accuracy.rmse(predictions)"
   ]
  },
  {
   "cell_type": "code",
   "execution_count": 25,
   "id": "ba3e5227",
   "metadata": {
    "execution": {
     "iopub.execute_input": "2022-06-24T06:53:21.400136Z",
     "iopub.status.busy": "2022-06-24T06:53:21.399658Z",
     "iopub.status.idle": "2022-06-24T06:53:21.406184Z",
     "shell.execute_reply": "2022-06-24T06:53:21.405230Z"
    },
    "papermill": {
     "duration": 0.023992,
     "end_time": "2022-06-24T06:53:21.408186",
     "exception": false,
     "start_time": "2022-06-24T06:53:21.384194",
     "status": "completed"
    },
    "tags": []
   },
   "outputs": [
    {
     "data": {
      "text/plain": [
       "[Prediction(uid='A33OGXNP18KEUU', iid='B01G82SJRY', r_ui=5.0, est=4.7814127792756835, details={'was_impossible': False}),\n",
       " Prediction(uid='A1GENHNZ6DDIQ9', iid='B001VXY3F8', r_ui=5.0, est=4.688906744232365, details={'was_impossible': False}),\n",
       " Prediction(uid='A343CMN9MBKSQG', iid='B00SX3T2LO', r_ui=5.0, est=4.591066460149551, details={'was_impossible': False})]"
      ]
     },
     "execution_count": 25,
     "metadata": {},
     "output_type": "execute_result"
    }
   ],
   "source": [
    "predictions[:3]"
   ]
  },
  {
   "cell_type": "markdown",
   "id": "71194b5d",
   "metadata": {
    "papermill": {
     "duration": 0.01369,
     "end_time": "2022-06-24T06:53:21.436127",
     "exception": false,
     "start_time": "2022-06-24T06:53:21.422437",
     "status": "completed"
    },
    "tags": []
   },
   "source": [
    "# Content-based NLP"
   ]
  },
  {
   "cell_type": "code",
   "execution_count": 26,
   "id": "c9e4ad42",
   "metadata": {
    "execution": {
     "iopub.execute_input": "2022-06-24T06:53:21.466860Z",
     "iopub.status.busy": "2022-06-24T06:53:21.465966Z",
     "iopub.status.idle": "2022-06-24T06:53:21.470308Z",
     "shell.execute_reply": "2022-06-24T06:53:21.469526Z"
    },
    "papermill": {
     "duration": 0.022267,
     "end_time": "2022-06-24T06:53:21.472440",
     "exception": false,
     "start_time": "2022-06-24T06:53:21.450173",
     "status": "completed"
    },
    "tags": []
   },
   "outputs": [],
   "source": [
    "#!wget http://deepyeti.ucsd.edu/jianmo/amazon/metaFiles2/meta_Industrial_and_Scientific.json.gz\n",
    "load_files = False"
   ]
  },
  {
   "cell_type": "code",
   "execution_count": 27,
   "id": "ba2c7cc2",
   "metadata": {
    "execution": {
     "iopub.execute_input": "2022-06-24T06:53:21.503170Z",
     "iopub.status.busy": "2022-06-24T06:53:21.502633Z",
     "iopub.status.idle": "2022-06-24T06:53:21.511582Z",
     "shell.execute_reply": "2022-06-24T06:53:21.510372Z"
    },
    "papermill": {
     "duration": 0.026953,
     "end_time": "2022-06-24T06:53:21.513702",
     "exception": false,
     "start_time": "2022-06-24T06:53:21.486749",
     "status": "completed"
    },
    "tags": []
   },
   "outputs": [],
   "source": [
    "# Даныых много, поэтому при повторном запуске будем загружать только нужные,  которые сохраним себе в датафрейм.\n",
    "\n",
    "if load_files:\n",
    "    \n",
    "    product_data = []\n",
    "    with gzip.open('./meta_Industrial_and_Scientific.json.gz') as f:\n",
    "        for l in f:\n",
    "            product_data.append(json.loads(l.strip()))\n",
    "\n",
    "    # total length of list, this number equals total number of products\n",
    "    print(len(product_data))\n",
    "    # first row of the list\n",
    "    print(product_data[0])\n",
    "    \n",
    "    product_asin_list = [item['asin'] for item in product_data]\n",
    "    product_title_list = [item['title'] for item in product_data]\n",
    "\n",
    "    pd.DataFrame(zip(product_asin_list, product_title_list), columns=[\"asin\", \"title\"]).to_csv(\"./product_data.csv\")\n",
    "    print(\"done\")"
   ]
  },
  {
   "cell_type": "code",
   "execution_count": 28,
   "id": "637e31b7",
   "metadata": {
    "execution": {
     "iopub.execute_input": "2022-06-24T06:53:21.544574Z",
     "iopub.status.busy": "2022-06-24T06:53:21.543340Z",
     "iopub.status.idle": "2022-06-24T06:53:22.185466Z",
     "shell.execute_reply": "2022-06-24T06:53:22.183816Z"
    },
    "papermill": {
     "duration": 0.660587,
     "end_time": "2022-06-24T06:53:22.188402",
     "exception": false,
     "start_time": "2022-06-24T06:53:21.527815",
     "status": "completed"
    },
    "tags": []
   },
   "outputs": [
    {
     "name": "stdout",
     "output_type": "stream",
     "text": [
      "         asin                                              title\n",
      "0  0176496920       Turning Technologies Response Card (RCRF-03)\n",
      "1  0692782109  R-Cat 692782109 EKG Badge with Arrhythmia Pock...\n",
      "2  0781776848  Anatomical Chart Company's Illustrated Pocket ...\n",
      "3  0781786606   Joints of the Lower Extremities Anatomical Chart\n",
      "4  0840026080       Turning Technologies ResponseCard XR RCXR-01\n"
     ]
    }
   ],
   "source": [
    "if not load_files:\n",
    "    product_data_loaded = pd.read_csv(\"../input/amazonworkdata/product_data.csv\", index_col=0)\n",
    "    product_asin_list = product_data_loaded['asin'].values.tolist()\n",
    "    product_title_list = product_data_loaded['title'].values.tolist()\n",
    "    print(product_data_loaded.head())\n"
   ]
  },
  {
   "cell_type": "code",
   "execution_count": 29,
   "id": "a773da7f",
   "metadata": {
    "execution": {
     "iopub.execute_input": "2022-06-24T06:53:22.218837Z",
     "iopub.status.busy": "2022-06-24T06:53:22.218406Z",
     "iopub.status.idle": "2022-06-24T06:53:37.551790Z",
     "shell.execute_reply": "2022-06-24T06:53:37.550407Z"
    },
    "papermill": {
     "duration": 15.352236,
     "end_time": "2022-06-24T06:53:37.554886",
     "exception": false,
     "start_time": "2022-06-24T06:53:22.202650",
     "status": "completed"
    },
    "tags": []
   },
   "outputs": [
    {
     "name": "stdout",
     "output_type": "stream",
     "text": [
      "Collecting sentence-transformers\r\n",
      "  Downloading sentence-transformers-2.2.1.tar.gz (84 kB)\r\n",
      "\u001b[2K     \u001b[90m━━━━━━━━━━━━━━━━━━━━━━━━━━━━━━━━━━━━━━━\u001b[0m \u001b[32m84.0/84.0 kB\u001b[0m \u001b[31m769.5 kB/s\u001b[0m eta \u001b[36m0:00:00\u001b[0m\r\n",
      "\u001b[?25h  Preparing metadata (setup.py) ... \u001b[?25l-\b \bdone\r\n",
      "\u001b[?25hRequirement already satisfied: transformers<5.0.0,>=4.6.0 in /opt/conda/lib/python3.7/site-packages (from sentence-transformers) (4.18.0)\r\n",
      "Requirement already satisfied: tqdm in /opt/conda/lib/python3.7/site-packages (from sentence-transformers) (4.64.0)\r\n",
      "Requirement already satisfied: torch>=1.6.0 in /opt/conda/lib/python3.7/site-packages (from sentence-transformers) (1.11.0+cpu)\r\n",
      "Requirement already satisfied: torchvision in /opt/conda/lib/python3.7/site-packages (from sentence-transformers) (0.12.0+cpu)\r\n",
      "Requirement already satisfied: numpy in /opt/conda/lib/python3.7/site-packages (from sentence-transformers) (1.21.6)\r\n",
      "Requirement already satisfied: scikit-learn in /opt/conda/lib/python3.7/site-packages (from sentence-transformers) (1.0.2)\r\n",
      "Requirement already satisfied: scipy in /opt/conda/lib/python3.7/site-packages (from sentence-transformers) (1.7.3)\r\n",
      "Requirement already satisfied: nltk in /opt/conda/lib/python3.7/site-packages (from sentence-transformers) (3.2.4)\r\n",
      "Requirement already satisfied: sentencepiece in /opt/conda/lib/python3.7/site-packages (from sentence-transformers) (0.1.96)\r\n",
      "Collecting huggingface-hub>=0.8.1\r\n",
      "  Downloading huggingface_hub-0.8.1-py3-none-any.whl (101 kB)\r\n",
      "\u001b[2K     \u001b[90m━━━━━━━━━━━━━━━━━━━━━━━━━━━━━━━━━━━━━━━\u001b[0m \u001b[32m101.5/101.5 kB\u001b[0m \u001b[31m2.8 MB/s\u001b[0m eta \u001b[36m0:00:00\u001b[0m\r\n",
      "\u001b[?25hRequirement already satisfied: typing-extensions>=3.7.4.3 in /opt/conda/lib/python3.7/site-packages (from huggingface-hub>=0.8.1->sentence-transformers) (4.2.0)\r\n",
      "Requirement already satisfied: filelock in /opt/conda/lib/python3.7/site-packages (from huggingface-hub>=0.8.1->sentence-transformers) (3.6.0)\r\n",
      "Requirement already satisfied: importlib-metadata in /opt/conda/lib/python3.7/site-packages (from huggingface-hub>=0.8.1->sentence-transformers) (4.11.4)\r\n",
      "Requirement already satisfied: requests in /opt/conda/lib/python3.7/site-packages (from huggingface-hub>=0.8.1->sentence-transformers) (2.27.1)\r\n",
      "Requirement already satisfied: packaging>=20.9 in /opt/conda/lib/python3.7/site-packages (from huggingface-hub>=0.8.1->sentence-transformers) (21.3)\r\n",
      "Requirement already satisfied: pyyaml>=5.1 in /opt/conda/lib/python3.7/site-packages (from huggingface-hub>=0.8.1->sentence-transformers) (6.0)\r\n",
      "Requirement already satisfied: sacremoses in /opt/conda/lib/python3.7/site-packages (from transformers<5.0.0,>=4.6.0->sentence-transformers) (0.0.53)\r\n",
      "Requirement already satisfied: tokenizers!=0.11.3,<0.13,>=0.11.1 in /opt/conda/lib/python3.7/site-packages (from transformers<5.0.0,>=4.6.0->sentence-transformers) (0.12.1)\r\n",
      "Requirement already satisfied: regex!=2019.12.17 in /opt/conda/lib/python3.7/site-packages (from transformers<5.0.0,>=4.6.0->sentence-transformers) (2021.11.10)\r\n",
      "Requirement already satisfied: six in /opt/conda/lib/python3.7/site-packages (from nltk->sentence-transformers) (1.16.0)\r\n",
      "Requirement already satisfied: threadpoolctl>=2.0.0 in /opt/conda/lib/python3.7/site-packages (from scikit-learn->sentence-transformers) (3.1.0)\r\n",
      "Requirement already satisfied: joblib>=0.11 in /opt/conda/lib/python3.7/site-packages (from scikit-learn->sentence-transformers) (1.1.0)\r\n",
      "Requirement already satisfied: pillow!=8.3.*,>=5.3.0 in /opt/conda/lib/python3.7/site-packages (from torchvision->sentence-transformers) (9.1.0)\r\n",
      "Requirement already satisfied: pyparsing!=3.0.5,>=2.0.2 in /opt/conda/lib/python3.7/site-packages (from packaging>=20.9->huggingface-hub>=0.8.1->sentence-transformers) (3.0.9)\r\n",
      "Requirement already satisfied: zipp>=0.5 in /opt/conda/lib/python3.7/site-packages (from importlib-metadata->huggingface-hub>=0.8.1->sentence-transformers) (3.8.0)\r\n",
      "Requirement already satisfied: idna<4,>=2.5 in /opt/conda/lib/python3.7/site-packages (from requests->huggingface-hub>=0.8.1->sentence-transformers) (3.3)\r\n",
      "Requirement already satisfied: charset-normalizer~=2.0.0 in /opt/conda/lib/python3.7/site-packages (from requests->huggingface-hub>=0.8.1->sentence-transformers) (2.0.12)\r\n",
      "Requirement already satisfied: certifi>=2017.4.17 in /opt/conda/lib/python3.7/site-packages (from requests->huggingface-hub>=0.8.1->sentence-transformers) (2022.5.18.1)\r\n",
      "Requirement already satisfied: urllib3<1.27,>=1.21.1 in /opt/conda/lib/python3.7/site-packages (from requests->huggingface-hub>=0.8.1->sentence-transformers) (1.26.9)\r\n",
      "Requirement already satisfied: click in /opt/conda/lib/python3.7/site-packages (from sacremoses->transformers<5.0.0,>=4.6.0->sentence-transformers) (8.0.4)\r\n",
      "Building wheels for collected packages: sentence-transformers\r\n",
      "  Building wheel for sentence-transformers (setup.py) ... \u001b[?25l-\b \b\\\b \b|\b \bdone\r\n",
      "\u001b[?25h  Created wheel for sentence-transformers: filename=sentence_transformers-2.2.1-py3-none-any.whl size=125774 sha256=8a4c5cd73d6c2d956ae7c8e817a4db93c4344420d646f63cb1f124b9b720a193\r\n",
      "  Stored in directory: /root/.cache/pip/wheels/58/27/2f/708b4f002c226e57b6243769da345c650633175c7634f93365\r\n",
      "Successfully built sentence-transformers\r\n",
      "Installing collected packages: huggingface-hub, sentence-transformers\r\n",
      "  Attempting uninstall: huggingface-hub\r\n",
      "    Found existing installation: huggingface-hub 0.5.1\r\n",
      "    Uninstalling huggingface-hub-0.5.1:\r\n",
      "      Successfully uninstalled huggingface-hub-0.5.1\r\n",
      "\u001b[31mERROR: pip's dependency resolver does not currently take into account all the packages that are installed. This behaviour is the source of the following dependency conflicts.\r\n",
      "cached-path 1.1.2 requires huggingface-hub<0.6.0,>=0.0.12, but you have huggingface-hub 0.8.1 which is incompatible.\u001b[0m\u001b[31m\r\n",
      "\u001b[0mSuccessfully installed huggingface-hub-0.8.1 sentence-transformers-2.2.1\r\n",
      "\u001b[33mWARNING: Running pip as the 'root' user can result in broken permissions and conflicting behaviour with the system package manager. It is recommended to use a virtual environment instead: https://pip.pypa.io/warnings/venv\u001b[0m\u001b[33m\r\n",
      "\u001b[0m"
     ]
    }
   ],
   "source": [
    "!pip install -U sentence-transformers"
   ]
  },
  {
   "cell_type": "code",
   "execution_count": 30,
   "id": "e5ac279d",
   "metadata": {
    "execution": {
     "iopub.execute_input": "2022-06-24T06:53:37.601396Z",
     "iopub.status.busy": "2022-06-24T06:53:37.600540Z",
     "iopub.status.idle": "2022-06-24T06:53:40.863862Z",
     "shell.execute_reply": "2022-06-24T06:53:40.862714Z"
    },
    "papermill": {
     "duration": 3.291383,
     "end_time": "2022-06-24T06:53:40.867130",
     "exception": false,
     "start_time": "2022-06-24T06:53:37.575747",
     "status": "completed"
    },
    "tags": []
   },
   "outputs": [],
   "source": [
    "from sentence_transformers import SentenceTransformer\n",
    "\n",
    "if load_files:\n",
    "    model = SentenceTransformer('sentence-transformers/LaBSE')\n"
   ]
  },
  {
   "cell_type": "code",
   "execution_count": 31,
   "id": "b74a08d1",
   "metadata": {
    "execution": {
     "iopub.execute_input": "2022-06-24T06:53:40.903364Z",
     "iopub.status.busy": "2022-06-24T06:53:40.902187Z",
     "iopub.status.idle": "2022-06-24T06:53:46.527646Z",
     "shell.execute_reply": "2022-06-24T06:53:46.526018Z"
    },
    "papermill": {
     "duration": 5.646591,
     "end_time": "2022-06-24T06:53:46.530925",
     "exception": false,
     "start_time": "2022-06-24T06:53:40.884334",
     "status": "completed"
    },
    "tags": []
   },
   "outputs": [
    {
     "name": "stdout",
     "output_type": "stream",
     "text": [
      "CPU times: user 37.7 ms, sys: 674 ms, total: 711 ms\n",
      "Wall time: 5.62 s\n"
     ]
    }
   ],
   "source": [
    "%%time\n",
    "\n",
    "outfile = \"./embeddings.npy\"\n",
    "infile =\"../input/amazonworkdata/embeddings.npy\"\n",
    "# Процесс энкодиинга всех данных занимает много времени. Посэтому при повторных запусках будем подшружать уже готовые.\n",
    "# CPU times: user 4h 53min 31s, sys: 44.7 s, total: 4h 54min 16s\n",
    "# Wall time: 2h 27min 45s\n",
    "\n",
    "if load_files:\n",
    "    \n",
    "    embeddings = model.encode(product_title_list)\n",
    "    \n",
    "    with open(outfile, 'wb') as f:\n",
    "        np.save(f, embeddings)\n",
    "else:\n",
    "    with open(infile, 'rb') as f:\n",
    "        embeddings = np.load(f)"
   ]
  },
  {
   "cell_type": "code",
   "execution_count": 32,
   "id": "faf20f72",
   "metadata": {
    "execution": {
     "iopub.execute_input": "2022-06-24T06:53:46.575978Z",
     "iopub.status.busy": "2022-06-24T06:53:46.574410Z",
     "iopub.status.idle": "2022-06-24T06:53:46.582642Z",
     "shell.execute_reply": "2022-06-24T06:53:46.581462Z"
    },
    "papermill": {
     "duration": 0.029676,
     "end_time": "2022-06-24T06:53:46.585066",
     "exception": false,
     "start_time": "2022-06-24T06:53:46.555390",
     "status": "completed"
    },
    "tags": []
   },
   "outputs": [
    {
     "name": "stdout",
     "output_type": "stream",
     "text": [
      "(167442, 768)\n"
     ]
    }
   ],
   "source": [
    "print(embeddings.shape)"
   ]
  },
  {
   "cell_type": "code",
   "execution_count": 33,
   "id": "c137a670",
   "metadata": {
    "execution": {
     "iopub.execute_input": "2022-06-24T06:53:46.623924Z",
     "iopub.status.busy": "2022-06-24T06:53:46.622944Z",
     "iopub.status.idle": "2022-06-24T06:53:46.631888Z",
     "shell.execute_reply": "2022-06-24T06:53:46.630880Z"
    },
    "papermill": {
     "duration": 0.031946,
     "end_time": "2022-06-24T06:53:46.634352",
     "exception": false,
     "start_time": "2022-06-24T06:53:46.602406",
     "status": "completed"
    },
    "tags": []
   },
   "outputs": [],
   "source": [
    "def top_n_nearesst_index(embeddings, item_to_predict = 0, n = 5): \n",
    "\n",
    "    cs_list = []\n",
    "    #print(embeddings[item_to_predict].reshape(1, -1))\n",
    "    \n",
    "    for item in embeddings:\n",
    "        #cs = cosine_similarity(item.reshape(1, -1), embeddings[item_to_predict].reshape(1, -1))\n",
    "        \n",
    "        # np cosine_similarity works faster\n",
    "        cs = np.correlate(item, embeddings[item_to_predict])\n",
    "\n",
    "        cs_list.append(cs[0])\n",
    "    \n",
    "    cs_list_sorted = sorted(cs_list)\n",
    "\n",
    "    n_largest_cos_sim = cs_list_sorted[-n-1]\n",
    "        \n",
    "    ans =  np.argwhere(cs_list >= n_largest_cos_sim)\n",
    "       \n",
    "    return ans.reshape(1, -1)[0][1:]\n"
   ]
  },
  {
   "cell_type": "code",
   "execution_count": 34,
   "id": "8107c4b4",
   "metadata": {
    "execution": {
     "iopub.execute_input": "2022-06-24T06:53:46.683550Z",
     "iopub.status.busy": "2022-06-24T06:53:46.682711Z",
     "iopub.status.idle": "2022-06-24T06:53:51.359579Z",
     "shell.execute_reply": "2022-06-24T06:53:51.358034Z"
    },
    "papermill": {
     "duration": 4.706859,
     "end_time": "2022-06-24T06:53:51.363410",
     "exception": false,
     "start_time": "2022-06-24T06:53:46.656551",
     "status": "completed"
    },
    "tags": []
   },
   "outputs": [
    {
     "name": "stderr",
     "output_type": "stream",
     "text": [
      "/opt/conda/lib/python3.7/site-packages/ipykernel_launcher.py:3: TqdmDeprecationWarning: This function will be removed in tqdm==5.0.0\n",
      "Please use `tqdm.notebook.tqdm` instead of `tqdm.tqdm_notebook`\n",
      "  This is separate from the ipykernel package so we can avoid doing imports until\n"
     ]
    },
    {
     "data": {
      "application/vnd.jupyter.widget-view+json": {
       "model_id": "87fdb6fe05a64cbfa9f90accf46baadd",
       "version_major": 2,
       "version_minor": 0
      },
      "text/plain": [
       "  0%|          | 0/6 [00:00<?, ?it/s]"
      ]
     },
     "metadata": {},
     "output_type": "display_data"
    },
    {
     "name": "stdout",
     "output_type": "stream",
     "text": [
      "\n",
      "Turning Technologies Response Card (RCRF-03) id =  0\n",
      "\n",
      "id =  4\n",
      "Turning Technologies ResponseCard XR RCXR-01\n",
      "id =  95004\n",
      "TurningPoint ResponseCard XR NXT Classroom 32 RCXR-02 Clicker Set LCD RF Response System complete w/ bag, software, RRRF-04 Receiver\n",
      "id =  109487\n",
      "RF Industries - RFT-1202-2T - RF Industries RFT-1202-2T\n",
      "id =  113827\n",
      "Carling Technologies V4D1A60B-AEC00-000 Switch Rocker\n",
      "id =  157630\n",
      "RT Off-Road Vehicle Recovery Kit - RT33013\n",
      "===================\n",
      "\n",
      "Anatomical Chart Company's Illustrated Pocket Anatomy: The Spinal Nerves &amp; the Autonomic Nervous System Study Guide id =  2\n",
      "\n",
      "id =  8\n",
      "The Spinal Nerves Anatomical Chart\n",
      "id =  10\n",
      "The Spinal Nerves Anatomical Chart\n",
      "id =  4500\n",
      "The Nervous System Anatomical Chart Laminated\n",
      "id =  11400\n",
      "Illustrated Pocket Anatomy - Vertebral Column and Spine Disorders\n",
      "id =  27145\n",
      "Muscular System Chart &amp; Skeletal System Anatomical Chart with Study Guide\n",
      "===================\n",
      "\n",
      "VersaTiles Math Small Group Kit (Grade 4) id =  14\n",
      "\n",
      "id =  29537\n",
      "School Smart Modeling Clay, Multiple Color (Pack of 4)\n",
      "id =  46030\n",
      "Saxon Math 5/4: Homeschool Kit\n",
      "id =  65962\n",
      "Latent Fingerprint Kit, classroom pack (Black)\n",
      "id =  109612\n",
      "ETA hand2mind Mini Student Number Balance Beam Classroom Kit (Set of 15)\n",
      "id =  134411\n",
      "VersaTiles Classic Skill Building Packet, Grade 2\n",
      "===================\n",
      "\n",
      "FS9140: Spinosaurus - Dinosaur Tooth 20-30mm id =  44\n",
      "\n",
      "id =  82839\n",
      "Dinosaur Set # 1 (Spinosaurus)\n",
      "id =  156105\n",
      "Genuine Spinosaurus Tooth with Display Case - DINOSAUR TOOTH!\n",
      "id =  164578\n",
      "Large Mosasaurus Tooth Fossil - Genuine - Dinosaur that Swam!\n",
      "id =  165616\n",
      "Genuine Dinosaur Tooth - Spinosaurus Tooth with Display Case and Certificate of Authenticity\n",
      "id =  167003\n",
      "Genuine Spinosaurus Tooth with Glass Display Case - DINOSAUR TOOTH!\n",
      "===================\n",
      "\n",
      "B &amp; C Eagle DA25SS 2-1/2-Inch by 15 Gauge by 33 Degree to 35 Degree Stainless Steel Angled Finish Nail (4,000 per Box) id =  77\n",
      "\n",
      "id =  100\n",
      "B &amp; C Eagle DA21SS 2-Inch by 15 Gauge by 33 Degree to 35 Degree Stainless Steel Angled Finish Nail (4,000 per Box)\n",
      "id =  118\n",
      "B&amp;C Eagle DA25G 2-1/2-Inch x 35 Degree Galvanized Angle Finish Nails (4,000 per box)\n",
      "id =  1832\n",
      "B &amp; C Eagle DA25SS 2-1/2-Inch by 15 Gauge by 33 Degree to 35 Degree Stainless Steel Angled Finish Nail (4,000 per Box)\n",
      "id =  1855\n",
      "B &amp; C Eagle DA21SS 2-Inch by 15 Gauge by 33 Degree to 35 Degree Stainless Steel Angled Finish Nail (4,000 per Box)\n",
      "id =  1873\n",
      "B&amp;C Eagle DA25G 2-1/2-Inch x 35 Degree Galvanized Angle Finish Nails (4,000 per box)\n",
      "===================\n",
      "\n",
      "Stanley 93-300 High Visibility Orange Panel Carry id =  188\n",
      "\n",
      "id =  264\n",
      "Stanley 93-301 14-Inch Yellow Panel Carry Handle\n",
      "id =  1943\n",
      "Stanley 93-300 High Visibility Orange Panel Carry\n",
      "id =  2019\n",
      "Stanley 93-301 14-Inch Yellow Panel Carry Handle\n",
      "id =  12568\n",
      "Stanley 83-069M Maxsteel Multi-Angle Base Vise\n",
      "id =  145967\n",
      "Stanley National S843-318 Lanai Screen Door Post Jamb Bracket Bronze\n",
      "===================\n"
     ]
    }
   ],
   "source": [
    "# Посмотрим результат для выборки товаров:\n",
    "item_rec_list = []\n",
    "for item_num in tqdm_notebook([0, 2, 14, 44, 77, 188]):\n",
    "    item_nearesst_indexes = top_n_nearesst_index(embeddings, item_num, 5)\n",
    "    a = [product_title_list[item_num]]\n",
    "    print()\n",
    "    print(product_title_list[item_num], \"id = \", item_num)\n",
    "    print()\n",
    "    for item in item_nearesst_indexes:\n",
    "        print(\"id = \", item)\n",
    "        print(product_title_list[item])\n",
    "        a.append(product_title_list[item])\n",
    "    item_rec_list.append(a)\n",
    "    print(\"===================\")"
   ]
  }
 ],
 "metadata": {
  "kernelspec": {
   "display_name": "Python 3",
   "language": "python",
   "name": "python3"
  },
  "language_info": {
   "codemirror_mode": {
    "name": "ipython",
    "version": 3
   },
   "file_extension": ".py",
   "mimetype": "text/x-python",
   "name": "python",
   "nbconvert_exporter": "python",
   "pygments_lexer": "ipython3",
   "version": "3.7.12"
  },
  "papermill": {
   "default_parameters": {},
   "duration": 445.575059,
   "end_time": "2022-06-24T06:53:54.007117",
   "environment_variables": {},
   "exception": null,
   "input_path": "__notebook__.ipynb",
   "output_path": "__notebook__.ipynb",
   "parameters": {},
   "start_time": "2022-06-24T06:46:28.432058",
   "version": "2.3.4"
  },
  "widgets": {
   "application/vnd.jupyter.widget-state+json": {
    "state": {
     "1509592182e44eb4846c4a85e0e82152": {
      "model_module": "@jupyter-widgets/base",
      "model_module_version": "1.2.0",
      "model_name": "LayoutModel",
      "state": {
       "_model_module": "@jupyter-widgets/base",
       "_model_module_version": "1.2.0",
       "_model_name": "LayoutModel",
       "_view_count": null,
       "_view_module": "@jupyter-widgets/base",
       "_view_module_version": "1.2.0",
       "_view_name": "LayoutView",
       "align_content": null,
       "align_items": null,
       "align_self": null,
       "border": null,
       "bottom": null,
       "display": null,
       "flex": null,
       "flex_flow": null,
       "grid_area": null,
       "grid_auto_columns": null,
       "grid_auto_flow": null,
       "grid_auto_rows": null,
       "grid_column": null,
       "grid_gap": null,
       "grid_row": null,
       "grid_template_areas": null,
       "grid_template_columns": null,
       "grid_template_rows": null,
       "height": null,
       "justify_content": null,
       "justify_items": null,
       "left": null,
       "margin": null,
       "max_height": null,
       "max_width": null,
       "min_height": null,
       "min_width": null,
       "object_fit": null,
       "object_position": null,
       "order": null,
       "overflow": null,
       "overflow_x": null,
       "overflow_y": null,
       "padding": null,
       "right": null,
       "top": null,
       "visibility": null,
       "width": null
      }
     },
     "15a4a0f0ad7543a5a429ecfbe00aaae1": {
      "model_module": "@jupyter-widgets/controls",
      "model_module_version": "1.5.0",
      "model_name": "ProgressStyleModel",
      "state": {
       "_model_module": "@jupyter-widgets/controls",
       "_model_module_version": "1.5.0",
       "_model_name": "ProgressStyleModel",
       "_view_count": null,
       "_view_module": "@jupyter-widgets/base",
       "_view_module_version": "1.2.0",
       "_view_name": "StyleView",
       "bar_color": null,
       "description_width": ""
      }
     },
     "177b8119e1c54685b77bc9166dae7b37": {
      "model_module": "@jupyter-widgets/controls",
      "model_module_version": "1.5.0",
      "model_name": "DescriptionStyleModel",
      "state": {
       "_model_module": "@jupyter-widgets/controls",
       "_model_module_version": "1.5.0",
       "_model_name": "DescriptionStyleModel",
       "_view_count": null,
       "_view_module": "@jupyter-widgets/base",
       "_view_module_version": "1.2.0",
       "_view_name": "StyleView",
       "description_width": ""
      }
     },
     "17a2e8e742414fc88d4c3c3e4fb3a7ed": {
      "model_module": "@jupyter-widgets/controls",
      "model_module_version": "1.5.0",
      "model_name": "DescriptionStyleModel",
      "state": {
       "_model_module": "@jupyter-widgets/controls",
       "_model_module_version": "1.5.0",
       "_model_name": "DescriptionStyleModel",
       "_view_count": null,
       "_view_module": "@jupyter-widgets/base",
       "_view_module_version": "1.2.0",
       "_view_name": "StyleView",
       "description_width": ""
      }
     },
     "21a6fc1919d34fbfb4e9825668e3df73": {
      "model_module": "@jupyter-widgets/base",
      "model_module_version": "1.2.0",
      "model_name": "LayoutModel",
      "state": {
       "_model_module": "@jupyter-widgets/base",
       "_model_module_version": "1.2.0",
       "_model_name": "LayoutModel",
       "_view_count": null,
       "_view_module": "@jupyter-widgets/base",
       "_view_module_version": "1.2.0",
       "_view_name": "LayoutView",
       "align_content": null,
       "align_items": null,
       "align_self": null,
       "border": null,
       "bottom": null,
       "display": null,
       "flex": null,
       "flex_flow": null,
       "grid_area": null,
       "grid_auto_columns": null,
       "grid_auto_flow": null,
       "grid_auto_rows": null,
       "grid_column": null,
       "grid_gap": null,
       "grid_row": null,
       "grid_template_areas": null,
       "grid_template_columns": null,
       "grid_template_rows": null,
       "height": null,
       "justify_content": null,
       "justify_items": null,
       "left": null,
       "margin": null,
       "max_height": null,
       "max_width": null,
       "min_height": null,
       "min_width": null,
       "object_fit": null,
       "object_position": null,
       "order": null,
       "overflow": null,
       "overflow_x": null,
       "overflow_y": null,
       "padding": null,
       "right": null,
       "top": null,
       "visibility": null,
       "width": null
      }
     },
     "2cd5d4e4815c4f30a7af4c08c281a8b7": {
      "model_module": "@jupyter-widgets/controls",
      "model_module_version": "1.5.0",
      "model_name": "HTMLModel",
      "state": {
       "_dom_classes": [],
       "_model_module": "@jupyter-widgets/controls",
       "_model_module_version": "1.5.0",
       "_model_name": "HTMLModel",
       "_view_count": null,
       "_view_module": "@jupyter-widgets/controls",
       "_view_module_version": "1.5.0",
       "_view_name": "HTMLView",
       "description": "",
       "description_tooltip": null,
       "layout": "IPY_MODEL_9f5b1c112c8c45118ad60f936cf2ef1d",
       "placeholder": "​",
       "style": "IPY_MODEL_177b8119e1c54685b77bc9166dae7b37",
       "value": " 3648/3648 [01:08&lt;00:00, 52.72it/s]"
      }
     },
     "3d669eeadd7f4ea0a805ec54a2cc109d": {
      "model_module": "@jupyter-widgets/base",
      "model_module_version": "1.2.0",
      "model_name": "LayoutModel",
      "state": {
       "_model_module": "@jupyter-widgets/base",
       "_model_module_version": "1.2.0",
       "_model_name": "LayoutModel",
       "_view_count": null,
       "_view_module": "@jupyter-widgets/base",
       "_view_module_version": "1.2.0",
       "_view_name": "LayoutView",
       "align_content": null,
       "align_items": null,
       "align_self": null,
       "border": null,
       "bottom": null,
       "display": null,
       "flex": null,
       "flex_flow": null,
       "grid_area": null,
       "grid_auto_columns": null,
       "grid_auto_flow": null,
       "grid_auto_rows": null,
       "grid_column": null,
       "grid_gap": null,
       "grid_row": null,
       "grid_template_areas": null,
       "grid_template_columns": null,
       "grid_template_rows": null,
       "height": null,
       "justify_content": null,
       "justify_items": null,
       "left": null,
       "margin": null,
       "max_height": null,
       "max_width": null,
       "min_height": null,
       "min_width": null,
       "object_fit": null,
       "object_position": null,
       "order": null,
       "overflow": null,
       "overflow_x": null,
       "overflow_y": null,
       "padding": null,
       "right": null,
       "top": null,
       "visibility": null,
       "width": null
      }
     },
     "42036ac6309045568a6bbe71b786b82f": {
      "model_module": "@jupyter-widgets/controls",
      "model_module_version": "1.5.0",
      "model_name": "DescriptionStyleModel",
      "state": {
       "_model_module": "@jupyter-widgets/controls",
       "_model_module_version": "1.5.0",
       "_model_name": "DescriptionStyleModel",
       "_view_count": null,
       "_view_module": "@jupyter-widgets/base",
       "_view_module_version": "1.2.0",
       "_view_name": "StyleView",
       "description_width": ""
      }
     },
     "55534980dd314328ac096850e0726ff7": {
      "model_module": "@jupyter-widgets/controls",
      "model_module_version": "1.5.0",
      "model_name": "FloatProgressModel",
      "state": {
       "_dom_classes": [],
       "_model_module": "@jupyter-widgets/controls",
       "_model_module_version": "1.5.0",
       "_model_name": "FloatProgressModel",
       "_view_count": null,
       "_view_module": "@jupyter-widgets/controls",
       "_view_module_version": "1.5.0",
       "_view_name": "ProgressView",
       "bar_style": "success",
       "description": "",
       "description_tooltip": null,
       "layout": "IPY_MODEL_bd8f87c249674af0aa76d79cfbe28051",
       "max": 6.0,
       "min": 0.0,
       "orientation": "horizontal",
       "style": "IPY_MODEL_15a4a0f0ad7543a5a429ecfbe00aaae1",
       "value": 6.0
      }
     },
     "70f304bd9e974a25920e7a5e67c4e614": {
      "model_module": "@jupyter-widgets/controls",
      "model_module_version": "1.5.0",
      "model_name": "FloatProgressModel",
      "state": {
       "_dom_classes": [],
       "_model_module": "@jupyter-widgets/controls",
       "_model_module_version": "1.5.0",
       "_model_name": "FloatProgressModel",
       "_view_count": null,
       "_view_module": "@jupyter-widgets/controls",
       "_view_module_version": "1.5.0",
       "_view_name": "ProgressView",
       "bar_style": "success",
       "description": "",
       "description_tooltip": null,
       "layout": "IPY_MODEL_b80c09297fb54a88908321b7960ec9c4",
       "max": 3648.0,
       "min": 0.0,
       "orientation": "horizontal",
       "style": "IPY_MODEL_bc0d09af0f474b9c8f72c0e939ba7c34",
       "value": 3648.0
      }
     },
     "87fdb6fe05a64cbfa9f90accf46baadd": {
      "model_module": "@jupyter-widgets/controls",
      "model_module_version": "1.5.0",
      "model_name": "HBoxModel",
      "state": {
       "_dom_classes": [],
       "_model_module": "@jupyter-widgets/controls",
       "_model_module_version": "1.5.0",
       "_model_name": "HBoxModel",
       "_view_count": null,
       "_view_module": "@jupyter-widgets/controls",
       "_view_module_version": "1.5.0",
       "_view_name": "HBoxView",
       "box_style": "",
       "children": [
        "IPY_MODEL_d04423f2d07147559c3c2028e0861ec3",
        "IPY_MODEL_55534980dd314328ac096850e0726ff7",
        "IPY_MODEL_d437cf0104504f4183bbb96f291c13ab"
       ],
       "layout": "IPY_MODEL_21a6fc1919d34fbfb4e9825668e3df73"
      }
     },
     "957311dd388746ffaab274da2c474bd2": {
      "model_module": "@jupyter-widgets/base",
      "model_module_version": "1.2.0",
      "model_name": "LayoutModel",
      "state": {
       "_model_module": "@jupyter-widgets/base",
       "_model_module_version": "1.2.0",
       "_model_name": "LayoutModel",
       "_view_count": null,
       "_view_module": "@jupyter-widgets/base",
       "_view_module_version": "1.2.0",
       "_view_name": "LayoutView",
       "align_content": null,
       "align_items": null,
       "align_self": null,
       "border": null,
       "bottom": null,
       "display": null,
       "flex": null,
       "flex_flow": null,
       "grid_area": null,
       "grid_auto_columns": null,
       "grid_auto_flow": null,
       "grid_auto_rows": null,
       "grid_column": null,
       "grid_gap": null,
       "grid_row": null,
       "grid_template_areas": null,
       "grid_template_columns": null,
       "grid_template_rows": null,
       "height": null,
       "justify_content": null,
       "justify_items": null,
       "left": null,
       "margin": null,
       "max_height": null,
       "max_width": null,
       "min_height": null,
       "min_width": null,
       "object_fit": null,
       "object_position": null,
       "order": null,
       "overflow": null,
       "overflow_x": null,
       "overflow_y": null,
       "padding": null,
       "right": null,
       "top": null,
       "visibility": null,
       "width": null
      }
     },
     "9f5b1c112c8c45118ad60f936cf2ef1d": {
      "model_module": "@jupyter-widgets/base",
      "model_module_version": "1.2.0",
      "model_name": "LayoutModel",
      "state": {
       "_model_module": "@jupyter-widgets/base",
       "_model_module_version": "1.2.0",
       "_model_name": "LayoutModel",
       "_view_count": null,
       "_view_module": "@jupyter-widgets/base",
       "_view_module_version": "1.2.0",
       "_view_name": "LayoutView",
       "align_content": null,
       "align_items": null,
       "align_self": null,
       "border": null,
       "bottom": null,
       "display": null,
       "flex": null,
       "flex_flow": null,
       "grid_area": null,
       "grid_auto_columns": null,
       "grid_auto_flow": null,
       "grid_auto_rows": null,
       "grid_column": null,
       "grid_gap": null,
       "grid_row": null,
       "grid_template_areas": null,
       "grid_template_columns": null,
       "grid_template_rows": null,
       "height": null,
       "justify_content": null,
       "justify_items": null,
       "left": null,
       "margin": null,
       "max_height": null,
       "max_width": null,
       "min_height": null,
       "min_width": null,
       "object_fit": null,
       "object_position": null,
       "order": null,
       "overflow": null,
       "overflow_x": null,
       "overflow_y": null,
       "padding": null,
       "right": null,
       "top": null,
       "visibility": null,
       "width": null
      }
     },
     "a15a42bf758b45cfaf0e4047cc509149": {
      "model_module": "@jupyter-widgets/base",
      "model_module_version": "1.2.0",
      "model_name": "LayoutModel",
      "state": {
       "_model_module": "@jupyter-widgets/base",
       "_model_module_version": "1.2.0",
       "_model_name": "LayoutModel",
       "_view_count": null,
       "_view_module": "@jupyter-widgets/base",
       "_view_module_version": "1.2.0",
       "_view_name": "LayoutView",
       "align_content": null,
       "align_items": null,
       "align_self": null,
       "border": null,
       "bottom": null,
       "display": null,
       "flex": null,
       "flex_flow": null,
       "grid_area": null,
       "grid_auto_columns": null,
       "grid_auto_flow": null,
       "grid_auto_rows": null,
       "grid_column": null,
       "grid_gap": null,
       "grid_row": null,
       "grid_template_areas": null,
       "grid_template_columns": null,
       "grid_template_rows": null,
       "height": null,
       "justify_content": null,
       "justify_items": null,
       "left": null,
       "margin": null,
       "max_height": null,
       "max_width": null,
       "min_height": null,
       "min_width": null,
       "object_fit": null,
       "object_position": null,
       "order": null,
       "overflow": null,
       "overflow_x": null,
       "overflow_y": null,
       "padding": null,
       "right": null,
       "top": null,
       "visibility": null,
       "width": null
      }
     },
     "b80c09297fb54a88908321b7960ec9c4": {
      "model_module": "@jupyter-widgets/base",
      "model_module_version": "1.2.0",
      "model_name": "LayoutModel",
      "state": {
       "_model_module": "@jupyter-widgets/base",
       "_model_module_version": "1.2.0",
       "_model_name": "LayoutModel",
       "_view_count": null,
       "_view_module": "@jupyter-widgets/base",
       "_view_module_version": "1.2.0",
       "_view_name": "LayoutView",
       "align_content": null,
       "align_items": null,
       "align_self": null,
       "border": null,
       "bottom": null,
       "display": null,
       "flex": null,
       "flex_flow": null,
       "grid_area": null,
       "grid_auto_columns": null,
       "grid_auto_flow": null,
       "grid_auto_rows": null,
       "grid_column": null,
       "grid_gap": null,
       "grid_row": null,
       "grid_template_areas": null,
       "grid_template_columns": null,
       "grid_template_rows": null,
       "height": null,
       "justify_content": null,
       "justify_items": null,
       "left": null,
       "margin": null,
       "max_height": null,
       "max_width": null,
       "min_height": null,
       "min_width": null,
       "object_fit": null,
       "object_position": null,
       "order": null,
       "overflow": null,
       "overflow_x": null,
       "overflow_y": null,
       "padding": null,
       "right": null,
       "top": null,
       "visibility": null,
       "width": null
      }
     },
     "bc0d09af0f474b9c8f72c0e939ba7c34": {
      "model_module": "@jupyter-widgets/controls",
      "model_module_version": "1.5.0",
      "model_name": "ProgressStyleModel",
      "state": {
       "_model_module": "@jupyter-widgets/controls",
       "_model_module_version": "1.5.0",
       "_model_name": "ProgressStyleModel",
       "_view_count": null,
       "_view_module": "@jupyter-widgets/base",
       "_view_module_version": "1.2.0",
       "_view_name": "StyleView",
       "bar_color": null,
       "description_width": ""
      }
     },
     "bc71e8f6f2044c21b3c9719d2af97857": {
      "model_module": "@jupyter-widgets/controls",
      "model_module_version": "1.5.0",
      "model_name": "DescriptionStyleModel",
      "state": {
       "_model_module": "@jupyter-widgets/controls",
       "_model_module_version": "1.5.0",
       "_model_name": "DescriptionStyleModel",
       "_view_count": null,
       "_view_module": "@jupyter-widgets/base",
       "_view_module_version": "1.2.0",
       "_view_name": "StyleView",
       "description_width": ""
      }
     },
     "bd8f87c249674af0aa76d79cfbe28051": {
      "model_module": "@jupyter-widgets/base",
      "model_module_version": "1.2.0",
      "model_name": "LayoutModel",
      "state": {
       "_model_module": "@jupyter-widgets/base",
       "_model_module_version": "1.2.0",
       "_model_name": "LayoutModel",
       "_view_count": null,
       "_view_module": "@jupyter-widgets/base",
       "_view_module_version": "1.2.0",
       "_view_name": "LayoutView",
       "align_content": null,
       "align_items": null,
       "align_self": null,
       "border": null,
       "bottom": null,
       "display": null,
       "flex": null,
       "flex_flow": null,
       "grid_area": null,
       "grid_auto_columns": null,
       "grid_auto_flow": null,
       "grid_auto_rows": null,
       "grid_column": null,
       "grid_gap": null,
       "grid_row": null,
       "grid_template_areas": null,
       "grid_template_columns": null,
       "grid_template_rows": null,
       "height": null,
       "justify_content": null,
       "justify_items": null,
       "left": null,
       "margin": null,
       "max_height": null,
       "max_width": null,
       "min_height": null,
       "min_width": null,
       "object_fit": null,
       "object_position": null,
       "order": null,
       "overflow": null,
       "overflow_x": null,
       "overflow_y": null,
       "padding": null,
       "right": null,
       "top": null,
       "visibility": null,
       "width": null
      }
     },
     "d04423f2d07147559c3c2028e0861ec3": {
      "model_module": "@jupyter-widgets/controls",
      "model_module_version": "1.5.0",
      "model_name": "HTMLModel",
      "state": {
       "_dom_classes": [],
       "_model_module": "@jupyter-widgets/controls",
       "_model_module_version": "1.5.0",
       "_model_name": "HTMLModel",
       "_view_count": null,
       "_view_module": "@jupyter-widgets/controls",
       "_view_module_version": "1.5.0",
       "_view_name": "HTMLView",
       "description": "",
       "description_tooltip": null,
       "layout": "IPY_MODEL_3d669eeadd7f4ea0a805ec54a2cc109d",
       "placeholder": "​",
       "style": "IPY_MODEL_17a2e8e742414fc88d4c3c3e4fb3a7ed",
       "value": "100%"
      }
     },
     "d23eb99642d54b7f9ab8001adf59135c": {
      "model_module": "@jupyter-widgets/controls",
      "model_module_version": "1.5.0",
      "model_name": "HTMLModel",
      "state": {
       "_dom_classes": [],
       "_model_module": "@jupyter-widgets/controls",
       "_model_module_version": "1.5.0",
       "_model_name": "HTMLModel",
       "_view_count": null,
       "_view_module": "@jupyter-widgets/controls",
       "_view_module_version": "1.5.0",
       "_view_name": "HTMLView",
       "description": "",
       "description_tooltip": null,
       "layout": "IPY_MODEL_957311dd388746ffaab274da2c474bd2",
       "placeholder": "​",
       "style": "IPY_MODEL_42036ac6309045568a6bbe71b786b82f",
       "value": "100%"
      }
     },
     "d437cf0104504f4183bbb96f291c13ab": {
      "model_module": "@jupyter-widgets/controls",
      "model_module_version": "1.5.0",
      "model_name": "HTMLModel",
      "state": {
       "_dom_classes": [],
       "_model_module": "@jupyter-widgets/controls",
       "_model_module_version": "1.5.0",
       "_model_name": "HTMLModel",
       "_view_count": null,
       "_view_module": "@jupyter-widgets/controls",
       "_view_module_version": "1.5.0",
       "_view_name": "HTMLView",
       "description": "",
       "description_tooltip": null,
       "layout": "IPY_MODEL_a15a42bf758b45cfaf0e4047cc509149",
       "placeholder": "​",
       "style": "IPY_MODEL_bc71e8f6f2044c21b3c9719d2af97857",
       "value": " 6/6 [00:04&lt;00:00,  1.29it/s]"
      }
     },
     "f1bceb4f0ac94984a452694b277e0f74": {
      "model_module": "@jupyter-widgets/controls",
      "model_module_version": "1.5.0",
      "model_name": "HBoxModel",
      "state": {
       "_dom_classes": [],
       "_model_module": "@jupyter-widgets/controls",
       "_model_module_version": "1.5.0",
       "_model_name": "HBoxModel",
       "_view_count": null,
       "_view_module": "@jupyter-widgets/controls",
       "_view_module_version": "1.5.0",
       "_view_name": "HBoxView",
       "box_style": "",
       "children": [
        "IPY_MODEL_d23eb99642d54b7f9ab8001adf59135c",
        "IPY_MODEL_70f304bd9e974a25920e7a5e67c4e614",
        "IPY_MODEL_2cd5d4e4815c4f30a7af4c08c281a8b7"
       ],
       "layout": "IPY_MODEL_1509592182e44eb4846c4a85e0e82152"
      }
     }
    },
    "version_major": 2,
    "version_minor": 0
   }
  }
 },
 "nbformat": 4,
 "nbformat_minor": 5
}
