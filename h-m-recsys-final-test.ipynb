{
 "cells": [
  {
   "cell_type": "code",
   "execution_count": 1,
   "id": "9581081a",
   "metadata": {
    "_cell_guid": "b1076dfc-b9ad-4769-8c92-a6c4dae69d19",
    "_uuid": "8f2839f25d086af736a60e9eeb907d3b93b6e0e5",
    "execution": {
     "iopub.execute_input": "2022-07-18T10:46:33.300902Z",
     "iopub.status.busy": "2022-07-18T10:46:33.299959Z",
     "iopub.status.idle": "2022-07-18T10:46:34.435310Z",
     "shell.execute_reply": "2022-07-18T10:46:34.434143Z"
    },
    "papermill": {
     "duration": 1.15399,
     "end_time": "2022-07-18T10:46:34.438437",
     "exception": false,
     "start_time": "2022-07-18T10:46:33.284447",
     "status": "completed"
    },
    "tags": []
   },
   "outputs": [],
   "source": [
    "import numpy as np # linear algebra\n",
    "import pandas as pd # data processing, CSV file I/O (e.g. pd.read_csv)\n",
    "import matplotlib.pyplot as plt # for plotting the data \n",
    "import seaborn as sns # Advanced data plotting on top of matplotlib\n",
    "import os\n",
    "\n",
    "\n",
    "from PIL import Image\n",
    "import pickle"
   ]
  },
  {
   "cell_type": "code",
   "execution_count": 2,
   "id": "de8ec57c",
   "metadata": {
    "execution": {
     "iopub.execute_input": "2022-07-18T10:46:34.457249Z",
     "iopub.status.busy": "2022-07-18T10:46:34.456539Z",
     "iopub.status.idle": "2022-07-18T10:46:34.547739Z",
     "shell.execute_reply": "2022-07-18T10:46:34.546743Z"
    },
    "papermill": {
     "duration": 0.103361,
     "end_time": "2022-07-18T10:46:34.550299",
     "exception": false,
     "start_time": "2022-07-18T10:46:34.446938",
     "status": "completed"
    },
    "tags": []
   },
   "outputs": [],
   "source": [
    "customer_test_df = pd.read_csv(\"../input/fork-of-h-m-recsys-eda-and-split/customer_test.csv\")\n",
    "customer_test_df_open_transactions = pd.read_csv(\"../input/fork-of-h-m-recsys-eda-and-split/customer_test_df_open_transactions.csv\")\n",
    "customer_test_df_hiden_transactions = pd.read_csv(\"../input/fork-of-h-m-recsys-eda-and-split/customer_test_df_hiden_transactions.csv\")\n"
   ]
  },
  {
   "cell_type": "code",
   "execution_count": 3,
   "id": "7f9074b0",
   "metadata": {
    "execution": {
     "iopub.execute_input": "2022-07-18T10:46:34.568815Z",
     "iopub.status.busy": "2022-07-18T10:46:34.568449Z",
     "iopub.status.idle": "2022-07-18T10:46:34.656608Z",
     "shell.execute_reply": "2022-07-18T10:46:34.655554Z"
    },
    "papermill": {
     "duration": 0.100428,
     "end_time": "2022-07-18T10:46:34.659212",
     "exception": false,
     "start_time": "2022-07-18T10:46:34.558784",
     "status": "completed"
    },
    "tags": []
   },
   "outputs": [],
   "source": [
    "# text preds\n",
    "with open ('../input/h-m-recsys-nlp-description-similarity/text_preds', 'rb') as fp:\n",
    "    nlp_preds = pickle.load(fp)\n",
    "\n",
    "# image preds\n",
    "with open ('../input/h-m-recsys-using-image-similarity/img_preds', 'rb') as fp:\n",
    "    img_preds = pickle.load(fp)\n",
    "    \n",
    "# lightfm preds\n",
    "with open ('../input/h-m-recsys-lightfm/lightfm_preds', 'rb') as fp:\n",
    "    lightfm_preds = pickle.load(fp)\n",
    "    \n",
    "# lightfm + item features preds\n",
    "with open ('../input/fork-of-h-m-recsys-lightfm-with-clusterization/lightfm_plus_preds', 'rb') as fp:\n",
    "    lightfm_if_preds = pickle.load(fp)\n",
    "\n",
    "# lightfm + item features + user featues preds\n",
    "with open ('../input/fork-of-h-m-recsys-lightfm-with-clusterization/lightfm_plus_plus_preds', 'rb') as fp:\n",
    "    lightfm_if_uf_preds = pickle.load(fp)\n"
   ]
  },
  {
   "cell_type": "code",
   "execution_count": 4,
   "id": "fba487e0",
   "metadata": {
    "execution": {
     "iopub.execute_input": "2022-07-18T10:46:34.677979Z",
     "iopub.status.busy": "2022-07-18T10:46:34.677312Z",
     "iopub.status.idle": "2022-07-18T10:46:35.410820Z",
     "shell.execute_reply": "2022-07-18T10:46:35.409679Z"
    },
    "papermill": {
     "duration": 0.74554,
     "end_time": "2022-07-18T10:46:35.413298",
     "exception": false,
     "start_time": "2022-07-18T10:46:34.667758",
     "status": "completed"
    },
    "tags": []
   },
   "outputs": [
    {
     "name": "stdout",
     "output_type": "stream",
     "text": [
      "500\n"
     ]
    }
   ],
   "source": [
    "# hiden preds\n",
    "\n",
    "ground_truth_list = []\n",
    "\n",
    "# go through all customers from test list\n",
    "for k, customer in enumerate(customer_test_df.customer_id):\n",
    "    ground_truth_list.append(np.array(\n",
    "        customer_test_df_hiden_transactions[customer_test_df_hiden_transactions.customer_id == customer].article_id))\n",
    "    \n",
    "print(len(ground_truth_list))"
   ]
  },
  {
   "cell_type": "code",
   "execution_count": 5,
   "id": "ef43cb3e",
   "metadata": {
    "execution": {
     "iopub.execute_input": "2022-07-18T10:46:35.432382Z",
     "iopub.status.busy": "2022-07-18T10:46:35.431998Z",
     "iopub.status.idle": "2022-07-18T10:47:44.471830Z",
     "shell.execute_reply": "2022-07-18T10:47:44.470057Z"
    },
    "papermill": {
     "duration": 69.05501,
     "end_time": "2022-07-18T10:47:44.477398",
     "exception": false,
     "start_time": "2022-07-18T10:46:35.422388",
     "status": "completed"
    },
    "tags": []
   },
   "outputs": [],
   "source": [
    "transactions_df = pd.read_csv(\"/kaggle/input/h-and-m-personalized-fashion-recommendations/transactions_train.csv\")"
   ]
  },
  {
   "cell_type": "code",
   "execution_count": 6,
   "id": "e489c0f7",
   "metadata": {
    "execution": {
     "iopub.execute_input": "2022-07-18T10:47:44.500073Z",
     "iopub.status.busy": "2022-07-18T10:47:44.499089Z",
     "iopub.status.idle": "2022-07-18T10:47:48.865671Z",
     "shell.execute_reply": "2022-07-18T10:47:48.864587Z"
    },
    "papermill": {
     "duration": 4.38054,
     "end_time": "2022-07-18T10:47:48.868982",
     "exception": false,
     "start_time": "2022-07-18T10:47:44.488442",
     "status": "completed"
    },
    "tags": []
   },
   "outputs": [
    {
     "data": {
      "text/plain": [
       "array([706016001, 706016002, 372860001, 610776002, 759871002, 464297007,\n",
       "       372860002, 610776001, 399223001, 706016003, 720125001, 156231001])"
      ]
     },
     "execution_count": 6,
     "metadata": {},
     "output_type": "execute_result"
    }
   ],
   "source": [
    "# 100 most popular items\n",
    "most_popular_100 = transactions_df.groupby(\"article_id\")[\"customer_id\"].count().sort_values(ascending=False).head(100).index.values\n",
    "most_popular_100[:12]"
   ]
  },
  {
   "cell_type": "code",
   "execution_count": 7,
   "id": "633d0239",
   "metadata": {
    "execution": {
     "iopub.execute_input": "2022-07-18T10:47:48.887836Z",
     "iopub.status.busy": "2022-07-18T10:47:48.887465Z",
     "iopub.status.idle": "2022-07-18T10:47:48.895729Z",
     "shell.execute_reply": "2022-07-18T10:47:48.894728Z"
    },
    "papermill": {
     "duration": 0.020435,
     "end_time": "2022-07-18T10:47:48.898115",
     "exception": false,
     "start_time": "2022-07-18T10:47:48.877680",
     "status": "completed"
    },
    "tags": []
   },
   "outputs": [],
   "source": [
    "def print_img(open_ids):\n",
    "    img_list_open = []\n",
    "    for id in open_ids:    \n",
    "        image_path = \"../input/h-and-m-personalized-fashion-recommendations/images/0{}/0{}.jpg\".format(str(id)[:2], id)\n",
    "        try:\n",
    "            img = Image.open(image_path)\n",
    "        except FileNotFoundError:\n",
    "            continue            \n",
    "        img_list_open.append(img)\n",
    "    \n",
    "    plt.figure(figsize=(2*len(img_list_open),5))\n",
    "    for j in range(len(img_list_open)):\n",
    "        plt.subplot(1, len(img_list_open), j+1)\n",
    "        plt.axis('off')\n",
    "        plt.imshow(img_list_open[j])"
   ]
  },
  {
   "cell_type": "code",
   "execution_count": 8,
   "id": "a521e6a8",
   "metadata": {
    "execution": {
     "iopub.execute_input": "2022-07-18T10:47:48.918316Z",
     "iopub.status.busy": "2022-07-18T10:47:48.917321Z",
     "iopub.status.idle": "2022-07-18T10:47:48.938940Z",
     "shell.execute_reply": "2022-07-18T10:47:48.937803Z"
    },
    "papermill": {
     "duration": 0.034562,
     "end_time": "2022-07-18T10:47:48.941585",
     "exception": false,
     "start_time": "2022-07-18T10:47:48.907023",
     "status": "completed"
    },
    "tags": []
   },
   "outputs": [],
   "source": [
    "def jaccard_similarity(list1, list2):\n",
    "    intersection = len(list(set(list1).intersection(list2)))\n",
    "    union = (len(set(list1)) + len(set(list2))) - intersection\n",
    "    return float(intersection) / union\n",
    "\n",
    "def jaccard(actual, predicted):\n",
    "    return np.mean([jaccard_similarity(a,b) for a,b in zip(actual, predicted)])\n",
    "\n",
    "def dice_similarity(list1, list2):\n",
    "    intersection = 2 * len(list(set(list1).intersection(list2)))\n",
    "    union = (len(set(list1)) + len(set(list2))) \n",
    "    return float(intersection) / union\n",
    "\n",
    "def dice(actual, predicted):\n",
    "    return np.mean([dice_similarity(a,b) for a,b in zip(actual, predicted)])\n",
    "\n",
    "def intersept(list1, list2):\n",
    "    return np.sum([len(list(set(a).intersection(b))) for a,b in zip(list1, list2)])\n",
    "\n",
    "def apk(actual, predicted, k=10):\n",
    "    \"\"\"\n",
    "    Computes the average precision at k.\n",
    "    This function computes the average prescision at k between two lists of\n",
    "    items.\n",
    "    Parameters\n",
    "    ----------\n",
    "    actual : list\n",
    "             A list of elements that are to be predicted (order doesn't matter)\n",
    "    predicted : list\n",
    "                A list of predicted elements (order does matter)\n",
    "    k : int, optional\n",
    "        The maximum number of predicted elements\n",
    "    Returns\n",
    "    -------\n",
    "    score : double\n",
    "            The average precision at k over the input lists\n",
    "    \"\"\"\n",
    "    if len(predicted)>k:\n",
    "        predicted = predicted[:k]\n",
    "\n",
    "    score = 0.0\n",
    "    num_hits = 0.0\n",
    "\n",
    "    for i,p in enumerate(predicted):\n",
    "        if p in actual and p not in predicted[:i]:\n",
    "            num_hits += 1.0\n",
    "            score += num_hits / (i+1.0)\n",
    "\n",
    "    #if not actual:\n",
    "    #    return 0.0\n",
    "\n",
    "    return score / min(len(actual), k)\n",
    "\n",
    "\n",
    "def mapk(actual, predicted, k=10):\n",
    "    \"\"\"\n",
    "    Computes the mean average precision at k.\n",
    "    This function computes the mean average prescision at k between two lists\n",
    "    of lists of items.\n",
    "    Parameters\n",
    "    ----------\n",
    "    actual : list\n",
    "             A list of lists of elements that are to be predicted \n",
    "             (order doesn't matter in the lists)\n",
    "    predicted : list\n",
    "                A list of lists of predicted elements\n",
    "                (order matters in the lists)\n",
    "    k : int, optional\n",
    "        The maximum number of predicted elements\n",
    "    Returns\n",
    "    -------\n",
    "    score : double\n",
    "            The mean average precision at k over the input lists\n",
    "    \"\"\"\n",
    "    return np.mean([apk(a,p,k) for a,p in zip(actual, predicted)])\n",
    "\n",
    "\n",
    "\n",
    "def metrics(ground_truth, mp_preds):\n",
    "    mp_interception = intersept(ground_truth_list, mp_preds)\n",
    "    mp_jaccard_similarity = jaccard(ground_truth_list, mp_preds)\n",
    "    mp_dice = dice(ground_truth_list, mp_preds)    \n",
    "    mp_maok12 = mapk(ground_truth_list, mp_preds, 12)\n",
    "\n",
    "    print(\"Interceptions: {} from {} ({:.4}%)\".format(mp_interception, len(ground_truth) * 12, mp_interception*100/(len(ground_truth) * 12)) )\n",
    "    print(\"Jaccard: {:.4}\".format(mp_jaccard_similarity))\n",
    "    print(\"Dice: {:.4}\".format(mp_dice))\n",
    "    print(\"Mean Average Precision @ 12: {:.4}\".format(mp_maok12))\n",
    "    \n",
    "    return [mp_interception, mp_interception*100/(len(ground_truth) * 12), mp_jaccard_similarity, mp_dice, mp_maok12]\n"
   ]
  },
  {
   "cell_type": "markdown",
   "id": "43e31ab6",
   "metadata": {
    "papermill": {
     "duration": 0.008328,
     "end_time": "2022-07-18T10:47:48.958702",
     "exception": false,
     "start_time": "2022-07-18T10:47:48.950374",
     "status": "completed"
    },
    "tags": []
   },
   "source": [
    "**100 most popular items results**"
   ]
  },
  {
   "cell_type": "code",
   "execution_count": 9,
   "id": "67f7ac8d",
   "metadata": {
    "execution": {
     "iopub.execute_input": "2022-07-18T10:47:48.981226Z",
     "iopub.status.busy": "2022-07-18T10:47:48.980212Z",
     "iopub.status.idle": "2022-07-18T10:47:49.086201Z",
     "shell.execute_reply": "2022-07-18T10:47:49.084097Z"
    },
    "papermill": {
     "duration": 0.126274,
     "end_time": "2022-07-18T10:47:49.093903",
     "exception": false,
     "start_time": "2022-07-18T10:47:48.967629",
     "status": "completed"
    },
    "tags": []
   },
   "outputs": [
    {
     "name": "stdout",
     "output_type": "stream",
     "text": [
      "100 most popular items results\n",
      "\n",
      "Interceptions: 117 from 6000 (1.95%)\n",
      "Jaccard: 0.00216\n",
      "Dice: 0.004265\n",
      "Mean Average Precision @ 12: 0.0004845\n"
     ]
    }
   ],
   "source": [
    "# 100 most popular items results\n",
    "mp_preds = [most_popular_100 for i in range(500)]\n",
    "\n",
    "print(\"100 most popular items results\\n\")\n",
    "mp100_metrics = metrics(ground_truth_list, mp_preds)"
   ]
  },
  {
   "cell_type": "code",
   "execution_count": 10,
   "id": "6fa6f77a",
   "metadata": {
    "execution": {
     "iopub.execute_input": "2022-07-18T10:47:49.115769Z",
     "iopub.status.busy": "2022-07-18T10:47:49.114675Z",
     "iopub.status.idle": "2022-07-18T10:47:49.184953Z",
     "shell.execute_reply": "2022-07-18T10:47:49.183483Z"
    },
    "papermill": {
     "duration": 0.083483,
     "end_time": "2022-07-18T10:47:49.187529",
     "exception": false,
     "start_time": "2022-07-18T10:47:49.104046",
     "status": "completed"
    },
    "tags": []
   },
   "outputs": [
    {
     "name": "stdout",
     "output_type": "stream",
     "text": [
      "12 most popular items results\n",
      "\n",
      "Interceptions: 18 from 6000 (0.3%)\n",
      "Jaccard: 0.001771\n",
      "Dice: 0.003336\n",
      "Mean Average Precision @ 12: 0.0004845\n"
     ]
    }
   ],
   "source": [
    "mp_preds_12 = [most_popular_100[:12] for i in range(500)]\n",
    "\n",
    "print(\"12 most popular items results\\n\")\n",
    "mp12_metrics = metrics(ground_truth_list, mp_preds_12)"
   ]
  },
  {
   "cell_type": "markdown",
   "id": "8046e0e2",
   "metadata": {
    "papermill": {
     "duration": 0.008296,
     "end_time": "2022-07-18T10:47:49.204582",
     "exception": false,
     "start_time": "2022-07-18T10:47:49.196286",
     "status": "completed"
    },
    "tags": []
   },
   "source": [
    "**Description Similarity method**"
   ]
  },
  {
   "cell_type": "code",
   "execution_count": 11,
   "id": "0fca668b",
   "metadata": {
    "execution": {
     "iopub.execute_input": "2022-07-18T10:47:49.223908Z",
     "iopub.status.busy": "2022-07-18T10:47:49.223034Z",
     "iopub.status.idle": "2022-07-18T10:47:49.315694Z",
     "shell.execute_reply": "2022-07-18T10:47:49.314845Z"
    },
    "papermill": {
     "duration": 0.105353,
     "end_time": "2022-07-18T10:47:49.318521",
     "exception": false,
     "start_time": "2022-07-18T10:47:49.213168",
     "status": "completed"
    },
    "tags": []
   },
   "outputs": [
    {
     "name": "stdout",
     "output_type": "stream",
     "text": [
      "Interceptions: 542 from 6000 (9.033%)\n",
      "Jaccard: 0.01378\n",
      "Dice: 0.02662\n",
      "Mean Average Precision @ 12: 0.006861\n"
     ]
    }
   ],
   "source": [
    "# 100 most popular items results\n",
    "\n",
    "nlp_metrics =  metrics(ground_truth_list, nlp_preds)"
   ]
  },
  {
   "cell_type": "code",
   "execution_count": 12,
   "id": "32329fbd",
   "metadata": {
    "execution": {
     "iopub.execute_input": "2022-07-18T10:47:49.338928Z",
     "iopub.status.busy": "2022-07-18T10:47:49.338230Z",
     "iopub.status.idle": "2022-07-18T10:47:49.396821Z",
     "shell.execute_reply": "2022-07-18T10:47:49.395209Z"
    },
    "papermill": {
     "duration": 0.071023,
     "end_time": "2022-07-18T10:47:49.399293",
     "exception": false,
     "start_time": "2022-07-18T10:47:49.328270",
     "status": "completed"
    },
    "tags": []
   },
   "outputs": [
    {
     "name": "stdout",
     "output_type": "stream",
     "text": [
      "Interceptions: 136 from 6000 (2.267%)\n",
      "Jaccard: 0.01411\n",
      "Dice: 0.02628\n",
      "Mean Average Precision @ 12: 0.006861\n"
     ]
    }
   ],
   "source": [
    "nlp_preds_12 = [item[:12] for item in nlp_preds]\n",
    "\n",
    "nlp12_metrics = metrics(ground_truth_list, nlp_preds_12)"
   ]
  },
  {
   "cell_type": "markdown",
   "id": "85fdce0e",
   "metadata": {
    "papermill": {
     "duration": 0.008783,
     "end_time": "2022-07-18T10:47:49.417036",
     "exception": false,
     "start_time": "2022-07-18T10:47:49.408253",
     "status": "completed"
    },
    "tags": []
   },
   "source": [
    "**Lightfm**"
   ]
  },
  {
   "cell_type": "code",
   "execution_count": 13,
   "id": "c713a6ad",
   "metadata": {
    "execution": {
     "iopub.execute_input": "2022-07-18T10:47:49.436979Z",
     "iopub.status.busy": "2022-07-18T10:47:49.436619Z",
     "iopub.status.idle": "2022-07-18T10:47:49.593015Z",
     "shell.execute_reply": "2022-07-18T10:47:49.591741Z"
    },
    "papermill": {
     "duration": 0.16949,
     "end_time": "2022-07-18T10:47:49.595638",
     "exception": false,
     "start_time": "2022-07-18T10:47:49.426148",
     "status": "completed"
    },
    "tags": []
   },
   "outputs": [
    {
     "name": "stdout",
     "output_type": "stream",
     "text": [
      "Light FM without user/item features\n",
      "Interceptions: 234 from 6000 (3.9%)\n",
      "Jaccard: 0.01463\n",
      "Dice: 0.02763\n",
      "Mean Average Precision @ 12: 0.01053\n",
      "\n",
      "Light FM with item features\n",
      "Interceptions: 209 from 6000 (3.483%)\n",
      "Jaccard: 0.01306\n",
      "Dice: 0.02464\n",
      "Mean Average Precision @ 12: 0.008217\n",
      "\n",
      "Light FM with item and user features\n",
      "Interceptions: 176 from 6000 (2.933%)\n",
      "Jaccard: 0.01092\n",
      "Dice: 0.02072\n",
      "Mean Average Precision @ 12: 0.006615\n"
     ]
    }
   ],
   "source": [
    "print(\"Light FM without user/item features\")\n",
    "lfm_metrics = metrics(ground_truth_list, lightfm_preds)\n",
    "\n",
    "print(\"\\nLight FM with item features\")\n",
    "lfm_if_metrics = metrics(ground_truth_list, lightfm_if_preds)\n",
    "\n",
    "print(\"\\nLight FM with item and user features\")\n",
    "lfm_if_uf_metrics = metrics(ground_truth_list, lightfm_if_uf_preds)\n"
   ]
  },
  {
   "cell_type": "code",
   "execution_count": 14,
   "id": "a2f3a302",
   "metadata": {
    "execution": {
     "iopub.execute_input": "2022-07-18T10:47:49.615960Z",
     "iopub.status.busy": "2022-07-18T10:47:49.615592Z",
     "iopub.status.idle": "2022-07-18T10:47:49.758780Z",
     "shell.execute_reply": "2022-07-18T10:47:49.757545Z"
    },
    "papermill": {
     "duration": 0.156076,
     "end_time": "2022-07-18T10:47:49.761258",
     "exception": false,
     "start_time": "2022-07-18T10:47:49.605182",
     "status": "completed"
    },
    "tags": []
   },
   "outputs": [
    {
     "name": "stdout",
     "output_type": "stream",
     "text": [
      "Light FM top12 without user/item features\n",
      "Interceptions: 163 from 6000 (2.717%)\n",
      "Jaccard: 0.01635\n",
      "Dice: 0.03009\n",
      "Mean Average Precision @ 12: 0.01053\n",
      "\n",
      "Light FM top12 with item features\n",
      "Interceptions: 125 from 6000 (2.083%)\n",
      "Jaccard: 0.01243\n",
      "Dice: 0.02284\n",
      "Mean Average Precision @ 12: 0.008217\n",
      "\n",
      "Light FM top12 with item and user features\n",
      "Interceptions: 106 from 6000 (1.767%)\n",
      "Jaccard: 0.01032\n",
      "Dice: 0.01936\n",
      "Mean Average Precision @ 12: 0.006615\n"
     ]
    }
   ],
   "source": [
    "lightfm_preds12 = [pred[:12] for pred in lightfm_preds]\n",
    "lightfm_if_preds12 = [pred[:12] for pred in lightfm_if_preds]\n",
    "lightfm_if_uf_preds12 = [pred[:12] for pred in lightfm_if_uf_preds]\n",
    "\n",
    "print(\"Light FM top12 without user/item features\")\n",
    "lfm12_metrics = metrics(ground_truth_list, lightfm_preds12)\n",
    "\n",
    "print(\"\\nLight FM top12 with item features\")\n",
    "lfm12_if_metrics = metrics(ground_truth_list, lightfm_if_preds12)\n",
    "\n",
    "print(\"\\nLight FM top12 with item and user features\")\n",
    "lfm12_if_uf_metrics = metrics(ground_truth_list, lightfm_if_uf_preds12)"
   ]
  },
  {
   "cell_type": "markdown",
   "id": "f7d3369a",
   "metadata": {
    "papermill": {
     "duration": 0.008748,
     "end_time": "2022-07-18T10:47:49.779142",
     "exception": false,
     "start_time": "2022-07-18T10:47:49.770394",
     "status": "completed"
    },
    "tags": []
   },
   "source": [
    "**Image similarity method**"
   ]
  },
  {
   "cell_type": "code",
   "execution_count": 15,
   "id": "971a5f5d",
   "metadata": {
    "execution": {
     "iopub.execute_input": "2022-07-18T10:47:49.799469Z",
     "iopub.status.busy": "2022-07-18T10:47:49.798496Z",
     "iopub.status.idle": "2022-07-18T10:47:49.889590Z",
     "shell.execute_reply": "2022-07-18T10:47:49.888485Z"
    },
    "papermill": {
     "duration": 0.104387,
     "end_time": "2022-07-18T10:47:49.892551",
     "exception": false,
     "start_time": "2022-07-18T10:47:49.788164",
     "status": "completed"
    },
    "tags": []
   },
   "outputs": [
    {
     "name": "stdout",
     "output_type": "stream",
     "text": [
      "Image similarity method results\n",
      "\n",
      "Interceptions: 39 from 6000 (0.65%)\n",
      "Jaccard: 0.00103\n",
      "Dice: 0.002003\n",
      "Mean Average Precision @ 12: 0.0006458\n"
     ]
    }
   ],
   "source": [
    "print(\"Image similarity method results\\n\")\n",
    "imgall_metrics = metrics(ground_truth_list, img_preds)"
   ]
  },
  {
   "cell_type": "code",
   "execution_count": 16,
   "id": "027ed83a",
   "metadata": {
    "execution": {
     "iopub.execute_input": "2022-07-18T10:47:49.914486Z",
     "iopub.status.busy": "2022-07-18T10:47:49.912596Z",
     "iopub.status.idle": "2022-07-18T10:47:49.975372Z",
     "shell.execute_reply": "2022-07-18T10:47:49.973932Z"
    },
    "papermill": {
     "duration": 0.076178,
     "end_time": "2022-07-18T10:47:49.978074",
     "exception": false,
     "start_time": "2022-07-18T10:47:49.901896",
     "status": "completed"
    },
    "tags": []
   },
   "outputs": [
    {
     "name": "stdout",
     "output_type": "stream",
     "text": [
      "Image similarity method results\n",
      "\n",
      "Interceptions: 8 from 6000 (0.1333%)\n",
      "Jaccard: 0.0009293\n",
      "Dice: 0.001707\n",
      "Mean Average Precision @ 12: 0.0006458\n"
     ]
    }
   ],
   "source": [
    "img_preds_first12 = [pred[:12] for pred in img_preds]\n",
    "\n",
    "print(\"Image similarity method results\\n\")\n",
    "img12_metrics = metrics(ground_truth_list, img_preds_first12)"
   ]
  },
  {
   "cell_type": "markdown",
   "id": "d798db42",
   "metadata": {
    "papermill": {
     "duration": 0.00951,
     "end_time": "2022-07-18T10:47:49.997705",
     "exception": false,
     "start_time": "2022-07-18T10:47:49.988195",
     "status": "completed"
    },
    "tags": []
   },
   "source": [
    "**All results**"
   ]
  },
  {
   "cell_type": "code",
   "execution_count": 17,
   "id": "27bd1167",
   "metadata": {
    "execution": {
     "iopub.execute_input": "2022-07-18T10:47:50.019428Z",
     "iopub.status.busy": "2022-07-18T10:47:50.018512Z",
     "iopub.status.idle": "2022-07-18T10:47:50.030323Z",
     "shell.execute_reply": "2022-07-18T10:47:50.029466Z"
    },
    "papermill": {
     "duration": 0.025271,
     "end_time": "2022-07-18T10:47:50.032571",
     "exception": false,
     "start_time": "2022-07-18T10:47:50.007300",
     "status": "completed"
    },
    "tags": []
   },
   "outputs": [],
   "source": [
    "all_preds = [np.concatenate(item) for item in zip(mp_preds, nlp_preds, img_preds, lightfm_preds, lightfm_if_preds, lightfm_if_uf_preds)]\n",
    "#all_preds_top12 = [pd.value_counts(item).head(12).index.values for item in all_preds]\n",
    "#pd.value_counts(all_preds[3]).head(12) "
   ]
  },
  {
   "cell_type": "code",
   "execution_count": 18,
   "id": "c283c206",
   "metadata": {
    "execution": {
     "iopub.execute_input": "2022-07-18T10:47:50.053642Z",
     "iopub.status.busy": "2022-07-18T10:47:50.053243Z",
     "iopub.status.idle": "2022-07-18T10:47:50.261074Z",
     "shell.execute_reply": "2022-07-18T10:47:50.259779Z"
    },
    "papermill": {
     "duration": 0.221208,
     "end_time": "2022-07-18T10:47:50.263367",
     "exception": false,
     "start_time": "2022-07-18T10:47:50.042159",
     "status": "completed"
    },
    "tags": []
   },
   "outputs": [
    {
     "name": "stdout",
     "output_type": "stream",
     "text": [
      "Interceptions: 960 from 6000 (16.0%)\n",
      "Jaccard: 0.006441\n",
      "Dice: 0.01274\n",
      "Mean Average Precision @ 12: 0.0004845\n"
     ]
    }
   ],
   "source": [
    "all_preds_metrics = metrics(ground_truth_list, all_preds)\n",
    "#print()\n",
    "#all_preds_top12_metrics = metrics(ground_truth_list, all_preds_top12)"
   ]
  },
  {
   "cell_type": "code",
   "execution_count": 19,
   "id": "8542e4e2",
   "metadata": {
    "execution": {
     "iopub.execute_input": "2022-07-18T10:47:50.286779Z",
     "iopub.status.busy": "2022-07-18T10:47:50.286130Z",
     "iopub.status.idle": "2022-07-18T10:47:50.309568Z",
     "shell.execute_reply": "2022-07-18T10:47:50.308444Z"
    },
    "papermill": {
     "duration": 0.036973,
     "end_time": "2022-07-18T10:47:50.312008",
     "exception": false,
     "start_time": "2022-07-18T10:47:50.275035",
     "status": "completed"
    },
    "tags": []
   },
   "outputs": [
    {
     "data": {
      "text/html": [
       "<div>\n",
       "<style scoped>\n",
       "    .dataframe tbody tr th:only-of-type {\n",
       "        vertical-align: middle;\n",
       "    }\n",
       "\n",
       "    .dataframe tbody tr th {\n",
       "        vertical-align: top;\n",
       "    }\n",
       "\n",
       "    .dataframe thead th {\n",
       "        text-align: right;\n",
       "    }\n",
       "</style>\n",
       "<table border=\"1\" class=\"dataframe\">\n",
       "  <thead>\n",
       "    <tr style=\"text-align: right;\">\n",
       "      <th></th>\n",
       "      <th>True Predicted</th>\n",
       "      <th>Recall %</th>\n",
       "      <th>Jaccard</th>\n",
       "      <th>Dice</th>\n",
       "      <th>MAP@12</th>\n",
       "    </tr>\n",
       "  </thead>\n",
       "  <tbody>\n",
       "    <tr>\n",
       "      <th>Top 100 most popular</th>\n",
       "      <td>117</td>\n",
       "      <td>1.950000</td>\n",
       "      <td>0.002160</td>\n",
       "      <td>0.004265</td>\n",
       "      <td>0.000484</td>\n",
       "    </tr>\n",
       "    <tr>\n",
       "      <th>Description similarity 12 for every item</th>\n",
       "      <td>542</td>\n",
       "      <td>9.033333</td>\n",
       "      <td>0.013783</td>\n",
       "      <td>0.026618</td>\n",
       "      <td>0.006861</td>\n",
       "    </tr>\n",
       "    <tr>\n",
       "      <th>LightFM 24</th>\n",
       "      <td>234</td>\n",
       "      <td>3.900000</td>\n",
       "      <td>0.014634</td>\n",
       "      <td>0.027632</td>\n",
       "      <td>0.010527</td>\n",
       "    </tr>\n",
       "    <tr>\n",
       "      <th>LightFM+ItemF 24</th>\n",
       "      <td>209</td>\n",
       "      <td>3.483333</td>\n",
       "      <td>0.013059</td>\n",
       "      <td>0.024642</td>\n",
       "      <td>0.008217</td>\n",
       "    </tr>\n",
       "    <tr>\n",
       "      <th>LightFM+ItemF+UserF 24</th>\n",
       "      <td>176</td>\n",
       "      <td>2.933333</td>\n",
       "      <td>0.010919</td>\n",
       "      <td>0.020723</td>\n",
       "      <td>0.006615</td>\n",
       "    </tr>\n",
       "    <tr>\n",
       "      <th>Image similarity 12 for every item</th>\n",
       "      <td>39</td>\n",
       "      <td>0.650000</td>\n",
       "      <td>0.001030</td>\n",
       "      <td>0.002003</td>\n",
       "      <td>0.000646</td>\n",
       "    </tr>\n",
       "    <tr>\n",
       "      <th>All predictions</th>\n",
       "      <td>960</td>\n",
       "      <td>16.000000</td>\n",
       "      <td>0.006441</td>\n",
       "      <td>0.012740</td>\n",
       "      <td>0.000484</td>\n",
       "    </tr>\n",
       "  </tbody>\n",
       "</table>\n",
       "</div>"
      ],
      "text/plain": [
       "                                          True Predicted   Recall %   Jaccard  \\\n",
       "Top 100 most popular                                 117   1.950000  0.002160   \n",
       "Description similarity 12 for every item             542   9.033333  0.013783   \n",
       "LightFM 24                                           234   3.900000  0.014634   \n",
       "LightFM+ItemF 24                                     209   3.483333  0.013059   \n",
       "LightFM+ItemF+UserF 24                               176   2.933333  0.010919   \n",
       "Image similarity 12 for every item                    39   0.650000  0.001030   \n",
       "All predictions                                      960  16.000000  0.006441   \n",
       "\n",
       "                                              Dice    MAP@12  \n",
       "Top 100 most popular                      0.004265  0.000484  \n",
       "Description similarity 12 for every item  0.026618  0.006861  \n",
       "LightFM 24                                0.027632  0.010527  \n",
       "LightFM+ItemF 24                          0.024642  0.008217  \n",
       "LightFM+ItemF+UserF 24                    0.020723  0.006615  \n",
       "Image similarity 12 for every item        0.002003  0.000646  \n",
       "All predictions                           0.012740  0.000484  "
      ]
     },
     "execution_count": 19,
     "metadata": {},
     "output_type": "execute_result"
    }
   ],
   "source": [
    "# Метрики по общму количесвту кандидатов\n",
    "\n",
    "pd.DataFrame([mp100_metrics, \n",
    "              nlp_metrics, \n",
    "              lfm_metrics,\n",
    "              lfm_if_metrics, \n",
    "              lfm_if_uf_metrics,\n",
    "              imgall_metrics, \n",
    "              all_preds_metrics,\n",
    "              ],\n",
    "             index = [\"Top 100 most popular\",\n",
    "                      \"Description similarity 12 for every item\", \n",
    "                      \"LightFM 24\", \n",
    "                      \"LightFM+ItemF 24\", \n",
    "                      \"LightFM+ItemF+UserF 24\", \n",
    "                      \"Image similarity 12 for every item\", \n",
    "                      \"All predictions\"\n",
    "                      ],\n",
    "            columns = [\"True Predicted\", \"Recall %\", \"Jaccard\", \"Dice\", \"MAP@12\"])"
   ]
  },
  {
   "cell_type": "code",
   "execution_count": 20,
   "id": "e0273441",
   "metadata": {
    "execution": {
     "iopub.execute_input": "2022-07-18T10:47:50.333599Z",
     "iopub.status.busy": "2022-07-18T10:47:50.332909Z",
     "iopub.status.idle": "2022-07-18T10:47:50.426406Z",
     "shell.execute_reply": "2022-07-18T10:47:50.425270Z"
    },
    "papermill": {
     "duration": 0.106932,
     "end_time": "2022-07-18T10:47:50.428714",
     "exception": false,
     "start_time": "2022-07-18T10:47:50.321782",
     "status": "completed"
    },
    "tags": []
   },
   "outputs": [
    {
     "name": "stdout",
     "output_type": "stream",
     "text": [
      "Interceptions: 412 from 6000 (6.867%)\n",
      "Jaccard: 0.01162\n",
      "Dice: 0.02255\n",
      "Mean Average Precision @ 12: 0.0004845\n"
     ]
    }
   ],
   "source": [
    "all12_preds = [np.concatenate(item) for item in zip(mp_preds_12, nlp_preds_12, img_preds_first12, lightfm_preds12, lightfm_if_preds12, lightfm_if_uf_preds12)]\n",
    "all12_metrics = metrics(ground_truth_list, all12_preds)"
   ]
  },
  {
   "cell_type": "code",
   "execution_count": 21,
   "id": "25d35a47",
   "metadata": {
    "execution": {
     "iopub.execute_input": "2022-07-18T10:47:50.450123Z",
     "iopub.status.busy": "2022-07-18T10:47:50.449739Z",
     "iopub.status.idle": "2022-07-18T10:47:50.465731Z",
     "shell.execute_reply": "2022-07-18T10:47:50.464636Z"
    },
    "papermill": {
     "duration": 0.029346,
     "end_time": "2022-07-18T10:47:50.468034",
     "exception": false,
     "start_time": "2022-07-18T10:47:50.438688",
     "status": "completed"
    },
    "tags": []
   },
   "outputs": [
    {
     "data": {
      "text/html": [
       "<div>\n",
       "<style scoped>\n",
       "    .dataframe tbody tr th:only-of-type {\n",
       "        vertical-align: middle;\n",
       "    }\n",
       "\n",
       "    .dataframe tbody tr th {\n",
       "        vertical-align: top;\n",
       "    }\n",
       "\n",
       "    .dataframe thead th {\n",
       "        text-align: right;\n",
       "    }\n",
       "</style>\n",
       "<table border=\"1\" class=\"dataframe\">\n",
       "  <thead>\n",
       "    <tr style=\"text-align: right;\">\n",
       "      <th></th>\n",
       "      <th>True Predicted</th>\n",
       "      <th>Recall %</th>\n",
       "      <th>Jaccard</th>\n",
       "      <th>Dice</th>\n",
       "      <th>MAP@12</th>\n",
       "    </tr>\n",
       "  </thead>\n",
       "  <tbody>\n",
       "    <tr>\n",
       "      <th>Top 12 most popular</th>\n",
       "      <td>18</td>\n",
       "      <td>0.300000</td>\n",
       "      <td>0.001771</td>\n",
       "      <td>0.003336</td>\n",
       "      <td>0.000484</td>\n",
       "    </tr>\n",
       "    <tr>\n",
       "      <th>Description similarity first 12</th>\n",
       "      <td>136</td>\n",
       "      <td>2.266667</td>\n",
       "      <td>0.014106</td>\n",
       "      <td>0.026276</td>\n",
       "      <td>0.006861</td>\n",
       "    </tr>\n",
       "    <tr>\n",
       "      <th>LightFM 12</th>\n",
       "      <td>163</td>\n",
       "      <td>2.716667</td>\n",
       "      <td>0.016354</td>\n",
       "      <td>0.030090</td>\n",
       "      <td>0.010527</td>\n",
       "    </tr>\n",
       "    <tr>\n",
       "      <th>LightFM+ItemF 12</th>\n",
       "      <td>125</td>\n",
       "      <td>2.083333</td>\n",
       "      <td>0.012428</td>\n",
       "      <td>0.022835</td>\n",
       "      <td>0.008217</td>\n",
       "    </tr>\n",
       "    <tr>\n",
       "      <th>LightFM+ItemF+UserF 12</th>\n",
       "      <td>106</td>\n",
       "      <td>1.766667</td>\n",
       "      <td>0.010321</td>\n",
       "      <td>0.019365</td>\n",
       "      <td>0.006615</td>\n",
       "    </tr>\n",
       "    <tr>\n",
       "      <th>Image similarity first 12</th>\n",
       "      <td>8</td>\n",
       "      <td>0.133333</td>\n",
       "      <td>0.000929</td>\n",
       "      <td>0.001707</td>\n",
       "      <td>0.000646</td>\n",
       "    </tr>\n",
       "  </tbody>\n",
       "</table>\n",
       "</div>"
      ],
      "text/plain": [
       "                                 True Predicted  Recall %   Jaccard      Dice  \\\n",
       "Top 12 most popular                          18  0.300000  0.001771  0.003336   \n",
       "Description similarity first 12             136  2.266667  0.014106  0.026276   \n",
       "LightFM 12                                  163  2.716667  0.016354  0.030090   \n",
       "LightFM+ItemF 12                            125  2.083333  0.012428  0.022835   \n",
       "LightFM+ItemF+UserF 12                      106  1.766667  0.010321  0.019365   \n",
       "Image similarity first 12                     8  0.133333  0.000929  0.001707   \n",
       "\n",
       "                                   MAP@12  \n",
       "Top 12 most popular              0.000484  \n",
       "Description similarity first 12  0.006861  \n",
       "LightFM 12                       0.010527  \n",
       "LightFM+ItemF 12                 0.008217  \n",
       "LightFM+ItemF+UserF 12           0.006615  \n",
       "Image similarity first 12        0.000646  "
      ]
     },
     "execution_count": 21,
     "metadata": {},
     "output_type": "execute_result"
    }
   ],
   "source": [
    "# Метрики для алгоритмов stand alone\n",
    "\n",
    "pd.DataFrame([mp12_metrics,\n",
    "              nlp12_metrics,\n",
    "              lfm12_metrics,\n",
    "              lfm12_if_metrics,\n",
    "              lfm12_if_uf_metrics,\n",
    "              img12_metrics,\n",
    "              #all12_metrics\n",
    "              ],\n",
    "             index = [\"Top 12 most popular\",\n",
    "                      \"Description similarity first 12\",\n",
    "                      \"LightFM 12\",\n",
    "                      \"LightFM+ItemF 12\",\n",
    "                      \"LightFM+ItemF+UserF 12\",\n",
    "                      \"Image similarity first 12\",\n",
    "                      #\"All 12 preds\"\n",
    "                      ],\n",
    "            columns = [\"True Predicted\", \"Recall %\", \"Jaccard\", \"Dice\", \"MAP@12\"])"
   ]
  },
  {
   "cell_type": "code",
   "execution_count": 22,
   "id": "551d3e69",
   "metadata": {
    "execution": {
     "iopub.execute_input": "2022-07-18T10:47:50.490141Z",
     "iopub.status.busy": "2022-07-18T10:47:50.489780Z",
     "iopub.status.idle": "2022-07-18T10:47:52.735930Z",
     "shell.execute_reply": "2022-07-18T10:47:52.734581Z"
    },
    "papermill": {
     "duration": 2.261501,
     "end_time": "2022-07-18T10:47:52.739573",
     "exception": false,
     "start_time": "2022-07-18T10:47:50.478072",
     "status": "completed"
    },
    "tags": []
   },
   "outputs": [
    {
     "name": "stdout",
     "output_type": "stream",
     "text": [
      "\n",
      "Interceptions: 166 from 6000 (2.767%)\n",
      "Jaccard: 0.01666\n",
      "Dice: 0.03067\n",
      "Mean Average Precision @ 12: 0.009706\n",
      "\n",
      "Interceptions: 157 from 6000 (2.617%)\n",
      "Jaccard: 0.01542\n",
      "Dice: 0.02867\n",
      "Mean Average Precision @ 12: 0.008613\n",
      "\n",
      "Interceptions: 170 from 6000 (2.833%)\n",
      "Jaccard: 0.01694\n",
      "Dice: 0.03144\n",
      "Mean Average Precision @ 12: 0.01132\n",
      "\n",
      "Interceptions: 174 from 6000 (2.9%)\n",
      "Jaccard: 0.01731\n",
      "Dice: 0.03215\n",
      "Mean Average Precision @ 12: 0.01119\n",
      "\n",
      "Interceptions: 176 from 6000 (2.933%)\n",
      "Jaccard: 0.01761\n",
      "Dice: 0.03261\n",
      "Mean Average Precision @ 12: 0.01051\n",
      "\n",
      "Interceptions: 179 from 6000 (2.983%)\n",
      "Jaccard: 0.01793\n",
      "Dice: 0.03324\n",
      "Mean Average Precision @ 12: 0.0105\n",
      "\n",
      "Interceptions: 186 from 6000 (3.1%)\n",
      "Jaccard: 0.01897\n",
      "Dice: 0.03491\n",
      "Mean Average Precision @ 12: 0.01067\n",
      "\n",
      "Interceptions: 189 from 6000 (3.15%)\n",
      "Jaccard: 0.01894\n",
      "Dice: 0.03499\n",
      "Mean Average Precision @ 12: 0.01244\n",
      "\n",
      "Interceptions: 160 from 6000 (2.667%)\n",
      "Jaccard: 0.01615\n",
      "Dice: 0.02967\n",
      "Mean Average Precision @ 12: 0.01351\n",
      "\n",
      "Interceptions: 188 from 6000 (3.133%)\n",
      "Jaccard: 0.01899\n",
      "Dice: 0.03501\n",
      "Mean Average Precision @ 12: 0.01148\n",
      "\n",
      "Interceptions: 199 from 6000 (3.317%)\n",
      "Jaccard: 0.02005\n",
      "Dice: 0.03697\n",
      "Mean Average Precision @ 12: 0.01328\n"
     ]
    }
   ],
   "source": [
    "# Подбор наилучшего соотношения весов для источников кандидатов\n",
    "blends = []\n",
    "\n",
    "blends.append([mp_preds, nlp_preds, img_preds, lightfm_preds, lightfm_if_preds, lightfm_if_uf_preds])\n",
    "blends.append([mp_preds, nlp_preds, lightfm_preds, lightfm_if_preds, lightfm_if_uf_preds])\n",
    "blends.append([mp_preds, nlp_preds,  nlp_preds, lightfm_preds, lightfm_preds, lightfm_if_uf_preds])\n",
    "blends.append([ mp_preds, nlp_preds,  nlp_preds, lightfm_preds, lightfm_preds, lightfm_if_preds, lightfm_if_uf_preds])\n",
    "blends.append([ mp_preds,  mp_preds, nlp_preds,  nlp_preds, lightfm_preds, lightfm_preds, lightfm_if_preds, lightfm_if_uf_preds])\n",
    "blends.append([ mp_preds,  mp_preds, nlp_preds, img_preds,  nlp_preds, lightfm_preds, lightfm_preds, lightfm_if_preds, lightfm_if_uf_preds])\n",
    "blends.append([ mp_preds,  mp_preds, nlp_preds, nlp_preds, img_preds, lightfm_preds, lightfm_preds, lightfm_if_preds, lightfm_if_preds])\n",
    "blends.append([ mp_preds,  nlp_preds, nlp_preds, img_preds, lightfm_preds, lightfm_preds, lightfm_if_preds,])\n",
    "blends.append([ nlp_preds, nlp_preds, img_preds, lightfm_preds, lightfm_if_preds, lightfm_if_preds])\n",
    "blends.append([ mp_preds,  nlp_preds, nlp_preds, lightfm_preds, lightfm_if_preds, lightfm_if_preds])\n",
    "blends.append([ mp_preds,  nlp_preds, nlp_preds, img_preds, lightfm_preds, lightfm_if_preds, lightfm_if_preds])\n",
    "\n",
    "\n",
    "all_metrics = []\n",
    "for blend in blends:\n",
    "    print()\n",
    "    all_preds = [np.concatenate(item) for item in zip(*blend)]\n",
    "    all_preds_top12 = [pd.value_counts(item).head(12).index.values for item in all_preds]\n",
    "    cur_metrics = metrics(ground_truth_list, all_preds_top12)\n",
    "    all_metrics.append(cur_metrics)\n",
    "    \n",
    "#pd.value_counts(all_preds[3]).head(12) "
   ]
  },
  {
   "cell_type": "code",
   "execution_count": 23,
   "id": "9e239877",
   "metadata": {
    "execution": {
     "iopub.execute_input": "2022-07-18T10:47:52.763215Z",
     "iopub.status.busy": "2022-07-18T10:47:52.762852Z",
     "iopub.status.idle": "2022-07-18T10:47:52.908227Z",
     "shell.execute_reply": "2022-07-18T10:47:52.907012Z"
    },
    "papermill": {
     "duration": 0.160046,
     "end_time": "2022-07-18T10:47:52.910724",
     "exception": false,
     "start_time": "2022-07-18T10:47:52.750678",
     "status": "completed"
    },
    "tags": []
   },
   "outputs": [
    {
     "name": "stdout",
     "output_type": "stream",
     "text": [
      "Interceptions: 174 from 6000 (2.9%)\n",
      "Jaccard: 0.01754\n",
      "Dice: 0.03263\n",
      "Mean Average Precision @ 12: 0.006925\n"
     ]
    }
   ],
   "source": [
    "# Тест метода с сохранением ранжрования всех претендентов \n",
    "\n",
    "all_pred_list = []\n",
    "for user in zip(*[nlp_preds_12, lightfm_preds12]):\n",
    "    #print(user)\n",
    "    i = 0\n",
    "    user_preds = []\n",
    "    while(True):\n",
    "        cur_pred = [pred[i] for pred in user]\n",
    "        #print(cur_pred) \n",
    "        #print(len(cur_pred), len(np.unique(cur_pred))) \n",
    "        user_preds += list(np.unique(cur_pred))\n",
    "        #print(user_preds) \n",
    "        user_preds = list(np.unique(user_preds))\n",
    "        if len(user_preds) >= 12:\n",
    "            break\n",
    "        i+=1\n",
    "        \n",
    "    #print(user_preds)\n",
    "            \n",
    "    all_pred_list.append(user_preds)\n",
    "    \n",
    "cur_metrics = metrics(ground_truth_list, all_pred_list)"
   ]
  },
  {
   "cell_type": "code",
   "execution_count": 24,
   "id": "be10794d",
   "metadata": {
    "execution": {
     "iopub.execute_input": "2022-07-18T10:47:52.933676Z",
     "iopub.status.busy": "2022-07-18T10:47:52.933269Z",
     "iopub.status.idle": "2022-07-18T10:47:53.350463Z",
     "shell.execute_reply": "2022-07-18T10:47:53.349289Z"
    },
    "papermill": {
     "duration": 0.431535,
     "end_time": "2022-07-18T10:47:53.352864",
     "exception": false,
     "start_time": "2022-07-18T10:47:52.921329",
     "status": "completed"
    },
    "tags": []
   },
   "outputs": [
    {
     "name": "stdout",
     "output_type": "stream",
     "text": [
      "Interceptions: 166 from 6000 (2.767%)\n",
      "Jaccard: 0.01666\n",
      "Dice: 0.03067\n",
      "Mean Average Precision @ 12: 0.009706\n",
      "Interceptions: 199 from 6000 (3.317%)\n",
      "Jaccard: 0.02005\n",
      "Dice: 0.03697\n",
      "Mean Average Precision @ 12: 0.01328\n"
     ]
    }
   ],
   "source": [
    "# Данные для итоговой таблицы\n",
    "\n",
    "# Смесь в равных пропроциях\n",
    "first_mix = [mp_preds, nlp_preds, img_preds, lightfm_preds, lightfm_if_preds, lightfm_if_uf_preds]\n",
    "first_mix_preds = [np.concatenate(item) for item in zip(*first_mix)]\n",
    "first_mix_predss_top12 = [pd.value_counts(item).head(12).index.values for item in first_mix_preds]\n",
    "first_mix_predss_top12_metrics = metrics(ground_truth_list, first_mix_predss_top12)\n",
    "\n",
    "# Лучший бленд \n",
    "# Most Popular + 2 x NLP Similarity + CV Similarity + LIGHTFM + 2 x LIGHTFM+ItemFeatures \n",
    "best_mix = [mp_preds,  nlp_preds, nlp_preds, img_preds, lightfm_preds, lightfm_if_preds, lightfm_if_preds]\n",
    "best_mix_preds = [np.concatenate(item) for item in zip(*best_mix)]\n",
    "best_mix_predss_top12 = [pd.value_counts(item).head(12).index.values for item in best_mix_preds]\n",
    "best_mix_predss_top12_metrics = metrics(ground_truth_list, best_mix_predss_top12)"
   ]
  },
  {
   "cell_type": "code",
   "execution_count": 25,
   "id": "fae2127b",
   "metadata": {
    "execution": {
     "iopub.execute_input": "2022-07-18T10:47:53.376215Z",
     "iopub.status.busy": "2022-07-18T10:47:53.375850Z",
     "iopub.status.idle": "2022-07-18T10:47:53.390729Z",
     "shell.execute_reply": "2022-07-18T10:47:53.389911Z"
    },
    "papermill": {
     "duration": 0.029205,
     "end_time": "2022-07-18T10:47:53.392969",
     "exception": false,
     "start_time": "2022-07-18T10:47:53.363764",
     "status": "completed"
    },
    "tags": []
   },
   "outputs": [
    {
     "data": {
      "text/html": [
       "<div>\n",
       "<style scoped>\n",
       "    .dataframe tbody tr th:only-of-type {\n",
       "        vertical-align: middle;\n",
       "    }\n",
       "\n",
       "    .dataframe tbody tr th {\n",
       "        vertical-align: top;\n",
       "    }\n",
       "\n",
       "    .dataframe thead th {\n",
       "        text-align: right;\n",
       "    }\n",
       "</style>\n",
       "<table border=\"1\" class=\"dataframe\">\n",
       "  <thead>\n",
       "    <tr style=\"text-align: right;\">\n",
       "      <th></th>\n",
       "      <th>True Predicted</th>\n",
       "      <th>Recall %</th>\n",
       "      <th>Jaccard</th>\n",
       "      <th>Dice</th>\n",
       "      <th>MAP@12</th>\n",
       "    </tr>\n",
       "  </thead>\n",
       "  <tbody>\n",
       "    <tr>\n",
       "      <th>Top 12 most popular</th>\n",
       "      <td>18</td>\n",
       "      <td>0.300000</td>\n",
       "      <td>0.001771</td>\n",
       "      <td>0.003336</td>\n",
       "      <td>0.000484</td>\n",
       "    </tr>\n",
       "    <tr>\n",
       "      <th>Description similarity first 12</th>\n",
       "      <td>136</td>\n",
       "      <td>2.266667</td>\n",
       "      <td>0.014106</td>\n",
       "      <td>0.026276</td>\n",
       "      <td>0.006861</td>\n",
       "    </tr>\n",
       "    <tr>\n",
       "      <th>LightFM 12</th>\n",
       "      <td>163</td>\n",
       "      <td>2.716667</td>\n",
       "      <td>0.016354</td>\n",
       "      <td>0.030090</td>\n",
       "      <td>0.010527</td>\n",
       "    </tr>\n",
       "    <tr>\n",
       "      <th>LightFM+ItemF 12</th>\n",
       "      <td>125</td>\n",
       "      <td>2.083333</td>\n",
       "      <td>0.012428</td>\n",
       "      <td>0.022835</td>\n",
       "      <td>0.008217</td>\n",
       "    </tr>\n",
       "    <tr>\n",
       "      <th>LightFM+ItemF+UserF 12</th>\n",
       "      <td>106</td>\n",
       "      <td>1.766667</td>\n",
       "      <td>0.010321</td>\n",
       "      <td>0.019365</td>\n",
       "      <td>0.006615</td>\n",
       "    </tr>\n",
       "    <tr>\n",
       "      <th>Image similarity first 12</th>\n",
       "      <td>8</td>\n",
       "      <td>0.133333</td>\n",
       "      <td>0.000929</td>\n",
       "      <td>0.001707</td>\n",
       "      <td>0.000646</td>\n",
       "    </tr>\n",
       "    <tr>\n",
       "      <th>Микс с равынми весами</th>\n",
       "      <td>166</td>\n",
       "      <td>2.766667</td>\n",
       "      <td>0.016660</td>\n",
       "      <td>0.030668</td>\n",
       "      <td>0.009706</td>\n",
       "    </tr>\n",
       "    <tr>\n",
       "      <th>Лучшее соотношение весов</th>\n",
       "      <td>199</td>\n",
       "      <td>3.316667</td>\n",
       "      <td>0.020050</td>\n",
       "      <td>0.036969</td>\n",
       "      <td>0.013281</td>\n",
       "    </tr>\n",
       "  </tbody>\n",
       "</table>\n",
       "</div>"
      ],
      "text/plain": [
       "                                 True Predicted  Recall %   Jaccard      Dice  \\\n",
       "Top 12 most popular                          18  0.300000  0.001771  0.003336   \n",
       "Description similarity first 12             136  2.266667  0.014106  0.026276   \n",
       "LightFM 12                                  163  2.716667  0.016354  0.030090   \n",
       "LightFM+ItemF 12                            125  2.083333  0.012428  0.022835   \n",
       "LightFM+ItemF+UserF 12                      106  1.766667  0.010321  0.019365   \n",
       "Image similarity first 12                     8  0.133333  0.000929  0.001707   \n",
       "Микс с равынми весами                       166  2.766667  0.016660  0.030668   \n",
       "Лучшее соотношение весов                    199  3.316667  0.020050  0.036969   \n",
       "\n",
       "                                   MAP@12  \n",
       "Top 12 most popular              0.000484  \n",
       "Description similarity first 12  0.006861  \n",
       "LightFM 12                       0.010527  \n",
       "LightFM+ItemF 12                 0.008217  \n",
       "LightFM+ItemF+UserF 12           0.006615  \n",
       "Image similarity first 12        0.000646  \n",
       "Микс с равынми весами            0.009706  \n",
       "Лучшее соотношение весов         0.013281  "
      ]
     },
     "execution_count": 25,
     "metadata": {},
     "output_type": "execute_result"
    }
   ],
   "source": [
    "pd.DataFrame([mp12_metrics,\n",
    "              nlp12_metrics,\n",
    "              lfm12_metrics,\n",
    "              lfm12_if_metrics,\n",
    "              lfm12_if_uf_metrics,\n",
    "              img12_metrics,\n",
    "              first_mix_predss_top12_metrics,\n",
    "              best_mix_predss_top12_metrics\n",
    "              ],\n",
    "             index = [\"Top 12 most popular\",\n",
    "                      \"Description similarity first 12\",\n",
    "                      \"LightFM 12\",\n",
    "                      \"LightFM+ItemF 12\",\n",
    "                      \"LightFM+ItemF+UserF 12\",\n",
    "                      \"Image similarity first 12\",\n",
    "                      \"Микс с равынми весами\",\n",
    "                      \"Лучшее соотношение весов\"\n",
    "                      ],\n",
    "            columns = [\"True Predicted\", \"Recall %\", \"Jaccard\", \"Dice\", \"MAP@12\"])"
   ]
  }
 ],
 "metadata": {
  "kernelspec": {
   "display_name": "Python 3",
   "language": "python",
   "name": "python3"
  },
  "language_info": {
   "codemirror_mode": {
    "name": "ipython",
    "version": 3
   },
   "file_extension": ".py",
   "mimetype": "text/x-python",
   "name": "python",
   "nbconvert_exporter": "python",
   "pygments_lexer": "ipython3",
   "version": "3.7.12"
  },
  "papermill": {
   "default_parameters": {},
   "duration": 91.588763,
   "end_time": "2022-07-18T10:47:54.929109",
   "environment_variables": {},
   "exception": null,
   "input_path": "__notebook__.ipynb",
   "output_path": "__notebook__.ipynb",
   "parameters": {},
   "start_time": "2022-07-18T10:46:23.340346",
   "version": "2.3.4"
  }
 },
 "nbformat": 4,
 "nbformat_minor": 5
}
