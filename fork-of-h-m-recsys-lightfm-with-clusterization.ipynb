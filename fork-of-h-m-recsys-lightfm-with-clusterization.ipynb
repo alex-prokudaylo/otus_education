{
 "cells": [
  {
   "cell_type": "code",
   "execution_count": 1,
   "id": "fca076bb",
   "metadata": {
    "_cell_guid": "b1076dfc-b9ad-4769-8c92-a6c4dae69d19",
    "_uuid": "8f2839f25d086af736a60e9eeb907d3b93b6e0e5",
    "execution": {
     "iopub.execute_input": "2022-07-14T17:01:09.809017Z",
     "iopub.status.busy": "2022-07-14T17:01:09.808283Z",
     "iopub.status.idle": "2022-07-14T17:01:11.273760Z",
     "shell.execute_reply": "2022-07-14T17:01:11.272565Z"
    },
    "papermill": {
     "duration": 1.489735,
     "end_time": "2022-07-14T17:01:11.276848",
     "exception": false,
     "start_time": "2022-07-14T17:01:09.787113",
     "status": "completed"
    },
    "tags": []
   },
   "outputs": [],
   "source": [
    "import numpy as np # linear algebra\n",
    "import pandas as pd # data processing, CSV file I/O (e.g. pd.read_csv)\n",
    "import matplotlib.pyplot as plt # for plotting the data \n",
    "import seaborn as sns # Advanced data plotting on top of matplotlib\n",
    "import os\n",
    "\n",
    "\n",
    "from sklearn.model_selection import train_test_split\n",
    "from sklearn.metrics import mean_squared_error\n",
    "from sklearn.metrics import classification_report\n",
    "from sklearn.metrics import f1_score\n",
    "from sklearn.metrics import accuracy_score\n",
    "\n",
    "import cv2\n",
    "from PIL import Image\n"
   ]
  },
  {
   "cell_type": "code",
   "execution_count": 2,
   "id": "b0949315",
   "metadata": {
    "execution": {
     "iopub.execute_input": "2022-07-14T17:01:11.314242Z",
     "iopub.status.busy": "2022-07-14T17:01:11.313854Z",
     "iopub.status.idle": "2022-07-14T17:01:11.318616Z",
     "shell.execute_reply": "2022-07-14T17:01:11.317470Z"
    },
    "papermill": {
     "duration": 0.025997,
     "end_time": "2022-07-14T17:01:11.320773",
     "exception": false,
     "start_time": "2022-07-14T17:01:11.294776",
     "status": "completed"
    },
    "tags": []
   },
   "outputs": [],
   "source": [
    "#for dirname, _, filenames in os.walk('/kaggle/input'):\n",
    "#    for filename in filenames:\n",
    "#        print(os.path.join(dirname, filename))\n",
    "#/kaggle/input/h-and-m-personalized-fashion-recommendations/sample_submission.csv\n",
    "#/kaggle/input/h-and-m-personalized-fashion-recommendations/articles.csv\n",
    "#/kaggle/input/h-and-m-personalized-fashion-recommendations/transactions_train.csv\n",
    "#/kaggle/input/h-and-m-personalized-fashion-recommendations/customers.csv    "
   ]
  },
  {
   "cell_type": "markdown",
   "id": "c1b6fc7b",
   "metadata": {
    "papermill": {
     "duration": 0.018736,
     "end_time": "2022-07-14T17:01:11.357158",
     "exception": false,
     "start_time": "2022-07-14T17:01:11.338422",
     "status": "completed"
    },
    "tags": []
   },
   "source": [
    "**About data**\n",
    "\n",
    "*images* - a folder of images corresponding to each article_id; images are placed in subfolders starting with the first three digits of the article_id; note, not all article_id values have a corresponding image.\n",
    "\n",
    "*articles.csv* - detailed metadata for each article_id available for purchase\n",
    "\n",
    "*customers.csv* - metadata for each customer_id in dataset\n",
    "\n",
    "*sample_submission.csv* - a sample submission file in the correct format\n",
    "\n",
    "*transactions_train.csv* - the training data, consisting of the purchases each customer for each date, as well as additional information. Duplicate rows correspond to multiple purchases of the same item. Your task is to predict the article_ids each customer will purchase during the 7-day period immediately after the training data period.\n",
    "\n",
    "*target*: Make predictions for all customer_id values found in the sample submission. All customers who made purchases during the test period are scored, regardless of whether they had purchase history in the training data.\n",
    "\n",
    "Submissions are evaluated according to the Mean Average Precision @ 12 (MAP@12).\n",
    "For each customer_id observed in the training data, you may predict up to 12 labels for the article_id, which is the predicted items a customer will buy in the next 7-day period after the training time period. "
   ]
  },
  {
   "cell_type": "markdown",
   "id": "888e0840",
   "metadata": {
    "papermill": {
     "duration": 0.017799,
     "end_time": "2022-07-14T17:01:11.393029",
     "exception": false,
     "start_time": "2022-07-14T17:01:11.375230",
     "status": "completed"
    },
    "tags": []
   },
   "source": [
    "# EDA"
   ]
  },
  {
   "cell_type": "markdown",
   "id": "6606ed8f",
   "metadata": {
    "papermill": {
     "duration": 0.016787,
     "end_time": "2022-07-14T17:01:11.427172",
     "exception": false,
     "start_time": "2022-07-14T17:01:11.410385",
     "status": "completed"
    },
    "tags": []
   },
   "source": [
    "**Transactions data**"
   ]
  },
  {
   "cell_type": "code",
   "execution_count": 3,
   "id": "b663ea33",
   "metadata": {
    "execution": {
     "iopub.execute_input": "2022-07-14T17:01:11.464482Z",
     "iopub.status.busy": "2022-07-14T17:01:11.463781Z",
     "iopub.status.idle": "2022-07-14T17:02:18.960984Z",
     "shell.execute_reply": "2022-07-14T17:02:18.959737Z"
    },
    "papermill": {
     "duration": 67.538723,
     "end_time": "2022-07-14T17:02:18.983948",
     "exception": false,
     "start_time": "2022-07-14T17:01:11.445225",
     "status": "completed"
    },
    "tags": []
   },
   "outputs": [
    {
     "name": "stdout",
     "output_type": "stream",
     "text": [
      "(31788324, 5)\n"
     ]
    },
    {
     "data": {
      "text/html": [
       "<div>\n",
       "<style scoped>\n",
       "    .dataframe tbody tr th:only-of-type {\n",
       "        vertical-align: middle;\n",
       "    }\n",
       "\n",
       "    .dataframe tbody tr th {\n",
       "        vertical-align: top;\n",
       "    }\n",
       "\n",
       "    .dataframe thead th {\n",
       "        text-align: right;\n",
       "    }\n",
       "</style>\n",
       "<table border=\"1\" class=\"dataframe\">\n",
       "  <thead>\n",
       "    <tr style=\"text-align: right;\">\n",
       "      <th></th>\n",
       "      <th>t_dat</th>\n",
       "      <th>customer_id</th>\n",
       "      <th>article_id</th>\n",
       "      <th>price</th>\n",
       "      <th>sales_channel_id</th>\n",
       "    </tr>\n",
       "  </thead>\n",
       "  <tbody>\n",
       "    <tr>\n",
       "      <th>0</th>\n",
       "      <td>2018-09-20</td>\n",
       "      <td>000058a12d5b43e67d225668fa1f8d618c13dc232df0ca...</td>\n",
       "      <td>663713001</td>\n",
       "      <td>0.050831</td>\n",
       "      <td>2</td>\n",
       "    </tr>\n",
       "    <tr>\n",
       "      <th>1</th>\n",
       "      <td>2018-09-20</td>\n",
       "      <td>000058a12d5b43e67d225668fa1f8d618c13dc232df0ca...</td>\n",
       "      <td>541518023</td>\n",
       "      <td>0.030492</td>\n",
       "      <td>2</td>\n",
       "    </tr>\n",
       "    <tr>\n",
       "      <th>2</th>\n",
       "      <td>2018-09-20</td>\n",
       "      <td>00007d2de826758b65a93dd24ce629ed66842531df6699...</td>\n",
       "      <td>505221004</td>\n",
       "      <td>0.015237</td>\n",
       "      <td>2</td>\n",
       "    </tr>\n",
       "    <tr>\n",
       "      <th>3</th>\n",
       "      <td>2018-09-20</td>\n",
       "      <td>00007d2de826758b65a93dd24ce629ed66842531df6699...</td>\n",
       "      <td>685687003</td>\n",
       "      <td>0.016932</td>\n",
       "      <td>2</td>\n",
       "    </tr>\n",
       "    <tr>\n",
       "      <th>4</th>\n",
       "      <td>2018-09-20</td>\n",
       "      <td>00007d2de826758b65a93dd24ce629ed66842531df6699...</td>\n",
       "      <td>685687004</td>\n",
       "      <td>0.016932</td>\n",
       "      <td>2</td>\n",
       "    </tr>\n",
       "  </tbody>\n",
       "</table>\n",
       "</div>"
      ],
      "text/plain": [
       "        t_dat                                        customer_id  article_id  \\\n",
       "0  2018-09-20  000058a12d5b43e67d225668fa1f8d618c13dc232df0ca...   663713001   \n",
       "1  2018-09-20  000058a12d5b43e67d225668fa1f8d618c13dc232df0ca...   541518023   \n",
       "2  2018-09-20  00007d2de826758b65a93dd24ce629ed66842531df6699...   505221004   \n",
       "3  2018-09-20  00007d2de826758b65a93dd24ce629ed66842531df6699...   685687003   \n",
       "4  2018-09-20  00007d2de826758b65a93dd24ce629ed66842531df6699...   685687004   \n",
       "\n",
       "      price  sales_channel_id  \n",
       "0  0.050831                 2  \n",
       "1  0.030492                 2  \n",
       "2  0.015237                 2  \n",
       "3  0.016932                 2  \n",
       "4  0.016932                 2  "
      ]
     },
     "execution_count": 3,
     "metadata": {},
     "output_type": "execute_result"
    }
   ],
   "source": [
    "transactions_df = pd.read_csv(\"/kaggle/input/h-and-m-personalized-fashion-recommendations/transactions_train.csv\")#, nrow=10000)\n",
    "print(transactions_df.shape)\n",
    "transactions_df.head()"
   ]
  },
  {
   "cell_type": "code",
   "execution_count": 4,
   "id": "37da1382",
   "metadata": {
    "execution": {
     "iopub.execute_input": "2022-07-14T17:02:19.022181Z",
     "iopub.status.busy": "2022-07-14T17:02:19.021813Z",
     "iopub.status.idle": "2022-07-14T17:02:27.239567Z",
     "shell.execute_reply": "2022-07-14T17:02:27.238257Z"
    },
    "papermill": {
     "duration": 8.239909,
     "end_time": "2022-07-14T17:02:27.242030",
     "exception": false,
     "start_time": "2022-07-14T17:02:19.002121",
     "status": "completed"
    },
    "tags": []
   },
   "outputs": [
    {
     "name": "stdout",
     "output_type": "stream",
     "text": [
      "1362281\n",
      "104547\n"
     ]
    }
   ],
   "source": [
    "# Number of unique meanings  of customers and articles\n",
    "print(len(transactions_df.customer_id.unique()))\n",
    "print(len(transactions_df.article_id.unique()))"
   ]
  },
  {
   "cell_type": "code",
   "execution_count": 5,
   "id": "fc21597b",
   "metadata": {
    "execution": {
     "iopub.execute_input": "2022-07-14T17:02:27.279297Z",
     "iopub.status.busy": "2022-07-14T17:02:27.278935Z",
     "iopub.status.idle": "2022-07-14T17:02:27.288816Z",
     "shell.execute_reply": "2022-07-14T17:02:27.287811Z"
    },
    "papermill": {
     "duration": 0.031048,
     "end_time": "2022-07-14T17:02:27.290930",
     "exception": false,
     "start_time": "2022-07-14T17:02:27.259882",
     "status": "completed"
    },
    "tags": []
   },
   "outputs": [
    {
     "data": {
      "text/plain": [
       "(200000, 5)"
      ]
     },
     "execution_count": 5,
     "metadata": {},
     "output_type": "execute_result"
    }
   ],
   "source": [
    "# let's takr peace of data\n",
    "transactions_df_sample = transactions_df.iloc[:200000,:].copy()\n",
    "transactions_df_sample.shape"
   ]
  },
  {
   "cell_type": "code",
   "execution_count": 6,
   "id": "c23fdae0",
   "metadata": {
    "execution": {
     "iopub.execute_input": "2022-07-14T17:02:27.328155Z",
     "iopub.status.busy": "2022-07-14T17:02:27.327786Z",
     "iopub.status.idle": "2022-07-14T17:02:27.376274Z",
     "shell.execute_reply": "2022-07-14T17:02:27.375156Z"
    },
    "papermill": {
     "duration": 0.069783,
     "end_time": "2022-07-14T17:02:27.378483",
     "exception": false,
     "start_time": "2022-07-14T17:02:27.308700",
     "status": "completed"
    },
    "tags": []
   },
   "outputs": [
    {
     "name": "stdout",
     "output_type": "stream",
     "text": [
      "51527\n",
      "19519\n"
     ]
    }
   ],
   "source": [
    "# Number of unique meanings  of customers and articles\n",
    "print(len(transactions_df_sample.customer_id.unique()))\n",
    "print(len(transactions_df_sample.article_id.unique()))"
   ]
  },
  {
   "cell_type": "code",
   "execution_count": 7,
   "id": "86b8d1a5",
   "metadata": {
    "execution": {
     "iopub.execute_input": "2022-07-14T17:02:27.415979Z",
     "iopub.status.busy": "2022-07-14T17:02:27.415377Z",
     "iopub.status.idle": "2022-07-14T17:02:27.656590Z",
     "shell.execute_reply": "2022-07-14T17:02:27.655482Z"
    },
    "papermill": {
     "duration": 0.262779,
     "end_time": "2022-07-14T17:02:27.658934",
     "exception": false,
     "start_time": "2022-07-14T17:02:27.396155",
     "status": "completed"
    },
    "tags": []
   },
   "outputs": [
    {
     "name": "stdout",
     "output_type": "stream",
     "text": [
      "3.881460205329245\n"
     ]
    },
    {
     "data": {
      "text/plain": [
       "1      13984\n",
       "2      11085\n",
       "3       7350\n",
       "4       5118\n",
       "5       3313\n",
       "6       2589\n",
       "7       1775\n",
       "8       1452\n",
       "9       1050\n",
       "10       787\n",
       "11       602\n",
       "12       445\n",
       "13       365\n",
       "14       283\n",
       "15       237\n",
       "16       179\n",
       "17       144\n",
       "19       117\n",
       "18       114\n",
       "20        94\n",
       "21        60\n",
       "24        55\n",
       "22        48\n",
       "23        42\n",
       "25        34\n",
       "26        34\n",
       "28        27\n",
       "27        20\n",
       "31        17\n",
       "29        16\n",
       "32        13\n",
       "30        11\n",
       "33        10\n",
       "37         8\n",
       "36         7\n",
       "34         7\n",
       "39         5\n",
       "35         4\n",
       "40         4\n",
       "52         3\n",
       "38         2\n",
       "48         2\n",
       "42         2\n",
       "46         1\n",
       "103        1\n",
       "55         1\n",
       "80         1\n",
       "43         1\n",
       "51         1\n",
       "44         1\n",
       "54         1\n",
       "45         1\n",
       "41         1\n",
       "100        1\n",
       "47         1\n",
       "72         1\n",
       "Name: article_id, dtype: int64"
      ]
     },
     "execution_count": 7,
     "metadata": {},
     "output_type": "execute_result"
    }
   ],
   "source": [
    "print(transactions_df_sample.groupby(\"customer_id\")[\"article_id\"].count().mean())\n",
    "transactions_df_sample.groupby(\"customer_id\")[\"article_id\"].count().value_counts()"
   ]
  },
  {
   "cell_type": "code",
   "execution_count": 8,
   "id": "176e8403",
   "metadata": {
    "execution": {
     "iopub.execute_input": "2022-07-14T17:02:27.696570Z",
     "iopub.status.busy": "2022-07-14T17:02:27.696187Z",
     "iopub.status.idle": "2022-07-14T17:02:27.770884Z",
     "shell.execute_reply": "2022-07-14T17:02:27.769666Z"
    },
    "papermill": {
     "duration": 0.096376,
     "end_time": "2022-07-14T17:02:27.773312",
     "exception": false,
     "start_time": "2022-07-14T17:02:27.676936",
     "status": "completed"
    },
    "tags": []
   },
   "outputs": [
    {
     "name": "stdout",
     "output_type": "stream",
     "text": [
      "92.07075471698113\n"
     ]
    },
    {
     "data": {
      "text/plain": [
       "1      5114\n",
       "2      2743\n",
       "3      1901\n",
       "4      1372\n",
       "5      1069\n",
       "       ... \n",
       "163       1\n",
       "143       1\n",
       "392       1\n",
       "189       1\n",
       "169       1\n",
       "Name: customer_id, Length: 212, dtype: int64"
      ]
     },
     "execution_count": 8,
     "metadata": {},
     "output_type": "execute_result"
    }
   ],
   "source": [
    "print(transactions_df_sample.groupby(\"article_id\")[\"customer_id\"].count().value_counts().mean())\n",
    "transactions_df_sample.groupby(\"article_id\")[\"customer_id\"].count().value_counts()"
   ]
  },
  {
   "cell_type": "markdown",
   "id": "9edc1e52",
   "metadata": {
    "papermill": {
     "duration": 0.019294,
     "end_time": "2022-07-14T17:02:27.811958",
     "exception": false,
     "start_time": "2022-07-14T17:02:27.792664",
     "status": "completed"
    },
    "tags": []
   },
   "source": [
    "**Exclude hiden transactions**"
   ]
  },
  {
   "cell_type": "code",
   "execution_count": 9,
   "id": "4b1c92b4",
   "metadata": {
    "execution": {
     "iopub.execute_input": "2022-07-14T17:02:27.852640Z",
     "iopub.status.busy": "2022-07-14T17:02:27.851674Z",
     "iopub.status.idle": "2022-07-14T17:02:27.912687Z",
     "shell.execute_reply": "2022-07-14T17:02:27.911611Z"
    },
    "papermill": {
     "duration": 0.083901,
     "end_time": "2022-07-14T17:02:27.914819",
     "exception": false,
     "start_time": "2022-07-14T17:02:27.830918",
     "status": "completed"
    },
    "tags": []
   },
   "outputs": [
    {
     "data": {
      "text/html": [
       "<div>\n",
       "<style scoped>\n",
       "    .dataframe tbody tr th:only-of-type {\n",
       "        vertical-align: middle;\n",
       "    }\n",
       "\n",
       "    .dataframe tbody tr th {\n",
       "        vertical-align: top;\n",
       "    }\n",
       "\n",
       "    .dataframe thead th {\n",
       "        text-align: right;\n",
       "    }\n",
       "</style>\n",
       "<table border=\"1\" class=\"dataframe\">\n",
       "  <thead>\n",
       "    <tr style=\"text-align: right;\">\n",
       "      <th></th>\n",
       "      <th>customer_id</th>\n",
       "      <th>t_dat</th>\n",
       "      <th>article_id</th>\n",
       "      <th>price</th>\n",
       "      <th>sales_channel_id</th>\n",
       "    </tr>\n",
       "  </thead>\n",
       "  <tbody>\n",
       "    <tr>\n",
       "      <th>0</th>\n",
       "      <td>000aa7f0dc06cd7174389e76c9e132a67860c5f65f9706...</td>\n",
       "      <td>2018-09-20</td>\n",
       "      <td>640639001</td>\n",
       "      <td>0.010153</td>\n",
       "      <td>2</td>\n",
       "    </tr>\n",
       "    <tr>\n",
       "      <th>1</th>\n",
       "      <td>000aa7f0dc06cd7174389e76c9e132a67860c5f65f9706...</td>\n",
       "      <td>2018-09-20</td>\n",
       "      <td>640639001</td>\n",
       "      <td>0.010153</td>\n",
       "      <td>2</td>\n",
       "    </tr>\n",
       "    <tr>\n",
       "      <th>2</th>\n",
       "      <td>000aa7f0dc06cd7174389e76c9e132a67860c5f65f9706...</td>\n",
       "      <td>2018-09-20</td>\n",
       "      <td>664421002</td>\n",
       "      <td>0.016932</td>\n",
       "      <td>2</td>\n",
       "    </tr>\n",
       "    <tr>\n",
       "      <th>3</th>\n",
       "      <td>000aa7f0dc06cd7174389e76c9e132a67860c5f65f9706...</td>\n",
       "      <td>2018-09-20</td>\n",
       "      <td>664421002</td>\n",
       "      <td>0.016932</td>\n",
       "      <td>2</td>\n",
       "    </tr>\n",
       "    <tr>\n",
       "      <th>4</th>\n",
       "      <td>000aa7f0dc06cd7174389e76c9e132a67860c5f65f9706...</td>\n",
       "      <td>2018-09-20</td>\n",
       "      <td>680912009</td>\n",
       "      <td>0.011847</td>\n",
       "      <td>2</td>\n",
       "    </tr>\n",
       "  </tbody>\n",
       "</table>\n",
       "</div>"
      ],
      "text/plain": [
       "                                         customer_id       t_dat  article_id  \\\n",
       "0  000aa7f0dc06cd7174389e76c9e132a67860c5f65f9706...  2018-09-20   640639001   \n",
       "1  000aa7f0dc06cd7174389e76c9e132a67860c5f65f9706...  2018-09-20   640639001   \n",
       "2  000aa7f0dc06cd7174389e76c9e132a67860c5f65f9706...  2018-09-20   664421002   \n",
       "3  000aa7f0dc06cd7174389e76c9e132a67860c5f65f9706...  2018-09-20   664421002   \n",
       "4  000aa7f0dc06cd7174389e76c9e132a67860c5f65f9706...  2018-09-20   680912009   \n",
       "\n",
       "      price  sales_channel_id  \n",
       "0  0.010153                 2  \n",
       "1  0.010153                 2  \n",
       "2  0.016932                 2  \n",
       "3  0.016932                 2  \n",
       "4  0.011847                 2  "
      ]
     },
     "execution_count": 9,
     "metadata": {},
     "output_type": "execute_result"
    }
   ],
   "source": [
    "customer_test_df = pd.read_csv(\"../input/fork-of-h-m-recsys-eda-and-split/customer_test.csv\")\n",
    "customer_test_df.head()\n",
    "\n",
    "customer_test_df_open_transactions = pd.read_csv(\"../input/fork-of-h-m-recsys-eda-and-split/customer_test_df_open_transactions.csv\", index_col=0)\n",
    "customer_test_df_hiden_transactions = pd.read_csv(\"../input/fork-of-h-m-recsys-eda-and-split/customer_test_df_hiden_transactions.csv\", index_col=0)\n",
    "\n",
    "customer_test_df_hiden_transactions.head()"
   ]
  },
  {
   "cell_type": "code",
   "execution_count": 10,
   "id": "f48a773a",
   "metadata": {
    "execution": {
     "iopub.execute_input": "2022-07-14T17:02:27.954287Z",
     "iopub.status.busy": "2022-07-14T17:02:27.953880Z",
     "iopub.status.idle": "2022-07-14T17:02:27.966686Z",
     "shell.execute_reply": "2022-07-14T17:02:27.965622Z"
    },
    "papermill": {
     "duration": 0.03504,
     "end_time": "2022-07-14T17:02:27.968784",
     "exception": false,
     "start_time": "2022-07-14T17:02:27.933744",
     "status": "completed"
    },
    "tags": []
   },
   "outputs": [
    {
     "data": {
      "text/html": [
       "<div>\n",
       "<style scoped>\n",
       "    .dataframe tbody tr th:only-of-type {\n",
       "        vertical-align: middle;\n",
       "    }\n",
       "\n",
       "    .dataframe tbody tr th {\n",
       "        vertical-align: top;\n",
       "    }\n",
       "\n",
       "    .dataframe thead th {\n",
       "        text-align: right;\n",
       "    }\n",
       "</style>\n",
       "<table border=\"1\" class=\"dataframe\">\n",
       "  <thead>\n",
       "    <tr style=\"text-align: right;\">\n",
       "      <th></th>\n",
       "      <th>customer_id</th>\n",
       "      <th>article_id</th>\n",
       "    </tr>\n",
       "  </thead>\n",
       "  <tbody>\n",
       "    <tr>\n",
       "      <th>0</th>\n",
       "      <td>000aa7f0dc06cd7174389e76c9e132a67860c5f65f9706...</td>\n",
       "      <td>30</td>\n",
       "    </tr>\n",
       "    <tr>\n",
       "      <th>1</th>\n",
       "      <td>001521e8394eb81ba43ab5b84ae7e756d51ac813be212a...</td>\n",
       "      <td>34</td>\n",
       "    </tr>\n",
       "    <tr>\n",
       "      <th>2</th>\n",
       "      <td>00294f5274dbc84408d60fc661860d385c2901dccca8c4...</td>\n",
       "      <td>48</td>\n",
       "    </tr>\n",
       "    <tr>\n",
       "      <th>3</th>\n",
       "      <td>002975c14a1aecac230ebf40c314fcad04ee3140e9bef2...</td>\n",
       "      <td>32</td>\n",
       "    </tr>\n",
       "    <tr>\n",
       "      <th>4</th>\n",
       "      <td>002e0bc901590e07341001b2358bded94031771537c24b...</td>\n",
       "      <td>21</td>\n",
       "    </tr>\n",
       "    <tr>\n",
       "      <th>...</th>\n",
       "      <td>...</td>\n",
       "      <td>...</td>\n",
       "    </tr>\n",
       "    <tr>\n",
       "      <th>495</th>\n",
       "      <td>66d2a38564a9e06648fc37a0ec21bde01ac83e5e097c53...</td>\n",
       "      <td>24</td>\n",
       "    </tr>\n",
       "    <tr>\n",
       "      <th>496</th>\n",
       "      <td>66e6f5381c89f34bd153c33b6620255ff3edb187e43921...</td>\n",
       "      <td>16</td>\n",
       "    </tr>\n",
       "    <tr>\n",
       "      <th>497</th>\n",
       "      <td>66fa67a372ff71bba24308b3650549eb895791545b50a3...</td>\n",
       "      <td>16</td>\n",
       "    </tr>\n",
       "    <tr>\n",
       "      <th>498</th>\n",
       "      <td>67a84660743ba09cc4784425465efd354b153cd1fb0d34...</td>\n",
       "      <td>17</td>\n",
       "    </tr>\n",
       "    <tr>\n",
       "      <th>499</th>\n",
       "      <td>67c3ffa39a4fadb2bc4ff6b691b3fa26d7915131949b82...</td>\n",
       "      <td>27</td>\n",
       "    </tr>\n",
       "  </tbody>\n",
       "</table>\n",
       "<p>500 rows × 2 columns</p>\n",
       "</div>"
      ],
      "text/plain": [
       "                                           customer_id  article_id\n",
       "0    000aa7f0dc06cd7174389e76c9e132a67860c5f65f9706...          30\n",
       "1    001521e8394eb81ba43ab5b84ae7e756d51ac813be212a...          34\n",
       "2    00294f5274dbc84408d60fc661860d385c2901dccca8c4...          48\n",
       "3    002975c14a1aecac230ebf40c314fcad04ee3140e9bef2...          32\n",
       "4    002e0bc901590e07341001b2358bded94031771537c24b...          21\n",
       "..                                                 ...         ...\n",
       "495  66d2a38564a9e06648fc37a0ec21bde01ac83e5e097c53...          24\n",
       "496  66e6f5381c89f34bd153c33b6620255ff3edb187e43921...          16\n",
       "497  66fa67a372ff71bba24308b3650549eb895791545b50a3...          16\n",
       "498  67a84660743ba09cc4784425465efd354b153cd1fb0d34...          17\n",
       "499  67c3ffa39a4fadb2bc4ff6b691b3fa26d7915131949b82...          27\n",
       "\n",
       "[500 rows x 2 columns]"
      ]
     },
     "execution_count": 10,
     "metadata": {},
     "output_type": "execute_result"
    }
   ],
   "source": [
    "customer_test_df"
   ]
  },
  {
   "cell_type": "code",
   "execution_count": 11,
   "id": "3b4d046c",
   "metadata": {
    "execution": {
     "iopub.execute_input": "2022-07-14T17:02:28.010314Z",
     "iopub.status.busy": "2022-07-14T17:02:28.009632Z",
     "iopub.status.idle": "2022-07-14T17:02:50.852348Z",
     "shell.execute_reply": "2022-07-14T17:02:50.851517Z"
    },
    "papermill": {
     "duration": 22.866543,
     "end_time": "2022-07-14T17:02:50.855089",
     "exception": false,
     "start_time": "2022-07-14T17:02:27.988546",
     "status": "completed"
    },
    "tags": []
   },
   "outputs": [
    {
     "name": "stdout",
     "output_type": "stream",
     "text": [
      "(200000, 5)\n",
      "(188883, 5)\n"
     ]
    }
   ],
   "source": [
    "print(transactions_df_sample.shape)\n",
    "for customer in customer_test_df.customer_id.values:\n",
    "    transactions_df_sample.drop(transactions_df_sample[transactions_df_sample.customer_id == customer].index, inplace=True)\n",
    "print(transactions_df_sample.shape)\n"
   ]
  },
  {
   "cell_type": "code",
   "execution_count": 12,
   "id": "716540de",
   "metadata": {
    "execution": {
     "iopub.execute_input": "2022-07-14T17:02:50.897132Z",
     "iopub.status.busy": "2022-07-14T17:02:50.896424Z",
     "iopub.status.idle": "2022-07-14T17:02:50.911363Z",
     "shell.execute_reply": "2022-07-14T17:02:50.909749Z"
    },
    "papermill": {
     "duration": 0.039575,
     "end_time": "2022-07-14T17:02:50.915338",
     "exception": false,
     "start_time": "2022-07-14T17:02:50.875763",
     "status": "completed"
    },
    "tags": []
   },
   "outputs": [
    {
     "name": "stdout",
     "output_type": "stream",
     "text": [
      "(194000, 5)\n"
     ]
    }
   ],
   "source": [
    "transactions_df_sample = pd.concat([transactions_df_sample, customer_test_df_open_transactions])\n",
    "print(transactions_df_sample.shape)"
   ]
  },
  {
   "cell_type": "markdown",
   "id": "58c9cd37",
   "metadata": {
    "papermill": {
     "duration": 0.019455,
     "end_time": "2022-07-14T17:02:50.955312",
     "exception": false,
     "start_time": "2022-07-14T17:02:50.935857",
     "status": "completed"
    },
    "tags": []
   },
   "source": [
    "**Articles data**"
   ]
  },
  {
   "cell_type": "code",
   "execution_count": 13,
   "id": "98f59a95",
   "metadata": {
    "execution": {
     "iopub.execute_input": "2022-07-14T17:02:50.995932Z",
     "iopub.status.busy": "2022-07-14T17:02:50.995552Z",
     "iopub.status.idle": "2022-07-14T17:02:52.071948Z",
     "shell.execute_reply": "2022-07-14T17:02:52.070749Z"
    },
    "papermill": {
     "duration": 1.10021,
     "end_time": "2022-07-14T17:02:52.074891",
     "exception": false,
     "start_time": "2022-07-14T17:02:50.974681",
     "status": "completed"
    },
    "tags": []
   },
   "outputs": [
    {
     "name": "stdout",
     "output_type": "stream",
     "text": [
      "(105542, 25)\n"
     ]
    },
    {
     "data": {
      "text/html": [
       "<div>\n",
       "<style scoped>\n",
       "    .dataframe tbody tr th:only-of-type {\n",
       "        vertical-align: middle;\n",
       "    }\n",
       "\n",
       "    .dataframe tbody tr th {\n",
       "        vertical-align: top;\n",
       "    }\n",
       "\n",
       "    .dataframe thead th {\n",
       "        text-align: right;\n",
       "    }\n",
       "</style>\n",
       "<table border=\"1\" class=\"dataframe\">\n",
       "  <thead>\n",
       "    <tr style=\"text-align: right;\">\n",
       "      <th></th>\n",
       "      <th>0</th>\n",
       "      <th>1</th>\n",
       "      <th>2</th>\n",
       "      <th>3</th>\n",
       "      <th>4</th>\n",
       "    </tr>\n",
       "  </thead>\n",
       "  <tbody>\n",
       "    <tr>\n",
       "      <th>article_id</th>\n",
       "      <td>108775015</td>\n",
       "      <td>108775044</td>\n",
       "      <td>108775051</td>\n",
       "      <td>110065001</td>\n",
       "      <td>110065002</td>\n",
       "    </tr>\n",
       "    <tr>\n",
       "      <th>product_code</th>\n",
       "      <td>108775</td>\n",
       "      <td>108775</td>\n",
       "      <td>108775</td>\n",
       "      <td>110065</td>\n",
       "      <td>110065</td>\n",
       "    </tr>\n",
       "    <tr>\n",
       "      <th>prod_name</th>\n",
       "      <td>Strap top</td>\n",
       "      <td>Strap top</td>\n",
       "      <td>Strap top (1)</td>\n",
       "      <td>OP T-shirt (Idro)</td>\n",
       "      <td>OP T-shirt (Idro)</td>\n",
       "    </tr>\n",
       "    <tr>\n",
       "      <th>product_type_no</th>\n",
       "      <td>253</td>\n",
       "      <td>253</td>\n",
       "      <td>253</td>\n",
       "      <td>306</td>\n",
       "      <td>306</td>\n",
       "    </tr>\n",
       "    <tr>\n",
       "      <th>product_type_name</th>\n",
       "      <td>Vest top</td>\n",
       "      <td>Vest top</td>\n",
       "      <td>Vest top</td>\n",
       "      <td>Bra</td>\n",
       "      <td>Bra</td>\n",
       "    </tr>\n",
       "    <tr>\n",
       "      <th>product_group_name</th>\n",
       "      <td>Garment Upper body</td>\n",
       "      <td>Garment Upper body</td>\n",
       "      <td>Garment Upper body</td>\n",
       "      <td>Underwear</td>\n",
       "      <td>Underwear</td>\n",
       "    </tr>\n",
       "    <tr>\n",
       "      <th>graphical_appearance_no</th>\n",
       "      <td>1010016</td>\n",
       "      <td>1010016</td>\n",
       "      <td>1010017</td>\n",
       "      <td>1010016</td>\n",
       "      <td>1010016</td>\n",
       "    </tr>\n",
       "    <tr>\n",
       "      <th>graphical_appearance_name</th>\n",
       "      <td>Solid</td>\n",
       "      <td>Solid</td>\n",
       "      <td>Stripe</td>\n",
       "      <td>Solid</td>\n",
       "      <td>Solid</td>\n",
       "    </tr>\n",
       "    <tr>\n",
       "      <th>colour_group_code</th>\n",
       "      <td>9</td>\n",
       "      <td>10</td>\n",
       "      <td>11</td>\n",
       "      <td>9</td>\n",
       "      <td>10</td>\n",
       "    </tr>\n",
       "    <tr>\n",
       "      <th>colour_group_name</th>\n",
       "      <td>Black</td>\n",
       "      <td>White</td>\n",
       "      <td>Off White</td>\n",
       "      <td>Black</td>\n",
       "      <td>White</td>\n",
       "    </tr>\n",
       "    <tr>\n",
       "      <th>perceived_colour_value_id</th>\n",
       "      <td>4</td>\n",
       "      <td>3</td>\n",
       "      <td>1</td>\n",
       "      <td>4</td>\n",
       "      <td>3</td>\n",
       "    </tr>\n",
       "    <tr>\n",
       "      <th>perceived_colour_value_name</th>\n",
       "      <td>Dark</td>\n",
       "      <td>Light</td>\n",
       "      <td>Dusty Light</td>\n",
       "      <td>Dark</td>\n",
       "      <td>Light</td>\n",
       "    </tr>\n",
       "    <tr>\n",
       "      <th>perceived_colour_master_id</th>\n",
       "      <td>5</td>\n",
       "      <td>9</td>\n",
       "      <td>9</td>\n",
       "      <td>5</td>\n",
       "      <td>9</td>\n",
       "    </tr>\n",
       "    <tr>\n",
       "      <th>perceived_colour_master_name</th>\n",
       "      <td>Black</td>\n",
       "      <td>White</td>\n",
       "      <td>White</td>\n",
       "      <td>Black</td>\n",
       "      <td>White</td>\n",
       "    </tr>\n",
       "    <tr>\n",
       "      <th>department_no</th>\n",
       "      <td>1676</td>\n",
       "      <td>1676</td>\n",
       "      <td>1676</td>\n",
       "      <td>1339</td>\n",
       "      <td>1339</td>\n",
       "    </tr>\n",
       "    <tr>\n",
       "      <th>department_name</th>\n",
       "      <td>Jersey Basic</td>\n",
       "      <td>Jersey Basic</td>\n",
       "      <td>Jersey Basic</td>\n",
       "      <td>Clean Lingerie</td>\n",
       "      <td>Clean Lingerie</td>\n",
       "    </tr>\n",
       "    <tr>\n",
       "      <th>index_code</th>\n",
       "      <td>A</td>\n",
       "      <td>A</td>\n",
       "      <td>A</td>\n",
       "      <td>B</td>\n",
       "      <td>B</td>\n",
       "    </tr>\n",
       "    <tr>\n",
       "      <th>index_name</th>\n",
       "      <td>Ladieswear</td>\n",
       "      <td>Ladieswear</td>\n",
       "      <td>Ladieswear</td>\n",
       "      <td>Lingeries/Tights</td>\n",
       "      <td>Lingeries/Tights</td>\n",
       "    </tr>\n",
       "    <tr>\n",
       "      <th>index_group_no</th>\n",
       "      <td>1</td>\n",
       "      <td>1</td>\n",
       "      <td>1</td>\n",
       "      <td>1</td>\n",
       "      <td>1</td>\n",
       "    </tr>\n",
       "    <tr>\n",
       "      <th>index_group_name</th>\n",
       "      <td>Ladieswear</td>\n",
       "      <td>Ladieswear</td>\n",
       "      <td>Ladieswear</td>\n",
       "      <td>Ladieswear</td>\n",
       "      <td>Ladieswear</td>\n",
       "    </tr>\n",
       "    <tr>\n",
       "      <th>section_no</th>\n",
       "      <td>16</td>\n",
       "      <td>16</td>\n",
       "      <td>16</td>\n",
       "      <td>61</td>\n",
       "      <td>61</td>\n",
       "    </tr>\n",
       "    <tr>\n",
       "      <th>section_name</th>\n",
       "      <td>Womens Everyday Basics</td>\n",
       "      <td>Womens Everyday Basics</td>\n",
       "      <td>Womens Everyday Basics</td>\n",
       "      <td>Womens Lingerie</td>\n",
       "      <td>Womens Lingerie</td>\n",
       "    </tr>\n",
       "    <tr>\n",
       "      <th>garment_group_no</th>\n",
       "      <td>1002</td>\n",
       "      <td>1002</td>\n",
       "      <td>1002</td>\n",
       "      <td>1017</td>\n",
       "      <td>1017</td>\n",
       "    </tr>\n",
       "    <tr>\n",
       "      <th>garment_group_name</th>\n",
       "      <td>Jersey Basic</td>\n",
       "      <td>Jersey Basic</td>\n",
       "      <td>Jersey Basic</td>\n",
       "      <td>Under-, Nightwear</td>\n",
       "      <td>Under-, Nightwear</td>\n",
       "    </tr>\n",
       "    <tr>\n",
       "      <th>detail_desc</th>\n",
       "      <td>Jersey top with narrow shoulder straps.</td>\n",
       "      <td>Jersey top with narrow shoulder straps.</td>\n",
       "      <td>Jersey top with narrow shoulder straps.</td>\n",
       "      <td>Microfibre T-shirt bra with underwired, moulde...</td>\n",
       "      <td>Microfibre T-shirt bra with underwired, moulde...</td>\n",
       "    </tr>\n",
       "  </tbody>\n",
       "</table>\n",
       "</div>"
      ],
      "text/plain": [
       "                                                                    0  \\\n",
       "article_id                                                  108775015   \n",
       "product_code                                                   108775   \n",
       "prod_name                                                   Strap top   \n",
       "product_type_no                                                   253   \n",
       "product_type_name                                            Vest top   \n",
       "product_group_name                                 Garment Upper body   \n",
       "graphical_appearance_no                                       1010016   \n",
       "graphical_appearance_name                                       Solid   \n",
       "colour_group_code                                                   9   \n",
       "colour_group_name                                               Black   \n",
       "perceived_colour_value_id                                           4   \n",
       "perceived_colour_value_name                                      Dark   \n",
       "perceived_colour_master_id                                          5   \n",
       "perceived_colour_master_name                                    Black   \n",
       "department_no                                                    1676   \n",
       "department_name                                          Jersey Basic   \n",
       "index_code                                                          A   \n",
       "index_name                                                 Ladieswear   \n",
       "index_group_no                                                      1   \n",
       "index_group_name                                           Ladieswear   \n",
       "section_no                                                         16   \n",
       "section_name                                   Womens Everyday Basics   \n",
       "garment_group_no                                                 1002   \n",
       "garment_group_name                                       Jersey Basic   \n",
       "detail_desc                   Jersey top with narrow shoulder straps.   \n",
       "\n",
       "                                                                    1  \\\n",
       "article_id                                                  108775044   \n",
       "product_code                                                   108775   \n",
       "prod_name                                                   Strap top   \n",
       "product_type_no                                                   253   \n",
       "product_type_name                                            Vest top   \n",
       "product_group_name                                 Garment Upper body   \n",
       "graphical_appearance_no                                       1010016   \n",
       "graphical_appearance_name                                       Solid   \n",
       "colour_group_code                                                  10   \n",
       "colour_group_name                                               White   \n",
       "perceived_colour_value_id                                           3   \n",
       "perceived_colour_value_name                                     Light   \n",
       "perceived_colour_master_id                                          9   \n",
       "perceived_colour_master_name                                    White   \n",
       "department_no                                                    1676   \n",
       "department_name                                          Jersey Basic   \n",
       "index_code                                                          A   \n",
       "index_name                                                 Ladieswear   \n",
       "index_group_no                                                      1   \n",
       "index_group_name                                           Ladieswear   \n",
       "section_no                                                         16   \n",
       "section_name                                   Womens Everyday Basics   \n",
       "garment_group_no                                                 1002   \n",
       "garment_group_name                                       Jersey Basic   \n",
       "detail_desc                   Jersey top with narrow shoulder straps.   \n",
       "\n",
       "                                                                    2  \\\n",
       "article_id                                                  108775051   \n",
       "product_code                                                   108775   \n",
       "prod_name                                               Strap top (1)   \n",
       "product_type_no                                                   253   \n",
       "product_type_name                                            Vest top   \n",
       "product_group_name                                 Garment Upper body   \n",
       "graphical_appearance_no                                       1010017   \n",
       "graphical_appearance_name                                      Stripe   \n",
       "colour_group_code                                                  11   \n",
       "colour_group_name                                           Off White   \n",
       "perceived_colour_value_id                                           1   \n",
       "perceived_colour_value_name                               Dusty Light   \n",
       "perceived_colour_master_id                                          9   \n",
       "perceived_colour_master_name                                    White   \n",
       "department_no                                                    1676   \n",
       "department_name                                          Jersey Basic   \n",
       "index_code                                                          A   \n",
       "index_name                                                 Ladieswear   \n",
       "index_group_no                                                      1   \n",
       "index_group_name                                           Ladieswear   \n",
       "section_no                                                         16   \n",
       "section_name                                   Womens Everyday Basics   \n",
       "garment_group_no                                                 1002   \n",
       "garment_group_name                                       Jersey Basic   \n",
       "detail_desc                   Jersey top with narrow shoulder straps.   \n",
       "\n",
       "                                                                              3  \\\n",
       "article_id                                                            110065001   \n",
       "product_code                                                             110065   \n",
       "prod_name                                                     OP T-shirt (Idro)   \n",
       "product_type_no                                                             306   \n",
       "product_type_name                                                           Bra   \n",
       "product_group_name                                                    Underwear   \n",
       "graphical_appearance_no                                                 1010016   \n",
       "graphical_appearance_name                                                 Solid   \n",
       "colour_group_code                                                             9   \n",
       "colour_group_name                                                         Black   \n",
       "perceived_colour_value_id                                                     4   \n",
       "perceived_colour_value_name                                                Dark   \n",
       "perceived_colour_master_id                                                    5   \n",
       "perceived_colour_master_name                                              Black   \n",
       "department_no                                                              1339   \n",
       "department_name                                                  Clean Lingerie   \n",
       "index_code                                                                    B   \n",
       "index_name                                                     Lingeries/Tights   \n",
       "index_group_no                                                                1   \n",
       "index_group_name                                                     Ladieswear   \n",
       "section_no                                                                   61   \n",
       "section_name                                                    Womens Lingerie   \n",
       "garment_group_no                                                           1017   \n",
       "garment_group_name                                            Under-, Nightwear   \n",
       "detail_desc                   Microfibre T-shirt bra with underwired, moulde...   \n",
       "\n",
       "                                                                              4  \n",
       "article_id                                                            110065002  \n",
       "product_code                                                             110065  \n",
       "prod_name                                                     OP T-shirt (Idro)  \n",
       "product_type_no                                                             306  \n",
       "product_type_name                                                           Bra  \n",
       "product_group_name                                                    Underwear  \n",
       "graphical_appearance_no                                                 1010016  \n",
       "graphical_appearance_name                                                 Solid  \n",
       "colour_group_code                                                            10  \n",
       "colour_group_name                                                         White  \n",
       "perceived_colour_value_id                                                     3  \n",
       "perceived_colour_value_name                                               Light  \n",
       "perceived_colour_master_id                                                    9  \n",
       "perceived_colour_master_name                                              White  \n",
       "department_no                                                              1339  \n",
       "department_name                                                  Clean Lingerie  \n",
       "index_code                                                                    B  \n",
       "index_name                                                     Lingeries/Tights  \n",
       "index_group_no                                                                1  \n",
       "index_group_name                                                     Ladieswear  \n",
       "section_no                                                                   61  \n",
       "section_name                                                    Womens Lingerie  \n",
       "garment_group_no                                                           1017  \n",
       "garment_group_name                                            Under-, Nightwear  \n",
       "detail_desc                   Microfibre T-shirt bra with underwired, moulde...  "
      ]
     },
     "execution_count": 13,
     "metadata": {},
     "output_type": "execute_result"
    }
   ],
   "source": [
    "articles_df = pd.read_csv(\"/kaggle/input/h-and-m-personalized-fashion-recommendations/articles.csv\")\n",
    "print(articles_df.shape)\n",
    "articles_df.head().T  "
   ]
  },
  {
   "cell_type": "code",
   "execution_count": 14,
   "id": "dc8ed403",
   "metadata": {
    "execution": {
     "iopub.execute_input": "2022-07-14T17:02:52.116986Z",
     "iopub.status.busy": "2022-07-14T17:02:52.116077Z",
     "iopub.status.idle": "2022-07-14T17:02:52.279221Z",
     "shell.execute_reply": "2022-07-14T17:02:52.277349Z"
    },
    "papermill": {
     "duration": 0.186677,
     "end_time": "2022-07-14T17:02:52.281825",
     "exception": false,
     "start_time": "2022-07-14T17:02:52.095148",
     "status": "completed"
    },
    "tags": []
   },
   "outputs": [
    {
     "name": "stdout",
     "output_type": "stream",
     "text": [
      "article_id 105542\n",
      "product_code 47224\n",
      "prod_name 45875\n",
      "product_type_no 132\n",
      "product_type_name 131\n",
      "product_group_name 19\n",
      "graphical_appearance_no 30\n",
      "graphical_appearance_name 30\n",
      "colour_group_code 50\n",
      "colour_group_name 50\n",
      "perceived_colour_value_id 8\n",
      "perceived_colour_value_name 8\n",
      "perceived_colour_master_id 20\n",
      "perceived_colour_master_name 20\n",
      "department_no 299\n",
      "department_name 250\n",
      "index_code 10\n",
      "index_name 10\n",
      "index_group_no 5\n",
      "index_group_name 5\n",
      "section_no 57\n",
      "section_name 56\n",
      "garment_group_no 21\n",
      "garment_group_name 21\n",
      "detail_desc 43405\n"
     ]
    }
   ],
   "source": [
    "# Number of unique meanings of article features\n",
    "for col in articles_df.columns:\n",
    "    print(col, len(articles_df[col].unique()))\n",
    "    "
   ]
  },
  {
   "cell_type": "markdown",
   "id": "01af4bd7",
   "metadata": {
    "papermill": {
     "duration": 0.019859,
     "end_time": "2022-07-14T17:02:52.321703",
     "exception": false,
     "start_time": "2022-07-14T17:02:52.301844",
     "status": "completed"
    },
    "tags": []
   },
   "source": [
    "**Feature Engeneering**"
   ]
  },
  {
   "cell_type": "code",
   "execution_count": 15,
   "id": "34badd1e",
   "metadata": {
    "execution": {
     "iopub.execute_input": "2022-07-14T17:02:52.363087Z",
     "iopub.status.busy": "2022-07-14T17:02:52.362708Z",
     "iopub.status.idle": "2022-07-14T17:02:52.803841Z",
     "shell.execute_reply": "2022-07-14T17:02:52.802581Z"
    },
    "papermill": {
     "duration": 0.465226,
     "end_time": "2022-07-14T17:02:52.806877",
     "exception": false,
     "start_time": "2022-07-14T17:02:52.341651",
     "status": "completed"
    },
    "tags": []
   },
   "outputs": [
    {
     "data": {
      "text/html": [
       "<div>\n",
       "<style scoped>\n",
       "    .dataframe tbody tr th:only-of-type {\n",
       "        vertical-align: middle;\n",
       "    }\n",
       "\n",
       "    .dataframe tbody tr th {\n",
       "        vertical-align: top;\n",
       "    }\n",
       "\n",
       "    .dataframe thead th {\n",
       "        text-align: right;\n",
       "    }\n",
       "</style>\n",
       "<table border=\"1\" class=\"dataframe\">\n",
       "  <thead>\n",
       "    <tr style=\"text-align: right;\">\n",
       "      <th></th>\n",
       "      <th>t_dat</th>\n",
       "      <th>customer_id</th>\n",
       "      <th>article_id</th>\n",
       "      <th>price</th>\n",
       "      <th>sales_channel_id</th>\n",
       "      <th>article_id_enc</th>\n",
       "      <th>customer_id_enc</th>\n",
       "    </tr>\n",
       "  </thead>\n",
       "  <tbody>\n",
       "    <tr>\n",
       "      <th>0</th>\n",
       "      <td>2018-09-20</td>\n",
       "      <td>000058a12d5b43e67d225668fa1f8d618c13dc232df0ca...</td>\n",
       "      <td>663713001</td>\n",
       "      <td>0.050831</td>\n",
       "      <td>2</td>\n",
       "      <td>16536.0</td>\n",
       "      <td>1.0</td>\n",
       "    </tr>\n",
       "    <tr>\n",
       "      <th>1</th>\n",
       "      <td>2018-09-20</td>\n",
       "      <td>000058a12d5b43e67d225668fa1f8d618c13dc232df0ca...</td>\n",
       "      <td>541518023</td>\n",
       "      <td>0.030492</td>\n",
       "      <td>2</td>\n",
       "      <td>3753.0</td>\n",
       "      <td>1.0</td>\n",
       "    </tr>\n",
       "    <tr>\n",
       "      <th>2</th>\n",
       "      <td>2018-09-20</td>\n",
       "      <td>00007d2de826758b65a93dd24ce629ed66842531df6699...</td>\n",
       "      <td>505221004</td>\n",
       "      <td>0.015237</td>\n",
       "      <td>2</td>\n",
       "      <td>2446.0</td>\n",
       "      <td>2.0</td>\n",
       "    </tr>\n",
       "    <tr>\n",
       "      <th>3</th>\n",
       "      <td>2018-09-20</td>\n",
       "      <td>00007d2de826758b65a93dd24ce629ed66842531df6699...</td>\n",
       "      <td>685687003</td>\n",
       "      <td>0.016932</td>\n",
       "      <td>2</td>\n",
       "      <td>18442.0</td>\n",
       "      <td>2.0</td>\n",
       "    </tr>\n",
       "    <tr>\n",
       "      <th>4</th>\n",
       "      <td>2018-09-20</td>\n",
       "      <td>00007d2de826758b65a93dd24ce629ed66842531df6699...</td>\n",
       "      <td>685687004</td>\n",
       "      <td>0.016932</td>\n",
       "      <td>2</td>\n",
       "      <td>18443.0</td>\n",
       "      <td>2.0</td>\n",
       "    </tr>\n",
       "  </tbody>\n",
       "</table>\n",
       "</div>"
      ],
      "text/plain": [
       "        t_dat                                        customer_id  article_id  \\\n",
       "0  2018-09-20  000058a12d5b43e67d225668fa1f8d618c13dc232df0ca...   663713001   \n",
       "1  2018-09-20  000058a12d5b43e67d225668fa1f8d618c13dc232df0ca...   541518023   \n",
       "2  2018-09-20  00007d2de826758b65a93dd24ce629ed66842531df6699...   505221004   \n",
       "3  2018-09-20  00007d2de826758b65a93dd24ce629ed66842531df6699...   685687003   \n",
       "4  2018-09-20  00007d2de826758b65a93dd24ce629ed66842531df6699...   685687004   \n",
       "\n",
       "      price  sales_channel_id  article_id_enc  customer_id_enc  \n",
       "0  0.050831                 2         16536.0              1.0  \n",
       "1  0.030492                 2          3753.0              1.0  \n",
       "2  0.015237                 2          2446.0              2.0  \n",
       "3  0.016932                 2         18442.0              2.0  \n",
       "4  0.016932                 2         18443.0              2.0  "
      ]
     },
     "execution_count": 15,
     "metadata": {},
     "output_type": "execute_result"
    }
   ],
   "source": [
    "from sklearn.preprocessing import OrdinalEncoder\n",
    "\n",
    "enc = OrdinalEncoder()\n",
    "transactions_df_sample[['article_id_enc', 'customer_id_enc']] = enc.fit_transform(transactions_df_sample[['article_id', 'customer_id']]) \n",
    "\n",
    "transactions_df_sample.head()"
   ]
  },
  {
   "cell_type": "code",
   "execution_count": 16,
   "id": "016fbe82",
   "metadata": {
    "execution": {
     "iopub.execute_input": "2022-07-14T17:02:52.850436Z",
     "iopub.status.busy": "2022-07-14T17:02:52.849996Z",
     "iopub.status.idle": "2022-07-14T17:02:52.858047Z",
     "shell.execute_reply": "2022-07-14T17:02:52.857162Z"
    },
    "papermill": {
     "duration": 0.03284,
     "end_time": "2022-07-14T17:02:52.860360",
     "exception": false,
     "start_time": "2022-07-14T17:02:52.827520",
     "status": "completed"
    },
    "tags": []
   },
   "outputs": [],
   "source": [
    "transactions_df_sample['article_id_enc'] = transactions_df_sample['article_id_enc'].astype(int)\n",
    "transactions_df_sample['customer_id_enc'] = transactions_df_sample['customer_id_enc'].astype(int)"
   ]
  },
  {
   "cell_type": "code",
   "execution_count": 17,
   "id": "f753ecb3",
   "metadata": {
    "execution": {
     "iopub.execute_input": "2022-07-14T17:02:52.903044Z",
     "iopub.status.busy": "2022-07-14T17:02:52.902287Z",
     "iopub.status.idle": "2022-07-14T17:02:52.969625Z",
     "shell.execute_reply": "2022-07-14T17:02:52.968106Z"
    },
    "papermill": {
     "duration": 0.092074,
     "end_time": "2022-07-14T17:02:52.973048",
     "exception": false,
     "start_time": "2022-07-14T17:02:52.880974",
     "status": "completed"
    },
    "tags": []
   },
   "outputs": [
    {
     "name": "stdout",
     "output_type": "stream",
     "text": [
      "<class 'pandas.core.frame.DataFrame'>\n",
      "Int64Index: 19294 entries, 0 to 19293\n",
      "Data columns (total 4 columns):\n",
      " #   Column            Non-Null Count  Dtype\n",
      "---  ------            --------------  -----\n",
      " 0   product_type_no   19294 non-null  int64\n",
      " 1   index_group_no    19294 non-null  int64\n",
      " 2   garment_group_no  19294 non-null  int64\n",
      " 3   article_id        19294 non-null  int64\n",
      "dtypes: int64(4)\n",
      "memory usage: 753.7 KB\n"
     ]
    }
   ],
   "source": [
    "item_features = articles_df[['product_type_no', 'index_group_no', 'garment_group_no', 'article_id']].copy()\n",
    "item_features = item_features.merge(transactions_df_sample[['article_id_enc','article_id']].drop_duplicates(), how=\"left\", on=\"article_id\")\n",
    "item_features.dropna(axis=0, inplace=True)\n",
    "item_features['article_id_enc'] = item_features['article_id_enc'].astype(int)\n",
    "item_features.set_index(\"article_id_enc\", inplace=True)\n",
    "item_features.info()"
   ]
  },
  {
   "cell_type": "code",
   "execution_count": 18,
   "id": "e6e6d305",
   "metadata": {
    "execution": {
     "iopub.execute_input": "2022-07-14T17:02:53.016546Z",
     "iopub.status.busy": "2022-07-14T17:02:53.015795Z",
     "iopub.status.idle": "2022-07-14T17:02:53.026981Z",
     "shell.execute_reply": "2022-07-14T17:02:53.026199Z"
    },
    "papermill": {
     "duration": 0.035012,
     "end_time": "2022-07-14T17:02:53.029263",
     "exception": false,
     "start_time": "2022-07-14T17:02:52.994251",
     "status": "completed"
    },
    "tags": []
   },
   "outputs": [
    {
     "data": {
      "text/html": [
       "<div>\n",
       "<style scoped>\n",
       "    .dataframe tbody tr th:only-of-type {\n",
       "        vertical-align: middle;\n",
       "    }\n",
       "\n",
       "    .dataframe tbody tr th {\n",
       "        vertical-align: top;\n",
       "    }\n",
       "\n",
       "    .dataframe thead th {\n",
       "        text-align: right;\n",
       "    }\n",
       "</style>\n",
       "<table border=\"1\" class=\"dataframe\">\n",
       "  <thead>\n",
       "    <tr style=\"text-align: right;\">\n",
       "      <th></th>\n",
       "      <th>product_type_no</th>\n",
       "      <th>index_group_no</th>\n",
       "      <th>garment_group_no</th>\n",
       "      <th>article_id</th>\n",
       "    </tr>\n",
       "    <tr>\n",
       "      <th>article_id_enc</th>\n",
       "      <th></th>\n",
       "      <th></th>\n",
       "      <th></th>\n",
       "      <th></th>\n",
       "    </tr>\n",
       "  </thead>\n",
       "  <tbody>\n",
       "    <tr>\n",
       "      <th>0</th>\n",
       "      <td>253</td>\n",
       "      <td>1</td>\n",
       "      <td>1002</td>\n",
       "      <td>108775015</td>\n",
       "    </tr>\n",
       "    <tr>\n",
       "      <th>1</th>\n",
       "      <td>253</td>\n",
       "      <td>1</td>\n",
       "      <td>1002</td>\n",
       "      <td>108775044</td>\n",
       "    </tr>\n",
       "    <tr>\n",
       "      <th>2</th>\n",
       "      <td>253</td>\n",
       "      <td>1</td>\n",
       "      <td>1002</td>\n",
       "      <td>108775051</td>\n",
       "    </tr>\n",
       "    <tr>\n",
       "      <th>3</th>\n",
       "      <td>306</td>\n",
       "      <td>1</td>\n",
       "      <td>1017</td>\n",
       "      <td>110065001</td>\n",
       "    </tr>\n",
       "    <tr>\n",
       "      <th>4</th>\n",
       "      <td>306</td>\n",
       "      <td>1</td>\n",
       "      <td>1017</td>\n",
       "      <td>110065002</td>\n",
       "    </tr>\n",
       "    <tr>\n",
       "      <th>...</th>\n",
       "      <td>...</td>\n",
       "      <td>...</td>\n",
       "      <td>...</td>\n",
       "      <td>...</td>\n",
       "    </tr>\n",
       "    <tr>\n",
       "      <th>19289</th>\n",
       "      <td>255</td>\n",
       "      <td>1</td>\n",
       "      <td>1005</td>\n",
       "      <td>728111001</td>\n",
       "    </tr>\n",
       "    <tr>\n",
       "      <th>19290</th>\n",
       "      <td>256</td>\n",
       "      <td>2</td>\n",
       "      <td>1005</td>\n",
       "      <td>728146001</td>\n",
       "    </tr>\n",
       "    <tr>\n",
       "      <th>19291</th>\n",
       "      <td>255</td>\n",
       "      <td>1</td>\n",
       "      <td>1002</td>\n",
       "      <td>728162001</td>\n",
       "    </tr>\n",
       "    <tr>\n",
       "      <th>19292</th>\n",
       "      <td>255</td>\n",
       "      <td>1</td>\n",
       "      <td>1002</td>\n",
       "      <td>728162002</td>\n",
       "    </tr>\n",
       "    <tr>\n",
       "      <th>19293</th>\n",
       "      <td>272</td>\n",
       "      <td>1</td>\n",
       "      <td>1005</td>\n",
       "      <td>729931001</td>\n",
       "    </tr>\n",
       "  </tbody>\n",
       "</table>\n",
       "<p>19294 rows × 4 columns</p>\n",
       "</div>"
      ],
      "text/plain": [
       "                product_type_no  index_group_no  garment_group_no  article_id\n",
       "article_id_enc                                                               \n",
       "0                           253               1              1002   108775015\n",
       "1                           253               1              1002   108775044\n",
       "2                           253               1              1002   108775051\n",
       "3                           306               1              1017   110065001\n",
       "4                           306               1              1017   110065002\n",
       "...                         ...             ...               ...         ...\n",
       "19289                       255               1              1005   728111001\n",
       "19290                       256               2              1005   728146001\n",
       "19291                       255               1              1002   728162001\n",
       "19292                       255               1              1002   728162002\n",
       "19293                       272               1              1005   729931001\n",
       "\n",
       "[19294 rows x 4 columns]"
      ]
     },
     "execution_count": 18,
     "metadata": {},
     "output_type": "execute_result"
    }
   ],
   "source": [
    "item_features"
   ]
  },
  {
   "cell_type": "code",
   "execution_count": 19,
   "id": "c0dae3b4",
   "metadata": {
    "execution": {
     "iopub.execute_input": "2022-07-14T17:02:53.073837Z",
     "iopub.status.busy": "2022-07-14T17:02:53.072935Z",
     "iopub.status.idle": "2022-07-14T17:02:53.088870Z",
     "shell.execute_reply": "2022-07-14T17:02:53.087809Z"
    },
    "papermill": {
     "duration": 0.041234,
     "end_time": "2022-07-14T17:02:53.091426",
     "exception": false,
     "start_time": "2022-07-14T17:02:53.050192",
     "status": "completed"
    },
    "tags": []
   },
   "outputs": [
    {
     "data": {
      "text/html": [
       "<div>\n",
       "<style scoped>\n",
       "    .dataframe tbody tr th:only-of-type {\n",
       "        vertical-align: middle;\n",
       "    }\n",
       "\n",
       "    .dataframe tbody tr th {\n",
       "        vertical-align: top;\n",
       "    }\n",
       "\n",
       "    .dataframe thead th {\n",
       "        text-align: right;\n",
       "    }\n",
       "</style>\n",
       "<table border=\"1\" class=\"dataframe\">\n",
       "  <thead>\n",
       "    <tr style=\"text-align: right;\">\n",
       "      <th></th>\n",
       "      <th>t_dat</th>\n",
       "      <th>customer_id</th>\n",
       "      <th>article_id</th>\n",
       "      <th>price</th>\n",
       "      <th>sales_channel_id</th>\n",
       "      <th>article_id_enc</th>\n",
       "      <th>customer_id_enc</th>\n",
       "    </tr>\n",
       "  </thead>\n",
       "  <tbody>\n",
       "    <tr>\n",
       "      <th>0</th>\n",
       "      <td>2018-09-20</td>\n",
       "      <td>000058a12d5b43e67d225668fa1f8d618c13dc232df0ca...</td>\n",
       "      <td>663713001</td>\n",
       "      <td>0.050831</td>\n",
       "      <td>2</td>\n",
       "      <td>16536</td>\n",
       "      <td>1</td>\n",
       "    </tr>\n",
       "    <tr>\n",
       "      <th>1</th>\n",
       "      <td>2018-09-20</td>\n",
       "      <td>000058a12d5b43e67d225668fa1f8d618c13dc232df0ca...</td>\n",
       "      <td>541518023</td>\n",
       "      <td>0.030492</td>\n",
       "      <td>2</td>\n",
       "      <td>3753</td>\n",
       "      <td>1</td>\n",
       "    </tr>\n",
       "    <tr>\n",
       "      <th>2</th>\n",
       "      <td>2018-09-20</td>\n",
       "      <td>00007d2de826758b65a93dd24ce629ed66842531df6699...</td>\n",
       "      <td>505221004</td>\n",
       "      <td>0.015237</td>\n",
       "      <td>2</td>\n",
       "      <td>2446</td>\n",
       "      <td>2</td>\n",
       "    </tr>\n",
       "    <tr>\n",
       "      <th>3</th>\n",
       "      <td>2018-09-20</td>\n",
       "      <td>00007d2de826758b65a93dd24ce629ed66842531df6699...</td>\n",
       "      <td>685687003</td>\n",
       "      <td>0.016932</td>\n",
       "      <td>2</td>\n",
       "      <td>18442</td>\n",
       "      <td>2</td>\n",
       "    </tr>\n",
       "    <tr>\n",
       "      <th>4</th>\n",
       "      <td>2018-09-20</td>\n",
       "      <td>00007d2de826758b65a93dd24ce629ed66842531df6699...</td>\n",
       "      <td>685687004</td>\n",
       "      <td>0.016932</td>\n",
       "      <td>2</td>\n",
       "      <td>18443</td>\n",
       "      <td>2</td>\n",
       "    </tr>\n",
       "    <tr>\n",
       "      <th>...</th>\n",
       "      <td>...</td>\n",
       "      <td>...</td>\n",
       "      <td>...</td>\n",
       "      <td>...</td>\n",
       "      <td>...</td>\n",
       "      <td>...</td>\n",
       "      <td>...</td>\n",
       "    </tr>\n",
       "    <tr>\n",
       "      <th>5112</th>\n",
       "      <td>2018-09-24</td>\n",
       "      <td>67c3ffa39a4fadb2bc4ff6b691b3fa26d7915131949b82...</td>\n",
       "      <td>563551005</td>\n",
       "      <td>0.011847</td>\n",
       "      <td>2</td>\n",
       "      <td>5274</td>\n",
       "      <td>22257</td>\n",
       "    </tr>\n",
       "    <tr>\n",
       "      <th>5113</th>\n",
       "      <td>2018-09-24</td>\n",
       "      <td>67c3ffa39a4fadb2bc4ff6b691b3fa26d7915131949b82...</td>\n",
       "      <td>559069003</td>\n",
       "      <td>0.008458</td>\n",
       "      <td>2</td>\n",
       "      <td>4879</td>\n",
       "      <td>22257</td>\n",
       "    </tr>\n",
       "    <tr>\n",
       "      <th>5114</th>\n",
       "      <td>2018-09-24</td>\n",
       "      <td>67c3ffa39a4fadb2bc4ff6b691b3fa26d7915131949b82...</td>\n",
       "      <td>558981019</td>\n",
       "      <td>0.018627</td>\n",
       "      <td>2</td>\n",
       "      <td>4859</td>\n",
       "      <td>22257</td>\n",
       "    </tr>\n",
       "    <tr>\n",
       "      <th>5115</th>\n",
       "      <td>2018-09-24</td>\n",
       "      <td>67c3ffa39a4fadb2bc4ff6b691b3fa26d7915131949b82...</td>\n",
       "      <td>620569001</td>\n",
       "      <td>0.011847</td>\n",
       "      <td>2</td>\n",
       "      <td>10693</td>\n",
       "      <td>22257</td>\n",
       "    </tr>\n",
       "    <tr>\n",
       "      <th>5116</th>\n",
       "      <td>2018-09-24</td>\n",
       "      <td>67c3ffa39a4fadb2bc4ff6b691b3fa26d7915131949b82...</td>\n",
       "      <td>605378003</td>\n",
       "      <td>0.010153</td>\n",
       "      <td>2</td>\n",
       "      <td>8851</td>\n",
       "      <td>22257</td>\n",
       "    </tr>\n",
       "  </tbody>\n",
       "</table>\n",
       "<p>194000 rows × 7 columns</p>\n",
       "</div>"
      ],
      "text/plain": [
       "           t_dat                                        customer_id  \\\n",
       "0     2018-09-20  000058a12d5b43e67d225668fa1f8d618c13dc232df0ca...   \n",
       "1     2018-09-20  000058a12d5b43e67d225668fa1f8d618c13dc232df0ca...   \n",
       "2     2018-09-20  00007d2de826758b65a93dd24ce629ed66842531df6699...   \n",
       "3     2018-09-20  00007d2de826758b65a93dd24ce629ed66842531df6699...   \n",
       "4     2018-09-20  00007d2de826758b65a93dd24ce629ed66842531df6699...   \n",
       "...          ...                                                ...   \n",
       "5112  2018-09-24  67c3ffa39a4fadb2bc4ff6b691b3fa26d7915131949b82...   \n",
       "5113  2018-09-24  67c3ffa39a4fadb2bc4ff6b691b3fa26d7915131949b82...   \n",
       "5114  2018-09-24  67c3ffa39a4fadb2bc4ff6b691b3fa26d7915131949b82...   \n",
       "5115  2018-09-24  67c3ffa39a4fadb2bc4ff6b691b3fa26d7915131949b82...   \n",
       "5116  2018-09-24  67c3ffa39a4fadb2bc4ff6b691b3fa26d7915131949b82...   \n",
       "\n",
       "      article_id     price  sales_channel_id  article_id_enc  customer_id_enc  \n",
       "0      663713001  0.050831                 2           16536                1  \n",
       "1      541518023  0.030492                 2            3753                1  \n",
       "2      505221004  0.015237                 2            2446                2  \n",
       "3      685687003  0.016932                 2           18442                2  \n",
       "4      685687004  0.016932                 2           18443                2  \n",
       "...          ...       ...               ...             ...              ...  \n",
       "5112   563551005  0.011847                 2            5274            22257  \n",
       "5113   559069003  0.008458                 2            4879            22257  \n",
       "5114   558981019  0.018627                 2            4859            22257  \n",
       "5115   620569001  0.011847                 2           10693            22257  \n",
       "5116   605378003  0.010153                 2            8851            22257  \n",
       "\n",
       "[194000 rows x 7 columns]"
      ]
     },
     "execution_count": 19,
     "metadata": {},
     "output_type": "execute_result"
    }
   ],
   "source": [
    "transactions_df_sample"
   ]
  },
  {
   "cell_type": "markdown",
   "id": "bc2ef7c9",
   "metadata": {
    "papermill": {
     "duration": 0.020467,
     "end_time": "2022-07-14T17:02:53.133676",
     "exception": false,
     "start_time": "2022-07-14T17:02:53.113209",
     "status": "completed"
    },
    "tags": []
   },
   "source": [
    "# Collaborative filtering "
   ]
  },
  {
   "cell_type": "code",
   "execution_count": 20,
   "id": "b1015a8a",
   "metadata": {
    "execution": {
     "iopub.execute_input": "2022-07-14T17:02:53.177169Z",
     "iopub.status.busy": "2022-07-14T17:02:53.176806Z",
     "iopub.status.idle": "2022-07-14T17:02:53.195858Z",
     "shell.execute_reply": "2022-07-14T17:02:53.194745Z"
    },
    "papermill": {
     "duration": 0.044159,
     "end_time": "2022-07-14T17:02:53.198685",
     "exception": false,
     "start_time": "2022-07-14T17:02:53.154526",
     "status": "completed"
    },
    "tags": []
   },
   "outputs": [],
   "source": [
    "import scipy.sparse as sp\n",
    "from lightfm import LightFM\n",
    "from lightfm.evaluation import precision_at_k\n",
    "from lightfm.evaluation import auc_score\n",
    "\n",
    "from lightfm.cross_validation import random_train_test_split\n",
    "from lightfm.data import Dataset\n",
    "\n",
    "\n",
    "from lightfm.data import Dataset"
   ]
  },
  {
   "cell_type": "code",
   "execution_count": 21,
   "id": "d0c5fb28",
   "metadata": {
    "execution": {
     "iopub.execute_input": "2022-07-14T17:02:53.242490Z",
     "iopub.status.busy": "2022-07-14T17:02:53.241941Z",
     "iopub.status.idle": "2022-07-14T17:02:53.246719Z",
     "shell.execute_reply": "2022-07-14T17:02:53.245619Z"
    },
    "papermill": {
     "duration": 0.029387,
     "end_time": "2022-07-14T17:02:53.249058",
     "exception": false,
     "start_time": "2022-07-14T17:02:53.219671",
     "status": "completed"
    },
    "tags": []
   },
   "outputs": [],
   "source": [
    "#articles_df.head().T"
   ]
  },
  {
   "cell_type": "code",
   "execution_count": 22,
   "id": "49de14d5",
   "metadata": {
    "execution": {
     "iopub.execute_input": "2022-07-14T17:02:53.294219Z",
     "iopub.status.busy": "2022-07-14T17:02:53.293804Z",
     "iopub.status.idle": "2022-07-14T17:02:53.326793Z",
     "shell.execute_reply": "2022-07-14T17:02:53.325655Z"
    },
    "papermill": {
     "duration": 0.058722,
     "end_time": "2022-07-14T17:02:53.329469",
     "exception": false,
     "start_time": "2022-07-14T17:02:53.270747",
     "status": "completed"
    },
    "tags": []
   },
   "outputs": [],
   "source": [
    "columns = [\"article_id\",  \"product_type_no\", \"index_group_no\",\"colour_group_code\"]\n",
    "item_features = pd.DataFrame(transactions_df_sample['article_id']).drop_duplicates().merge(articles_df[columns],  how=\"left\", on=\"article_id\")"
   ]
  },
  {
   "cell_type": "code",
   "execution_count": 23,
   "id": "f5205aa2",
   "metadata": {
    "execution": {
     "iopub.execute_input": "2022-07-14T17:02:53.374429Z",
     "iopub.status.busy": "2022-07-14T17:02:53.373950Z",
     "iopub.status.idle": "2022-07-14T17:02:53.386018Z",
     "shell.execute_reply": "2022-07-14T17:02:53.385279Z"
    },
    "papermill": {
     "duration": 0.036982,
     "end_time": "2022-07-14T17:02:53.388155",
     "exception": false,
     "start_time": "2022-07-14T17:02:53.351173",
     "status": "completed"
    },
    "tags": []
   },
   "outputs": [
    {
     "data": {
      "text/html": [
       "<div>\n",
       "<style scoped>\n",
       "    .dataframe tbody tr th:only-of-type {\n",
       "        vertical-align: middle;\n",
       "    }\n",
       "\n",
       "    .dataframe tbody tr th {\n",
       "        vertical-align: top;\n",
       "    }\n",
       "\n",
       "    .dataframe thead th {\n",
       "        text-align: right;\n",
       "    }\n",
       "</style>\n",
       "<table border=\"1\" class=\"dataframe\">\n",
       "  <thead>\n",
       "    <tr style=\"text-align: right;\">\n",
       "      <th></th>\n",
       "      <th>article_id</th>\n",
       "      <th>product_type_no</th>\n",
       "      <th>index_group_no</th>\n",
       "      <th>colour_group_code</th>\n",
       "    </tr>\n",
       "  </thead>\n",
       "  <tbody>\n",
       "    <tr>\n",
       "      <th>0</th>\n",
       "      <td>663713001</td>\n",
       "      <td>283</td>\n",
       "      <td>1</td>\n",
       "      <td>9</td>\n",
       "    </tr>\n",
       "    <tr>\n",
       "      <th>1</th>\n",
       "      <td>541518023</td>\n",
       "      <td>306</td>\n",
       "      <td>1</td>\n",
       "      <td>51</td>\n",
       "    </tr>\n",
       "    <tr>\n",
       "      <th>2</th>\n",
       "      <td>505221004</td>\n",
       "      <td>252</td>\n",
       "      <td>2</td>\n",
       "      <td>52</td>\n",
       "    </tr>\n",
       "    <tr>\n",
       "      <th>3</th>\n",
       "      <td>685687003</td>\n",
       "      <td>252</td>\n",
       "      <td>1</td>\n",
       "      <td>52</td>\n",
       "    </tr>\n",
       "    <tr>\n",
       "      <th>4</th>\n",
       "      <td>685687004</td>\n",
       "      <td>252</td>\n",
       "      <td>1</td>\n",
       "      <td>93</td>\n",
       "    </tr>\n",
       "    <tr>\n",
       "      <th>...</th>\n",
       "      <td>...</td>\n",
       "      <td>...</td>\n",
       "      <td>...</td>\n",
       "      <td>...</td>\n",
       "    </tr>\n",
       "    <tr>\n",
       "      <th>19289</th>\n",
       "      <td>564312011</td>\n",
       "      <td>286</td>\n",
       "      <td>3</td>\n",
       "      <td>83</td>\n",
       "    </tr>\n",
       "    <tr>\n",
       "      <th>19290</th>\n",
       "      <td>652978001</td>\n",
       "      <td>80</td>\n",
       "      <td>4</td>\n",
       "      <td>51</td>\n",
       "    </tr>\n",
       "    <tr>\n",
       "      <th>19291</th>\n",
       "      <td>619739006</td>\n",
       "      <td>304</td>\n",
       "      <td>4</td>\n",
       "      <td>8</td>\n",
       "    </tr>\n",
       "    <tr>\n",
       "      <th>19292</th>\n",
       "      <td>563551005</td>\n",
       "      <td>254</td>\n",
       "      <td>4</td>\n",
       "      <td>62</td>\n",
       "    </tr>\n",
       "    <tr>\n",
       "      <th>19293</th>\n",
       "      <td>558981019</td>\n",
       "      <td>273</td>\n",
       "      <td>4</td>\n",
       "      <td>52</td>\n",
       "    </tr>\n",
       "  </tbody>\n",
       "</table>\n",
       "<p>19294 rows × 4 columns</p>\n",
       "</div>"
      ],
      "text/plain": [
       "       article_id  product_type_no  index_group_no  colour_group_code\n",
       "0       663713001              283               1                  9\n",
       "1       541518023              306               1                 51\n",
       "2       505221004              252               2                 52\n",
       "3       685687003              252               1                 52\n",
       "4       685687004              252               1                 93\n",
       "...           ...              ...             ...                ...\n",
       "19289   564312011              286               3                 83\n",
       "19290   652978001               80               4                 51\n",
       "19291   619739006              304               4                  8\n",
       "19292   563551005              254               4                 62\n",
       "19293   558981019              273               4                 52\n",
       "\n",
       "[19294 rows x 4 columns]"
      ]
     },
     "execution_count": 23,
     "metadata": {},
     "output_type": "execute_result"
    }
   ],
   "source": [
    "item_features"
   ]
  },
  {
   "cell_type": "code",
   "execution_count": 24,
   "id": "1d2afa95",
   "metadata": {
    "execution": {
     "iopub.execute_input": "2022-07-14T17:02:53.431740Z",
     "iopub.status.busy": "2022-07-14T17:02:53.431377Z",
     "iopub.status.idle": "2022-07-14T17:02:54.420743Z",
     "shell.execute_reply": "2022-07-14T17:02:54.419182Z"
    },
    "papermill": {
     "duration": 1.014381,
     "end_time": "2022-07-14T17:02:54.423433",
     "exception": false,
     "start_time": "2022-07-14T17:02:53.409052",
     "status": "completed"
    },
    "tags": []
   },
   "outputs": [
    {
     "name": "stdout",
     "output_type": "stream",
     "text": [
      "<51527x19294 sparse matrix of type '<class 'numpy.int32'>'\n",
      "\twith 194000 stored elements in COOrdinate format>\n"
     ]
    }
   ],
   "source": [
    "\n",
    "dataset = Dataset()\n",
    "dataset.fit( users=(transactions_df_sample.customer_id.values),\n",
    "             items=(transactions_df_sample.article_id.values),\n",
    "             user_features=None,\n",
    "             #item_features=(item_features.product_type_no.values)\n",
    "             item_features=(item_features.index_group_no.values)\n",
    "            )\n",
    "\n",
    "\n",
    "(interactions, weights) = dataset.build_interactions((line\n",
    "    for line in zip(transactions_df_sample.customer_id.values, transactions_df_sample.article_id.values)))\n",
    "\n",
    "print(repr(interactions))"
   ]
  },
  {
   "cell_type": "code",
   "execution_count": 25,
   "id": "9225a6f7",
   "metadata": {
    "execution": {
     "iopub.execute_input": "2022-07-14T17:02:54.469743Z",
     "iopub.status.busy": "2022-07-14T17:02:54.469382Z",
     "iopub.status.idle": "2022-07-14T17:02:54.492051Z",
     "shell.execute_reply": "2022-07-14T17:02:54.490891Z"
    },
    "papermill": {
     "duration": 0.048403,
     "end_time": "2022-07-14T17:02:54.494569",
     "exception": false,
     "start_time": "2022-07-14T17:02:54.446166",
     "status": "completed"
    },
    "tags": []
   },
   "outputs": [
    {
     "data": {
      "text/plain": [
       "[(663713001, [1]), (541518023, [1]), (505221004, [2])]"
      ]
     },
     "execution_count": 25,
     "metadata": {},
     "output_type": "execute_result"
    }
   ],
   "source": [
    "[(article_id, [feature]) for article_id, feature  in zip(item_features.article_id.values, item_features.index_group_no.values)][:3]"
   ]
  },
  {
   "cell_type": "code",
   "execution_count": 26,
   "id": "58dd2307",
   "metadata": {
    "execution": {
     "iopub.execute_input": "2022-07-14T17:02:54.539576Z",
     "iopub.status.busy": "2022-07-14T17:02:54.539177Z",
     "iopub.status.idle": "2022-07-14T17:02:54.774913Z",
     "shell.execute_reply": "2022-07-14T17:02:54.773506Z"
    },
    "papermill": {
     "duration": 0.261524,
     "end_time": "2022-07-14T17:02:54.777492",
     "exception": false,
     "start_time": "2022-07-14T17:02:54.515968",
     "status": "completed"
    },
    "tags": []
   },
   "outputs": [
    {
     "name": "stdout",
     "output_type": "stream",
     "text": [
      "<19294x19299 sparse matrix of type '<class 'numpy.float32'>'\n",
      "\twith 38588 stored elements in Compressed Sparse Row format>\n"
     ]
    }
   ],
   "source": [
    "item_features_bld = dataset.build_item_features([(article_id, [feature]) for article_id, feature  \n",
    "                                                 in zip(item_features.article_id.values, item_features.index_group_no.values)])\n",
    "\n",
    "print(repr(item_features_bld))"
   ]
  },
  {
   "cell_type": "code",
   "execution_count": 27,
   "id": "e79169d7",
   "metadata": {
    "execution": {
     "iopub.execute_input": "2022-07-14T17:02:54.822180Z",
     "iopub.status.busy": "2022-07-14T17:02:54.821779Z",
     "iopub.status.idle": "2022-07-14T17:02:54.834346Z",
     "shell.execute_reply": "2022-07-14T17:02:54.833373Z"
    },
    "papermill": {
     "duration": 0.037842,
     "end_time": "2022-07-14T17:02:54.836734",
     "exception": false,
     "start_time": "2022-07-14T17:02:54.798892",
     "status": "completed"
    },
    "tags": []
   },
   "outputs": [],
   "source": [
    "# Make split\n",
    "train_sp, valid_sp = random_train_test_split(interactions, test_percentage=0.1, random_state=42)"
   ]
  },
  {
   "cell_type": "code",
   "execution_count": 28,
   "id": "8e12b5dd",
   "metadata": {
    "execution": {
     "iopub.execute_input": "2022-07-14T17:02:54.881483Z",
     "iopub.status.busy": "2022-07-14T17:02:54.881045Z",
     "iopub.status.idle": "2022-07-14T17:03:54.303033Z",
     "shell.execute_reply": "2022-07-14T17:03:54.301794Z"
    },
    "papermill": {
     "duration": 59.448531,
     "end_time": "2022-07-14T17:03:54.307065",
     "exception": false,
     "start_time": "2022-07-14T17:02:54.858534",
     "status": "completed"
    },
    "tags": []
   },
   "outputs": [
    {
     "name": "stdout",
     "output_type": "stream",
     "text": [
      "Train AUC: 0.9934\n",
      "Valid AUC: 0.8349\n"
     ]
    }
   ],
   "source": [
    "# Model without features\n",
    "\n",
    "model = LightFM(no_components=30, loss='warp', random_state=42)\n",
    "model.fit(train_sp, epochs=10, num_threads=2)\n",
    "\n",
    "# Evaluate the model\n",
    "print(\"Train AUC: %.4f\" % auc_score(model, train_sp).mean())\n",
    "print(\"Valid AUC: %.4f\" % auc_score(model, valid_sp).mean())"
   ]
  },
  {
   "cell_type": "code",
   "execution_count": 29,
   "id": "ccb24814",
   "metadata": {
    "execution": {
     "iopub.execute_input": "2022-07-14T17:03:54.351813Z",
     "iopub.status.busy": "2022-07-14T17:03:54.351447Z",
     "iopub.status.idle": "2022-07-14T17:05:03.607766Z",
     "shell.execute_reply": "2022-07-14T17:05:03.606582Z"
    },
    "papermill": {
     "duration": 69.28123,
     "end_time": "2022-07-14T17:05:03.610207",
     "exception": false,
     "start_time": "2022-07-14T17:03:54.328977",
     "status": "completed"
    },
    "tags": []
   },
   "outputs": [
    {
     "name": "stdout",
     "output_type": "stream",
     "text": [
      "Train AUC: 0.9839\n",
      "Valid AUC: 0.8670\n"
     ]
    }
   ],
   "source": [
    "# Model with item features\n",
    "model2 = LightFM(no_components=40, loss='warp', random_state=42)\n",
    "model2.fit(train_sp, item_features=item_features_bld, epochs=30, num_threads=2)\n",
    "print(\"Train AUC: %.4f\" % auc_score(model2, train_sp, item_features=item_features_bld).mean())\n",
    "print(\"Valid AUC: %.4f\" % auc_score(model2, valid_sp, item_features=item_features_bld).mean())\n",
    "#print('Precision: %.6f' %  precision_at_k(model2, valid_sp, item_features=item_features_csr, k=12).mean())"
   ]
  },
  {
   "cell_type": "code",
   "execution_count": 30,
   "id": "3bf11725",
   "metadata": {
    "execution": {
     "iopub.execute_input": "2022-07-14T17:05:03.655223Z",
     "iopub.status.busy": "2022-07-14T17:05:03.654613Z",
     "iopub.status.idle": "2022-07-14T17:05:03.662214Z",
     "shell.execute_reply": "2022-07-14T17:05:03.661114Z"
    },
    "papermill": {
     "duration": 0.032689,
     "end_time": "2022-07-14T17:05:03.664402",
     "exception": false,
     "start_time": "2022-07-14T17:05:03.631713",
     "status": "completed"
    },
    "tags": []
   },
   "outputs": [
    {
     "data": {
      "text/plain": [
       "19294"
      ]
     },
     "execution_count": 30,
     "metadata": {},
     "output_type": "execute_result"
    }
   ],
   "source": [
    "items = list(dataset.mapping()[2].values())\n",
    "len(items)"
   ]
  },
  {
   "cell_type": "code",
   "execution_count": 31,
   "id": "09dc3c8c",
   "metadata": {
    "execution": {
     "iopub.execute_input": "2022-07-14T17:05:03.709483Z",
     "iopub.status.busy": "2022-07-14T17:05:03.708682Z",
     "iopub.status.idle": "2022-07-14T17:05:03.717625Z",
     "shell.execute_reply": "2022-07-14T17:05:03.716722Z"
    },
    "papermill": {
     "duration": 0.034141,
     "end_time": "2022-07-14T17:05:03.719900",
     "exception": false,
     "start_time": "2022-07-14T17:05:03.685759",
     "status": "completed"
    },
    "tags": []
   },
   "outputs": [],
   "source": [
    "\n",
    "#dataset.mapping()[2].keys()[dataset.mapping()[2].values().index(16)]\n",
    "rev_dict = dict()\n",
    "for key, val in dataset.mapping()[2].items():\n",
    "    rev_dict[val] = key"
   ]
  },
  {
   "cell_type": "code",
   "execution_count": 32,
   "id": "d40f7fd9",
   "metadata": {
    "execution": {
     "iopub.execute_input": "2022-07-14T17:05:03.765616Z",
     "iopub.status.busy": "2022-07-14T17:05:03.765147Z",
     "iopub.status.idle": "2022-07-14T17:05:03.772449Z",
     "shell.execute_reply": "2022-07-14T17:05:03.771511Z"
    },
    "papermill": {
     "duration": 0.032682,
     "end_time": "2022-07-14T17:05:03.774567",
     "exception": false,
     "start_time": "2022-07-14T17:05:03.741885",
     "status": "completed"
    },
    "tags": []
   },
   "outputs": [
    {
     "data": {
      "text/plain": [
       "500"
      ]
     },
     "execution_count": 32,
     "metadata": {},
     "output_type": "execute_result"
    }
   ],
   "source": [
    "customer_test_df_incoded = [dataset.mapping()[0][id] for id in customer_test_df.customer_id.values]\n",
    "len(customer_test_df_incoded)"
   ]
  },
  {
   "cell_type": "code",
   "execution_count": 33,
   "id": "c8e4e68e",
   "metadata": {
    "execution": {
     "iopub.execute_input": "2022-07-14T17:05:03.820625Z",
     "iopub.status.busy": "2022-07-14T17:05:03.819807Z",
     "iopub.status.idle": "2022-07-14T17:05:03.829398Z",
     "shell.execute_reply": "2022-07-14T17:05:03.828341Z"
    },
    "papermill": {
     "duration": 0.0354,
     "end_time": "2022-07-14T17:05:03.831922",
     "exception": false,
     "start_time": "2022-07-14T17:05:03.796522",
     "status": "completed"
    },
    "tags": []
   },
   "outputs": [
    {
     "data": {
      "text/plain": [
       "array([-2.21026   , -0.17422092,  1.3665669 ], dtype=float32)"
      ]
     },
     "execution_count": 33,
     "metadata": {},
     "output_type": "execute_result"
    }
   ],
   "source": [
    "model2.predict(customer_test_df_incoded[0], items[:3], item_features=item_features_bld)"
   ]
  },
  {
   "cell_type": "code",
   "execution_count": 34,
   "id": "87654434",
   "metadata": {
    "execution": {
     "iopub.execute_input": "2022-07-14T17:05:03.888483Z",
     "iopub.status.busy": "2022-07-14T17:05:03.888027Z",
     "iopub.status.idle": "2022-07-14T17:05:03.960361Z",
     "shell.execute_reply": "2022-07-14T17:05:03.959231Z"
    },
    "papermill": {
     "duration": 0.104028,
     "end_time": "2022-07-14T17:05:03.963166",
     "exception": false,
     "start_time": "2022-07-14T17:05:03.859138",
     "status": "completed"
    },
    "tags": []
   },
   "outputs": [],
   "source": [
    "\n",
    "def sample_recommendation(model, transactions_df, articles_df, num,  items, dataset, user_ids, item_features=None, user_features=None, printfile='log.txt'):\n",
    "\n",
    "    sourceFile = open(printfile, 'w')\n",
    "    #print('Hello, Python!', file = sourceFile)\n",
    "       \n",
    "    \n",
    "    #print(items[:10])\n",
    "    recomends = []\n",
    "\n",
    "    for user_id in user_ids:\n",
    "        print(\"\", file = sourceFile)\n",
    "        print(\"*\" * 60, file = sourceFile)\n",
    "        print(\"  Recomendations for user_id =\", user_id, file = sourceFile)\n",
    "        print(\"*\" * 60, file = sourceFile)\n",
    "        \n",
    "        print(\"\\n     Already bought:\", file = sourceFile)\n",
    "        rtg = transactions_df[transactions_df[\"customer_id\"] == user_id][\"article_id\"].values\n",
    "        \n",
    "        #print(\"{:10}  {:25} {:20} {:20} {:40}\".format(\"id\", \"prod name\", \"product type name\",\"index group name\", \"section name\"))\n",
    "        #print()\n",
    "\n",
    "        for item in rtg:           \n",
    "            print(\"{:10}  {:25} {:20} {:20} {:40}\".format(item, articles_df.loc[item, \"prod_name\"], articles_df.loc[item, \"product_type_name\"],\n",
    "                                                          articles_df.loc[item, \"index_group_name\"],\n",
    "                                                          articles_df.loc[item, \"section_name\"], \n",
    "                                                          ), file = sourceFile)\n",
    "\n",
    "        # make prediction \n",
    "        #scores = model.predict([user_id for i in range(len(items))], items, item_features=item_features, user_features=user_features)\n",
    "        \n",
    "        inner_id = dataset.mapping()[0][user_id]\n",
    "        \n",
    "        #print(\"inner id=\", inner_id)\n",
    "        \n",
    "        scores = model.predict(inner_id, items, item_features=item_features, user_features=user_features)\n",
    "        \n",
    "        \n",
    "        # n-top score \n",
    "        num_of_cand = 50\n",
    "        argsort_scores_idx = np.argsort(scores)[-num_of_cand:]\n",
    "        argsort_scores_idx = np.flip(argsort_scores_idx)\n",
    "        \n",
    "        print(\"\\n     Recommended:\", file = sourceFile)\n",
    "        k = 1\n",
    "        \n",
    "        recs = []\n",
    "        for ind in argsort_scores_idx:\n",
    "            #print(i, items[i],article_dict[items[i]])\n",
    "            ii = rev_dict[items[ind]]\n",
    "            \n",
    "            # check if already bought\n",
    "            if ii in rtg:\n",
    "                continue\n",
    "            else: k+=1\n",
    "            \n",
    "            recs.append(ii)\n",
    "            \n",
    "            print(\"{:10}  {:25} {:20} {:20} {:40} score={:.3}\".format(ii, articles_df.loc[ii, \"prod_name\"], \n",
    "                                                          articles_df.loc[ii, \"product_type_name\"],\n",
    "                                                          articles_df.loc[ii, \"index_group_name\"],\n",
    "                                                          articles_df.loc[ii, \"section_name\"],\n",
    "                                                          scores[ind]     \n",
    "                                                          ), file = sourceFile)\n",
    "            if k > num: break\n",
    "        #print()\n",
    "        \n",
    "        recomends.append(recs)\n",
    "        \n",
    "    sourceFile.close()\n",
    "        \n",
    "    return recomends\n",
    "        \n",
    "recomends = sample_recommendation(model2,\n",
    "                                  transactions_df_sample,\n",
    "                                  articles_df.set_index(\"article_id\"),\n",
    "                                  5,\n",
    "                                  items, \n",
    "                                  dataset,\n",
    "                                  customer_test_df.customer_id.values[:1],\n",
    "                                  item_features=item_features_bld)"
   ]
  },
  {
   "cell_type": "code",
   "execution_count": 35,
   "id": "56fa7f55",
   "metadata": {
    "execution": {
     "iopub.execute_input": "2022-07-14T17:05:04.009210Z",
     "iopub.status.busy": "2022-07-14T17:05:04.008803Z",
     "iopub.status.idle": "2022-07-14T17:05:24.329527Z",
     "shell.execute_reply": "2022-07-14T17:05:24.328606Z"
    },
    "papermill": {
     "duration": 20.346956,
     "end_time": "2022-07-14T17:05:24.332068",
     "exception": false,
     "start_time": "2022-07-14T17:05:03.985112",
     "status": "completed"
    },
    "tags": []
   },
   "outputs": [],
   "source": [
    "lightfm_plus_preds = sample_recommendation(model2,\n",
    "                                  transactions_df_sample,\n",
    "                                  articles_df.set_index(\"article_id\"),\n",
    "                                  24,\n",
    "                                  items, \n",
    "                                  dataset,\n",
    "                                  customer_test_df.customer_id.values,\n",
    "                                  item_features=item_features_bld,\n",
    "                                  printfile='log1.txt')\n"
   ]
  },
  {
   "cell_type": "code",
   "execution_count": 36,
   "id": "4fd1406a",
   "metadata": {
    "execution": {
     "iopub.execute_input": "2022-07-14T17:05:24.378070Z",
     "iopub.status.busy": "2022-07-14T17:05:24.377374Z",
     "iopub.status.idle": "2022-07-14T17:05:24.387201Z",
     "shell.execute_reply": "2022-07-14T17:05:24.386391Z"
    },
    "papermill": {
     "duration": 0.035472,
     "end_time": "2022-07-14T17:05:24.389386",
     "exception": false,
     "start_time": "2022-07-14T17:05:24.353914",
     "status": "completed"
    },
    "tags": []
   },
   "outputs": [],
   "source": [
    "import pickle\n",
    "\n",
    "with open('lightfm_plus_preds', 'wb') as fp:\n",
    "    pickle.dump(lightfm_plus_preds, fp)"
   ]
  },
  {
   "cell_type": "code",
   "execution_count": 37,
   "id": "6be5d641",
   "metadata": {
    "execution": {
     "iopub.execute_input": "2022-07-14T17:05:24.435042Z",
     "iopub.status.busy": "2022-07-14T17:05:24.434254Z",
     "iopub.status.idle": "2022-07-14T17:05:25.170701Z",
     "shell.execute_reply": "2022-07-14T17:05:25.169391Z"
    },
    "papermill": {
     "duration": 0.767938,
     "end_time": "2022-07-14T17:05:25.178974",
     "exception": false,
     "start_time": "2022-07-14T17:05:24.411036",
     "status": "completed"
    },
    "tags": []
   },
   "outputs": [
    {
     "name": "stdout",
     "output_type": "stream",
     "text": [
      "500\n"
     ]
    }
   ],
   "source": [
    "ground_truth_list = []\n",
    "\n",
    "# go through all customers from test list\n",
    "for k, customer in enumerate(customer_test_df.customer_id):\n",
    "    ground_truth_list.append(np.array(\n",
    "        customer_test_df_hiden_transactions[customer_test_df_hiden_transactions.customer_id == customer].article_id))\n",
    "    \n",
    "print(len(ground_truth_list))"
   ]
  },
  {
   "cell_type": "code",
   "execution_count": 38,
   "id": "b772bff8",
   "metadata": {
    "execution": {
     "iopub.execute_input": "2022-07-14T17:05:25.229234Z",
     "iopub.status.busy": "2022-07-14T17:05:25.228854Z",
     "iopub.status.idle": "2022-07-14T17:05:25.248680Z",
     "shell.execute_reply": "2022-07-14T17:05:25.247718Z"
    },
    "papermill": {
     "duration": 0.04753,
     "end_time": "2022-07-14T17:05:25.250765",
     "exception": false,
     "start_time": "2022-07-14T17:05:25.203235",
     "status": "completed"
    },
    "tags": []
   },
   "outputs": [],
   "source": [
    "def jaccard_similarity(list1, list2):\n",
    "    intersection = len(list(set(list1).intersection(list2)))\n",
    "    union = (len(set(list1)) + len(set(list2))) - intersection\n",
    "    return float(intersection) / union\n",
    "\n",
    "def jaccard(actual, predicted):\n",
    "    return np.mean([jaccard_similarity(a,b) for a,b in zip(actual, predicted)])\n",
    "\n",
    "def dice_similarity(list1, list2):\n",
    "    intersection = 2 * len(list(set(list1).intersection(list2)))\n",
    "    union = (len(set(list1)) + len(set(list2))) \n",
    "    return float(intersection) / union\n",
    "\n",
    "def dice(actual, predicted):\n",
    "    return np.mean([dice_similarity(a,b) for a,b in zip(actual, predicted)])\n",
    "\n",
    "def intersept(list1, list2):\n",
    "    return np.sum([len(list(set(a).intersection(b))) for a,b in zip(list1, list2)])\n",
    "\n",
    "def apk(actual, predicted, k=10):\n",
    "    \"\"\"\n",
    "    Computes the average precision at k.\n",
    "    This function computes the average prescision at k between two lists of\n",
    "    items.\n",
    "    Parameters\n",
    "    ----------\n",
    "    actual : list\n",
    "             A list of elements that are to be predicted (order doesn't matter)\n",
    "    predicted : list\n",
    "                A list of predicted elements (order does matter)\n",
    "    k : int, optional\n",
    "        The maximum number of predicted elements\n",
    "    Returns\n",
    "    -------\n",
    "    score : double\n",
    "            The average precision at k over the input lists\n",
    "    \"\"\"\n",
    "    if len(predicted)>k:\n",
    "        predicted = predicted[:k]\n",
    "\n",
    "    score = 0.0\n",
    "    num_hits = 0.0\n",
    "\n",
    "    for i,p in enumerate(predicted):\n",
    "        if p in actual and p not in predicted[:i]:\n",
    "            num_hits += 1.0\n",
    "            score += num_hits / (i+1.0)\n",
    "\n",
    "    #if not actual:\n",
    "    #    return 0.0\n",
    "\n",
    "    return score / min(len(actual), k)\n",
    "\n",
    "\n",
    "def mapk(actual, predicted, k=10):\n",
    "    \"\"\"\n",
    "    Computes the mean average precision at k.\n",
    "    This function computes the mean average prescision at k between two lists\n",
    "    of lists of items.\n",
    "    Parameters\n",
    "    ----------\n",
    "    actual : list\n",
    "             A list of lists of elements that are to be predicted \n",
    "             (order doesn't matter in the lists)\n",
    "    predicted : list\n",
    "                A list of lists of predicted elements\n",
    "                (order matters in the lists)\n",
    "    k : int, optional\n",
    "        The maximum number of predicted elements\n",
    "    Returns\n",
    "    -------\n",
    "    score : double\n",
    "            The mean average precision at k over the input lists\n",
    "    \"\"\"\n",
    "    return np.mean([apk(a,p,k) for a,p in zip(actual, predicted)])\n",
    "\n",
    "\n",
    "\n",
    "def metrics(ground_truth, mp_preds):\n",
    "    mp_interception = intersept(ground_truth_list, mp_preds)\n",
    "    mp_jaccard_similarity = jaccard(ground_truth_list, mp_preds)\n",
    "    mp_dice = dice(ground_truth_list, mp_preds)    \n",
    "    mp_maok12 = mapk(ground_truth_list, mp_preds, 12)\n",
    "\n",
    "    print(\"Interceptions: {} from {} ({:.4}%)\".format(mp_interception, len(ground_truth) * 12, mp_interception*100/(len(ground_truth) * 12)) )\n",
    "    print(\"Jaccard: {:.4}\".format(mp_jaccard_similarity))\n",
    "    print(\"Dice: {:.4}\".format(mp_dice))\n",
    "    print(\"Mean Average Precision @ 12: {:.4}\".format(mp_maok12))\n",
    "    \n",
    "    return [mp_interception, mp_interception*100/(len(ground_truth) * 12), mp_jaccard_similarity, mp_dice, mp_maok12]"
   ]
  },
  {
   "cell_type": "code",
   "execution_count": 39,
   "id": "bf5609ae",
   "metadata": {
    "execution": {
     "iopub.execute_input": "2022-07-14T17:05:25.301158Z",
     "iopub.status.busy": "2022-07-14T17:05:25.300155Z",
     "iopub.status.idle": "2022-07-14T17:05:25.355358Z",
     "shell.execute_reply": "2022-07-14T17:05:25.354430Z"
    },
    "papermill": {
     "duration": 0.083777,
     "end_time": "2022-07-14T17:05:25.358588",
     "exception": false,
     "start_time": "2022-07-14T17:05:25.274811",
     "status": "completed"
    },
    "tags": []
   },
   "outputs": [
    {
     "name": "stdout",
     "output_type": "stream",
     "text": [
      "Interceptions: 209 from 6000 (3.483%)\n",
      "Jaccard: 0.01306\n",
      "Dice: 0.02464\n",
      "Mean Average Precision @ 12: 0.008217\n"
     ]
    }
   ],
   "source": [
    "lightfm_metrics = metrics(ground_truth_list, lightfm_plus_preds)"
   ]
  },
  {
   "cell_type": "markdown",
   "id": "4ae9a5f7",
   "metadata": {
    "papermill": {
     "duration": 0.022984,
     "end_time": "2022-07-14T17:05:25.405945",
     "exception": false,
     "start_time": "2022-07-14T17:05:25.382961",
     "status": "completed"
    },
    "tags": []
   },
   "source": [
    "# Clusterization"
   ]
  },
  {
   "cell_type": "code",
   "execution_count": 40,
   "id": "e385e9fe",
   "metadata": {
    "execution": {
     "iopub.execute_input": "2022-07-14T17:05:25.453870Z",
     "iopub.status.busy": "2022-07-14T17:05:25.453081Z",
     "iopub.status.idle": "2022-07-14T17:05:25.678846Z",
     "shell.execute_reply": "2022-07-14T17:05:25.677632Z"
    },
    "papermill": {
     "duration": 0.252476,
     "end_time": "2022-07-14T17:05:25.681608",
     "exception": false,
     "start_time": "2022-07-14T17:05:25.429132",
     "status": "completed"
    },
    "tags": []
   },
   "outputs": [],
   "source": [
    "from sklearn.cluster import KMeans"
   ]
  },
  {
   "cell_type": "code",
   "execution_count": 41,
   "id": "50d448b1",
   "metadata": {
    "execution": {
     "iopub.execute_input": "2022-07-14T17:05:25.733212Z",
     "iopub.status.busy": "2022-07-14T17:05:25.732219Z",
     "iopub.status.idle": "2022-07-14T17:05:25.737019Z",
     "shell.execute_reply": "2022-07-14T17:05:25.735997Z"
    },
    "papermill": {
     "duration": 0.031942,
     "end_time": "2022-07-14T17:05:25.739222",
     "exception": false,
     "start_time": "2022-07-14T17:05:25.707280",
     "status": "completed"
    },
    "tags": []
   },
   "outputs": [],
   "source": [
    "data_sp = interactions"
   ]
  },
  {
   "cell_type": "code",
   "execution_count": 42,
   "id": "6ba2ab8d",
   "metadata": {
    "execution": {
     "iopub.execute_input": "2022-07-14T17:05:25.787281Z",
     "iopub.status.busy": "2022-07-14T17:05:25.786362Z",
     "iopub.status.idle": "2022-07-14T17:05:26.992849Z",
     "shell.execute_reply": "2022-07-14T17:05:26.991767Z"
    },
    "papermill": {
     "duration": 1.233763,
     "end_time": "2022-07-14T17:05:26.995770",
     "exception": false,
     "start_time": "2022-07-14T17:05:25.762007",
     "status": "completed"
    },
    "tags": []
   },
   "outputs": [],
   "source": [
    "n_clusters_kmeans = 2\n",
    "\n",
    "kmeans2 = KMeans(n_clusters=n_clusters_kmeans, random_state=42).fit(data_sp)\n",
    "kmeans_labels2 = kmeans2.labels_"
   ]
  },
  {
   "cell_type": "code",
   "execution_count": 43,
   "id": "62f18c23",
   "metadata": {
    "execution": {
     "iopub.execute_input": "2022-07-14T17:05:27.045430Z",
     "iopub.status.busy": "2022-07-14T17:05:27.045001Z",
     "iopub.status.idle": "2022-07-14T17:05:27.055410Z",
     "shell.execute_reply": "2022-07-14T17:05:27.054259Z"
    },
    "papermill": {
     "duration": 0.037611,
     "end_time": "2022-07-14T17:05:27.057751",
     "exception": false,
     "start_time": "2022-07-14T17:05:27.020140",
     "status": "completed"
    },
    "tags": []
   },
   "outputs": [
    {
     "data": {
      "text/plain": [
       "0    51526\n",
       "1        1\n",
       "dtype: int64"
      ]
     },
     "execution_count": 43,
     "metadata": {},
     "output_type": "execute_result"
    }
   ],
   "source": [
    "pd.value_counts(kmeans_labels2)"
   ]
  },
  {
   "cell_type": "code",
   "execution_count": 44,
   "id": "d590a408",
   "metadata": {
    "execution": {
     "iopub.execute_input": "2022-07-14T17:05:27.106866Z",
     "iopub.status.busy": "2022-07-14T17:05:27.106117Z",
     "iopub.status.idle": "2022-07-14T17:11:45.948036Z",
     "shell.execute_reply": "2022-07-14T17:11:45.946338Z"
    },
    "papermill": {
     "duration": 378.872369,
     "end_time": "2022-07-14T17:11:45.954038",
     "exception": false,
     "start_time": "2022-07-14T17:05:27.081669",
     "status": "completed"
    },
    "tags": []
   },
   "outputs": [],
   "source": [
    "import umap\n",
    "\n",
    "data_20 = umap.UMAP(n_components=20, random_state=3).fit_transform(data_sp)"
   ]
  },
  {
   "cell_type": "code",
   "execution_count": 45,
   "id": "33c47edf",
   "metadata": {
    "execution": {
     "iopub.execute_input": "2022-07-14T17:11:46.008739Z",
     "iopub.status.busy": "2022-07-14T17:11:46.006859Z",
     "iopub.status.idle": "2022-07-14T17:11:48.171627Z",
     "shell.execute_reply": "2022-07-14T17:11:48.170398Z"
    },
    "papermill": {
     "duration": 2.193469,
     "end_time": "2022-07-14T17:11:48.174754",
     "exception": false,
     "start_time": "2022-07-14T17:11:45.981285",
     "status": "completed"
    },
    "tags": []
   },
   "outputs": [
    {
     "data": {
      "text/plain": [
       "0    49019\n",
       "1     2508\n",
       "dtype: int64"
      ]
     },
     "execution_count": 45,
     "metadata": {},
     "output_type": "execute_result"
    }
   ],
   "source": [
    "n_clusters_kmeans = 2\n",
    "kmeans2 = KMeans(n_clusters=n_clusters_kmeans, random_state=42).fit(data_20)\n",
    "kmeans_labels2 = kmeans2.labels_\n",
    "pd.value_counts(kmeans_labels2)"
   ]
  },
  {
   "cell_type": "code",
   "execution_count": 46,
   "id": "7991e200",
   "metadata": {
    "execution": {
     "iopub.execute_input": "2022-07-14T17:11:48.222726Z",
     "iopub.status.busy": "2022-07-14T17:11:48.222083Z",
     "iopub.status.idle": "2022-07-14T17:14:16.968085Z",
     "shell.execute_reply": "2022-07-14T17:14:16.966793Z"
    },
    "papermill": {
     "duration": 148.774111,
     "end_time": "2022-07-14T17:14:16.971634",
     "exception": false,
     "start_time": "2022-07-14T17:11:48.197523",
     "status": "completed"
    },
    "tags": []
   },
   "outputs": [],
   "source": [
    "from sklearn.decomposition import PCA\n",
    "#from MulticoreTSNE import MulticoreTSNE as TSNE\n",
    "import umap\n",
    "\n",
    "decomposition_model_labels = [\n",
    "#    'PCA',\n",
    "#    'tNSE',\n",
    "    'UMAP',\n",
    "]\n",
    "\n",
    "decomposition_models = [\n",
    "#    PCA(n_components=2),\n",
    "#    TSNE(n_components=2, random_state=3, n_jobs=-1),\n",
    "    umap.UMAP(n_components=2, random_state=3)\n",
    "]\n",
    "\n",
    "data_2d = pd.DataFrame(kmeans_labels2, columns=['kmeans_label'])\n",
    "#data_2d['kmeans_label'] = kmeans_labels\n",
    "\n",
    "\n",
    "for i, model_ in enumerate(decomposition_models):\n",
    "    ##print(i, decomposition_model_labels[i])\n",
    "    data = pd.DataFrame(model_.fit_transform(data_sp))\n",
    "    data_2d[decomposition_model_labels[i]+'_x'] = data[0]\n",
    "    data_2d[decomposition_model_labels[i]+'_y'] = data[1]\n",
    "\n"
   ]
  },
  {
   "cell_type": "code",
   "execution_count": 47,
   "id": "a1683cca",
   "metadata": {
    "execution": {
     "iopub.execute_input": "2022-07-14T17:14:17.024630Z",
     "iopub.status.busy": "2022-07-14T17:14:17.023930Z",
     "iopub.status.idle": "2022-07-14T17:14:18.887712Z",
     "shell.execute_reply": "2022-07-14T17:14:18.886420Z"
    },
    "papermill": {
     "duration": 1.894578,
     "end_time": "2022-07-14T17:14:18.892118",
     "exception": false,
     "start_time": "2022-07-14T17:14:16.997540",
     "status": "completed"
    },
    "tags": []
   },
   "outputs": [
    {
     "data": {
      "image/png": "[encoded data removed]",
      "text/plain": [
       "<Figure size 720x576 with 1 Axes>"
      ]
     },
     "metadata": {
      "needs_background": "light"
     },
     "output_type": "display_data"
    }
   ],
   "source": [
    "\n",
    "#fig, axes = plt.subplots(nrows=1, ncols=2,  figsize=(12,6))\n",
    "plt.figure(figsize=(10,8))\n",
    "plt.suptitle(\"K-Means Predicted Labels Visualization\")\n",
    "for i, label in enumerate(decomposition_model_labels):\n",
    "    sns.scatterplot(x=data_2d[label+'_x'], y=data_2d[label+'_y'], hue=data_2d['kmeans_label'])\n",
    "    #axes[i].set_title(label) "
   ]
  },
  {
   "cell_type": "markdown",
   "id": "60652d57",
   "metadata": {
    "papermill": {
     "duration": 0.025285,
     "end_time": "2022-07-14T17:14:18.942998",
     "exception": false,
     "start_time": "2022-07-14T17:14:18.917713",
     "status": "completed"
    },
    "tags": []
   },
   "source": [
    "**Use cluster labels**"
   ]
  },
  {
   "cell_type": "code",
   "execution_count": 48,
   "id": "819fdce0",
   "metadata": {
    "execution": {
     "iopub.execute_input": "2022-07-14T17:14:18.999809Z",
     "iopub.status.busy": "2022-07-14T17:14:18.998985Z",
     "iopub.status.idle": "2022-07-14T17:14:20.105829Z",
     "shell.execute_reply": "2022-07-14T17:14:20.104307Z"
    },
    "papermill": {
     "duration": 1.135886,
     "end_time": "2022-07-14T17:14:20.108423",
     "exception": false,
     "start_time": "2022-07-14T17:14:18.972537",
     "status": "completed"
    },
    "tags": []
   },
   "outputs": [
    {
     "name": "stdout",
     "output_type": "stream",
     "text": [
      "<51527x19294 sparse matrix of type '<class 'numpy.int32'>'\n",
      "\twith 194000 stored elements in COOrdinate format>\n"
     ]
    }
   ],
   "source": [
    "\n",
    "dataset2 = Dataset()\n",
    "dataset2.fit(users=(transactions_df_sample.customer_id.values),\n",
    "             items=(transactions_df_sample.article_id.values),\n",
    "             user_features=(kmeans_labels2),\n",
    "             item_features=(item_features.index_group_no.values)\n",
    "            )\n",
    "\n",
    "\n",
    "(interactions, weights) = dataset2.build_interactions((line\n",
    "    for line in zip(transactions_df_sample.customer_id.values, transactions_df_sample.article_id.values)))\n",
    "\n",
    "print(repr(interactions))"
   ]
  },
  {
   "cell_type": "code",
   "execution_count": 49,
   "id": "3efdb7b6",
   "metadata": {
    "execution": {
     "iopub.execute_input": "2022-07-14T17:14:20.163414Z",
     "iopub.status.busy": "2022-07-14T17:14:20.162232Z",
     "iopub.status.idle": "2022-07-14T17:14:20.167516Z",
     "shell.execute_reply": "2022-07-14T17:14:20.166408Z"
    },
    "papermill": {
     "duration": 0.035423,
     "end_time": "2022-07-14T17:14:20.169944",
     "exception": false,
     "start_time": "2022-07-14T17:14:20.134521",
     "status": "completed"
    },
    "tags": []
   },
   "outputs": [],
   "source": [
    "#dataset2.mapping()[0]"
   ]
  },
  {
   "cell_type": "code",
   "execution_count": 50,
   "id": "ad091964",
   "metadata": {
    "execution": {
     "iopub.execute_input": "2022-07-14T17:14:20.224844Z",
     "iopub.status.busy": "2022-07-14T17:14:20.223888Z",
     "iopub.status.idle": "2022-07-14T17:14:20.233484Z",
     "shell.execute_reply": "2022-07-14T17:14:20.232538Z"
    },
    "papermill": {
     "duration": 0.039396,
     "end_time": "2022-07-14T17:14:20.235813",
     "exception": false,
     "start_time": "2022-07-14T17:14:20.196417",
     "status": "completed"
    },
    "tags": []
   },
   "outputs": [
    {
     "data": {
      "text/plain": [
       "19294"
      ]
     },
     "execution_count": 50,
     "metadata": {},
     "output_type": "execute_result"
    }
   ],
   "source": [
    "users = list(dataset2.mapping()[0].keys())\n",
    "len(items)"
   ]
  },
  {
   "cell_type": "code",
   "execution_count": 51,
   "id": "8c1d09fa",
   "metadata": {
    "execution": {
     "iopub.execute_input": "2022-07-14T17:14:20.291728Z",
     "iopub.status.busy": "2022-07-14T17:14:20.290508Z",
     "iopub.status.idle": "2022-07-14T17:14:21.060682Z",
     "shell.execute_reply": "2022-07-14T17:14:21.059385Z"
    },
    "papermill": {
     "duration": 0.801079,
     "end_time": "2022-07-14T17:14:21.063585",
     "exception": false,
     "start_time": "2022-07-14T17:14:20.262506",
     "status": "completed"
    },
    "tags": []
   },
   "outputs": [
    {
     "name": "stdout",
     "output_type": "stream",
     "text": [
      "<19294x19299 sparse matrix of type '<class 'numpy.float32'>'\n",
      "\twith 38588 stored elements in Compressed Sparse Row format>\n"
     ]
    }
   ],
   "source": [
    "user_features_bld = dataset2.build_user_features([(user, [feature]) for user, feature  \n",
    "                                                 in zip (users, kmeans_labels2)])\n",
    "\n",
    "print(repr(item_features_bld))"
   ]
  },
  {
   "cell_type": "code",
   "execution_count": 52,
   "id": "82a4bcc1",
   "metadata": {
    "execution": {
     "iopub.execute_input": "2022-07-14T17:14:21.116134Z",
     "iopub.status.busy": "2022-07-14T17:14:21.114879Z",
     "iopub.status.idle": "2022-07-14T17:14:21.230135Z",
     "shell.execute_reply": "2022-07-14T17:14:21.228511Z"
    },
    "papermill": {
     "duration": 0.143912,
     "end_time": "2022-07-14T17:14:21.232659",
     "exception": false,
     "start_time": "2022-07-14T17:14:21.088747",
     "status": "completed"
    },
    "tags": []
   },
   "outputs": [
    {
     "name": "stdout",
     "output_type": "stream",
     "text": [
      "<19294x19299 sparse matrix of type '<class 'numpy.float32'>'\n",
      "\twith 38588 stored elements in Compressed Sparse Row format>\n"
     ]
    }
   ],
   "source": [
    "item_features_bld = dataset2.build_item_features([(article_id, [feature]) for article_id, feature  \n",
    "                                                 in zip(item_features.article_id.values, item_features.index_group_no.values)])\n",
    "\n",
    "print(repr(item_features_bld))"
   ]
  },
  {
   "cell_type": "code",
   "execution_count": 53,
   "id": "87b9df92",
   "metadata": {
    "execution": {
     "iopub.execute_input": "2022-07-14T17:14:21.284981Z",
     "iopub.status.busy": "2022-07-14T17:14:21.284212Z",
     "iopub.status.idle": "2022-07-14T17:14:21.298129Z",
     "shell.execute_reply": "2022-07-14T17:14:21.297288Z"
    },
    "papermill": {
     "duration": 0.043015,
     "end_time": "2022-07-14T17:14:21.300574",
     "exception": false,
     "start_time": "2022-07-14T17:14:21.257559",
     "status": "completed"
    },
    "tags": []
   },
   "outputs": [],
   "source": [
    "# Make split\n",
    "train_sp, valid_sp = random_train_test_split(interactions, test_percentage=0.1, random_state=42)"
   ]
  },
  {
   "cell_type": "code",
   "execution_count": 54,
   "id": "5e9377b3",
   "metadata": {
    "execution": {
     "iopub.execute_input": "2022-07-14T17:14:21.352499Z",
     "iopub.status.busy": "2022-07-14T17:14:21.352099Z",
     "iopub.status.idle": "2022-07-14T17:15:25.702930Z",
     "shell.execute_reply": "2022-07-14T17:15:25.701557Z"
    },
    "papermill": {
     "duration": 64.380288,
     "end_time": "2022-07-14T17:15:25.705828",
     "exception": false,
     "start_time": "2022-07-14T17:14:21.325540",
     "status": "completed"
    },
    "tags": []
   },
   "outputs": [
    {
     "name": "stdout",
     "output_type": "stream",
     "text": [
      "Train AUC: 0.9998\n",
      "Valid AUC: 0.8187\n"
     ]
    }
   ],
   "source": [
    "model4 = LightFM(no_components=30, loss='warp', random_state=42)\n",
    "model4.fit(train_sp, epochs=40, num_threads=2)\n",
    "print(\"Train AUC: %.4f\" % auc_score(model4, train_sp).mean())\n",
    "print(\"Valid AUC: %.4f\" % auc_score(model4, valid_sp).mean())\n"
   ]
  },
  {
   "cell_type": "code",
   "execution_count": 55,
   "id": "92ba8f10",
   "metadata": {
    "execution": {
     "iopub.execute_input": "2022-07-14T17:15:25.759676Z",
     "iopub.status.busy": "2022-07-14T17:15:25.759239Z",
     "iopub.status.idle": "2022-07-14T17:16:34.744796Z",
     "shell.execute_reply": "2022-07-14T17:16:34.743204Z"
    },
    "papermill": {
     "duration": 69.015831,
     "end_time": "2022-07-14T17:16:34.747820",
     "exception": false,
     "start_time": "2022-07-14T17:15:25.731989",
     "status": "completed"
    },
    "tags": []
   },
   "outputs": [
    {
     "name": "stdout",
     "output_type": "stream",
     "text": [
      "Train AUC: 0.9634\n",
      "Valid AUC: 0.8372\n"
     ]
    }
   ],
   "source": [
    "model3 = LightFM(no_components=30, loss='warp', random_state=42)\n",
    "model3.fit(train_sp, user_features=user_features_bld, epochs=40, num_threads=2)\n",
    "print(\"Train AUC: %.4f\" % auc_score(model3, train_sp, user_features=user_features_bld).mean())\n",
    "print(\"Valid AUC: %.4f\" % auc_score(model3, valid_sp, user_features=user_features_bld).mean())\n"
   ]
  },
  {
   "cell_type": "code",
   "execution_count": 56,
   "id": "8178a189",
   "metadata": {
    "execution": {
     "iopub.execute_input": "2022-07-14T17:16:34.802134Z",
     "iopub.status.busy": "2022-07-14T17:16:34.801763Z",
     "iopub.status.idle": "2022-07-14T17:18:00.050902Z",
     "shell.execute_reply": "2022-07-14T17:18:00.049405Z"
    },
    "papermill": {
     "duration": 85.280001,
     "end_time": "2022-07-14T17:18:00.054449",
     "exception": false,
     "start_time": "2022-07-14T17:16:34.774448",
     "status": "completed"
    },
    "tags": []
   },
   "outputs": [
    {
     "name": "stdout",
     "output_type": "stream",
     "text": [
      "Train AUC: 0.9453\n",
      "Valid AUC: 0.8800\n"
     ]
    }
   ],
   "source": [
    "model5 = LightFM(no_components=30, loss='warp', random_state=42)\n",
    "model5.fit(train_sp, user_features=user_features_bld, item_features=item_features_bld, epochs=50, num_threads=2)\n",
    "print(\"Train AUC: %.4f\" % auc_score(model5, train_sp, user_features=user_features_bld, item_features=item_features_bld).mean())\n",
    "print(\"Valid AUC: %.4f\" % auc_score(model5, valid_sp, user_features=user_features_bld, item_features=item_features_bld).mean())\n"
   ]
  },
  {
   "cell_type": "code",
   "execution_count": 57,
   "id": "8ab7f939",
   "metadata": {
    "execution": {
     "iopub.execute_input": "2022-07-14T17:18:00.111748Z",
     "iopub.status.busy": "2022-07-14T17:18:00.111303Z",
     "iopub.status.idle": "2022-07-14T17:19:16.626708Z",
     "shell.execute_reply": "2022-07-14T17:19:16.625484Z"
    },
    "papermill": {
     "duration": 76.547861,
     "end_time": "2022-07-14T17:19:16.629479",
     "exception": false,
     "start_time": "2022-07-14T17:18:00.081618",
     "status": "completed"
    },
    "tags": []
   },
   "outputs": [
    {
     "name": "stdout",
     "output_type": "stream",
     "text": [
      "Train AUC: 0.9834\n",
      "Valid AUC: 0.8671\n"
     ]
    }
   ],
   "source": [
    "model6 = LightFM(no_components=30, loss='warp', random_state=42)\n",
    "model6.fit(train_sp, item_features=item_features_bld, epochs=40, num_threads=2)\n",
    "print(\"Train AUC: %.4f\" % auc_score(model6, train_sp, item_features=item_features_bld).mean())\n",
    "print(\"Valid AUC: %.4f\" % auc_score(model6, valid_sp, item_features=item_features_bld).mean())\n"
   ]
  },
  {
   "cell_type": "code",
   "execution_count": 58,
   "id": "602c7801",
   "metadata": {
    "execution": {
     "iopub.execute_input": "2022-07-14T17:19:16.683399Z",
     "iopub.status.busy": "2022-07-14T17:19:16.682676Z",
     "iopub.status.idle": "2022-07-14T17:19:36.847133Z",
     "shell.execute_reply": "2022-07-14T17:19:36.846053Z"
    },
    "papermill": {
     "duration": 20.194838,
     "end_time": "2022-07-14T17:19:36.850354",
     "exception": false,
     "start_time": "2022-07-14T17:19:16.655516",
     "status": "completed"
    },
    "tags": []
   },
   "outputs": [],
   "source": [
    "lightfm_plus_plus_preds = sample_recommendation(model5,\n",
    "                                  transactions_df_sample,\n",
    "                                  articles_df.set_index(\"article_id\"),\n",
    "                                  24,\n",
    "                                  items, \n",
    "                                  dataset,\n",
    "                                  customer_test_df.customer_id.values,\n",
    "                                  user_features=user_features_bld,\n",
    "                                  item_features=item_features_bld,\n",
    "                                  printfile='log2.txt'\n",
    "                                  )"
   ]
  },
  {
   "cell_type": "code",
   "execution_count": 59,
   "id": "36c2c287",
   "metadata": {
    "execution": {
     "iopub.execute_input": "2022-07-14T17:19:36.906453Z",
     "iopub.status.busy": "2022-07-14T17:19:36.905789Z",
     "iopub.status.idle": "2022-07-14T17:19:36.913772Z",
     "shell.execute_reply": "2022-07-14T17:19:36.912700Z"
    },
    "papermill": {
     "duration": 0.03846,
     "end_time": "2022-07-14T17:19:36.916402",
     "exception": false,
     "start_time": "2022-07-14T17:19:36.877942",
     "status": "completed"
    },
    "tags": []
   },
   "outputs": [],
   "source": [
    "\n",
    "with open('lightfm_plus_plus_preds', 'wb') as fp:\n",
    "    pickle.dump(lightfm_plus_plus_preds, fp)"
   ]
  },
  {
   "cell_type": "code",
   "execution_count": 60,
   "id": "fd0d8986",
   "metadata": {
    "execution": {
     "iopub.execute_input": "2022-07-14T17:19:36.970299Z",
     "iopub.status.busy": "2022-07-14T17:19:36.969907Z",
     "iopub.status.idle": "2022-07-14T17:19:37.028000Z",
     "shell.execute_reply": "2022-07-14T17:19:37.026441Z"
    },
    "papermill": {
     "duration": 0.087909,
     "end_time": "2022-07-14T17:19:37.030713",
     "exception": false,
     "start_time": "2022-07-14T17:19:36.942804",
     "status": "completed"
    },
    "tags": []
   },
   "outputs": [
    {
     "name": "stdout",
     "output_type": "stream",
     "text": [
      "Interceptions: 176 from 6000 (2.933%)\n",
      "Jaccard: 0.01092\n",
      "Dice: 0.02072\n",
      "Mean Average Precision @ 12: 0.006615\n"
     ]
    }
   ],
   "source": [
    "lightfm_metrics = metrics(ground_truth_list, lightfm_plus_plus_preds)"
   ]
  }
 ],
 "metadata": {
  "kernelspec": {
   "display_name": "Python 3",
   "language": "python",
   "name": "python3"
  },
  "language_info": {
   "codemirror_mode": {
    "name": "ipython",
    "version": 3
   },
   "file_extension": ".py",
   "mimetype": "text/x-python",
   "name": "python",
   "nbconvert_exporter": "python",
   "pygments_lexer": "ipython3",
   "version": "3.7.12"
  },
  "papermill": {
   "default_parameters": {},
   "duration": 1119.945055,
   "end_time": "2022-07-14T17:19:39.680994",
   "environment_variables": {},
   "exception": null,
   "input_path": "__notebook__.ipynb",
   "output_path": "__notebook__.ipynb",
   "parameters": {},
   "start_time": "2022-07-14T17:00:59.735939",
   "version": "2.3.4"
  }
 },
 "nbformat": 4,
 "nbformat_minor": 5
}
