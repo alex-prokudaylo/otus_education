{
 "cells": [
  {
   "cell_type": "code",
   "execution_count": 1,
   "id": "a400430a",
   "metadata": {
    "execution": {
     "iopub.execute_input": "2022-06-24T09:07:32.610544Z",
     "iopub.status.busy": "2022-06-24T09:07:32.609921Z",
     "iopub.status.idle": "2022-06-24T09:07:32.834236Z",
     "shell.execute_reply": "2022-06-24T09:07:32.833357Z"
    },
    "papermill": {
     "duration": 0.278745,
     "end_time": "2022-06-24T09:07:32.836709",
     "exception": false,
     "start_time": "2022-06-24T09:07:32.557964",
     "status": "completed"
    },
    "tags": []
   },
   "outputs": [
    {
     "data": {
      "text/html": [
       "<div>\n",
       "<style scoped>\n",
       "    .dataframe tbody tr th:only-of-type {\n",
       "        vertical-align: middle;\n",
       "    }\n",
       "\n",
       "    .dataframe tbody tr th {\n",
       "        vertical-align: top;\n",
       "    }\n",
       "\n",
       "    .dataframe thead th {\n",
       "        text-align: right;\n",
       "    }\n",
       "</style>\n",
       "<table border=\"1\" class=\"dataframe\">\n",
       "  <thead>\n",
       "    <tr style=\"text-align: right;\">\n",
       "      <th></th>\n",
       "      <th>title</th>\n",
       "      <th>link</th>\n",
       "      <th>comments</th>\n",
       "      <th>article_text</th>\n",
       "    </tr>\n",
       "  </thead>\n",
       "  <tbody>\n",
       "    <tr>\n",
       "      <th>0</th>\n",
       "      <td>Выставка невиданного авангарда открылась в Москве</td>\n",
       "      <td>https://shakko.ru/1748500.html</td>\n",
       "      <td>61.0</td>\n",
       "      <td>В московском Музее русского импрессионизма от...</td>\n",
       "    </tr>\n",
       "    <tr>\n",
       "      <th>1</th>\n",
       "      <td>Вандал пририсовал глаза фигурам на картине уче...</td>\n",
       "      <td>https://shakko.ru/1739606.html</td>\n",
       "      <td>52.0</td>\n",
       "      <td>В Екатеринбурге вандал напал на картину учени...</td>\n",
       "    </tr>\n",
       "    <tr>\n",
       "      <th>2</th>\n",
       "      <td>Деревянные «идолы» авангардистов, комиксная ле...</td>\n",
       "      <td>https://shakko.ru/1730700.html</td>\n",
       "      <td>9.0</td>\n",
       "      <td>Выставка, посвященная переосмыслению русского...</td>\n",
       "    </tr>\n",
       "    <tr>\n",
       "      <th>3</th>\n",
       "      <td>Десять полностью однотонных картин, которые ст...</td>\n",
       "      <td>https://shakko.ru/1726266.html</td>\n",
       "      <td>145.0</td>\n",
       "      <td>Какие картины, состоящие только из 1 цвета, в...</td>\n",
       "    </tr>\n",
       "    <tr>\n",
       "      <th>4</th>\n",
       "      <td>Легкая возможность почувствовать себя меценатом</td>\n",
       "      <td>https://shakko.ru/1688703.html</td>\n",
       "      <td>31.0</td>\n",
       "      <td>Значит, вот такая история.Жил-был такой худож...</td>\n",
       "    </tr>\n",
       "  </tbody>\n",
       "</table>\n",
       "</div>"
      ],
      "text/plain": [
       "                                               title  \\\n",
       "0  Выставка невиданного авангарда открылась в Москве   \n",
       "1  Вандал пририсовал глаза фигурам на картине уче...   \n",
       "2  Деревянные «идолы» авангардистов, комиксная ле...   \n",
       "3  Десять полностью однотонных картин, которые ст...   \n",
       "4    Легкая возможность почувствовать себя меценатом   \n",
       "\n",
       "                             link  comments  \\\n",
       "0  https://shakko.ru/1748500.html      61.0   \n",
       "1  https://shakko.ru/1739606.html      52.0   \n",
       "2  https://shakko.ru/1730700.html       9.0   \n",
       "3  https://shakko.ru/1726266.html     145.0   \n",
       "4  https://shakko.ru/1688703.html      31.0   \n",
       "\n",
       "                                        article_text  \n",
       "0   В московском Музее русского импрессионизма от...  \n",
       "1   В Екатеринбурге вандал напал на картину учени...  \n",
       "2   Выставка, посвященная переосмыслению русского...  \n",
       "3   Какие картины, состоящие только из 1 цвета, в...  \n",
       "4   Значит, вот такая история.Жил-был такой худож...  "
      ]
     },
     "execution_count": 1,
     "metadata": {},
     "output_type": "execute_result"
    }
   ],
   "source": [
    "import pandas as pd\n",
    "dataset2 = pd.read_csv('/kaggle/input/shakko-articles-dataset/shakko2.csv', index_col=0)\n",
    "dataset2.head(5)"
   ]
  },
  {
   "cell_type": "code",
   "execution_count": 2,
   "id": "477d86e0",
   "metadata": {
    "execution": {
     "iopub.execute_input": "2022-06-24T09:07:32.937625Z",
     "iopub.status.busy": "2022-06-24T09:07:32.937337Z",
     "iopub.status.idle": "2022-06-24T09:07:32.962682Z",
     "shell.execute_reply": "2022-06-24T09:07:32.962023Z"
    },
    "papermill": {
     "duration": 0.076566,
     "end_time": "2022-06-24T09:07:32.964532",
     "exception": false,
     "start_time": "2022-06-24T09:07:32.887966",
     "status": "completed"
    },
    "tags": []
   },
   "outputs": [
    {
     "data": {
      "text/html": [
       "<div>\n",
       "<style scoped>\n",
       "    .dataframe tbody tr th:only-of-type {\n",
       "        vertical-align: middle;\n",
       "    }\n",
       "\n",
       "    .dataframe tbody tr th {\n",
       "        vertical-align: top;\n",
       "    }\n",
       "\n",
       "    .dataframe thead th {\n",
       "        text-align: right;\n",
       "    }\n",
       "</style>\n",
       "<table border=\"1\" class=\"dataframe\">\n",
       "  <thead>\n",
       "    <tr style=\"text-align: right;\">\n",
       "      <th></th>\n",
       "      <th>count</th>\n",
       "      <th>mean</th>\n",
       "      <th>std</th>\n",
       "      <th>min</th>\n",
       "      <th>1%</th>\n",
       "      <th>25%</th>\n",
       "      <th>50%</th>\n",
       "      <th>75%</th>\n",
       "      <th>99%</th>\n",
       "      <th>max</th>\n",
       "    </tr>\n",
       "  </thead>\n",
       "  <tbody>\n",
       "    <tr>\n",
       "      <th>comments</th>\n",
       "      <td>670.0</td>\n",
       "      <td>75.853731</td>\n",
       "      <td>80.963053</td>\n",
       "      <td>0.0</td>\n",
       "      <td>0.0</td>\n",
       "      <td>21.0</td>\n",
       "      <td>54.5</td>\n",
       "      <td>99.0</td>\n",
       "      <td>366.55</td>\n",
       "      <td>682.0</td>\n",
       "    </tr>\n",
       "  </tbody>\n",
       "</table>\n",
       "</div>"
      ],
      "text/plain": [
       "          count       mean        std  min   1%   25%   50%   75%     99%  \\\n",
       "comments  670.0  75.853731  80.963053  0.0  0.0  21.0  54.5  99.0  366.55   \n",
       "\n",
       "            max  \n",
       "comments  682.0  "
      ]
     },
     "execution_count": 2,
     "metadata": {},
     "output_type": "execute_result"
    }
   ],
   "source": [
    "dataset2.describe([0.01,0.25,0.5, 0.75,0.99]).T"
   ]
  },
  {
   "cell_type": "code",
   "execution_count": 3,
   "id": "76b5f168",
   "metadata": {
    "execution": {
     "iopub.execute_input": "2022-06-24T09:07:33.064168Z",
     "iopub.status.busy": "2022-06-24T09:07:33.063483Z",
     "iopub.status.idle": "2022-06-24T09:07:33.427401Z",
     "shell.execute_reply": "2022-06-24T09:07:33.426389Z"
    },
    "papermill": {
     "duration": 0.415968,
     "end_time": "2022-06-24T09:07:33.429447",
     "exception": false,
     "start_time": "2022-06-24T09:07:33.013479",
     "status": "completed"
    },
    "tags": []
   },
   "outputs": [
    {
     "data": {
      "text/plain": [
       "<AxesSubplot:>"
      ]
     },
     "execution_count": 3,
     "metadata": {},
     "output_type": "execute_result"
    },
    {
     "data": {
      "image/png": "[encoded data removed]",
      "text/plain": [
       "<Figure size 432x288 with 1 Axes>"
      ]
     },
     "metadata": {
      "needs_background": "light"
     },
     "output_type": "display_data"
    }
   ],
   "source": [
    "dataset2[\"comments\"].hist()"
   ]
  },
  {
   "cell_type": "code",
   "execution_count": 4,
   "id": "18ce0f67",
   "metadata": {
    "execution": {
     "iopub.execute_input": "2022-06-24T09:07:33.532563Z",
     "iopub.status.busy": "2022-06-24T09:07:33.531878Z",
     "iopub.status.idle": "2022-06-24T09:07:33.544976Z",
     "shell.execute_reply": "2022-06-24T09:07:33.544149Z"
    },
    "papermill": {
     "duration": 0.066542,
     "end_time": "2022-06-24T09:07:33.546949",
     "exception": false,
     "start_time": "2022-06-24T09:07:33.480407",
     "status": "completed"
    },
    "tags": []
   },
   "outputs": [
    {
     "data": {
      "text/html": [
       "<div>\n",
       "<style scoped>\n",
       "    .dataframe tbody tr th:only-of-type {\n",
       "        vertical-align: middle;\n",
       "    }\n",
       "\n",
       "    .dataframe tbody tr th {\n",
       "        vertical-align: top;\n",
       "    }\n",
       "\n",
       "    .dataframe thead th {\n",
       "        text-align: right;\n",
       "    }\n",
       "</style>\n",
       "<table border=\"1\" class=\"dataframe\">\n",
       "  <thead>\n",
       "    <tr style=\"text-align: right;\">\n",
       "      <th></th>\n",
       "      <th>title</th>\n",
       "      <th>link</th>\n",
       "      <th>comments</th>\n",
       "      <th>article_text</th>\n",
       "    </tr>\n",
       "  </thead>\n",
       "  <tbody>\n",
       "    <tr>\n",
       "      <th>39</th>\n",
       "      <td>Художницы-феминистки из Индии: почему без этог...</td>\n",
       "      <td>https://shakko.ru/1565325.html</td>\n",
       "      <td>441.0</td>\n",
       "      <td>Одна из древнейших культур на этой планете --...</td>\n",
       "    </tr>\n",
       "    <tr>\n",
       "      <th>122</th>\n",
       "      <td>Так объясните наконец, почему «Чёрный квадрат»...</td>\n",
       "      <td>https://shakko.ru/1677504.html</td>\n",
       "      <td>414.0</td>\n",
       "      <td>Уважаемый читатель спрашивает:почему «Чёрный ...</td>\n",
       "    </tr>\n",
       "    <tr>\n",
       "      <th>234</th>\n",
       "      <td>Сказки как способ программирования наших детей</td>\n",
       "      <td>https://shakko.ru/1357790.html</td>\n",
       "      <td>682.0</td>\n",
       "      <td>Коллективными усилиями проникаем в мировой фо...</td>\n",
       "    </tr>\n",
       "    <tr>\n",
       "      <th>254</th>\n",
       "      <td>Советское детство. В современном искусстве. А ...</td>\n",
       "      <td>https://shakko.ru/1398245.html</td>\n",
       "      <td>550.0</td>\n",
       "      <td>В одной нью-йоркской арт-галерее 2 мая открыл...</td>\n",
       "    </tr>\n",
       "    <tr>\n",
       "      <th>292</th>\n",
       "      <td>Почему иконы должны храниться в музеях</td>\n",
       "      <td>https://shakko.ru/1256209.html</td>\n",
       "      <td>595.0</td>\n",
       "      <td>Уважаемый читатель спрашивает:Вы как-то упомя...</td>\n",
       "    </tr>\n",
       "    <tr>\n",
       "      <th>332</th>\n",
       "      <td>Автопортрет со Страшным судом и мёртвым царем-...</td>\n",
       "      <td>https://shakko.ru/1289620.html</td>\n",
       "      <td>513.0</td>\n",
       "      <td>Продолжаю собирать изображения Николая II c c...</td>\n",
       "    </tr>\n",
       "  </tbody>\n",
       "</table>\n",
       "</div>"
      ],
      "text/plain": [
       "                                                 title  \\\n",
       "39   Художницы-феминистки из Индии: почему без этог...   \n",
       "122  Так объясните наконец, почему «Чёрный квадрат»...   \n",
       "234     Сказки как способ программирования наших детей   \n",
       "254  Советское детство. В современном искусстве. А ...   \n",
       "292             Почему иконы должны храниться в музеях   \n",
       "332  Автопортрет со Страшным судом и мёртвым царем-...   \n",
       "\n",
       "                               link  comments  \\\n",
       "39   https://shakko.ru/1565325.html     441.0   \n",
       "122  https://shakko.ru/1677504.html     414.0   \n",
       "234  https://shakko.ru/1357790.html     682.0   \n",
       "254  https://shakko.ru/1398245.html     550.0   \n",
       "292  https://shakko.ru/1256209.html     595.0   \n",
       "332  https://shakko.ru/1289620.html     513.0   \n",
       "\n",
       "                                          article_text  \n",
       "39    Одна из древнейших культур на этой планете --...  \n",
       "122   Уважаемый читатель спрашивает:почему «Чёрный ...  \n",
       "234   Коллективными усилиями проникаем в мировой фо...  \n",
       "254   В одной нью-йоркской арт-галерее 2 мая открыл...  \n",
       "292   Уважаемый читатель спрашивает:Вы как-то упомя...  \n",
       "332   Продолжаю собирать изображения Николая II c c...  "
      ]
     },
     "execution_count": 4,
     "metadata": {},
     "output_type": "execute_result"
    }
   ],
   "source": [
    "# Посмотрим лидеров обсуждения\n",
    "dataset2[dataset2[\"comments\"] > 400]"
   ]
  },
  {
   "cell_type": "markdown",
   "id": "e20c7194",
   "metadata": {
    "papermill": {
     "duration": 0.05212,
     "end_time": "2022-06-24T09:07:33.649902",
     "exception": false,
     "start_time": "2022-06-24T09:07:33.597782",
     "status": "completed"
    },
    "tags": []
   },
   "source": [
    "И почему я не удивляен увидеть тут \"Черный квадрат\"? :) Но всё же к делу... "
   ]
  },
  {
   "cell_type": "code",
   "execution_count": 5,
   "id": "500b014e",
   "metadata": {
    "execution": {
     "iopub.execute_input": "2022-06-24T09:07:33.754502Z",
     "iopub.status.busy": "2022-06-24T09:07:33.753618Z",
     "iopub.status.idle": "2022-06-24T09:07:33.757437Z",
     "shell.execute_reply": "2022-06-24T09:07:33.756758Z"
    },
    "papermill": {
     "duration": 0.058587,
     "end_time": "2022-06-24T09:07:33.759327",
     "exception": false,
     "start_time": "2022-06-24T09:07:33.700740",
     "status": "completed"
    },
    "tags": []
   },
   "outputs": [],
   "source": [
    "#dataset2 = dataset2[dataset2[\"comments\"] < 400]"
   ]
  },
  {
   "cell_type": "markdown",
   "id": "6d873f1f",
   "metadata": {
    "papermill": {
     "duration": 0.052018,
     "end_time": "2022-06-24T09:07:33.862454",
     "exception": false,
     "start_time": "2022-06-24T09:07:33.810436",
     "status": "completed"
    },
    "tags": []
   },
   "source": [
    "#  Natural Language processing"
   ]
  },
  {
   "cell_type": "code",
   "execution_count": 6,
   "id": "5de5e118",
   "metadata": {
    "execution": {
     "iopub.execute_input": "2022-06-24T09:07:33.966495Z",
     "iopub.status.busy": "2022-06-24T09:07:33.966218Z",
     "iopub.status.idle": "2022-06-24T09:07:45.029969Z",
     "shell.execute_reply": "2022-06-24T09:07:45.028986Z"
    },
    "papermill": {
     "duration": 11.118192,
     "end_time": "2022-06-24T09:07:45.032402",
     "exception": false,
     "start_time": "2022-06-24T09:07:33.914210",
     "status": "completed"
    },
    "tags": []
   },
   "outputs": [
    {
     "name": "stdout",
     "output_type": "stream",
     "text": [
      "Collecting pymorphy2\r\n",
      "  Downloading pymorphy2-0.9.1-py3-none-any.whl (55 kB)\r\n",
      "\u001b[2K     \u001b[90m━━━━━━━━━━━━━━━━━━━━━━━━━━━━━━━━━━━━━━━━\u001b[0m \u001b[32m55.5/55.5 KB\u001b[0m \u001b[31m1.8 MB/s\u001b[0m eta \u001b[36m0:00:00\u001b[0m\r\n",
      "\u001b[?25hCollecting dawg-python>=0.7.1\r\n",
      "  Downloading DAWG_Python-0.7.2-py2.py3-none-any.whl (11 kB)\r\n",
      "Requirement already satisfied: docopt>=0.6 in /opt/conda/lib/python3.7/site-packages (from pymorphy2) (0.6.2)\r\n",
      "Collecting pymorphy2-dicts-ru<3.0,>=2.4\r\n",
      "  Downloading pymorphy2_dicts_ru-2.4.417127.4579844-py2.py3-none-any.whl (8.2 MB)\r\n",
      "\u001b[2K     \u001b[90m━━━━━━━━━━━━━━━━━━━━━━━━━━━━━━━━━━━━━━━━\u001b[0m \u001b[32m8.2/8.2 MB\u001b[0m \u001b[31m41.7 MB/s\u001b[0m eta \u001b[36m0:00:00\u001b[0m\r\n",
      "\u001b[?25hInstalling collected packages: pymorphy2-dicts-ru, dawg-python, pymorphy2\r\n",
      "Successfully installed dawg-python-0.7.2 pymorphy2-0.9.1 pymorphy2-dicts-ru-2.4.417127.4579844\r\n",
      "\u001b[33mWARNING: Running pip as the 'root' user can result in broken permissions and conflicting behaviour with the system package manager. It is recommended to use a virtual environment instead: https://pip.pypa.io/warnings/venv\u001b[0m\u001b[33m\r\n",
      "\u001b[0m"
     ]
    }
   ],
   "source": [
    "! pip install pymorphy2"
   ]
  },
  {
   "cell_type": "code",
   "execution_count": 7,
   "id": "ff69edb7",
   "metadata": {
    "execution": {
     "iopub.execute_input": "2022-06-24T09:07:45.148171Z",
     "iopub.status.busy": "2022-06-24T09:07:45.147410Z",
     "iopub.status.idle": "2022-06-24T09:07:46.622073Z",
     "shell.execute_reply": "2022-06-24T09:07:46.621065Z"
    },
    "papermill": {
     "duration": 1.534528,
     "end_time": "2022-06-24T09:07:46.624645",
     "exception": false,
     "start_time": "2022-06-24T09:07:45.090117",
     "status": "completed"
    },
    "tags": []
   },
   "outputs": [],
   "source": [
    "import numpy as nm\n",
    "%matplotlib inline\n",
    "import matplotlib.pyplot as plt\n",
    "from tqdm import tqdm_notebook\n",
    "from sklearn.metrics import *\n",
    "import warnings\n",
    "import string\n",
    "import time\n",
    "import nltk\n",
    "warnings.filterwarnings(\"ignore\")"
   ]
  },
  {
   "cell_type": "code",
   "execution_count": 8,
   "id": "f32649a2",
   "metadata": {
    "execution": {
     "iopub.execute_input": "2022-06-24T09:07:46.734556Z",
     "iopub.status.busy": "2022-06-24T09:07:46.733671Z",
     "iopub.status.idle": "2022-06-24T09:07:46.739843Z",
     "shell.execute_reply": "2022-06-24T09:07:46.738921Z"
    },
    "papermill": {
     "duration": 0.063362,
     "end_time": "2022-06-24T09:07:46.741836",
     "exception": false,
     "start_time": "2022-06-24T09:07:46.678474",
     "status": "completed"
    },
    "tags": []
   },
   "outputs": [
    {
     "name": "stdout",
     "output_type": "stream",
     "text": [
      "18380\n",
      " Уважаемый читатель спрашивает:Вы как-то упомянули, что старинные иконы должны храниться в музеях, а в церкви их отдавать нельзя. Почему? Вроде же вы верующий человек, объясните, ведь иконы — это же священные предметы, их надо возвращать!Hет, старинные иконы, произведения искусства, должны храниться в музеях. Выдавать их из музеев в действующие церкви — нельзя. Рассказываю, почему, на пальцах.Дело даже в простой практичности, безотносительно религии. Скорее, дело в «медицине».Эпиграф от lisitsinaoОсобо рьяные бабули, которые периодически приходят в наш музей на экскурсии,неоднократно задавали нам вопрос:«А не хотите ли вы все иконы в храмы вернуть?»Мы придумали отвечать: «Все иконы, которые вы видите в музее — это иконы НА ПЕНСИИ»Действует безотказно.***Итак, начнем с реальных, практических вещей, которые можно «потрогать», безотносительно всяких идеологических споров. Оказывается, об этих элементарных основах многие не подозревают.Отдавать нельзя, потому что:1) Икона — это не картинКа\n"
     ]
    }
   ],
   "source": [
    "# выберем кошку для тренировки\n",
    "article_text = dataset2.loc[292, \"article_text\"]\n",
    "print(len(article_text))\n",
    "print(article_text[:1000])"
   ]
  },
  {
   "cell_type": "code",
   "execution_count": 9,
   "id": "5d3f3822",
   "metadata": {
    "execution": {
     "iopub.execute_input": "2022-06-24T09:07:46.855177Z",
     "iopub.status.busy": "2022-06-24T09:07:46.854576Z",
     "iopub.status.idle": "2022-06-24T09:07:46.862486Z",
     "shell.execute_reply": "2022-06-24T09:07:46.861890Z"
    },
    "papermill": {
     "duration": 0.065889,
     "end_time": "2022-06-24T09:07:46.864308",
     "exception": false,
     "start_time": "2022-06-24T09:07:46.798419",
     "status": "completed"
    },
    "tags": []
   },
   "outputs": [
    {
     "data": {
      "text/plain": [
       "['уважаемый',\n",
       " 'читатель',\n",
       " 'спрашивает',\n",
       " ':',\n",
       " 'вы',\n",
       " 'как',\n",
       " '-',\n",
       " 'то',\n",
       " 'упомянули',\n",
       " ',']"
      ]
     },
     "execution_count": 9,
     "metadata": {},
     "output_type": "execute_result"
    }
   ],
   "source": [
    "# токенизация\n",
    "word_tokenaizer = nltk.WordPunctTokenizer()\n",
    "\n",
    "# регистр\n",
    "article_text = article_text.lower()\n",
    "\n",
    "article_text_lst = word_tokenaizer.tokenize(article_text)\n",
    "\n",
    "article_text_lst[:10]"
   ]
  },
  {
   "cell_type": "code",
   "execution_count": 10,
   "id": "64496130",
   "metadata": {
    "execution": {
     "iopub.execute_input": "2022-06-24T09:07:46.975949Z",
     "iopub.status.busy": "2022-06-24T09:07:46.975415Z",
     "iopub.status.idle": "2022-06-24T09:07:47.056289Z",
     "shell.execute_reply": "2022-06-24T09:07:47.055002Z"
    },
    "papermill": {
     "duration": 0.139759,
     "end_time": "2022-06-24T09:07:47.058263",
     "exception": false,
     "start_time": "2022-06-24T09:07:46.918504",
     "status": "completed"
    },
    "tags": []
   },
   "outputs": [
    {
     "name": "stdout",
     "output_type": "stream",
     "text": [
      "[nltk_data] Downloading package stopwords to /usr/share/nltk_data...\n",
      "[nltk_data]   Package stopwords is already up-to-date!\n",
      "151\n"
     ]
    },
    {
     "data": {
      "text/plain": [
       "['и', 'в', 'во', 'не', 'что', 'он', 'на', 'я', 'с', 'со']"
      ]
     },
     "execution_count": 10,
     "metadata": {},
     "output_type": "execute_result"
    }
   ],
   "source": [
    "#string.punctuation\n",
    "\n",
    "# загружаем список стоп слов\n",
    "nltk.download('stopwords')\n",
    "stop_words = nltk.corpus.stopwords.words('russian')\n",
    "print(len(stop_words))\n",
    "stop_words[:10]"
   ]
  },
  {
   "cell_type": "code",
   "execution_count": 11,
   "id": "a95c0323",
   "metadata": {
    "execution": {
     "iopub.execute_input": "2022-06-24T09:07:47.171680Z",
     "iopub.status.busy": "2022-06-24T09:07:47.170958Z",
     "iopub.status.idle": "2022-06-24T09:07:47.181377Z",
     "shell.execute_reply": "2022-06-24T09:07:47.180788Z"
    },
    "papermill": {
     "duration": 0.069783,
     "end_time": "2022-06-24T09:07:47.183073",
     "exception": false,
     "start_time": "2022-06-24T09:07:47.113290",
     "status": "completed"
    },
    "tags": []
   },
   "outputs": [
    {
     "data": {
      "text/plain": [
       "['уважаемый',\n",
       " 'читатель',\n",
       " 'спрашивает',\n",
       " 'вы',\n",
       " 'как',\n",
       " 'то',\n",
       " 'упомянули',\n",
       " 'что',\n",
       " 'старинные',\n",
       " 'иконы']"
      ]
     },
     "execution_count": 11,
     "metadata": {},
     "output_type": "execute_result"
    }
   ],
   "source": [
    "import re\n",
    "\n",
    "# пунктуация. \n",
    "# В тексте присутсвуют сложные конструкции вроде ':«' '?»' '**' итд.\n",
    "# удалим всё кроме русских слов.\n",
    "article_word_lst = [word for word in article_text_lst if re.match(r'[а-яА-ЯёЁ]+', word)]\n",
    "article_word_lst[:10]"
   ]
  },
  {
   "cell_type": "code",
   "execution_count": 12,
   "id": "1b4d821c",
   "metadata": {
    "execution": {
     "iopub.execute_input": "2022-06-24T09:07:47.301550Z",
     "iopub.status.busy": "2022-06-24T09:07:47.300882Z",
     "iopub.status.idle": "2022-06-24T09:07:47.310607Z",
     "shell.execute_reply": "2022-06-24T09:07:47.310012Z"
    },
    "papermill": {
     "duration": 0.072443,
     "end_time": "2022-06-24T09:07:47.312234",
     "exception": false,
     "start_time": "2022-06-24T09:07:47.239791",
     "status": "completed"
    },
    "tags": []
   },
   "outputs": [
    {
     "data": {
      "text/plain": [
       "['уважаемый',\n",
       " 'читатель',\n",
       " 'спрашивает',\n",
       " 'упомянули',\n",
       " 'старинные',\n",
       " 'иконы',\n",
       " 'должны',\n",
       " 'храниться',\n",
       " 'музеях',\n",
       " 'церкви']"
      ]
     },
     "execution_count": 12,
     "metadata": {},
     "output_type": "execute_result"
    }
   ],
   "source": [
    "article_word_lst = [word for word in article_word_lst if word not in stop_words]\n",
    "article_word_lst[:10]"
   ]
  },
  {
   "cell_type": "code",
   "execution_count": 13,
   "id": "593433ae",
   "metadata": {
    "execution": {
     "iopub.execute_input": "2022-06-24T09:07:47.425687Z",
     "iopub.status.busy": "2022-06-24T09:07:47.425157Z",
     "iopub.status.idle": "2022-06-24T09:07:48.079768Z",
     "shell.execute_reply": "2022-06-24T09:07:48.078783Z"
    },
    "papermill": {
     "duration": 0.714388,
     "end_time": "2022-06-24T09:07:48.081881",
     "exception": false,
     "start_time": "2022-06-24T09:07:47.367493",
     "status": "completed"
    },
    "tags": []
   },
   "outputs": [
    {
     "name": "stdout",
     "output_type": "stream",
     "text": [
      "[Parse(word='упомянули', tag=OpencorporaTag('VERB,perf,tran plur,past,indc'), normal_form='упомянуть', score=1.0, methods_stack=((DictionaryAnalyzer(), 'упомянули', 314, 4),))]\n"
     ]
    },
    {
     "data": {
      "text/plain": [
       "['уважаемый',\n",
       " 'читатель',\n",
       " 'спрашивать',\n",
       " 'упомянуть',\n",
       " 'старинный',\n",
       " 'икона',\n",
       " 'должный',\n",
       " 'храниться',\n",
       " 'музей',\n",
       " 'церковь',\n",
       " 'отдавать',\n",
       " 'почему',\n",
       " 'вроде',\n",
       " 'веровать',\n",
       " 'человек',\n",
       " 'объяснить',\n",
       " 'икона',\n",
       " 'это',\n",
       " 'священный',\n",
       " 'предмет']"
      ]
     },
     "execution_count": 13,
     "metadata": {},
     "output_type": "execute_result"
    }
   ],
   "source": [
    "# леммезация\n",
    "import pymorphy2\n",
    "morph = pymorphy2.MorphAnalyzer()\n",
    "\n",
    "# что делает парсер\n",
    "print(morph.parse(article_word_lst[3]))\n",
    "\n",
    "norm_word_lst = [morph.parse(word)[0].normal_form for word in article_word_lst]\n",
    "norm_word_lst[:20]"
   ]
  },
  {
   "cell_type": "code",
   "execution_count": 14,
   "id": "c7653937",
   "metadata": {
    "execution": {
     "iopub.execute_input": "2022-06-24T09:07:48.200405Z",
     "iopub.status.busy": "2022-06-24T09:07:48.200122Z",
     "iopub.status.idle": "2022-06-24T09:07:48.226559Z",
     "shell.execute_reply": "2022-06-24T09:07:48.225657Z"
    },
    "papermill": {
     "duration": 0.089686,
     "end_time": "2022-06-24T09:07:48.229539",
     "exception": false,
     "start_time": "2022-06-24T09:07:48.139853",
     "status": "completed"
    },
    "tags": []
   },
   "outputs": [
    {
     "name": "stdout",
     "output_type": "stream",
     "text": [
      "килограмм золото драгоценный камень икона принадлежать царь иван ныне музей кремль посмотреть роскошь великолепный бохатай царский работа икона оклад похвала богоматерь мастерская московский кремль последний четверть век верхний поле сапфировый камея богоматерь младенец трон константинополь век интересно частность сочетаться православный искусство самый разный век гигантский сапфир который вырезать камея фигура богоматерь сделать константинополь великий бог знать попасть русь кто принадлежать москва последний царь написать икона одеть драгоценный оклад наслать камень который мочь соперничать размер византийский сапфир украсить другой край икона контурный изображение камень выполнить русский камнерез век внизу пророк илияпо угол евангелистын боковой сторона иоанн предтеча преподобный параскева тезоименный святой царь иоанн алексеевич царица прасковья это сфотографировать \n"
     ]
    }
   ],
   "source": [
    "# соберем автомат\n",
    "\n",
    "def text_processing(text):\n",
    "    \n",
    "    # нижний регистр\n",
    "    text = text.lower()\n",
    "    \n",
    "    # токенизация\n",
    "    word_list = word_tokenaizer.tokenize(text)\n",
    "    \n",
    "    #убираем, всё кроме букв и цифр.\n",
    "    word_list = [word for word in word_list if re.match(r'[а-яА-ЯёЁ]+', word)]\n",
    "    \n",
    "    #убираем стоп слова\n",
    "    word_list = [word for word in word_list if word not in stop_words]\n",
    "    \n",
    "    # леммезация\n",
    "    out_text = ''\n",
    "    for word in word_list:\n",
    "        out_text += morph.parse(word)[0].normal_form + \" \" \n",
    "    \n",
    "    return out_text\n",
    "\n",
    "print(text_processing(dataset2.loc[291, \"article_text\"]))"
   ]
  },
  {
   "cell_type": "code",
   "execution_count": 15,
   "id": "4f53e100",
   "metadata": {
    "execution": {
     "iopub.execute_input": "2022-06-24T09:07:48.346558Z",
     "iopub.status.busy": "2022-06-24T09:07:48.346292Z",
     "iopub.status.idle": "2022-06-24T09:07:48.358651Z",
     "shell.execute_reply": "2022-06-24T09:07:48.357808Z"
    },
    "papermill": {
     "duration": 0.072152,
     "end_time": "2022-06-24T09:07:48.360442",
     "exception": false,
     "start_time": "2022-06-24T09:07:48.288290",
     "status": "completed"
    },
    "tags": []
   },
   "outputs": [
    {
     "data": {
      "text/plain": [
       "title           0\n",
       "link            0\n",
       "comments        0\n",
       "article_text    0\n",
       "dtype: int64"
      ]
     },
     "execution_count": 15,
     "metadata": {},
     "output_type": "execute_result"
    }
   ],
   "source": [
    "dataset2.dropna(axis=0, inplace=True)\n",
    "dataset2.isna().sum()"
   ]
  },
  {
   "cell_type": "code",
   "execution_count": 16,
   "id": "f2942c0c",
   "metadata": {
    "execution": {
     "iopub.execute_input": "2022-06-24T09:07:48.476279Z",
     "iopub.status.busy": "2022-06-24T09:07:48.475851Z",
     "iopub.status.idle": "2022-06-24T09:08:41.581133Z",
     "shell.execute_reply": "2022-06-24T09:08:41.580268Z"
    },
    "papermill": {
     "duration": 53.166208,
     "end_time": "2022-06-24T09:08:41.583392",
     "exception": false,
     "start_time": "2022-06-24T09:07:48.417184",
     "status": "completed"
    },
    "tags": []
   },
   "outputs": [],
   "source": [
    "dataset2[\"lemmed_text\"] = dataset2[\"article_text\"].apply(lambda a: text_processing(a))\n"
   ]
  },
  {
   "cell_type": "code",
   "execution_count": 17,
   "id": "77c5b391",
   "metadata": {
    "execution": {
     "iopub.execute_input": "2022-06-24T09:08:41.699163Z",
     "iopub.status.busy": "2022-06-24T09:08:41.698857Z",
     "iopub.status.idle": "2022-06-24T09:08:41.711125Z",
     "shell.execute_reply": "2022-06-24T09:08:41.710192Z"
    },
    "papermill": {
     "duration": 0.072189,
     "end_time": "2022-06-24T09:08:41.713024",
     "exception": false,
     "start_time": "2022-06-24T09:08:41.640835",
     "status": "completed"
    },
    "tags": []
   },
   "outputs": [
    {
     "data": {
      "text/html": [
       "<div>\n",
       "<style scoped>\n",
       "    .dataframe tbody tr th:only-of-type {\n",
       "        vertical-align: middle;\n",
       "    }\n",
       "\n",
       "    .dataframe tbody tr th {\n",
       "        vertical-align: top;\n",
       "    }\n",
       "\n",
       "    .dataframe thead th {\n",
       "        text-align: right;\n",
       "    }\n",
       "</style>\n",
       "<table border=\"1\" class=\"dataframe\">\n",
       "  <thead>\n",
       "    <tr style=\"text-align: right;\">\n",
       "      <th></th>\n",
       "      <th>title</th>\n",
       "      <th>link</th>\n",
       "      <th>comments</th>\n",
       "      <th>article_text</th>\n",
       "      <th>lemmed_text</th>\n",
       "    </tr>\n",
       "  </thead>\n",
       "  <tbody>\n",
       "    <tr>\n",
       "      <th>0</th>\n",
       "      <td>Выставка невиданного авангарда открылась в Москве</td>\n",
       "      <td>https://shakko.ru/1748500.html</td>\n",
       "      <td>61.0</td>\n",
       "      <td>В московском Музее русского импрессионизма от...</td>\n",
       "      <td>московский музей русский импрессионизм открыть...</td>\n",
       "    </tr>\n",
       "    <tr>\n",
       "      <th>1</th>\n",
       "      <td>Вандал пририсовал глаза фигурам на картине уче...</td>\n",
       "      <td>https://shakko.ru/1739606.html</td>\n",
       "      <td>52.0</td>\n",
       "      <td>В Екатеринбурге вандал напал на картину учени...</td>\n",
       "      <td>екатеринбург вандал напасть картина ученица ма...</td>\n",
       "    </tr>\n",
       "    <tr>\n",
       "      <th>2</th>\n",
       "      <td>Деревянные «идолы» авангардистов, комиксная ле...</td>\n",
       "      <td>https://shakko.ru/1730700.html</td>\n",
       "      <td>9.0</td>\n",
       "      <td>Выставка, посвященная переосмыслению русского...</td>\n",
       "      <td>выставка посвятить переосмысление русский аван...</td>\n",
       "    </tr>\n",
       "    <tr>\n",
       "      <th>3</th>\n",
       "      <td>Десять полностью однотонных картин, которые ст...</td>\n",
       "      <td>https://shakko.ru/1726266.html</td>\n",
       "      <td>145.0</td>\n",
       "      <td>Какие картины, состоящие только из 1 цвета, в...</td>\n",
       "      <td>какой картина состоять цвет войти история живо...</td>\n",
       "    </tr>\n",
       "    <tr>\n",
       "      <th>4</th>\n",
       "      <td>Легкая возможность почувствовать себя меценатом</td>\n",
       "      <td>https://shakko.ru/1688703.html</td>\n",
       "      <td>31.0</td>\n",
       "      <td>Значит, вот такая история.Жил-был такой худож...</td>\n",
       "      <td>значит такой история жить художник алексей мор...</td>\n",
       "    </tr>\n",
       "  </tbody>\n",
       "</table>\n",
       "</div>"
      ],
      "text/plain": [
       "                                               title  \\\n",
       "0  Выставка невиданного авангарда открылась в Москве   \n",
       "1  Вандал пририсовал глаза фигурам на картине уче...   \n",
       "2  Деревянные «идолы» авангардистов, комиксная ле...   \n",
       "3  Десять полностью однотонных картин, которые ст...   \n",
       "4    Легкая возможность почувствовать себя меценатом   \n",
       "\n",
       "                             link  comments  \\\n",
       "0  https://shakko.ru/1748500.html      61.0   \n",
       "1  https://shakko.ru/1739606.html      52.0   \n",
       "2  https://shakko.ru/1730700.html       9.0   \n",
       "3  https://shakko.ru/1726266.html     145.0   \n",
       "4  https://shakko.ru/1688703.html      31.0   \n",
       "\n",
       "                                        article_text  \\\n",
       "0   В московском Музее русского импрессионизма от...   \n",
       "1   В Екатеринбурге вандал напал на картину учени...   \n",
       "2   Выставка, посвященная переосмыслению русского...   \n",
       "3   Какие картины, состоящие только из 1 цвета, в...   \n",
       "4   Значит, вот такая история.Жил-был такой худож...   \n",
       "\n",
       "                                         lemmed_text  \n",
       "0  московский музей русский импрессионизм открыть...  \n",
       "1  екатеринбург вандал напасть картина ученица ма...  \n",
       "2  выставка посвятить переосмысление русский аван...  \n",
       "3  какой картина состоять цвет войти история живо...  \n",
       "4  значит такой история жить художник алексей мор...  "
      ]
     },
     "execution_count": 17,
     "metadata": {},
     "output_type": "execute_result"
    }
   ],
   "source": [
    "dataset2.head()"
   ]
  },
  {
   "cell_type": "code",
   "execution_count": 18,
   "id": "0a276fd3",
   "metadata": {
    "execution": {
     "iopub.execute_input": "2022-06-24T09:08:41.833106Z",
     "iopub.status.busy": "2022-06-24T09:08:41.832452Z",
     "iopub.status.idle": "2022-06-24T09:08:41.989329Z",
     "shell.execute_reply": "2022-06-24T09:08:41.988467Z"
    },
    "papermill": {
     "duration": 0.218622,
     "end_time": "2022-06-24T09:08:41.991449",
     "exception": false,
     "start_time": "2022-06-24T09:08:41.772827",
     "status": "completed"
    },
    "tags": []
   },
   "outputs": [],
   "source": [
    "dataset2.to_csv(\"/kaggle/working/dataset2_dump.csv\")"
   ]
  },
  {
   "cell_type": "markdown",
   "id": "4e26efda",
   "metadata": {
    "papermill": {
     "duration": 0.056585,
     "end_time": "2022-06-24T09:08:42.104954",
     "exception": false,
     "start_time": "2022-06-24T09:08:42.048369",
     "status": "completed"
    },
    "tags": []
   },
   "source": [
    "# Построение модели"
   ]
  },
  {
   "cell_type": "code",
   "execution_count": 19,
   "id": "568513ca",
   "metadata": {
    "execution": {
     "iopub.execute_input": "2022-06-24T09:08:42.220696Z",
     "iopub.status.busy": "2022-06-24T09:08:42.219861Z",
     "iopub.status.idle": "2022-06-24T09:08:42.226852Z",
     "shell.execute_reply": "2022-06-24T09:08:42.226226Z"
    },
    "papermill": {
     "duration": 0.066528,
     "end_time": "2022-06-24T09:08:42.228372",
     "exception": false,
     "start_time": "2022-06-24T09:08:42.161844",
     "status": "completed"
    },
    "tags": []
   },
   "outputs": [
    {
     "data": {
      "text/plain": [
       "0      московский музей русский импрессионизм открыть...\n",
       "1      екатеринбург вандал напасть картина ученица ма...\n",
       "2      выставка посвятить переосмысление русский аван...\n",
       "3      какой картина состоять цвет войти история живо...\n",
       "4      значит такой история жить художник алексей мор...\n",
       "                             ...                        \n",
       "753    ух уважаемый читатель проанализировать позырил...\n",
       "755    самый красивый образ смерть мировой искусство ...\n",
       "757    позавчера читать поэма сказка горький обрамлен...\n",
       "758    вчерашний обсуждение фотореконструкция пародия...\n",
       "759    популярность произведение искусство теоретичес...\n",
       "Name: lemmed_text, Length: 670, dtype: object"
      ]
     },
     "execution_count": 19,
     "metadata": {},
     "output_type": "execute_result"
    }
   ],
   "source": [
    "dataset2['lemmed_text']"
   ]
  },
  {
   "cell_type": "code",
   "execution_count": 20,
   "id": "6ef0c387",
   "metadata": {
    "execution": {
     "iopub.execute_input": "2022-06-24T09:08:42.345286Z",
     "iopub.status.busy": "2022-06-24T09:08:42.344607Z",
     "iopub.status.idle": "2022-06-24T09:08:42.352422Z",
     "shell.execute_reply": "2022-06-24T09:08:42.351678Z"
    },
    "papermill": {
     "duration": 0.068389,
     "end_time": "2022-06-24T09:08:42.354432",
     "exception": false,
     "start_time": "2022-06-24T09:08:42.286043",
     "status": "completed"
    },
    "tags": []
   },
   "outputs": [
    {
     "name": "stdout",
     "output_type": "stream",
     "text": [
      "(569,) (101,)\n"
     ]
    }
   ],
   "source": [
    "from sklearn.model_selection import train_test_split\n",
    "\n",
    "texts =dataset2['lemmed_text']\n",
    "y = dataset2['comments']\n",
    "train_texts, test_texts, train_y, test_y = train_test_split(texts, y, test_size=0.15, random_state=13) #, stratify=y)\n",
    "\n",
    "print(train_texts.shape, test_texts.shape)"
   ]
  },
  {
   "cell_type": "code",
   "execution_count": 21,
   "id": "1c9f83df",
   "metadata": {
    "execution": {
     "iopub.execute_input": "2022-06-24T09:08:42.472620Z",
     "iopub.status.busy": "2022-06-24T09:08:42.472313Z",
     "iopub.status.idle": "2022-06-24T09:08:42.784965Z",
     "shell.execute_reply": "2022-06-24T09:08:42.783974Z"
    },
    "papermill": {
     "duration": 0.374465,
     "end_time": "2022-06-24T09:08:42.787298",
     "exception": false,
     "start_time": "2022-06-24T09:08:42.412833",
     "status": "completed"
    },
    "tags": []
   },
   "outputs": [
    {
     "data": {
      "text/plain": [
       "['абсолютно',\n",
       " 'авангард',\n",
       " 'август',\n",
       " 'автоматически',\n",
       " 'автопортрет',\n",
       " 'автор',\n",
       " 'авторский',\n",
       " 'ад',\n",
       " 'адрес',\n",
       " 'академический']"
      ]
     },
     "execution_count": 21,
     "metadata": {},
     "output_type": "execute_result"
    }
   ],
   "source": [
    "#Вычисляем tf-idf\n",
    "from sklearn.feature_extraction.text import TfidfVectorizer\n",
    "\n",
    "vect = TfidfVectorizer(max_features = 2000, norm=None)\n",
    "vect.fit(train_texts)\n",
    "\n",
    "vect.get_feature_names()[:10]"
   ]
  },
  {
   "cell_type": "code",
   "execution_count": 22,
   "id": "70100948",
   "metadata": {
    "execution": {
     "iopub.execute_input": "2022-06-24T09:08:42.906261Z",
     "iopub.status.busy": "2022-06-24T09:08:42.905654Z",
     "iopub.status.idle": "2022-06-24T09:08:43.254476Z",
     "shell.execute_reply": "2022-06-24T09:08:43.253646Z"
    },
    "papermill": {
     "duration": 0.410866,
     "end_time": "2022-06-24T09:08:43.256637",
     "exception": false,
     "start_time": "2022-06-24T09:08:42.845771",
     "status": "completed"
    },
    "tags": []
   },
   "outputs": [],
   "source": [
    "train_texts_vect = vect.fit_transform(train_texts)\n",
    "test_texts_vect = vect.transform(test_texts)\n",
    "#train_texts_vect.todense()[3]"
   ]
  },
  {
   "cell_type": "code",
   "execution_count": 23,
   "id": "90e12d18",
   "metadata": {
    "execution": {
     "iopub.execute_input": "2022-06-24T09:08:43.387692Z",
     "iopub.status.busy": "2022-06-24T09:08:43.387149Z",
     "iopub.status.idle": "2022-06-24T09:08:44.136349Z",
     "shell.execute_reply": "2022-06-24T09:08:44.135592Z"
    },
    "papermill": {
     "duration": 0.822446,
     "end_time": "2022-06-24T09:08:44.138663",
     "exception": false,
     "start_time": "2022-06-24T09:08:43.316217",
     "status": "completed"
    },
    "tags": []
   },
   "outputs": [
    {
     "name": "stdout",
     "output_type": "stream",
     "text": [
      "{'alpha': 30} -72.0384632432997\n"
     ]
    }
   ],
   "source": [
    "from sklearn.metrics import mean_squared_error\n",
    "from sklearn.metrics import mean_absolute_error\n",
    "\n",
    "from sklearn.model_selection import GridSearchCV\n",
    "from sklearn import linear_model\n",
    "\n",
    "model = linear_model.Lasso(alpha=0.1)\n",
    "\n",
    "parameters = {'alpha': [10, 30, 50, 70, 100]}\n",
    "\n",
    "clf = GridSearchCV(model, parameters, cv=3, scoring='neg_root_mean_squared_error')\n",
    "\n",
    "clf.fit(train_texts_vect, train_y)\n",
    "\n",
    "print(clf.best_params_, clf.best_score_)\n"
   ]
  },
  {
   "cell_type": "code",
   "execution_count": 24,
   "id": "7d34c20e",
   "metadata": {
    "execution": {
     "iopub.execute_input": "2022-06-24T09:08:44.260584Z",
     "iopub.status.busy": "2022-06-24T09:08:44.260298Z",
     "iopub.status.idle": "2022-06-24T09:08:44.269468Z",
     "shell.execute_reply": "2022-06-24T09:08:44.268591Z"
    },
    "papermill": {
     "duration": 0.07183,
     "end_time": "2022-06-24T09:08:44.272184",
     "exception": false,
     "start_time": "2022-06-24T09:08:44.200354",
     "status": "completed"
    },
    "tags": []
   },
   "outputs": [
    {
     "name": "stdout",
     "output_type": "stream",
     "text": [
      "Train RMSE: 66.22618328817114 Train MAE: 47.143606245687586\n",
      "Test RMSE: 89.37536072540998 Test MAE: 57.45889798933291\n"
     ]
    }
   ],
   "source": [
    "\n",
    "pred_train = clf.predict(train_texts_vect)\n",
    "pred_test = clf.predict(test_texts_vect)\n",
    "\n",
    "\n",
    "print(\"Train RMSE:\", mean_squared_error(pred_train, train_y, squared=False), \"Train MAE:\", mean_absolute_error(pred_train, train_y))\n",
    "print(\"Test RMSE:\", mean_squared_error(pred_test, test_y, squared=False), \"Test MAE:\", mean_absolute_error(pred_test, test_y))"
   ]
  },
  {
   "cell_type": "code",
   "execution_count": 25,
   "id": "e231495c",
   "metadata": {
    "execution": {
     "iopub.execute_input": "2022-06-24T09:08:44.398054Z",
     "iopub.status.busy": "2022-06-24T09:08:44.397624Z",
     "iopub.status.idle": "2022-06-24T09:08:44.412055Z",
     "shell.execute_reply": "2022-06-24T09:08:44.411325Z"
    },
    "papermill": {
     "duration": 0.077456,
     "end_time": "2022-06-24T09:08:44.413845",
     "exception": false,
     "start_time": "2022-06-24T09:08:44.336389",
     "status": "completed"
    },
    "tags": []
   },
   "outputs": [
    {
     "data": {
      "text/html": [
       "<div>\n",
       "<style scoped>\n",
       "    .dataframe tbody tr th:only-of-type {\n",
       "        vertical-align: middle;\n",
       "    }\n",
       "\n",
       "    .dataframe tbody tr th {\n",
       "        vertical-align: top;\n",
       "    }\n",
       "\n",
       "    .dataframe thead th {\n",
       "        text-align: right;\n",
       "    }\n",
       "</style>\n",
       "<table border=\"1\" class=\"dataframe\">\n",
       "  <thead>\n",
       "    <tr style=\"text-align: right;\">\n",
       "      <th></th>\n",
       "      <th>word</th>\n",
       "      <th>coef</th>\n",
       "    </tr>\n",
       "  </thead>\n",
       "  <tbody>\n",
       "    <tr>\n",
       "      <th>1543</th>\n",
       "      <td>сказка</td>\n",
       "      <td>3.703551</td>\n",
       "    </tr>\n",
       "    <tr>\n",
       "      <th>1982</th>\n",
       "      <td>это</td>\n",
       "      <td>2.179442</td>\n",
       "    </tr>\n",
       "    <tr>\n",
       "      <th>1117</th>\n",
       "      <td>пикассо</td>\n",
       "      <td>1.867012</td>\n",
       "    </tr>\n",
       "    <tr>\n",
       "      <th>559</th>\n",
       "      <td>индийский</td>\n",
       "      <td>1.366393</td>\n",
       "    </tr>\n",
       "    <tr>\n",
       "      <th>612</th>\n",
       "      <td>картина</td>\n",
       "      <td>1.100888</td>\n",
       "    </tr>\n",
       "    <tr>\n",
       "      <th>1960</th>\n",
       "      <td>шедевр</td>\n",
       "      <td>0.531192</td>\n",
       "    </tr>\n",
       "    <tr>\n",
       "      <th>373</th>\n",
       "      <td>джефферсон</td>\n",
       "      <td>0.520297</td>\n",
       "    </tr>\n",
       "    <tr>\n",
       "      <th>580</th>\n",
       "      <td>искусство</td>\n",
       "      <td>0.325861</td>\n",
       "    </tr>\n",
       "    <tr>\n",
       "      <th>1472</th>\n",
       "      <td>рочестер</td>\n",
       "      <td>0.316249</td>\n",
       "    </tr>\n",
       "    <tr>\n",
       "      <th>1424</th>\n",
       "      <td>ребёнок</td>\n",
       "      <td>0.308255</td>\n",
       "    </tr>\n",
       "  </tbody>\n",
       "</table>\n",
       "</div>"
      ],
      "text/plain": [
       "            word      coef\n",
       "1543      сказка  3.703551\n",
       "1982         это  2.179442\n",
       "1117     пикассо  1.867012\n",
       "559    индийский  1.366393\n",
       "612      картина  1.100888\n",
       "1960      шедевр  0.531192\n",
       "373   джефферсон  0.520297\n",
       "580    искусство  0.325861\n",
       "1472    рочестер  0.316249\n",
       "1424     ребёнок  0.308255"
      ]
     },
     "execution_count": 25,
     "metadata": {},
     "output_type": "execute_result"
    }
   ],
   "source": [
    "word_score = pd.DataFrame(vect.get_feature_names(), columns=['word'])\n",
    "word_score['coef'] = clf.best_estimator_.coef_\n",
    "word_score.sort_values(\"coef\", ascending=False).head(10)"
   ]
  },
  {
   "cell_type": "markdown",
   "id": "7d57ac3a",
   "metadata": {
    "papermill": {
     "duration": 0.062251,
     "end_time": "2022-06-24T09:08:44.540266",
     "exception": false,
     "start_time": "2022-06-24T09:08:44.478015",
     "status": "completed"
    },
    "tags": []
   },
   "source": [
    "Итак, прогноза алгоритма получилась невпечатляющей. Видимо 600 записей - это маловато.\n",
    "\n",
    "Алгоритм выделил слово \"сказка\", \"индийский\". Они, кстати, были в топе коментируемых.\n",
    "Люди также любят говорить о детях, обсуждать шедевры. Пикассо, как один из самых противоречивых художнмиков, тоже нащёл себя в топе.\n",
    "Неожиданно тудаже попал герой \"Джей Эйр\" и Джеферсон, возможно Томас, но непонятно в каком контексте.\n",
    "\n",
    "Интересно также что слова 'картина' и 'искусство' ропшли фильтр tf-id.\n",
    "\n",
    "Updated: Если выбросить стать лидеров с более 400 коментариев, то в топе появится \"удовольствие\", а также герои романа Жуля Верна."
   ]
  },
  {
   "cell_type": "code",
   "execution_count": 26,
   "id": "5b38c41b",
   "metadata": {
    "execution": {
     "iopub.execute_input": "2022-06-24T09:08:44.665389Z",
     "iopub.status.busy": "2022-06-24T09:08:44.665079Z",
     "iopub.status.idle": "2022-06-24T09:08:44.675763Z",
     "shell.execute_reply": "2022-06-24T09:08:44.674802Z"
    },
    "papermill": {
     "duration": 0.076551,
     "end_time": "2022-06-24T09:08:44.677731",
     "exception": false,
     "start_time": "2022-06-24T09:08:44.601180",
     "status": "completed"
    },
    "tags": []
   },
   "outputs": [
    {
     "data": {
      "text/html": [
       "<div>\n",
       "<style scoped>\n",
       "    .dataframe tbody tr th:only-of-type {\n",
       "        vertical-align: middle;\n",
       "    }\n",
       "\n",
       "    .dataframe tbody tr th {\n",
       "        vertical-align: top;\n",
       "    }\n",
       "\n",
       "    .dataframe thead th {\n",
       "        text-align: right;\n",
       "    }\n",
       "</style>\n",
       "<table border=\"1\" class=\"dataframe\">\n",
       "  <thead>\n",
       "    <tr style=\"text-align: right;\">\n",
       "      <th></th>\n",
       "      <th>word</th>\n",
       "      <th>coef</th>\n",
       "    </tr>\n",
       "  </thead>\n",
       "  <tbody>\n",
       "    <tr>\n",
       "      <th>257</th>\n",
       "      <td>выставка</td>\n",
       "      <td>-0.389129</td>\n",
       "    </tr>\n",
       "    <tr>\n",
       "      <th>825</th>\n",
       "      <td>монета</td>\n",
       "      <td>-0.213884</td>\n",
       "    </tr>\n",
       "    <tr>\n",
       "      <th>38</th>\n",
       "      <td>апокалипсис</td>\n",
       "      <td>-0.131766</td>\n",
       "    </tr>\n",
       "    <tr>\n",
       "      <th>210</th>\n",
       "      <td>воронцов</td>\n",
       "      <td>-0.087327</td>\n",
       "    </tr>\n",
       "    <tr>\n",
       "      <th>25</th>\n",
       "      <td>аметист</td>\n",
       "      <td>-0.021277</td>\n",
       "    </tr>\n",
       "  </tbody>\n",
       "</table>\n",
       "</div>"
      ],
      "text/plain": [
       "            word      coef\n",
       "257     выставка -0.389129\n",
       "825       монета -0.213884\n",
       "38   апокалипсис -0.131766\n",
       "210     воронцов -0.087327\n",
       "25       аметист -0.021277"
      ]
     },
     "execution_count": 26,
     "metadata": {},
     "output_type": "execute_result"
    }
   ],
   "source": [
    "word_score.sort_values(\"coef\").head(5)"
   ]
  },
  {
   "cell_type": "markdown",
   "id": "f7023d6e",
   "metadata": {
    "papermill": {
     "duration": 0.06193,
     "end_time": "2022-06-24T09:08:44.802798",
     "exception": false,
     "start_time": "2022-06-24T09:08:44.740868",
     "status": "completed"
    },
    "tags": []
   },
   "source": [
    "Обзоры выставок видимо вызывают слабые дискуссии."
   ]
  },
  {
   "cell_type": "markdown",
   "id": "c8a69f3d",
   "metadata": {
    "papermill": {
     "duration": 0.061424,
     "end_time": "2022-06-24T09:08:44.931329",
     "exception": false,
     "start_time": "2022-06-24T09:08:44.869905",
     "status": "completed"
    },
    "tags": []
   },
   "source": [
    "# Использование max_df и min_df"
   ]
  },
  {
   "cell_type": "markdown",
   "id": "60940254",
   "metadata": {
    "papermill": {
     "duration": 0.061612,
     "end_time": "2022-06-24T09:08:45.056221",
     "exception": false,
     "start_time": "2022-06-24T09:08:44.994609",
     "status": "completed"
    },
    "tags": []
   },
   "source": [
    "Выделено в отдельный раздел, потому что результаты с и без одинаково заслуживают внимания. А ещё потому, что я про них чуть не забыл :)"
   ]
  },
  {
   "cell_type": "code",
   "execution_count": 27,
   "id": "d5caedb1",
   "metadata": {
    "execution": {
     "iopub.execute_input": "2022-06-24T09:08:45.180368Z",
     "iopub.status.busy": "2022-06-24T09:08:45.180078Z",
     "iopub.status.idle": "2022-06-24T09:08:47.329103Z",
     "shell.execute_reply": "2022-06-24T09:08:47.327787Z"
    },
    "papermill": {
     "duration": 2.215601,
     "end_time": "2022-06-24T09:08:47.332376",
     "exception": false,
     "start_time": "2022-06-24T09:08:45.116775",
     "status": "completed"
    },
    "tags": []
   },
   "outputs": [
    {
     "name": "stdout",
     "output_type": "stream",
     "text": [
      "{'alpha': 10} -72.72313220612818\n",
      "Train RMSE: 63.18554169836227 Train MAE: 43.661072974928324\n",
      "Test RMSE: 90.34945397923785 Test MAE: 57.96129496697864\n"
     ]
    },
    {
     "data": {
      "text/html": [
       "<div>\n",
       "<style scoped>\n",
       "    .dataframe tbody tr th:only-of-type {\n",
       "        vertical-align: middle;\n",
       "    }\n",
       "\n",
       "    .dataframe tbody tr th {\n",
       "        vertical-align: top;\n",
       "    }\n",
       "\n",
       "    .dataframe thead th {\n",
       "        text-align: right;\n",
       "    }\n",
       "</style>\n",
       "<table border=\"1\" class=\"dataframe\">\n",
       "  <thead>\n",
       "    <tr style=\"text-align: right;\">\n",
       "      <th></th>\n",
       "      <th>word</th>\n",
       "      <th>coef</th>\n",
       "    </tr>\n",
       "  </thead>\n",
       "  <tbody>\n",
       "    <tr>\n",
       "      <th>300</th>\n",
       "      <td>ребёнок</td>\n",
       "      <td>2.919431</td>\n",
       "    </tr>\n",
       "    <tr>\n",
       "      <th>328</th>\n",
       "      <td>сильный</td>\n",
       "      <td>2.800632</td>\n",
       "    </tr>\n",
       "    <tr>\n",
       "      <th>97</th>\n",
       "      <td>знать</td>\n",
       "      <td>2.030362</td>\n",
       "    </tr>\n",
       "    <tr>\n",
       "      <th>263</th>\n",
       "      <td>почему</td>\n",
       "      <td>1.778404</td>\n",
       "    </tr>\n",
       "    <tr>\n",
       "      <th>203</th>\n",
       "      <td>нормальный</td>\n",
       "      <td>1.719580</td>\n",
       "    </tr>\n",
       "    <tr>\n",
       "      <th>252</th>\n",
       "      <td>понимать</td>\n",
       "      <td>1.628176</td>\n",
       "    </tr>\n",
       "    <tr>\n",
       "      <th>127</th>\n",
       "      <td>картина</td>\n",
       "      <td>1.408363</td>\n",
       "    </tr>\n",
       "    <tr>\n",
       "      <th>345</th>\n",
       "      <td>советский</td>\n",
       "      <td>1.262395</td>\n",
       "    </tr>\n",
       "    <tr>\n",
       "      <th>346</th>\n",
       "      <td>современный</td>\n",
       "      <td>1.245226</td>\n",
       "    </tr>\n",
       "    <tr>\n",
       "      <th>134</th>\n",
       "      <td>комментарий</td>\n",
       "      <td>1.170039</td>\n",
       "    </tr>\n",
       "    <tr>\n",
       "      <th>116</th>\n",
       "      <td>искусство</td>\n",
       "      <td>0.997457</td>\n",
       "    </tr>\n",
       "    <tr>\n",
       "      <th>280</th>\n",
       "      <td>проблема</td>\n",
       "      <td>0.894925</td>\n",
       "    </tr>\n",
       "    <tr>\n",
       "      <th>411</th>\n",
       "      <td>шедевр</td>\n",
       "      <td>0.868791</td>\n",
       "    </tr>\n",
       "    <tr>\n",
       "      <th>68</th>\n",
       "      <td>дело</td>\n",
       "      <td>0.728137</td>\n",
       "    </tr>\n",
       "    <tr>\n",
       "      <th>414</th>\n",
       "      <td>это</td>\n",
       "      <td>0.702702</td>\n",
       "    </tr>\n",
       "    <tr>\n",
       "      <th>344</th>\n",
       "      <td>совершенно</td>\n",
       "      <td>0.671449</td>\n",
       "    </tr>\n",
       "    <tr>\n",
       "      <th>86</th>\n",
       "      <td>жена</td>\n",
       "      <td>0.601860</td>\n",
       "    </tr>\n",
       "    <tr>\n",
       "      <th>100</th>\n",
       "      <td>зритель</td>\n",
       "      <td>0.594923</td>\n",
       "    </tr>\n",
       "    <tr>\n",
       "      <th>88</th>\n",
       "      <td>женщина</td>\n",
       "      <td>0.581196</td>\n",
       "    </tr>\n",
       "    <tr>\n",
       "      <th>92</th>\n",
       "      <td>жить</td>\n",
       "      <td>0.571753</td>\n",
       "    </tr>\n",
       "  </tbody>\n",
       "</table>\n",
       "</div>"
      ],
      "text/plain": [
       "            word      coef\n",
       "300      ребёнок  2.919431\n",
       "328      сильный  2.800632\n",
       "97         знать  2.030362\n",
       "263       почему  1.778404\n",
       "203   нормальный  1.719580\n",
       "252     понимать  1.628176\n",
       "127      картина  1.408363\n",
       "345    советский  1.262395\n",
       "346  современный  1.245226\n",
       "134  комментарий  1.170039\n",
       "116    искусство  0.997457\n",
       "280     проблема  0.894925\n",
       "411       шедевр  0.868791\n",
       "68          дело  0.728137\n",
       "414          это  0.702702\n",
       "344   совершенно  0.671449\n",
       "86          жена  0.601860\n",
       "100      зритель  0.594923\n",
       "88       женщина  0.581196\n",
       "92          жить  0.571753"
      ]
     },
     "execution_count": 27,
     "metadata": {},
     "output_type": "execute_result"
    }
   ],
   "source": [
    "from sklearn.feature_extraction.text import TfidfVectorizer\n",
    "\n",
    "#добавим ограничения\n",
    "vect = TfidfVectorizer(max_features = 2000, max_df=0.9, min_df=0.1, norm=None)\n",
    "\n",
    "#далее как в прошлый раз\n",
    "train_texts_vect = vect.fit_transform(train_texts)\n",
    "test_texts_vect = vect.transform(test_texts)\n",
    "\n",
    "model = linear_model.Lasso()\n",
    "parameters = {'alpha': [1, 5, 10, 30, 50, 100]}\n",
    "clf = GridSearchCV(model, parameters, cv=3, scoring='neg_root_mean_squared_error')\n",
    "clf.fit(train_texts_vect, train_y)\n",
    "print(clf.best_params_, clf.best_score_)\n",
    "\n",
    "pred_train = clf.predict(train_texts_vect)\n",
    "pred_test = clf.predict(test_texts_vect)\n",
    "\n",
    "print(\"Train RMSE:\", mean_squared_error(pred_train, train_y, squared=False), \"Train MAE:\", mean_absolute_error(pred_train, train_y))\n",
    "print(\"Test RMSE:\", mean_squared_error(pred_test, test_y, squared=False), \"Test MAE:\", mean_absolute_error(pred_test, test_y))\n",
    "\n",
    "word_score = pd.DataFrame(vect.get_feature_names(), columns=['word'])\n",
    "word_score['coef'] = clf.best_estimator_.coef_\n",
    "word_score.sort_values(\"coef\", ascending=False).head(20)\n"
   ]
  },
  {
   "cell_type": "markdown",
   "id": "6b89181b",
   "metadata": {
    "execution": {
     "iopub.execute_input": "2022-04-19T08:53:50.270185Z",
     "iopub.status.busy": "2022-04-19T08:53:50.269884Z",
     "iopub.status.idle": "2022-04-19T08:53:50.27741Z",
     "shell.execute_reply": "2022-04-19T08:53:50.276012Z",
     "shell.execute_reply.started": "2022-04-19T08:53:50.270154Z"
    },
    "papermill": {
     "duration": 0.060482,
     "end_time": "2022-06-24T09:08:47.456172",
     "exception": false,
     "start_time": "2022-06-24T09:08:47.395690",
     "status": "completed"
    },
    "tags": []
   },
   "source": [
    "После исключения 10 процентов наиболее и наимение употребимых слов в топе появилось много ударных эпитетов: сильный, нормальный, советский, современный. \n",
    "На сильные аргументы нашлось немало контраргуметов в комментариях.\n",
    "\n",
    "Слово \"картина\" кстати осталась в топе. Видимо живопись более обсуждаема, чем, например, скульптура."
   ]
  },
  {
   "cell_type": "markdown",
   "id": "082ff9aa",
   "metadata": {
    "papermill": {
     "duration": 0.061807,
     "end_time": "2022-06-24T09:08:47.578574",
     "exception": false,
     "start_time": "2022-06-24T09:08:47.516767",
     "status": "completed"
    },
    "tags": []
   },
   "source": [
    "# Тематическое моделирование LSI (LSA)"
   ]
  },
  {
   "cell_type": "code",
   "execution_count": 28,
   "id": "8b0a1671",
   "metadata": {
    "execution": {
     "iopub.execute_input": "2022-06-24T09:08:47.701514Z",
     "iopub.status.busy": "2022-06-24T09:08:47.700969Z",
     "iopub.status.idle": "2022-06-24T09:08:47.814158Z",
     "shell.execute_reply": "2022-06-24T09:08:47.812688Z"
    },
    "papermill": {
     "duration": 0.177411,
     "end_time": "2022-06-24T09:08:47.816622",
     "exception": false,
     "start_time": "2022-06-24T09:08:47.639211",
     "status": "completed"
    },
    "tags": []
   },
   "outputs": [
    {
     "data": {
      "text/plain": [
       "['московский',\n",
       " 'русский',\n",
       " 'импрессионизм',\n",
       " 'открыться',\n",
       " 'выставка',\n",
       " 'авангард',\n",
       " 'телега',\n",
       " 'век',\n",
       " 'май',\n",
       " 'представить',\n",
       " 'феноменальный',\n",
       " 'русский',\n",
       " 'авангард',\n",
       " 'потерянный',\n",
       " 'вятский',\n",
       " 'губерния',\n",
       " 'около',\n",
       " 'сто',\n",
       " 'год',\n",
       " 'назад',\n",
       " 'телега',\n",
       " 'передвижной',\n",
       " 'выставка',\n",
       " 'застрять',\n",
       " 'погода',\n",
       " 'срастись',\n",
       " 'вернуть',\n",
       " 'столица',\n",
       " 'небольшой',\n",
       " 'рассказ',\n",
       " 'выставка',\n",
       " 'почитать',\n",
       " 'возвращение',\n",
       " 'этот',\n",
       " 'научный',\n",
       " 'оборот',\n",
       " 'недавний',\n",
       " 'заслуга',\n",
       " 'искусствовед',\n",
       " 'мой',\n",
       " 'старое',\n",
       " 'интервью',\n",
       " 'андрей',\n",
       " 'сарабьянов',\n",
       " 'рассказывать',\n",
       " 'находка',\n",
       " 'оно',\n",
       " 'московский',\n",
       " 'выставка',\n",
       " 'взять',\n",
       " 'прямо',\n",
       " 'искусствоведческий',\n",
       " 'детектив',\n",
       " 'несколько',\n",
       " 'фото',\n",
       " 'вернисаж']"
      ]
     },
     "execution_count": 28,
     "metadata": {},
     "output_type": "execute_result"
    }
   ],
   "source": [
    "sw = ['картина', 'музей', 'художник', 'пушкин', 'который', 'это', 'такой', 'н', 'э', 'вяземский', 'воронцов']\n",
    "\n",
    "\n",
    "\n",
    "tokenized_text = []\n",
    "\n",
    "\n",
    "for text in texts:\n",
    "    text = [w for w in text.split() if w not in sw]\n",
    "    tokenized_text.append(text)\n",
    "    \n",
    "tokenized_text[0]"
   ]
  },
  {
   "cell_type": "code",
   "execution_count": 29,
   "id": "715bf6fc",
   "metadata": {
    "execution": {
     "iopub.execute_input": "2022-06-24T09:08:47.941471Z",
     "iopub.status.busy": "2022-06-24T09:08:47.940885Z",
     "iopub.status.idle": "2022-06-24T09:08:48.142224Z",
     "shell.execute_reply": "2022-06-24T09:08:48.141204Z"
    },
    "papermill": {
     "duration": 0.266493,
     "end_time": "2022-06-24T09:08:48.144649",
     "exception": false,
     "start_time": "2022-06-24T09:08:47.878156",
     "status": "completed"
    },
    "tags": []
   },
   "outputs": [],
   "source": [
    "from gensim.models import *\n",
    "from gensim import corpora\n",
    "from gensim import similarities\n"
   ]
  },
  {
   "cell_type": "code",
   "execution_count": 30,
   "id": "0aea5c14",
   "metadata": {
    "execution": {
     "iopub.execute_input": "2022-06-24T09:08:48.271701Z",
     "iopub.status.busy": "2022-06-24T09:08:48.271422Z",
     "iopub.status.idle": "2022-06-24T09:08:49.172338Z",
     "shell.execute_reply": "2022-06-24T09:08:49.171389Z"
    },
    "papermill": {
     "duration": 0.96765,
     "end_time": "2022-06-24T09:08:49.174646",
     "exception": false,
     "start_time": "2022-06-24T09:08:48.206996",
     "status": "completed"
    },
    "tags": []
   },
   "outputs": [
    {
     "name": "stdout",
     "output_type": "stream",
     "text": [
      "Dictionary(34512 unique tokens: ['авангард', 'андрей', 'век', 'вернисаж', 'вернуть']...)\n",
      "Dictionary(15653 unique tokens: ['авангард', 'андрей', 'век', 'вернисаж', 'вернуть']...)\n"
     ]
    }
   ],
   "source": [
    "#from gensim.models.doc2vec import Doc2Vec\n",
    "\n",
    "dictionary = corpora.Dictionary(tokenized_text)\n",
    "print(dictionary)\n",
    "dictionary.filter_extremes(no_below=2, no_above=0.9, keep_n=None)\n",
    "print(dictionary)\n",
    "dictionary.save('shakko.dict')\n",
    "\n",
    "corpus = [dictionary.doc2bow(text) for text in tokenized_text]\n",
    "#corpus[0]\n",
    "corpora.MmCorpus.serialize(\"shakko.model\", corpus)"
   ]
  },
  {
   "cell_type": "code",
   "execution_count": 31,
   "id": "661f8d25",
   "metadata": {
    "execution": {
     "iopub.execute_input": "2022-06-24T09:08:49.300104Z",
     "iopub.status.busy": "2022-06-24T09:08:49.299345Z",
     "iopub.status.idle": "2022-06-24T09:08:55.875163Z",
     "shell.execute_reply": "2022-06-24T09:08:55.874249Z"
    },
    "papermill": {
     "duration": 6.64168,
     "end_time": "2022-06-24T09:08:55.878215",
     "exception": false,
     "start_time": "2022-06-24T09:08:49.236535",
     "status": "completed"
    },
    "tags": []
   },
   "outputs": [],
   "source": [
    "lsi = lsimodel.LsiModel(corpus, id2word=dictionary, num_topics = 5, chunksize=50)"
   ]
  },
  {
   "cell_type": "code",
   "execution_count": 32,
   "id": "a04aedb9",
   "metadata": {
    "execution": {
     "iopub.execute_input": "2022-06-24T09:08:56.072445Z",
     "iopub.status.busy": "2022-06-24T09:08:56.072178Z",
     "iopub.status.idle": "2022-06-24T09:08:56.088731Z",
     "shell.execute_reply": "2022-06-24T09:08:56.087861Z"
    },
    "papermill": {
     "duration": 0.082139,
     "end_time": "2022-06-24T09:08:56.091478",
     "exception": false,
     "start_time": "2022-06-24T09:08:56.009339",
     "status": "completed"
    },
    "tags": []
   },
   "outputs": [
    {
     "data": {
      "text/plain": [
       "[(0,\n",
       "  [('год', 0.3938028378710435),\n",
       "   ('свой', 0.22636157235097903),\n",
       "   ('век', 0.15804826975130903),\n",
       "   ('портрет', 0.14229960670137087),\n",
       "   ('очень', 0.1409632887742576),\n",
       "   ('человек', 0.13352182147758088),\n",
       "   ('время', 0.13054526047260323),\n",
       "   ('один', 0.1276142998922372),\n",
       "   ('первый', 0.12186569228155622),\n",
       "   ('искусство', 0.11774242267787194)]),\n",
       " (1,\n",
       "  [('год', 0.37366617635767513),\n",
       "   ('апокалипсис', -0.34479758173389163),\n",
       "   ('книга', -0.3389805814962336),\n",
       "   ('зверь', -0.23777075215293736),\n",
       "   ('портрет', 0.19877863820809893),\n",
       "   ('всадник', -0.12626063093823114),\n",
       "   ('роман', -0.12095977198209147),\n",
       "   ('море', -0.11037671269187997),\n",
       "   ('текст', -0.10003309352038221),\n",
       "   ('женщина', 0.09919186617237928)]),\n",
       " (2,\n",
       "  [('икона', -0.733568990156911),\n",
       "   ('монета', 0.21316897676805835),\n",
       "   ('церковь', -0.186034976738375),\n",
       "   ('портрет', 0.18455844367391883),\n",
       "   ('русский', -0.15306642138699678),\n",
       "   ('медаль', 0.13238881850045486),\n",
       "   ('профиль', 0.11290353253307048),\n",
       "   ('император', 0.10022627822617902),\n",
       "   ('доска', -0.08476552014161308),\n",
       "   ('замок', -0.07625188094548938)]),\n",
       " (3,\n",
       "  [('монета', -0.38469476486738324),\n",
       "   ('икона', -0.32420875206078337),\n",
       "   ('век', -0.23503685665596147),\n",
       "   ('медаль', -0.2010343476244688),\n",
       "   ('профиль', -0.19177894561127024),\n",
       "   ('женщина', 0.18025228689697134),\n",
       "   ('год', 0.16434411301282248),\n",
       "   ('император', -0.15820734822144678),\n",
       "   ('жена', 0.11279132507865545),\n",
       "   ('портрет', -0.10865460867840031)]),\n",
       " (4,\n",
       "  [('роль', -0.34061507839082),\n",
       "   ('фильм', -0.28127974771081027),\n",
       "   ('экранизация', -0.2617775599866468),\n",
       "   ('остин', -0.20452974833244103),\n",
       "   ('эмма', -0.1736182450788852),\n",
       "   ('телесериал', -0.16498430136443995),\n",
       "   ('героиня', -0.16201814387847469),\n",
       "   ('апокалипсис', 0.15822909047337932),\n",
       "   ('играть', -0.1351395508439198),\n",
       "   ('главный', -0.13188255044481997)])]"
      ]
     },
     "execution_count": 32,
     "metadata": {},
     "output_type": "execute_result"
    }
   ],
   "source": [
    "lsi.show_topics(num_topics=5, num_words=10, formatted=False)"
   ]
  },
  {
   "cell_type": "markdown",
   "id": "aad382b6",
   "metadata": {
    "papermill": {
     "duration": 0.061264,
     "end_time": "2022-06-24T09:08:56.269779",
     "exception": false,
     "start_time": "2022-06-24T09:08:56.208515",
     "status": "completed"
    },
    "tags": []
   },
   "source": [
    "# LDA"
   ]
  },
  {
   "cell_type": "code",
   "execution_count": 33,
   "id": "a1b8afc9",
   "metadata": {
    "execution": {
     "iopub.execute_input": "2022-06-24T09:08:56.397302Z",
     "iopub.status.busy": "2022-06-24T09:08:56.397047Z",
     "iopub.status.idle": "2022-06-24T09:08:58.667685Z",
     "shell.execute_reply": "2022-06-24T09:08:58.667022Z"
    },
    "papermill": {
     "duration": 2.335669,
     "end_time": "2022-06-24T09:08:58.669754",
     "exception": false,
     "start_time": "2022-06-24T09:08:56.334085",
     "status": "completed"
    },
    "tags": []
   },
   "outputs": [],
   "source": [
    "lda = ldamodel.LdaModel(corpus, id2word=dictionary, num_topics = 10, chunksize=50, update_every=1, passes=2)"
   ]
  },
  {
   "cell_type": "code",
   "execution_count": 34,
   "id": "a547bb78",
   "metadata": {
    "execution": {
     "iopub.execute_input": "2022-06-24T09:08:58.795384Z",
     "iopub.status.busy": "2022-06-24T09:08:58.795094Z",
     "iopub.status.idle": "2022-06-24T09:08:58.808756Z",
     "shell.execute_reply": "2022-06-24T09:08:58.807862Z"
    },
    "papermill": {
     "duration": 0.080027,
     "end_time": "2022-06-24T09:08:58.811175",
     "exception": false,
     "start_time": "2022-06-24T09:08:58.731148",
     "status": "completed"
    },
    "tags": []
   },
   "outputs": [
    {
     "data": {
      "text/plain": [
       "[(0,\n",
       "  [('египет', 0.030297887),\n",
       "   ('протяжение', 0.013316065),\n",
       "   ('древнегреческий', 0.012973419),\n",
       "   ('редакция', 0.009061004),\n",
       "   ('спорт', 0.009004507),\n",
       "   ('стандарт', 0.006529734),\n",
       "   ('олимпийский', 0.0047318605),\n",
       "   ('ребята', 0.0020100938),\n",
       "   ('эрвитта', 0.00016796234),\n",
       "   ('эллиотт', 0.00016796186)]),\n",
       " (1,\n",
       "  [('портрет', 0.04667869),\n",
       "   ('императрица', 0.03194993),\n",
       "   ('мария', 0.031515013),\n",
       "   ('фёдорович', 0.030742193),\n",
       "   ('екатерина', 0.020303633),\n",
       "   ('княгиня', 0.02004615),\n",
       "   ('князь', 0.019068386),\n",
       "   ('елизавета', 0.015238129),\n",
       "   ('королева', 0.015205443),\n",
       "   ('александрович', 0.013705674)]),\n",
       " (2,\n",
       "  [('фирма', 0.01584857),\n",
       "   ('тыс', 0.0115271695),\n",
       "   ('лот', 0.01001535),\n",
       "   ('цена', 0.008579678),\n",
       "   ('аукционный', 0.007730165),\n",
       "   ('рак', 0.006101691),\n",
       "   ('аукцион', 0.006098818),\n",
       "   ('фигурировать', 0.0051736003),\n",
       "   ('руб', 0.004607867),\n",
       "   ('климт', 0.0037025048)]),\n",
       " (3,\n",
       "  [('медаль', 0.083896816),\n",
       "   ('балет', 0.026742745),\n",
       "   ('алексеевич', 0.022097923),\n",
       "   ('степан', 0.008470488),\n",
       "   ('заключение', 0.0065123527),\n",
       "   ('грмть', 0.005845208),\n",
       "   ('охотник', 0.0046779346),\n",
       "   ('существенный', 0.004345738),\n",
       "   ('ксения', 0.003319836),\n",
       "   ('левин', 0.0030973058)]),\n",
       " (4,\n",
       "  [('александр', 0.03140677),\n",
       "   ('год', 0.015141696),\n",
       "   ('костюм', 0.012765152),\n",
       "   ('царь', 0.0124943685),\n",
       "   ('николай', 0.009427548),\n",
       "   ('жена', 0.008523777),\n",
       "   ('екатерина', 0.0071661742),\n",
       "   ('поэт', 0.0061272965),\n",
       "   ('великий', 0.0061222836),\n",
       "   ('русский', 0.0060227173)]),\n",
       " (5,\n",
       "  [('год', 0.0138420705),\n",
       "   ('русский', 0.009310288),\n",
       "   ('работа', 0.00877977),\n",
       "   ('искусство', 0.008092984),\n",
       "   ('выставка', 0.0074768416),\n",
       "   ('век', 0.0072246203),\n",
       "   ('эскиз', 0.00489855),\n",
       "   ('произведение', 0.0044428557),\n",
       "   ('очень', 0.00436795),\n",
       "   ('государственный', 0.0041607125)]),\n",
       " (6,\n",
       "  [('подземный', 0.010873756),\n",
       "   ('снег', 0.010246144),\n",
       "   ('ар', 0.0057503977),\n",
       "   ('карло', 0.0054528336),\n",
       "   ('дёкий', 0.0051294505),\n",
       "   ('пуарый', 0.0050696554),\n",
       "   ('организатор', 0.0035110018),\n",
       "   ('смолянка', 0.0029495978),\n",
       "   ('уорхол', 0.001703208),\n",
       "   ('заслуга', 0.0015905121)]),\n",
       " (7,\n",
       "  [('год', 0.035234954),\n",
       "   ('портрет', 0.021336026),\n",
       "   ('император', 0.010122194),\n",
       "   ('век', 0.008118285),\n",
       "   ('король', 0.0061944416),\n",
       "   ('очень', 0.0054465337),\n",
       "   ('около', 0.0050153015),\n",
       "   ('свой', 0.004298468),\n",
       "   ('марат', 0.0040400038),\n",
       "   ('стать', 0.0040019816)]),\n",
       " (8,\n",
       "  [('статуя', 0.017987847),\n",
       "   ('век', 0.013605608),\n",
       "   ('венера', 0.0090852305),\n",
       "   ('скульптура', 0.0089951195),\n",
       "   ('античный', 0.0071135666),\n",
       "   ('древний', 0.0066009937),\n",
       "   ('римский', 0.005926284),\n",
       "   ('искусство', 0.0056331786),\n",
       "   ('тело', 0.005583293),\n",
       "   ('монета', 0.005544029)]),\n",
       " (9,\n",
       "  [('свой', 0.011229311),\n",
       "   ('человек', 0.0060639633),\n",
       "   ('год', 0.005828648),\n",
       "   ('один', 0.005693473),\n",
       "   ('время', 0.0055401553),\n",
       "   ('тот', 0.0047586313),\n",
       "   ('женщина', 0.0046636914),\n",
       "   ('писать', 0.004045004),\n",
       "   ('очень', 0.003989714),\n",
       "   ('первый', 0.003772912)])]"
      ]
     },
     "execution_count": 34,
     "metadata": {},
     "output_type": "execute_result"
    }
   ],
   "source": [
    "lda.show_topics(num_topics=10, num_words=10, formatted=False)"
   ]
  },
  {
   "cell_type": "markdown",
   "id": "8b3a5a72",
   "metadata": {
    "papermill": {
     "duration": 0.064103,
     "end_time": "2022-06-24T09:08:58.938607",
     "exception": false,
     "start_time": "2022-06-24T09:08:58.874504",
     "status": "completed"
    },
    "tags": []
   },
   "source": [
    "# Биграммы"
   ]
  },
  {
   "cell_type": "code",
   "execution_count": 35,
   "id": "8683a766",
   "metadata": {
    "execution": {
     "iopub.execute_input": "2022-06-24T09:08:59.069485Z",
     "iopub.status.busy": "2022-06-24T09:08:59.069203Z",
     "iopub.status.idle": "2022-06-24T09:09:07.211225Z",
     "shell.execute_reply": "2022-06-24T09:09:07.210674Z"
    },
    "papermill": {
     "duration": 8.210187,
     "end_time": "2022-06-24T09:09:07.213147",
     "exception": false,
     "start_time": "2022-06-24T09:08:59.002960",
     "status": "completed"
    },
    "tags": []
   },
   "outputs": [
    {
     "data": {
      "text/html": [
       "<div>\n",
       "<style scoped>\n",
       "    .dataframe tbody tr th:only-of-type {\n",
       "        vertical-align: middle;\n",
       "    }\n",
       "\n",
       "    .dataframe tbody tr th {\n",
       "        vertical-align: top;\n",
       "    }\n",
       "\n",
       "    .dataframe thead th {\n",
       "        text-align: right;\n",
       "    }\n",
       "</style>\n",
       "<table border=\"1\" class=\"dataframe\">\n",
       "  <thead>\n",
       "    <tr style=\"text-align: right;\">\n",
       "      <th></th>\n",
       "      <th>raw_freq</th>\n",
       "      <th>pmi</th>\n",
       "      <th>t-score</th>\n",
       "      <th>chi2</th>\n",
       "      <th>llr</th>\n",
       "    </tr>\n",
       "  </thead>\n",
       "  <tbody>\n",
       "    <tr>\n",
       "      <th>0</th>\n",
       "      <td>сам дело</td>\n",
       "      <td>абакум сухановский</td>\n",
       "      <td>сам дело</td>\n",
       "      <td>абакум сухановский</td>\n",
       "      <td>обратить внимание</td>\n",
       "    </tr>\n",
       "    <tr>\n",
       "      <th>1</th>\n",
       "      <td>х год</td>\n",
       "      <td>аббей уолтемимя</td>\n",
       "      <td>х год</td>\n",
       "      <td>аббей уолтемимя</td>\n",
       "      <td>петров водкина</td>\n",
       "    </tr>\n",
       "    <tr>\n",
       "      <th>2</th>\n",
       "      <td>произведение искусство</td>\n",
       "      <td>абортирование эмбрион</td>\n",
       "      <td>произведение искусство</td>\n",
       "      <td>абортирование эмбрион</td>\n",
       "      <td>сам дело</td>\n",
       "    </tr>\n",
       "    <tr>\n",
       "      <th>3</th>\n",
       "      <td>обратить внимание</td>\n",
       "      <td>абсент рефлексия</td>\n",
       "      <td>обратить внимание</td>\n",
       "      <td>абсент рефлексия</td>\n",
       "      <td>точка зрение</td>\n",
       "    </tr>\n",
       "    <tr>\n",
       "      <th>4</th>\n",
       "      <td>хх век</td>\n",
       "      <td>абсолют злободневность</td>\n",
       "      <td>хх век</td>\n",
       "      <td>абсолют злободневность</td>\n",
       "      <td>хх век</td>\n",
       "    </tr>\n",
       "    <tr>\n",
       "      <th>5</th>\n",
       "      <td>петров водкина</td>\n",
       "      <td>абу саид</td>\n",
       "      <td>петров водкина</td>\n",
       "      <td>абу саид</td>\n",
       "      <td>произведение искусство</td>\n",
       "    </tr>\n",
       "    <tr>\n",
       "      <th>6</th>\n",
       "      <td>точка зрение</td>\n",
       "      <td>абьюз очевиденhttps</td>\n",
       "      <td>точка зрение</td>\n",
       "      <td>абьюз очевиденhttps</td>\n",
       "      <td>х год</td>\n",
       "    </tr>\n",
       "    <tr>\n",
       "      <th>7</th>\n",
       "      <td>так быть</td>\n",
       "      <td>аварец чеченец</td>\n",
       "      <td>так быть</td>\n",
       "      <td>аварец чеченец</td>\n",
       "      <td>сей пора</td>\n",
       "    </tr>\n",
       "    <tr>\n",
       "      <th>8</th>\n",
       "      <td>так п</td>\n",
       "      <td>августагемма клавдиять</td>\n",
       "      <td>так п</td>\n",
       "      <td>августагемма клавдиять</td>\n",
       "      <td>так п</td>\n",
       "    </tr>\n",
       "    <tr>\n",
       "      <th>9</th>\n",
       "      <td>несколько год</td>\n",
       "      <td>ависанный еси</td>\n",
       "      <td>сей пора</td>\n",
       "      <td>ависанный еси</td>\n",
       "      <td>третьяковский галерея</td>\n",
       "    </tr>\n",
       "    <tr>\n",
       "      <th>10</th>\n",
       "      <td>один самый</td>\n",
       "      <td>авитаминоз голодание</td>\n",
       "      <td>один самый</td>\n",
       "      <td>авитаминоз голодание</td>\n",
       "      <td>так быть</td>\n",
       "    </tr>\n",
       "    <tr>\n",
       "      <th>11</th>\n",
       "      <td>сей пора</td>\n",
       "      <td>автореф дис</td>\n",
       "      <td>третьяковский галерея</td>\n",
       "      <td>автореф дис</td>\n",
       "      <td>хэви метать</td>\n",
       "    </tr>\n",
       "    <tr>\n",
       "      <th>12</th>\n",
       "      <td>третьяковский галерея</td>\n",
       "      <td>агалаковый меер</td>\n",
       "      <td>несколько год</td>\n",
       "      <td>агалаковый меер</td>\n",
       "      <td>речь идти</td>\n",
       "    </tr>\n",
       "    <tr>\n",
       "      <th>13</th>\n",
       "      <td>главный герой</td>\n",
       "      <td>агга секр</td>\n",
       "      <td>речь идти</td>\n",
       "      <td>агга секр</td>\n",
       "      <td>мария фёдорович</td>\n",
       "    </tr>\n",
       "    <tr>\n",
       "      <th>14</th>\n",
       "      <td>речь идти</td>\n",
       "      <td>адел оппенгейм</td>\n",
       "      <td>главный герой</td>\n",
       "      <td>адел оппенгейм</td>\n",
       "      <td>изобразительный искусство</td>\n",
       "    </tr>\n",
       "    <tr>\n",
       "      <th>15</th>\n",
       "      <td>изобразительный искусство</td>\n",
       "      <td>адресуhttps гальюнный</td>\n",
       "      <td>изобразительный искусство</td>\n",
       "      <td>аделаида лабиль</td>\n",
       "      <td>главный герой</td>\n",
       "    </tr>\n",
       "    <tr>\n",
       "      <th>16</th>\n",
       "      <td>около год</td>\n",
       "      <td>адски орать</td>\n",
       "      <td>мария фёдорович</td>\n",
       "      <td>адресуhttps гальюнный</td>\n",
       "      <td>санкт петербург</td>\n",
       "    </tr>\n",
       "    <tr>\n",
       "      <th>17</th>\n",
       "      <td>начало век</td>\n",
       "      <td>азовый моздокский</td>\n",
       "      <td>начало век</td>\n",
       "      <td>адски орать</td>\n",
       "      <td>леонардо винчи</td>\n",
       "    </tr>\n",
       "    <tr>\n",
       "      <th>18</th>\n",
       "      <td>история искусство</td>\n",
       "      <td>ай петереть</td>\n",
       "      <td>книга апокалипсис</td>\n",
       "      <td>азовый моздокский</td>\n",
       "      <td>академия художество</td>\n",
       "    </tr>\n",
       "    <tr>\n",
       "      <th>19</th>\n",
       "      <td>мария фёдорович</td>\n",
       "      <td>айзек азимов</td>\n",
       "      <td>около год</td>\n",
       "      <td>ай петереть</td>\n",
       "      <td>задний план</td>\n",
       "    </tr>\n",
       "  </tbody>\n",
       "</table>\n",
       "</div>"
      ],
      "text/plain": [
       "                     raw_freq                     pmi  \\\n",
       "0                    сам дело      абакум сухановский   \n",
       "1                       х год         аббей уолтемимя   \n",
       "2      произведение искусство   абортирование эмбрион   \n",
       "3           обратить внимание        абсент рефлексия   \n",
       "4                      хх век  абсолют злободневность   \n",
       "5              петров водкина                абу саид   \n",
       "6                точка зрение     абьюз очевиденhttps   \n",
       "7                    так быть          аварец чеченец   \n",
       "8                       так п  августагемма клавдиять   \n",
       "9               несколько год           ависанный еси   \n",
       "10                 один самый    авитаминоз голодание   \n",
       "11                   сей пора             автореф дис   \n",
       "12      третьяковский галерея         агалаковый меер   \n",
       "13              главный герой               агга секр   \n",
       "14                  речь идти          адел оппенгейм   \n",
       "15  изобразительный искусство   адресуhttps гальюнный   \n",
       "16                  около год             адски орать   \n",
       "17                 начало век       азовый моздокский   \n",
       "18          история искусство             ай петереть   \n",
       "19            мария фёдорович            айзек азимов   \n",
       "\n",
       "                      t-score                    chi2  \\\n",
       "0                    сам дело      абакум сухановский   \n",
       "1                       х год         аббей уолтемимя   \n",
       "2      произведение искусство   абортирование эмбрион   \n",
       "3           обратить внимание        абсент рефлексия   \n",
       "4                      хх век  абсолют злободневность   \n",
       "5              петров водкина                абу саид   \n",
       "6                точка зрение     абьюз очевиденhttps   \n",
       "7                    так быть          аварец чеченец   \n",
       "8                       так п  августагемма клавдиять   \n",
       "9                    сей пора           ависанный еси   \n",
       "10                 один самый    авитаминоз голодание   \n",
       "11      третьяковский галерея             автореф дис   \n",
       "12              несколько год         агалаковый меер   \n",
       "13                  речь идти               агга секр   \n",
       "14              главный герой          адел оппенгейм   \n",
       "15  изобразительный искусство         аделаида лабиль   \n",
       "16            мария фёдорович   адресуhttps гальюнный   \n",
       "17                 начало век             адски орать   \n",
       "18          книга апокалипсис       азовый моздокский   \n",
       "19                  около год             ай петереть   \n",
       "\n",
       "                          llr  \n",
       "0           обратить внимание  \n",
       "1              петров водкина  \n",
       "2                    сам дело  \n",
       "3                точка зрение  \n",
       "4                      хх век  \n",
       "5      произведение искусство  \n",
       "6                       х год  \n",
       "7                    сей пора  \n",
       "8                       так п  \n",
       "9       третьяковский галерея  \n",
       "10                   так быть  \n",
       "11                хэви метать  \n",
       "12                  речь идти  \n",
       "13            мария фёдорович  \n",
       "14  изобразительный искусство  \n",
       "15              главный герой  \n",
       "16            санкт петербург  \n",
       "17             леонардо винчи  \n",
       "18        академия художество  \n",
       "19                задний план  "
      ]
     },
     "execution_count": 35,
     "metadata": {},
     "output_type": "execute_result"
    }
   ],
   "source": [
    "import nltk\n",
    "\n",
    "from nltk.collocations import *\n",
    "\n",
    "N_best = 100 # число извлекаемых биграм\n",
    "\n",
    "texts = [t for sublist in tokenized_text for t in sublist]\n",
    "\n",
    "bigram_measures = nltk.collocations.BigramAssocMeasures() # класс для мер ассоциации биграм\n",
    "finder = BigramCollocationFinder.from_words(texts) # класс для хранения и извлечения биграм\n",
    "finder.apply_freq_filter(1) # избавимся от биграм, которые встречаются реже одного раза\n",
    "raw_freq_ranking = [' '.join(i) for i in finder.nbest(bigram_measures.raw_freq, N_best)] # выбираем топ-10 биграм по частоте\n",
    "tscore_ranking = [' '.join(i) for i in finder.nbest(bigram_measures.student_t, N_best)] # выбираем топ-100 биграм по каждой мере\n",
    "pmi_ranking =  [' '.join(i) for i in finder.nbest(bigram_measures.pmi, N_best)]\n",
    "llr_ranking = [' '. join(i) for i in finder.nbest(bigram_measures.likelihood_ratio, N_best)]\n",
    "chi2_ranking =  [' '.join(i) for i in finder.nbest(bigram_measures.chi_sq, N_best)]\n",
    "\n",
    "rankings = pd.DataFrame({ 'chi2': chi2_ranking, 'llr':llr_ranking, 't-score' : tscore_ranking, 'pmi': pmi_ranking, 'raw_freq':raw_freq_ranking})\n",
    "rankings = rankings[['raw_freq', 'pmi', 't-score', 'chi2', 'llr']]\n",
    "rankings.head(20)"
   ]
  },
  {
   "cell_type": "markdown",
   "id": "017d824e",
   "metadata": {
    "papermill": {
     "duration": 0.064129,
     "end_time": "2022-06-24T09:09:07.341908",
     "exception": false,
     "start_time": "2022-06-24T09:09:07.277779",
     "status": "completed"
    },
    "tags": []
   },
   "source": [
    "# Named Entity Recognition"
   ]
  },
  {
   "cell_type": "code",
   "execution_count": 36,
   "id": "845f05a9",
   "metadata": {
    "execution": {
     "iopub.execute_input": "2022-06-24T09:09:07.471773Z",
     "iopub.status.busy": "2022-06-24T09:09:07.470859Z",
     "iopub.status.idle": "2022-06-24T09:09:16.620318Z",
     "shell.execute_reply": "2022-06-24T09:09:16.619204Z"
    },
    "papermill": {
     "duration": 9.216675,
     "end_time": "2022-06-24T09:09:16.622670",
     "exception": false,
     "start_time": "2022-06-24T09:09:07.405995",
     "status": "completed"
    },
    "tags": []
   },
   "outputs": [
    {
     "name": "stdout",
     "output_type": "stream",
     "text": [
      "Collecting yargy\r\n",
      "  Downloading yargy-0.15.0-py3-none-any.whl (41 kB)\r\n",
      "\u001b[2K     \u001b[90m━━━━━━━━━━━━━━━━━━━━━━━━━━━━━━━━━━━━━━━━\u001b[0m \u001b[32m41.1/41.1 KB\u001b[0m \u001b[31m1.7 MB/s\u001b[0m eta \u001b[36m0:00:00\u001b[0m\r\n",
      "\u001b[?25hRequirement already satisfied: pymorphy2 in /opt/conda/lib/python3.7/site-packages (from yargy) (0.9.1)\r\n",
      "Requirement already satisfied: docopt>=0.6 in /opt/conda/lib/python3.7/site-packages (from pymorphy2->yargy) (0.6.2)\r\n",
      "Requirement already satisfied: pymorphy2-dicts-ru<3.0,>=2.4 in /opt/conda/lib/python3.7/site-packages (from pymorphy2->yargy) (2.4.417127.4579844)\r\n",
      "Requirement already satisfied: dawg-python>=0.7.1 in /opt/conda/lib/python3.7/site-packages (from pymorphy2->yargy) (0.7.2)\r\n",
      "Installing collected packages: yargy\r\n",
      "Successfully installed yargy-0.15.0\r\n",
      "\u001b[33mWARNING: Running pip as the 'root' user can result in broken permissions and conflicting behaviour with the system package manager. It is recommended to use a virtual environment instead: https://pip.pypa.io/warnings/venv\u001b[0m\u001b[33m\r\n",
      "\u001b[0m"
     ]
    }
   ],
   "source": [
    "!pip install yargy"
   ]
  },
  {
   "cell_type": "code",
   "execution_count": 37,
   "id": "007ddc39",
   "metadata": {
    "execution": {
     "iopub.execute_input": "2022-06-24T09:09:16.754803Z",
     "iopub.status.busy": "2022-06-24T09:09:16.754474Z",
     "iopub.status.idle": "2022-06-24T09:09:16.774489Z",
     "shell.execute_reply": "2022-06-24T09:09:16.773563Z"
    },
    "papermill": {
     "duration": 0.090158,
     "end_time": "2022-06-24T09:09:16.776722",
     "exception": false,
     "start_time": "2022-06-24T09:09:16.686564",
     "status": "completed"
    },
    "tags": []
   },
   "outputs": [],
   "source": [
    "from yargy import Parser, rule, and_, not_\n",
    "from yargy.interpretation import fact\n",
    "from yargy.predicates import gram\n",
    "from yargy.relations import gnc_relation\n",
    "from yargy.pipelines import morph_pipeline"
   ]
  },
  {
   "cell_type": "code",
   "execution_count": 38,
   "id": "4fcea3d6",
   "metadata": {
    "execution": {
     "iopub.execute_input": "2022-06-24T09:09:16.909914Z",
     "iopub.status.busy": "2022-06-24T09:09:16.909616Z",
     "iopub.status.idle": "2022-06-24T09:09:27.596594Z",
     "shell.execute_reply": "2022-06-24T09:09:27.595912Z"
    },
    "papermill": {
     "duration": 10.755482,
     "end_time": "2022-06-24T09:09:27.599307",
     "exception": false,
     "start_time": "2022-06-24T09:09:16.843825",
     "status": "completed"
    },
    "tags": []
   },
   "outputs": [
    {
     "name": "stdout",
     "output_type": "stream",
     "text": [
      "Collecting ipymarkup\r\n",
      "  Downloading ipymarkup-0.9.0-py3-none-any.whl (14 kB)\r\n",
      "Collecting intervaltree>=3\r\n",
      "  Downloading intervaltree-3.1.0.tar.gz (32 kB)\r\n",
      "  Preparing metadata (setup.py) ... \u001b[?25l-\b \bdone\r\n",
      "\u001b[?25hRequirement already satisfied: sortedcontainers<3.0,>=2.0 in /opt/conda/lib/python3.7/site-packages (from intervaltree>=3->ipymarkup) (2.4.0)\r\n",
      "Building wheels for collected packages: intervaltree\r\n",
      "  Building wheel for intervaltree (setup.py) ... \u001b[?25l-\b \b\\\b \bdone\r\n",
      "\u001b[?25h  Created wheel for intervaltree: filename=intervaltree-3.1.0-py2.py3-none-any.whl size=26119 sha256=357b35a020d811cdd486cbb6f9ec2e86d1ecd21cf1655791911df2742b0b6037\r\n",
      "  Stored in directory: /root/.cache/pip/wheels/16/85/bd/1001cbb46dcfb71c2001cd7401c6fb250392f22a81ce3722f7\r\n",
      "Successfully built intervaltree\r\n",
      "Installing collected packages: intervaltree, ipymarkup\r\n",
      "Successfully installed intervaltree-3.1.0 ipymarkup-0.9.0\r\n",
      "\u001b[33mWARNING: Running pip as the 'root' user can result in broken permissions and conflicting behaviour with the system package manager. It is recommended to use a virtual environment instead: https://pip.pypa.io/warnings/venv\u001b[0m\u001b[33m\r\n",
      "\u001b[0m"
     ]
    }
   ],
   "source": [
    "!pip install ipymarkup"
   ]
  },
  {
   "cell_type": "code",
   "execution_count": 39,
   "id": "c5d66cdb",
   "metadata": {
    "execution": {
     "iopub.execute_input": "2022-06-24T09:09:27.737316Z",
     "iopub.status.busy": "2022-06-24T09:09:27.737032Z",
     "iopub.status.idle": "2022-06-24T09:09:27.757533Z",
     "shell.execute_reply": "2022-06-24T09:09:27.756894Z"
    },
    "papermill": {
     "duration": 0.091726,
     "end_time": "2022-06-24T09:09:27.759423",
     "exception": false,
     "start_time": "2022-06-24T09:09:27.667697",
     "status": "completed"
    },
    "tags": []
   },
   "outputs": [],
   "source": [
    "from ipymarkup import show_span_box_markup as show_markup"
   ]
  },
  {
   "cell_type": "code",
   "execution_count": 40,
   "id": "9cd3405e",
   "metadata": {
    "execution": {
     "iopub.execute_input": "2022-06-24T09:09:27.894744Z",
     "iopub.status.busy": "2022-06-24T09:09:27.894210Z",
     "iopub.status.idle": "2022-06-24T09:09:45.908893Z",
     "shell.execute_reply": "2022-06-24T09:09:45.907987Z"
    },
    "papermill": {
     "duration": 18.085203,
     "end_time": "2022-06-24T09:09:45.911600",
     "exception": false,
     "start_time": "2022-06-24T09:09:27.826397",
     "status": "completed"
    },
    "tags": []
   },
   "outputs": [
    {
     "name": "stdout",
     "output_type": "stream",
     "text": [
      "Collecting navec\r\n",
      "  Downloading navec-0.10.0-py3-none-any.whl (23 kB)\r\n",
      "Requirement already satisfied: numpy in /opt/conda/lib/python3.7/site-packages (from navec) (1.21.5)\r\n",
      "Installing collected packages: navec\r\n",
      "Successfully installed navec-0.10.0\r\n",
      "\u001b[33mWARNING: Running pip as the 'root' user can result in broken permissions and conflicting behaviour with the system package manager. It is recommended to use a virtual environment instead: https://pip.pypa.io/warnings/venv\u001b[0m\u001b[33m\r\n",
      "\u001b[0mCollecting slovnet\r\n",
      "  Downloading slovnet-0.5.0-py3-none-any.whl (49 kB)\r\n",
      "\u001b[2K     \u001b[90m━━━━━━━━━━━━━━━━━━━━━━━━━━━━━━━━━━━━━━━━\u001b[0m \u001b[32m49.4/49.4 KB\u001b[0m \u001b[31m2.1 MB/s\u001b[0m eta \u001b[36m0:00:00\u001b[0m\r\n",
      "\u001b[?25hRequirement already satisfied: navec in /opt/conda/lib/python3.7/site-packages (from slovnet) (0.10.0)\r\n",
      "Collecting razdel\r\n",
      "  Downloading razdel-0.5.0-py3-none-any.whl (21 kB)\r\n",
      "Requirement already satisfied: numpy in /opt/conda/lib/python3.7/site-packages (from slovnet) (1.21.5)\r\n",
      "Installing collected packages: razdel, slovnet\r\n",
      "Successfully installed razdel-0.5.0 slovnet-0.5.0\r\n",
      "\u001b[33mWARNING: Running pip as the 'root' user can result in broken permissions and conflicting behaviour with the system package manager. It is recommended to use a virtual environment instead: https://pip.pypa.io/warnings/venv\u001b[0m\u001b[33m\r\n",
      "\u001b[0m"
     ]
    }
   ],
   "source": [
    "!pip install navec\n",
    "!pip install slovnet"
   ]
  },
  {
   "cell_type": "code",
   "execution_count": 41,
   "id": "cb7ff10e",
   "metadata": {
    "execution": {
     "iopub.execute_input": "2022-06-24T09:09:46.055879Z",
     "iopub.status.busy": "2022-06-24T09:09:46.055574Z",
     "iopub.status.idle": "2022-06-24T09:09:46.077493Z",
     "shell.execute_reply": "2022-06-24T09:09:46.076909Z"
    },
    "papermill": {
     "duration": 0.09678,
     "end_time": "2022-06-24T09:09:46.079558",
     "exception": false,
     "start_time": "2022-06-24T09:09:45.982778",
     "status": "completed"
    },
    "tags": []
   },
   "outputs": [],
   "source": [
    "from navec import Navec\n",
    "from slovnet import NER\n",
    "from ipymarkup import show_span_ascii_markup as show_markup"
   ]
  },
  {
   "cell_type": "code",
   "execution_count": null,
   "id": "6305f3cb",
   "metadata": {
    "papermill": {
     "duration": 0.077687,
     "end_time": "2022-06-24T09:09:46.228548",
     "exception": false,
     "start_time": "2022-06-24T09:09:46.150861",
     "status": "completed"
    },
    "tags": []
   },
   "outputs": [],
   "source": []
  },
  {
   "cell_type": "code",
   "execution_count": 42,
   "id": "ab38a0e4",
   "metadata": {
    "execution": {
     "iopub.execute_input": "2022-06-24T09:09:46.381472Z",
     "iopub.status.busy": "2022-06-24T09:09:46.381215Z",
     "iopub.status.idle": "2022-06-24T09:09:46.385982Z",
     "shell.execute_reply": "2022-06-24T09:09:46.385320Z"
    },
    "papermill": {
     "duration": 0.08395,
     "end_time": "2022-06-24T09:09:46.387780",
     "exception": false,
     "start_time": "2022-06-24T09:09:46.303830",
     "status": "completed"
    },
    "tags": []
   },
   "outputs": [],
   "source": [
    "text = '''\n",
    "Европейский союз добавил в санкционный список девять политических деятелей из самопровозглашенных республик \n",
    "Донбасса — Донецкой народной республики (ДНР) и Луганской народной республики (ЛНР) — в связи с прошедшими там выборами. \n",
    "Об этом говорится в документе, опубликованном в официальном журнале Евросоюза. В новом списке фигурирует Леонид Пасечник, \n",
    "который по итогам выборов стал главой ЛНР. Помимо него там присутствуют Владимир Бидевка и Денис Мирошниченко, председатели \n",
    "законодательных органов ДНР и ЛНР, а также Ольга Позднякова и Елена Кравченко, председатели ЦИК обеих республик. Выборы прошли \n",
    "в непризнанных республиках Донбасса 11 ноября. На них удержали лидерство действующие руководители и партии — Денис Пушилин и \n",
    "«Донецкая республика» в ДНР и Леонид Пасечник с движением «Мир Луганщине» в ЛНР. Президент Франции Эмманюэль Макрон и канцлер \n",
    "ФРГ Ангела Меркель после встречи с украинским лидером Петром Порошенко осудили проведение выборов, заявив, что они нелегитимны \n",
    "и «подрывают территориальную целостность и суверенитет Украины». Позже к осуждению присоединились США с обещаниями новых санкций для России.\n",
    "'''"
   ]
  },
  {
   "cell_type": "code",
   "execution_count": 43,
   "id": "89b336f3",
   "metadata": {
    "execution": {
     "iopub.execute_input": "2022-06-24T09:09:46.532599Z",
     "iopub.status.busy": "2022-06-24T09:09:46.532204Z",
     "iopub.status.idle": "2022-06-24T09:09:50.382357Z",
     "shell.execute_reply": "2022-06-24T09:09:50.381652Z"
    },
    "papermill": {
     "duration": 3.925852,
     "end_time": "2022-06-24T09:09:50.384512",
     "exception": false,
     "start_time": "2022-06-24T09:09:46.458660",
     "status": "completed"
    },
    "tags": []
   },
   "outputs": [
    {
     "name": "stdout",
     "output_type": "stream",
     "text": [
      "--2022-06-24 09:09:47--  https://storage.yandexcloud.net/natasha-navec/packs/navec_news_v1_1B_250K_300d_100q.tar\r\n",
      "Resolving storage.yandexcloud.net (storage.yandexcloud.net)... 213.180.193.243, 2a02:6b8::1d9\r\n",
      "Connecting to storage.yandexcloud.net (storage.yandexcloud.net)|213.180.193.243|:443... connected.\r\n",
      "HTTP request sent, awaiting response... 200 OK\r\n",
      "Length: 26634240 (25M) [application/x-tar]\r\n",
      "Saving to: ‘navec_news_v1_1B_250K_300d_100q.tar’\r\n",
      "\r\n",
      "navec_news_v1_1B_25 100%[===================>]  25.40M  12.9MB/s    in 2.0s    \r\n",
      "\r\n",
      "2022-06-24 09:09:50 (12.9 MB/s) - ‘navec_news_v1_1B_250K_300d_100q.tar’ saved [26634240/26634240]\r\n",
      "\r\n"
     ]
    }
   ],
   "source": [
    "#wget https://storage.yandexcloud.net/natasha-navec/packs/navec_hudlit_v1_12B_500K_300d_100q.tar\n",
    "!wget https://storage.yandexcloud.net/natasha-navec/packs/navec_news_v1_1B_250K_300d_100q.tar\n",
    "#!wget https://storage.yandexcloud.net/natasha-slovnet/packs/slovnet_ner_news_v1.tar"
   ]
  },
  {
   "cell_type": "code",
   "execution_count": 44,
   "id": "2be8e126",
   "metadata": {
    "execution": {
     "iopub.execute_input": "2022-06-24T09:09:50.540533Z",
     "iopub.status.busy": "2022-06-24T09:09:50.539767Z",
     "iopub.status.idle": "2022-06-24T09:09:50.992805Z",
     "shell.execute_reply": "2022-06-24T09:09:50.991769Z"
    },
    "papermill": {
     "duration": 0.533056,
     "end_time": "2022-06-24T09:09:50.996191",
     "exception": false,
     "start_time": "2022-06-24T09:09:50.463135",
     "status": "completed"
    },
    "tags": []
   },
   "outputs": [],
   "source": [
    "navec = Navec.load('navec_news_v1_1B_250K_300d_100q.tar')"
   ]
  },
  {
   "cell_type": "code",
   "execution_count": 45,
   "id": "50c1ed8b",
   "metadata": {
    "execution": {
     "iopub.execute_input": "2022-06-24T09:09:51.212984Z",
     "iopub.status.busy": "2022-06-24T09:09:51.212499Z",
     "iopub.status.idle": "2022-06-24T09:09:53.513916Z",
     "shell.execute_reply": "2022-06-24T09:09:53.512536Z"
    },
    "papermill": {
     "duration": 2.387738,
     "end_time": "2022-06-24T09:09:53.516198",
     "exception": false,
     "start_time": "2022-06-24T09:09:51.128460",
     "status": "completed"
    },
    "tags": []
   },
   "outputs": [
    {
     "name": "stdout",
     "output_type": "stream",
     "text": [
      "--2022-06-24 09:09:51--  https://storage.yandexcloud.net/natasha-slovnet/packs/slovnet_ner_news_v1.tar\r\n",
      "Resolving storage.yandexcloud.net (storage.yandexcloud.net)... 213.180.193.243, 2a02:6b8::1d9\r\n",
      "Connecting to storage.yandexcloud.net (storage.yandexcloud.net)|213.180.193.243|:443... connected.\r\n",
      "HTTP request sent, awaiting response... 200 OK\r\n",
      "Length: 2385920 (2.3M) [application/octet-stream]\r\n",
      "Saving to: ‘slovnet_ner_news_v1.tar’\r\n",
      "\r\n",
      "slovnet_ner_news_v1 100%[===================>]   2.28M  2.50MB/s    in 0.9s    \r\n",
      "\r\n",
      "2022-06-24 09:09:53 (2.50 MB/s) - ‘slovnet_ner_news_v1.tar’ saved [2385920/2385920]\r\n",
      "\r\n"
     ]
    }
   ],
   "source": [
    "!wget https://storage.yandexcloud.net/natasha-slovnet/packs/slovnet_ner_news_v1.tar"
   ]
  },
  {
   "cell_type": "code",
   "execution_count": 46,
   "id": "a4174bf9",
   "metadata": {
    "execution": {
     "iopub.execute_input": "2022-06-24T09:09:53.670618Z",
     "iopub.status.busy": "2022-06-24T09:09:53.670332Z",
     "iopub.status.idle": "2022-06-24T09:09:53.822235Z",
     "shell.execute_reply": "2022-06-24T09:09:53.821444Z"
    },
    "papermill": {
     "duration": 0.231614,
     "end_time": "2022-06-24T09:09:53.824448",
     "exception": false,
     "start_time": "2022-06-24T09:09:53.592834",
     "status": "completed"
    },
    "tags": []
   },
   "outputs": [],
   "source": [
    "ner = NER.load('slovnet_ner_news_v1.tar')"
   ]
  },
  {
   "cell_type": "code",
   "execution_count": 47,
   "id": "3dad027c",
   "metadata": {
    "execution": {
     "iopub.execute_input": "2022-06-24T09:09:53.982200Z",
     "iopub.status.busy": "2022-06-24T09:09:53.981404Z",
     "iopub.status.idle": "2022-06-24T09:09:53.985455Z",
     "shell.execute_reply": "2022-06-24T09:09:53.984866Z"
    },
    "papermill": {
     "duration": 0.084018,
     "end_time": "2022-06-24T09:09:53.987229",
     "exception": false,
     "start_time": "2022-06-24T09:09:53.903211",
     "status": "completed"
    },
    "tags": []
   },
   "outputs": [],
   "source": [
    "ner.navec(navec);"
   ]
  },
  {
   "cell_type": "code",
   "execution_count": 48,
   "id": "cd3f1dd2",
   "metadata": {
    "execution": {
     "iopub.execute_input": "2022-06-24T09:09:54.143612Z",
     "iopub.status.busy": "2022-06-24T09:09:54.143328Z",
     "iopub.status.idle": "2022-06-24T09:09:54.190633Z",
     "shell.execute_reply": "2022-06-24T09:09:54.189628Z"
    },
    "papermill": {
     "duration": 0.128807,
     "end_time": "2022-06-24T09:09:54.194354",
     "exception": false,
     "start_time": "2022-06-24T09:09:54.065547",
     "status": "completed"
    },
    "tags": []
   },
   "outputs": [
    {
     "name": "stdout",
     "output_type": "stream",
     "text": [
      "Европейский союз добавил в санкционный список девять политических \n",
      "LOC─────────────                                                  \n",
      "деятелей из самопровозглашенных республик \n",
      "Донбасса — Донецкой народной республики (ДНР) и Луганской народной \n",
      "LOC─────   LOC───────────────────────────────   LOC────────────────\n",
      "республики (ЛНР) — в связи с прошедшими там выборами. \n",
      "────────────────                                      \n",
      "Об этом говорится в документе, опубликованном в официальном журнале \n",
      "Евросоюза. В новом списке фигурирует Леонид Пасечник, \n",
      "LOC──────                            PER────────────  \n",
      "который по итогам выборов стал главой ЛНР. Помимо него там \n",
      "                                      LOC                  \n",
      "присутствуют Владимир Бидевка и Денис Мирошниченко, председатели \n",
      "             PER─────────────   PER───────────────               \n",
      "законодательных органов ДНР и ЛНР, а также Ольга Позднякова и Елена \n",
      "                        LOC   LOC          PER─────────────   PER───\n",
      "Кравченко, председатели ЦИК обеих республик. Выборы прошли \n",
      "─────────               ORG                                \n",
      "в непризнанных республиках Донбасса 11 ноября. На них удержали \n",
      "                           LOC─────                            \n",
      "лидерство действующие руководители и партии — Денис Пушилин и \n",
      "                                              PER──────────   \n",
      "«Донецкая республика» в ДНР и Леонид Пасечник с движением «Мир \n",
      " ORG────────────────    LOC   PER────────────              ORG─\n",
      "Луганщине» в ЛНР. Президент Франции Эмманюэль Макрон и канцлер \n",
      "─────────    LOC            LOC──── PER─────────────           \n",
      "ФРГ Ангела Меркель после встречи с украинским лидером Петром Порошенко\n",
      "LOC PER───────────                                    PER─────────────\n",
      " осудили проведение выборов, заявив, что они нелегитимны \n",
      "и «подрывают территориальную целостность и суверенитет Украины». Позже\n",
      "                                                       LOC────        \n",
      " к осуждению присоединились США с обещаниями новых санкций для России.\n",
      "                            LOC                                LOC─── \n"
     ]
    }
   ],
   "source": [
    "markup = ner(text)\n",
    "show_markup(markup.text, markup.spans)"
   ]
  },
  {
   "cell_type": "code",
   "execution_count": 49,
   "id": "5cb64546",
   "metadata": {
    "execution": {
     "iopub.execute_input": "2022-06-24T09:09:54.391486Z",
     "iopub.status.busy": "2022-06-24T09:09:54.391215Z",
     "iopub.status.idle": "2022-06-24T09:09:54.397673Z",
     "shell.execute_reply": "2022-06-24T09:09:54.396876Z"
    },
    "papermill": {
     "duration": 0.086973,
     "end_time": "2022-06-24T09:09:54.399585",
     "exception": false,
     "start_time": "2022-06-24T09:09:54.312612",
     "status": "completed"
    },
    "tags": []
   },
   "outputs": [
    {
     "data": {
      "text/html": [
       "<div class=\"tex2jax_ignore\" style=\"white-space: pre-wrap\">\n",
       "<span style=\"padding: 2px; border-radius: 4px; border: 1px solid #bbdefb; background: #e3f2fd\">Европейский союз<span style=\"vertical-align: middle; margin-left: 2px; font-size: 0.7em; color: #64b5f6;\">LOC</span></span> добавил в санкционный список девять политических деятелей из самопровозглашенных республик \n",
       "<span style=\"padding: 2px; border-radius: 4px; border: 1px solid #bbdefb; background: #e3f2fd\">Донбасса<span style=\"vertical-align: middle; margin-left: 2px; font-size: 0.7em; color: #64b5f6;\">LOC</span></span> — <span style=\"padding: 2px; border-radius: 4px; border: 1px solid #bbdefb; background: #e3f2fd\">Донецкой народной республики (ДНР)<span style=\"vertical-align: middle; margin-left: 2px; font-size: 0.7em; color: #64b5f6;\">LOC</span></span> и <span style=\"padding: 2px; border-radius: 4px; border: 1px solid #bbdefb; background: #e3f2fd\">Луганской народной республики (ЛНР)<span style=\"vertical-align: middle; margin-left: 2px; font-size: 0.7em; color: #64b5f6;\">LOC</span></span> — в связи с прошедшими там выборами. \n",
       "Об этом говорится в документе, опубликованном в официальном журнале <span style=\"padding: 2px; border-radius: 4px; border: 1px solid #bbdefb; background: #e3f2fd\">Евросоюза<span style=\"vertical-align: middle; margin-left: 2px; font-size: 0.7em; color: #64b5f6;\">LOC</span></span>. В новом списке фигурирует <span style=\"padding: 2px; border-radius: 4px; border: 1px solid #c8e6c9; background: #e8f5e9\">Леонид Пасечник<span style=\"vertical-align: middle; margin-left: 2px; font-size: 0.7em; color: #66bb6a;\">PER</span></span>, \n",
       "который по итогам выборов стал главой <span style=\"padding: 2px; border-radius: 4px; border: 1px solid #bbdefb; background: #e3f2fd\">ЛНР<span style=\"vertical-align: middle; margin-left: 2px; font-size: 0.7em; color: #64b5f6;\">LOC</span></span>. Помимо него там присутствуют <span style=\"padding: 2px; border-radius: 4px; border: 1px solid #c8e6c9; background: #e8f5e9\">Владимир Бидевка<span style=\"vertical-align: middle; margin-left: 2px; font-size: 0.7em; color: #66bb6a;\">PER</span></span> и <span style=\"padding: 2px; border-radius: 4px; border: 1px solid #c8e6c9; background: #e8f5e9\">Денис Мирошниченко<span style=\"vertical-align: middle; margin-left: 2px; font-size: 0.7em; color: #66bb6a;\">PER</span></span>, председатели \n",
       "законодательных органов <span style=\"padding: 2px; border-radius: 4px; border: 1px solid #bbdefb; background: #e3f2fd\">ДНР<span style=\"vertical-align: middle; margin-left: 2px; font-size: 0.7em; color: #64b5f6;\">LOC</span></span> и <span style=\"padding: 2px; border-radius: 4px; border: 1px solid #bbdefb; background: #e3f2fd\">ЛНР<span style=\"vertical-align: middle; margin-left: 2px; font-size: 0.7em; color: #64b5f6;\">LOC</span></span>, а также <span style=\"padding: 2px; border-radius: 4px; border: 1px solid #c8e6c9; background: #e8f5e9\">Ольга Позднякова<span style=\"vertical-align: middle; margin-left: 2px; font-size: 0.7em; color: #66bb6a;\">PER</span></span> и <span style=\"padding: 2px; border-radius: 4px; border: 1px solid #c8e6c9; background: #e8f5e9\">Елена Кравченко<span style=\"vertical-align: middle; margin-left: 2px; font-size: 0.7em; color: #66bb6a;\">PER</span></span>, председатели <span style=\"padding: 2px; border-radius: 4px; border: 1px solid #ffcdd2; background: #ffebee\">ЦИК<span style=\"vertical-align: middle; margin-left: 2px; font-size: 0.7em; color: #e57373;\">ORG</span></span> обеих республик. Выборы прошли \n",
       "в непризнанных республиках <span style=\"padding: 2px; border-radius: 4px; border: 1px solid #bbdefb; background: #e3f2fd\">Донбасса<span style=\"vertical-align: middle; margin-left: 2px; font-size: 0.7em; color: #64b5f6;\">LOC</span></span> 11 ноября. На них удержали лидерство действующие руководители и партии — <span style=\"padding: 2px; border-radius: 4px; border: 1px solid #c8e6c9; background: #e8f5e9\">Денис Пушилин<span style=\"vertical-align: middle; margin-left: 2px; font-size: 0.7em; color: #66bb6a;\">PER</span></span> и \n",
       "«<span style=\"padding: 2px; border-radius: 4px; border: 1px solid #ffcdd2; background: #ffebee\">Донецкая республика<span style=\"vertical-align: middle; margin-left: 2px; font-size: 0.7em; color: #e57373;\">ORG</span></span>» в <span style=\"padding: 2px; border-radius: 4px; border: 1px solid #bbdefb; background: #e3f2fd\">ДНР<span style=\"vertical-align: middle; margin-left: 2px; font-size: 0.7em; color: #64b5f6;\">LOC</span></span> и <span style=\"padding: 2px; border-radius: 4px; border: 1px solid #c8e6c9; background: #e8f5e9\">Леонид Пасечник<span style=\"vertical-align: middle; margin-left: 2px; font-size: 0.7em; color: #66bb6a;\">PER</span></span> с движением «<span style=\"padding: 2px; border-radius: 4px; border: 1px solid #ffcdd2; background: #ffebee\">Мир Луганщине<span style=\"vertical-align: middle; margin-left: 2px; font-size: 0.7em; color: #e57373;\">ORG</span></span>» в <span style=\"padding: 2px; border-radius: 4px; border: 1px solid #bbdefb; background: #e3f2fd\">ЛНР<span style=\"vertical-align: middle; margin-left: 2px; font-size: 0.7em; color: #64b5f6;\">LOC</span></span>. Президент <span style=\"padding: 2px; border-radius: 4px; border: 1px solid #bbdefb; background: #e3f2fd\">Франции<span style=\"vertical-align: middle; margin-left: 2px; font-size: 0.7em; color: #64b5f6;\">LOC</span></span> <span style=\"padding: 2px; border-radius: 4px; border: 1px solid #c8e6c9; background: #e8f5e9\">Эмманюэль Макрон<span style=\"vertical-align: middle; margin-left: 2px; font-size: 0.7em; color: #66bb6a;\">PER</span></span> и канцлер \n",
       "<span style=\"padding: 2px; border-radius: 4px; border: 1px solid #bbdefb; background: #e3f2fd\">ФРГ<span style=\"vertical-align: middle; margin-left: 2px; font-size: 0.7em; color: #64b5f6;\">LOC</span></span> <span style=\"padding: 2px; border-radius: 4px; border: 1px solid #c8e6c9; background: #e8f5e9\">Ангела Меркель<span style=\"vertical-align: middle; margin-left: 2px; font-size: 0.7em; color: #66bb6a;\">PER</span></span> после встречи с украинским лидером <span style=\"padding: 2px; border-radius: 4px; border: 1px solid #c8e6c9; background: #e8f5e9\">Петром Порошенко<span style=\"vertical-align: middle; margin-left: 2px; font-size: 0.7em; color: #66bb6a;\">PER</span></span> осудили проведение выборов, заявив, что они нелегитимны \n",
       "и «подрывают территориальную целостность и суверенитет <span style=\"padding: 2px; border-radius: 4px; border: 1px solid #bbdefb; background: #e3f2fd\">Украины<span style=\"vertical-align: middle; margin-left: 2px; font-size: 0.7em; color: #64b5f6;\">LOC</span></span>». Позже к осуждению присоединились <span style=\"padding: 2px; border-radius: 4px; border: 1px solid #bbdefb; background: #e3f2fd\">США<span style=\"vertical-align: middle; margin-left: 2px; font-size: 0.7em; color: #64b5f6;\">LOC</span></span> с обещаниями новых санкций для <span style=\"padding: 2px; border-radius: 4px; border: 1px solid #bbdefb; background: #e3f2fd\">России<span style=\"vertical-align: middle; margin-left: 2px; font-size: 0.7em; color: #64b5f6;\">LOC</span></span>.\n",
       "</div>"
      ],
      "text/plain": [
       "<IPython.core.display.HTML object>"
      ]
     },
     "metadata": {},
     "output_type": "display_data"
    }
   ],
   "source": [
    "from ipymarkup import show_span_box_markup as show_markup\n",
    "show_markup(text, markup.spans)"
   ]
  },
  {
   "cell_type": "code",
   "execution_count": 50,
   "id": "d11415a0",
   "metadata": {
    "execution": {
     "iopub.execute_input": "2022-06-24T09:09:54.556528Z",
     "iopub.status.busy": "2022-06-24T09:09:54.556276Z",
     "iopub.status.idle": "2022-06-24T09:09:54.638579Z",
     "shell.execute_reply": "2022-06-24T09:09:54.637771Z"
    },
    "papermill": {
     "duration": 0.163177,
     "end_time": "2022-06-24T09:09:54.640963",
     "exception": false,
     "start_time": "2022-06-24T09:09:54.477786",
     "status": "completed"
    },
    "tags": []
   },
   "outputs": [
    {
     "data": {
      "text/html": [
       "<div class=\"tex2jax_ignore\" style=\"white-space: pre-wrap\"> Выставка, посвященная переосмыслению русского авангарда силами уже современных классиков, открылась в галерейном пространстве &quot;Артефакт&quot; на <span style=\"padding: 2px; border-radius: 4px; border: 1px solid #bbdefb; background: #e3f2fd\">Пречистенке<span style=\"vertical-align: middle; margin-left: 2px; font-size: 0.7em; color: #64b5f6;\">LOC</span></span>. Проект под названием «Столпы русского авангарда. Три точки зрения. <span style=\"padding: 2px; border-radius: 4px; border: 1px solid #c8e6c9; background: #e8f5e9\">Николай Ватагин<span style=\"vertical-align: middle; margin-left: 2px; font-size: 0.7em; color: #66bb6a;\">PER</span></span>. <span style=\"padding: 2px; border-radius: 4px; border: 1px solid #c8e6c9; background: #e8f5e9\">Георгий Литичевский<span style=\"vertical-align: middle; margin-left: 2px; font-size: 0.7em; color: #66bb6a;\">PER</span></span>. <span style=\"padding: 2px; border-radius: 4px; border: 1px solid #c8e6c9; background: #e8f5e9\">Вячеслав Колейчук<span style=\"vertical-align: middle; margin-left: 2px; font-size: 0.7em; color: #66bb6a;\">PER</span></span>» представляет галерея «<span style=\"padding: 2px; border-radius: 4px; border: 1px solid #ffcdd2; background: #ffebee\">ГРОСарт<span style=\"vertical-align: middle; margin-left: 2px; font-size: 0.7em; color: #e57373;\">ORG</span></span>» (до 19 января). На нем три вышеназванных художника рассказывают о мэтрах начала ХХ века силами своих любимых жанров: раскрашенной деревянной скульптуры, графики и кинетическими объектами.Любопытная выставка открылась в уютном длинном зале галереи &quot;<span style=\"padding: 2px; border-radius: 4px; border: 1px solid #ffcdd2; background: #ffebee\">Артефакт<span style=\"vertical-align: middle; margin-left: 2px; font-size: 0.7em; color: #e57373;\">ORG</span></span>&quot; на <span style=\"padding: 2px; border-radius: 4px; border: 1px solid #bbdefb; background: #e3f2fd\">Пречистенке<span style=\"vertical-align: middle; margin-left: 2px; font-size: 0.7em; color: #64b5f6;\">LOC</span></span>. Три известных современных художника -- <span style=\"padding: 2px; border-radius: 4px; border: 1px solid #c8e6c9; background: #e8f5e9\">Ватагин<span style=\"vertical-align: middle; margin-left: 2px; font-size: 0.7em; color: #66bb6a;\">PER</span></span>, <span style=\"padding: 2px; border-radius: 4px; border: 1px solid #c8e6c9; background: #e8f5e9\">Литичевский<span style=\"vertical-align: middle; margin-left: 2px; font-size: 0.7em; color: #66bb6a;\">PER</span></span> и <span style=\"padding: 2px; border-radius: 4px; border: 1px solid #bbdefb; background: #e3f2fd\">Колейчук<span style=\"vertical-align: middle; margin-left: 2px; font-size: 0.7em; color: #64b5f6;\">LOC</span></span> (а также его мастерская -- <span style=\"padding: 2px; border-radius: 4px; border: 1px solid #c8e6c9; background: #e8f5e9\">Анна Колейчук<span style=\"vertical-align: middle; margin-left: 2px; font-size: 0.7em; color: #66bb6a;\">PER</span></span> и <span style=\"padding: 2px; border-radius: 4px; border: 1px solid #c8e6c9; background: #e8f5e9\">Вадим Таллеров<span style=\"vertical-align: middle; margin-left: 2px; font-size: 0.7em; color: #66bb6a;\">PER</span></span>), размышляют тут об узнаваемых образах русского авангарда ХХ века и о том, как его символы преобразуются в искусстве в наши дни.Одна часть экспозиции посвящена <span style=\"padding: 2px; border-radius: 4px; border: 1px solid #c8e6c9; background: #e8f5e9\">Вячеславу Колейчуку<span style=\"vertical-align: middle; margin-left: 2px; font-size: 0.7em; color: #66bb6a;\">PER</span></span>, увы, скончавшемуся в 2018 году. Только что в <span style=\"padding: 2px; border-radius: 4px; border: 1px solid #bbdefb; background: #e3f2fd\">Третьяковке<span style=\"vertical-align: middle; margin-left: 2px; font-size: 0.7em; color: #64b5f6;\">LOC</span></span> закончилась посвященная ему выставка, где его завораживающие объекты из самых разных материалов сочетались с полотнами соцреалистов, придавая им совершенно новые интонации. Некоторые из тех экспонатов (или их аналоги) теперь можно увидеть здесь, что являтся прямо-таки прекрасной возможностью.На выставке, что важно, представлены предметы обычно редкодоступные -- из частных собраний, собственности авторов или семей художников.Некоторые из представленных объектов -- это не сам <span style=\"padding: 2px; border-radius: 4px; border: 1px solid #c8e6c9; background: #e8f5e9\">Колейчук<span style=\"vertical-align: middle; margin-left: 2px; font-size: 0.7em; color: #66bb6a;\">PER</span></span>, а работа его &quot;<span style=\"padding: 2px; border-radius: 4px; border: 1px solid #ffcdd2; background: #ffebee\">Мастерской<span style=\"vertical-align: middle; margin-left: 2px; font-size: 0.7em; color: #e57373;\">ORG</span></span>&quot; -- <span style=\"padding: 2px; border-radius: 4px; border: 1px solid #c8e6c9; background: #e8f5e9\">Анны Колейчук<span style=\"vertical-align: middle; margin-left: 2px; font-size: 0.7em; color: #66bb6a;\">PER</span></span> и <span style=\"padding: 2px; border-radius: 4px; border: 1px solid #c8e6c9; background: #e8f5e9\">Вадима Таллерова<span style=\"vertical-align: middle; margin-left: 2px; font-size: 0.7em; color: #66bb6a;\">PER</span></span>. В ряде созданных ими объектов использованы подлинные заготовки <span style=\"padding: 2px; border-radius: 4px; border: 1px solid #c8e6c9; background: #e8f5e9\">Колейчука<span style=\"vertical-align: middle; margin-left: 2px; font-size: 0.7em; color: #66bb6a;\">PER</span></span>, доработанные ими.То, как <span style=\"padding: 2px; border-radius: 4px; border: 1px solid #c8e6c9; background: #e8f5e9\">Колейчук<span style=\"vertical-align: middle; margin-left: 2px; font-size: 0.7em; color: #66bb6a;\">PER</span></span> развивает идеи мобилей и сложных конструкций наших авангардистов -- крайне увлекательное зрелище, упражнение разума.<span style=\"padding: 2px; border-radius: 4px; border: 1px solid #c8e6c9; background: #e8f5e9\">Вадим Таллеров<span style=\"vertical-align: middle; margin-left: 2px; font-size: 0.7em; color: #66bb6a;\">PER</span></span>, &quot;Суперложки&quot;, 2011Вторая часть проекта называется &quot;Рождение Авангарда из Духа Кричащего Облака и Зрячего Слуха&quot; <span style=\"padding: 2px; border-radius: 4px; border: 1px solid #c8e6c9; background: #e8f5e9\">Георгия Литичевского<span style=\"vertical-align: middle; margin-left: 2px; font-size: 0.7em; color: #66bb6a;\">PER</span></span>. Специально для этой выставки <span style=\"padding: 2px; border-radius: 4px; border: 1px solid #c8e6c9; background: #e8f5e9\">Литичевский<span style=\"vertical-align: middle; margin-left: 2px; font-size: 0.7em; color: #66bb6a;\">PER</span></span> выполнил 22 листа, на которых начертал, с веселыми картинами (напоминающими моего любимого &quot;псевдохармса&quot; <span style=\"padding: 2px; border-radius: 4px; border: 1px solid #ffcdd2; background: #ffebee\">Пятницкого<span style=\"vertical-align: middle; margin-left: 2px; font-size: 0.7em; color: #e57373;\">ORG</span></span>) всю историю русского авангарда.В экспозиции эта летопись представлена не на бумаге, а на ткани. Читать то, как он мифологизирует и одновременно превращает эту историю в карикатуру -- очень любопытно.Наконец, самая яркая и поразительная часть этого проекта -- деревянные скульптуры <span style=\"padding: 2px; border-radius: 4px; border: 1px solid #c8e6c9; background: #e8f5e9\">Николая Ватагина<span style=\"vertical-align: middle; margin-left: 2px; font-size: 0.7em; color: #66bb6a;\">PER</span></span>. То, что он делает с русскими писателями, я уже как-то показывала здесь (она хорошо известна). Теперь же полностью целиком представлена его серия портретов уже не писателей, а художников. Серия заказывалась галереей в течение нескольких лет и вот наконец она как бы закончена.С русалкой например, <span style=\"padding: 2px; border-radius: 4px; border: 1px solid #c8e6c9; background: #e8f5e9\">Шагал<span style=\"vertical-align: middle; margin-left: 2px; font-size: 0.7em; color: #66bb6a;\">PER</span></span>, очень милый.Дама это <span style=\"padding: 2px; border-radius: 4px; border: 1px solid #c8e6c9; background: #e8f5e9\">Александра Экстер<span style=\"vertical-align: middle; margin-left: 2px; font-size: 0.7em; color: #66bb6a;\">PER</span></span> (2018).Угадывать, кого изображают остальные фигурки, знатокам искусства, думаю, доставит большое удовольствие. Впрочем, в тех случаях, когда дамы обнажены, это все-таки сложнее делать.<span style=\"padding: 2px; border-radius: 4px; border: 1px solid #c8e6c9; background: #e8f5e9\">Степанова<span style=\"vertical-align: middle; margin-left: 2px; font-size: 0.7em; color: #66bb6a;\">PER</span></span> и <span style=\"padding: 2px; border-radius: 4px; border: 1px solid #c8e6c9; background: #e8f5e9\">РодченкоНекоторое<span style=\"vertical-align: middle; margin-left: 2px; font-size: 0.7em; color: #66bb6a;\">PER</span></span> время назад в &quot;<span style=\"padding: 2px; border-radius: 4px; border: 1px solid #ffcdd2; background: #ffebee\">ГРОСарте<span style=\"vertical-align: middle; margin-left: 2px; font-size: 0.7em; color: #e57373;\">ORG</span></span>&quot; побывали сотрудники <span style=\"padding: 2px; border-radius: 4px; border: 1px solid #ffcdd2; background: #ffebee\">Пермской государственной художественной галереи<span style=\"vertical-align: middle; margin-left: 2px; font-size: 0.7em; color: #e57373;\">ORG</span></span> и испытали небольшое потрясение, вызванное, конечно, их региональной жанровой профдеформацией. Так что недавно этот проект побывал в <span style=\"padding: 2px; border-radius: 4px; border: 1px solid #bbdefb; background: #e3f2fd\">Перми<span style=\"vertical-align: middle; margin-left: 2px; font-size: 0.7em; color: #64b5f6;\">LOC</span></span>, эпицентре русской деревянной резьбы, причем он показывался как совместное детище <span style=\"padding: 2px; border-radius: 4px; border: 1px solid #c8e6c9; background: #e8f5e9\">Перм<span style=\"vertical-align: middle; margin-left: 2px; font-size: 0.7em; color: #66bb6a;\">PER</span></span>. галереи, Дягилевского фестиваля и ГРОСарта.Татлин и <span style=\"padding: 2px; border-radius: 4px; border: 1px solid #c8e6c9; background: #e8f5e9\">МалевичЛентулов<span style=\"vertical-align: middle; margin-left: 2px; font-size: 0.7em; color: #66bb6a;\">PER</span></span> и <span style=\"padding: 2px; border-radius: 4px; border: 1px solid #c8e6c9; background: #e8f5e9\">Любовь ПоповаГончарова<span style=\"vertical-align: middle; margin-left: 2px; font-size: 0.7em; color: #66bb6a;\">PER</span></span> и <span style=\"padding: 2px; border-radius: 4px; border: 1px solid #ffcdd2; background: #ffebee\">ЛарионовБурлюкКрученыхОн<span style=\"vertical-align: middle; margin-left: 2px; font-size: 0.7em; color: #e57373;\">ORG</span></span> тратит очень много времени на отделку физиономий своих персонажей, и, когда вглядываешься, эмоциональный накал, характерность этих лиц поражает.<span style=\"padding: 2px; border-radius: 4px; border: 1px solid #c8e6c9; background: #e8f5e9\">Филонов<span style=\"vertical-align: middle; margin-left: 2px; font-size: 0.7em; color: #66bb6a;\">PER</span></span> и <span style=\"padding: 2px; border-radius: 4px; border: 1px solid #c8e6c9; background: #e8f5e9\">Кандинский Ольга РозановаКонечно<span style=\"vertical-align: middle; margin-left: 2px; font-size: 0.7em; color: #66bb6a;\">PER</span></span>, это лубок, но это такой постмодернистский лубок, и с большим чувством юмора.***ОБРАЗОВАТЕЛЬНЫЕ МЕРОПРИЯТИЯ в рамках выставки (Подробнее на сайте https://artefact-gallery.ru/russianavangard)В среду, 15 декабря, в 19.00. Паблик ток с <span style=\"padding: 2px; border-radius: 4px; border: 1px solid #c8e6c9; background: #e8f5e9\">Сергеем Хачатуровым<span style=\"vertical-align: middle; margin-left: 2px; font-size: 0.7em; color: #66bb6a;\">PER</span></span>, ведущим художественным критиком, доцентом кафедры истории отечественного искусства истфака <span style=\"padding: 2px; border-radius: 4px; border: 1px solid #ffcdd2; background: #ffebee\">МГУ имени М.В. Ломоносова<span style=\"vertical-align: middle; margin-left: 2px; font-size: 0.7em; color: #e57373;\">ORG</span></span>. В нем также принимают участие художник <span style=\"padding: 2px; border-radius: 4px; border: 1px solid #c8e6c9; background: #e8f5e9\">Георгий Литичевский<span style=\"vertical-align: middle; margin-left: 2px; font-size: 0.7em; color: #66bb6a;\">PER</span></span>, со-куратор, художник и наследник творчества отца <span style=\"padding: 2px; border-radius: 4px; border: 1px solid #c8e6c9; background: #e8f5e9\">Анна Колейчук<span style=\"vertical-align: middle; margin-left: 2px; font-size: 0.7em; color: #66bb6a;\">PER</span></span>, кураторы выставки <span style=\"padding: 2px; border-radius: 4px; border: 1px solid #c8e6c9; background: #e8f5e9\">Елена Грибоносова-Гребнева<span style=\"vertical-align: middle; margin-left: 2px; font-size: 0.7em; color: #66bb6a;\">PER</span></span> и <span style=\"padding: 2px; border-radius: 4px; border: 1px solid #c8e6c9; background: #e8f5e9\">Елена Осотина<span style=\"vertical-align: middle; margin-left: 2px; font-size: 0.7em; color: #66bb6a;\">PER</span></span>.Лекции на выставке «Столпы русского авангарда»:<span style=\"padding: 2px; border-radius: 4px; border: 1px solid #c8e6c9; background: #e8f5e9\">Мария Липатова<span style=\"vertical-align: middle; margin-left: 2px; font-size: 0.7em; color: #66bb6a;\">PER</span></span>19 декабря в 20.00 — «Татлин и <span style=\"padding: 2px; border-radius: 4px; border: 1px solid #c8e6c9; background: #e8f5e9\">Малевич<span style=\"vertical-align: middle; margin-left: 2px; font-size: 0.7em; color: #66bb6a;\">PER</span></span>. Главные и первые реформаторы театра»16 января в 20.00— «Театральные эксперименты художников начала ХХ века»<span style=\"padding: 2px; border-radius: 4px; border: 1px solid #c8e6c9; background: #e8f5e9\">Елена Елисеева<span style=\"vertical-align: middle; margin-left: 2px; font-size: 0.7em; color: #66bb6a;\">PER</span></span>26.12 в 20.00 – «<span style=\"padding: 2px; border-radius: 4px; border: 1px solid #ffcdd2; background: #ffebee\">Модный авангард<span style=\"vertical-align: middle; margin-left: 2px; font-size: 0.7em; color: #e57373;\">ORG</span></span>»<span style=\"padding: 2px; border-radius: 4px; border: 1px solid #c8e6c9; background: #e8f5e9\">Армен Апресян<span style=\"vertical-align: middle; margin-left: 2px; font-size: 0.7em; color: #66bb6a;\">PER</span></span>15.01 в 20.00 - &quot;Авангард. Миф о свободе&quot;Экскурсии на выставке «Столпы русского авангарда» проходят каждую субботу, воскресенье в 19.00***До 19 января 2022 годаhttps://grosartgallery.com/https://artefact-gallery.ru/<span style=\"padding: 2px; border-radius: 4px; border: 1px solid #bbdefb; background: #e3f2fd\">Москва<span style=\"vertical-align: middle; margin-left: 2px; font-size: 0.7em; color: #64b5f6;\">LOC</span></span>, ул. <span style=\"padding: 2px; border-radius: 4px; border: 1px solid #bbdefb; background: #e3f2fd\">Пречистенка<span style=\"vertical-align: middle; margin-left: 2px; font-size: 0.7em; color: #64b5f6;\">LOC</span></span>, 30/2 </div>"
      ],
      "text/plain": [
       "<IPython.core.display.HTML object>"
      ]
     },
     "metadata": {},
     "output_type": "display_data"
    }
   ],
   "source": [
    "article_text = dataset2.loc[2, \"article_text\"]\n",
    "#article_text\n",
    "\n",
    "markup = ner(article_text)\n",
    "show_markup(article_text, markup.spans)"
   ]
  },
  {
   "cell_type": "code",
   "execution_count": 51,
   "id": "96389671",
   "metadata": {
    "execution": {
     "iopub.execute_input": "2022-06-24T09:09:54.843553Z",
     "iopub.status.busy": "2022-06-24T09:09:54.842881Z",
     "iopub.status.idle": "2022-06-24T09:09:54.853004Z",
     "shell.execute_reply": "2022-06-24T09:09:54.851983Z"
    },
    "papermill": {
     "duration": 0.093282,
     "end_time": "2022-06-24T09:09:54.855199",
     "exception": false,
     "start_time": "2022-06-24T09:09:54.761917",
     "status": "completed"
    },
    "tags": []
   },
   "outputs": [
    {
     "name": "stdout",
     "output_type": "stream",
     "text": [
      "Николай Ватагин\n",
      "Георгий Литичевский\n",
      "Вячеслав Колейчук\n",
      "Ватагин\n",
      "Литичевский\n",
      "Анна Колейчук\n",
      "Вадим Таллеров\n",
      "Вячеславу Колейчуку\n",
      "Колейчук\n",
      "Анны Колейчук\n",
      "Вадима Таллерова\n",
      "Колейчука\n",
      "Колейчук\n",
      "Вадим Таллеров\n",
      "Георгия Литичевского\n",
      "Литичевский\n",
      "Николая Ватагина\n",
      "Шагал\n",
      "Александра Экстер\n",
      "Степанова\n",
      "РодченкоНекоторое\n",
      "Перм\n",
      "МалевичЛентулов\n",
      "Любовь ПоповаГончарова\n",
      "Филонов\n",
      "Кандинский Ольга РозановаКонечно\n",
      "Сергеем Хачатуровым\n",
      "Георгий Литичевский\n",
      "Анна Колейчук\n",
      "Елена Грибоносова-Гребнева\n",
      "Елена Осотина\n",
      "Мария Липатова\n",
      "Малевич\n",
      "Елена Елисеева\n",
      "Армен Апресян\n"
     ]
    }
   ],
   "source": [
    "dir(markup.spans)\n",
    "markup.spans[0].type\n",
    "\n",
    "#for span in markup.spans:\n",
    "#    if span.type == 'ORG':\n",
    "#        #print(int(span.start), int(span.stop))\n",
    "#        print(article_text[int(span.start): int(span.stop)])\n",
    "\n",
    "for span in markup.spans:\n",
    "    if span.type == 'PER':\n",
    "        #print(int(span.start), int(span.stop))\n",
    "        print(article_text[int(span.start): int(span.stop)])"
   ]
  },
  {
   "cell_type": "markdown",
   "id": "afff8d59",
   "metadata": {
    "papermill": {
     "duration": 0.081247,
     "end_time": "2022-06-24T09:09:55.017469",
     "exception": false,
     "start_time": "2022-06-24T09:09:54.936222",
     "status": "completed"
    },
    "tags": []
   },
   "source": [
    "# Summarization with RuGPT3MediumSumGazeta"
   ]
  },
  {
   "cell_type": "code",
   "execution_count": 52,
   "id": "944efc6a",
   "metadata": {
    "execution": {
     "iopub.execute_input": "2022-06-24T09:09:55.181851Z",
     "iopub.status.busy": "2022-06-24T09:09:55.181511Z",
     "iopub.status.idle": "2022-06-24T09:10:03.941619Z",
     "shell.execute_reply": "2022-06-24T09:10:03.940631Z"
    },
    "papermill": {
     "duration": 8.846741,
     "end_time": "2022-06-24T09:10:03.945133",
     "exception": false,
     "start_time": "2022-06-24T09:09:55.098392",
     "status": "completed"
    },
    "tags": []
   },
   "outputs": [
    {
     "name": "stdout",
     "output_type": "stream",
     "text": [
      "Requirement already satisfied: transformers in /opt/conda/lib/python3.7/site-packages (4.17.0)\r\n",
      "Requirement already satisfied: importlib-metadata in /opt/conda/lib/python3.7/site-packages (from transformers) (4.11.3)\r\n",
      "Requirement already satisfied: packaging>=20.0 in /opt/conda/lib/python3.7/site-packages (from transformers) (21.3)\r\n",
      "Requirement already satisfied: tqdm>=4.27 in /opt/conda/lib/python3.7/site-packages (from transformers) (4.63.0)\r\n",
      "Requirement already satisfied: filelock in /opt/conda/lib/python3.7/site-packages (from transformers) (3.6.0)\r\n",
      "Requirement already satisfied: regex!=2019.12.17 in /opt/conda/lib/python3.7/site-packages (from transformers) (2021.11.10)\r\n",
      "Requirement already satisfied: huggingface-hub<1.0,>=0.1.0 in /opt/conda/lib/python3.7/site-packages (from transformers) (0.5.1)\r\n",
      "Requirement already satisfied: numpy>=1.17 in /opt/conda/lib/python3.7/site-packages (from transformers) (1.21.5)\r\n",
      "Requirement already satisfied: sacremoses in /opt/conda/lib/python3.7/site-packages (from transformers) (0.0.49)\r\n",
      "Requirement already satisfied: pyyaml>=5.1 in /opt/conda/lib/python3.7/site-packages (from transformers) (6.0)\r\n",
      "Requirement already satisfied: requests in /opt/conda/lib/python3.7/site-packages (from transformers) (2.27.1)\r\n",
      "Requirement already satisfied: tokenizers!=0.11.3,>=0.11.1 in /opt/conda/lib/python3.7/site-packages (from transformers) (0.11.6)\r\n",
      "Requirement already satisfied: typing-extensions>=3.7.4.3 in /opt/conda/lib/python3.7/site-packages (from huggingface-hub<1.0,>=0.1.0->transformers) (4.1.1)\r\n",
      "Requirement already satisfied: pyparsing!=3.0.5,>=2.0.2 in /opt/conda/lib/python3.7/site-packages (from packaging>=20.0->transformers) (3.0.7)\r\n",
      "Requirement already satisfied: zipp>=0.5 in /opt/conda/lib/python3.7/site-packages (from importlib-metadata->transformers) (3.7.0)\r\n",
      "Requirement already satisfied: charset-normalizer~=2.0.0 in /opt/conda/lib/python3.7/site-packages (from requests->transformers) (2.0.12)\r\n",
      "Requirement already satisfied: certifi>=2017.4.17 in /opt/conda/lib/python3.7/site-packages (from requests->transformers) (2021.10.8)\r\n",
      "Requirement already satisfied: urllib3<1.27,>=1.21.1 in /opt/conda/lib/python3.7/site-packages (from requests->transformers) (1.26.8)\r\n",
      "Requirement already satisfied: idna<4,>=2.5 in /opt/conda/lib/python3.7/site-packages (from requests->transformers) (3.3)\r\n",
      "Requirement already satisfied: click in /opt/conda/lib/python3.7/site-packages (from sacremoses->transformers) (8.0.4)\r\n",
      "Requirement already satisfied: joblib in /opt/conda/lib/python3.7/site-packages (from sacremoses->transformers) (1.0.1)\r\n",
      "Requirement already satisfied: six in /opt/conda/lib/python3.7/site-packages (from sacremoses->transformers) (1.16.0)\r\n",
      "\u001b[33mWARNING: Running pip as the 'root' user can result in broken permissions and conflicting behaviour with the system package manager. It is recommended to use a virtual environment instead: https://pip.pypa.io/warnings/venv\u001b[0m\u001b[33m\r\n",
      "\u001b[0m"
     ]
    }
   ],
   "source": [
    "!pip install transformers"
   ]
  },
  {
   "cell_type": "code",
   "execution_count": 53,
   "id": "1e891d76",
   "metadata": {
    "execution": {
     "iopub.execute_input": "2022-06-24T09:10:04.129761Z",
     "iopub.status.busy": "2022-06-24T09:10:04.129477Z",
     "iopub.status.idle": "2022-06-24T09:10:05.452064Z",
     "shell.execute_reply": "2022-06-24T09:10:05.451084Z"
    },
    "papermill": {
     "duration": 1.410798,
     "end_time": "2022-06-24T09:10:05.454271",
     "exception": false,
     "start_time": "2022-06-24T09:10:04.043473",
     "status": "completed"
    },
    "tags": []
   },
   "outputs": [
    {
     "name": "stdout",
     "output_type": "stream",
     "text": [
      "No GPU available, using the CPU instead.\n"
     ]
    }
   ],
   "source": [
    "import torch\n",
    "\n",
    "# If there's a GPU available...\n",
    "if torch.cuda.is_available():    \n",
    "    # Tell PyTorch to use the GPU.    \n",
    "    device = torch.device(\"cuda\")\n",
    "    print('There are %d GPU(s) available.' % torch.cuda.device_count())\n",
    "    print('We will use the GPU:', torch.cuda.get_device_name(0))\n",
    "# If not...\n",
    "else:\n",
    "    print('No GPU available, using the CPU instead.')\n",
    "    device = torch.device(\"cpu\")"
   ]
  },
  {
   "cell_type": "code",
   "execution_count": 54,
   "id": "7fcf9211",
   "metadata": {
    "execution": {
     "iopub.execute_input": "2022-06-24T09:10:05.618554Z",
     "iopub.status.busy": "2022-06-24T09:10:05.618285Z",
     "iopub.status.idle": "2022-06-24T09:11:08.702894Z",
     "shell.execute_reply": "2022-06-24T09:11:08.702215Z"
    },
    "papermill": {
     "duration": 63.169291,
     "end_time": "2022-06-24T09:11:08.705013",
     "exception": false,
     "start_time": "2022-06-24T09:10:05.535722",
     "status": "completed"
    },
    "tags": []
   },
   "outputs": [
    {
     "data": {
      "application/vnd.jupyter.widget-view+json": {
       "model_id": "4fc44070fade4372917fc228d4f02fd6",
       "version_major": 2,
       "version_minor": 0
      },
      "text/plain": [
       "Downloading:   0%|          | 0.00/678 [00:00<?, ?B/s]"
      ]
     },
     "metadata": {},
     "output_type": "display_data"
    },
    {
     "data": {
      "application/vnd.jupyter.widget-view+json": {
       "model_id": "3e5c2f475a83441a8450e809e4adfba3",
       "version_major": 2,
       "version_minor": 0
      },
      "text/plain": [
       "Downloading:   0%|          | 0.00/1.54M [00:00<?, ?B/s]"
      ]
     },
     "metadata": {},
     "output_type": "display_data"
    },
    {
     "data": {
      "application/vnd.jupyter.widget-view+json": {
       "model_id": "c679ad25a996425895161dc63cbe8c6e",
       "version_major": 2,
       "version_minor": 0
      },
      "text/plain": [
       "Downloading:   0%|          | 0.00/1.21M [00:00<?, ?B/s]"
      ]
     },
     "metadata": {},
     "output_type": "display_data"
    },
    {
     "data": {
      "application/vnd.jupyter.widget-view+json": {
       "model_id": "c9bffbb96f81440f8548398fa522ed3c",
       "version_major": 2,
       "version_minor": 0
      },
      "text/plain": [
       "Downloading:   0%|          | 0.00/2.85M [00:00<?, ?B/s]"
      ]
     },
     "metadata": {},
     "output_type": "display_data"
    },
    {
     "data": {
      "application/vnd.jupyter.widget-view+json": {
       "model_id": "581569bdedaf49629e47c267fb97e836",
       "version_major": 2,
       "version_minor": 0
      },
      "text/plain": [
       "Downloading:   0%|          | 0.00/24.0 [00:00<?, ?B/s]"
      ]
     },
     "metadata": {},
     "output_type": "display_data"
    },
    {
     "data": {
      "application/vnd.jupyter.widget-view+json": {
       "model_id": "5c612d8a44fc4e7aa42f82bf5908d080",
       "version_major": 2,
       "version_minor": 0
      },
      "text/plain": [
       "Downloading:   0%|          | 0.00/105 [00:00<?, ?B/s]"
      ]
     },
     "metadata": {},
     "output_type": "display_data"
    },
    {
     "data": {
      "application/vnd.jupyter.widget-view+json": {
       "model_id": "c9d0d8fdf5244c68a44a6684447f2cc5",
       "version_major": 2,
       "version_minor": 0
      },
      "text/plain": [
       "Downloading:   0%|          | 0.00/986 [00:00<?, ?B/s]"
      ]
     },
     "metadata": {},
     "output_type": "display_data"
    },
    {
     "data": {
      "application/vnd.jupyter.widget-view+json": {
       "model_id": "676bedd84eb74b7ba29e1cc7b199a617",
       "version_major": 2,
       "version_minor": 0
      },
      "text/plain": [
       "Downloading:   0%|          | 0.00/1.42G [00:00<?, ?B/s]"
      ]
     },
     "metadata": {},
     "output_type": "display_data"
    }
   ],
   "source": [
    "from transformers import AutoTokenizer, AutoModelForCausalLM\n",
    "\n",
    "model_name = \"IlyaGusev/rugpt3medium_sum_gazeta\"\n",
    "tokenizer = AutoTokenizer.from_pretrained(model_name)\n",
    "model = AutoModelForCausalLM.from_pretrained(model_name)\n",
    "#model.to(\"cuda\")"
   ]
  },
  {
   "cell_type": "code",
   "execution_count": 55,
   "id": "192d7313",
   "metadata": {
    "execution": {
     "iopub.execute_input": "2022-06-24T09:11:08.877217Z",
     "iopub.status.busy": "2022-06-24T09:11:08.876374Z",
     "iopub.status.idle": "2022-06-24T09:11:08.901107Z",
     "shell.execute_reply": "2022-06-24T09:11:08.900131Z"
    },
    "papermill": {
     "duration": 0.114827,
     "end_time": "2022-06-24T09:11:08.903680",
     "exception": false,
     "start_time": "2022-06-24T09:11:08.788853",
     "status": "completed"
    },
    "tags": []
   },
   "outputs": [
    {
     "name": "stdout",
     "output_type": "stream",
     "text": [
      " Выставка, посвященная переосмыслению русского авангарда силами уже современных классиков, открылась в галерейном пространстве \"Артефакт\" на Пречистенке. Проект под названием «Столпы русского авангарда. Три точки зрения. Николай Ватагин. Георгий Литичевский. Вячеслав Колейчук» представляет галерея «ГРОСарт» (до 19 января). На нем три вышеназванных художника рассказывают о мэтрах начала ХХ века силами своих любимых жанров: раскрашенной деревянной скульптуры, графики и кинетическими объектами.Любопытная выставка открылась в уютном длинном зале галереи \"Артефакт\" на Пречистенке. Три известных современных художника -- Ватагин, Литичевский и Колейчук (а также его мастерская -- Анна Колейчук и Вадим Таллеров), размышляют тут об узнаваемых образах русского авангарда ХХ века и о том, как его символы преобразуются в искусстве в наши дни.Одна часть экспозиции посвящена Вячеславу Колейчуку, увы, скончавшемуся в 2018 году. Только что в Третьяковке закончилась посвященная ему выставка, где его завораживающие объекты из самых разных материалов сочетались с полотнами соцреалистов, придавая им совершенно новые интонации. Некоторые из тех экспонатов (или их аналоги) теперь можно увидеть здесь, что являтся прямо-таки прекрасной возможностью.На выставке, что важно, представлены предметы обычно редкодоступные -- из частных собраний, собственности авторов или семей художников.Некоторые из представленных объектов -- это не сам Колейчук, а работа его \"Мастерской\" -- Анны Колейчук и Вадима Таллерова. В ряде созданных ими объектов использованы подлинные заготовки Колейчука, доработанные ими.То, как Колейчук развивает идеи мобилей и сложных конструкций наших авангардистов -- крайне увлекательное зрелище, упражнение разума.Вадим Таллеров, \"Суперложки\", 2011Вторая часть проекта называется \"Рождение Авангарда из Духа Кричащего Облака и Зрячего Слуха\" Георгия Литичевского. Специально для этой выставки Литичевский выполнил 22 листа, на которых начертал, с веселыми картинами (напоминающими моего любимого \"псевдохармса\" Пятницкого) всю историю русского авангарда.В экспозиции эта летопись представлена не на бумаге, а на ткани. Читать то, как он мифологизирует и одновременно превращает эту историю в карикатуру -- очень любопытно.Наконец, самая яркая и поразительная часть этого проекта -- деревянные скульптуры Николая Ватагина. То, что он делает с русскими писателями, я уже как-то показывала здесь (она хорошо известна). Теперь же полностью целиком представлена его серия портретов уже не писателей, а художников. Серия заказывалась галереей в течение нескольких лет и вот наконец она как бы закончена.С русалкой например, Шагал, очень милый.Дама это Александра Экстер (2018).Угадывать, кого изображают остальные фигурки, знатокам искусства, думаю, доставит большое удовольствие. Впрочем, в тех случаях, когда дамы обнажены, это все-таки сложнее делать.Степанова и РодченкоНекоторое время назад в \"ГРОСарте\" побывали сотрудники Пермской государственной художественной галереи и испытали небольшое потрясение, вызванное, конечно, их региональной жанровой профдеформацией. Так что недавно этот проект побывал в Перми, эпицентре русской деревянной резьбы, причем он показывался как совместное детище Перм. галереи, Дягилевского фестиваля и ГРОСарта.Татлин и МалевичЛентулов и Любовь ПоповаГончарова и ЛарионовБурлюкКрученыхОн тратит очень много времени на отделку физиономий своих персонажей, и, когда вглядываешься, эмоциональный накал, характерность этих лиц поражает.Филонов и Кандинский Ольга РозановаКонечно, это лубок, но это такой постмодернистский лубок, и с большим чувством юмора.***ОБРАЗОВАТЕЛЬНЫЕ МЕРОПРИЯТИЯ в рамках выставки (Подробнее на сайте https://artefact-gallery.ru/russianavangard)В среду, 15 декабря, в 19.00. Паблик ток с Сергеем Хачатуровым, ведущим художественным критиком, доцентом кафедры истории отечественного искусства истфака МГУ имени М.В. Ломоносова. В нем также принимают участие художник Георгий Литичевский, со-куратор, художник и наследник творчества отца Анна Колейчук, кураторы выставки Елена Грибоносова-Гребнева и Елена Осотина.Лекции на выставке «Столпы русского авангарда»:Мария Липатова19 декабря в 20.00 — «Татлин и Малевич. Главные и первые реформаторы театра»16 января в 20.00— «Театральные эксперименты художников начала ХХ века»Елена Елисеева26.12 в 20.00 – «Модный авангард»Армен Апресян15.01 в 20.00 - \"Авангард. Миф о свободе\"Экскурсии на выставке «Столпы русского авангарда» проходят каждую субботу, воскресенье в 19.00***До 19 января 2022 годаhttps://grosartgallery.com/https://artefact-gallery.ru/Москва, ул. Пречистенка, 30/2 \n"
     ]
    }
   ],
   "source": [
    "import torch\n",
    "\n",
    "#article_text = \"Актуальность проблемы. Электронная информация играет все большую роль во всех сферах жизни современного общества. В последние годы объем научно-технической текстовой информации в электронном виде возрос настолько, что возникает угроза обесценивания этой информации в связи с трудностями поиска необходимых сведений среди множества доступных текстов. Развитие информационных ресурсов Интернет многократно усугубило проблему информационной перегрузки. В этой ситуации особенно актуальными становятся методы автоматизации реферирования текстовой информации, то есть методы получения сжатого представления текстовых документов–рефератов (аннотаций). Постановка проблемы автоматического реферирования текста и соответственно попытки ее решения с использованием различных подходов предпринимались многими исследователями.\"\n",
    "article_text = dataset2.loc[2, \"article_text\"]\n",
    "text_tokens = tokenizer(\n",
    "    article_text,\n",
    "    max_length=600,\n",
    "    add_special_tokens=False, \n",
    "    padding=False,\n",
    "    truncation=True\n",
    ")[\"input_ids\"]\n",
    "input_ids = text_tokens + [tokenizer.sep_token_id]\n",
    "input_ids = torch.LongTensor([input_ids])#.to(\"cuda\")\n",
    "\n",
    "print(article_text)"
   ]
  },
  {
   "cell_type": "code",
   "execution_count": 56,
   "id": "90654dd4",
   "metadata": {
    "execution": {
     "iopub.execute_input": "2022-06-24T09:11:09.078614Z",
     "iopub.status.busy": "2022-06-24T09:11:09.078303Z",
     "iopub.status.idle": "2022-06-24T09:12:00.132150Z",
     "shell.execute_reply": "2022-06-24T09:12:00.131149Z"
    },
    "papermill": {
     "duration": 51.2307,
     "end_time": "2022-06-24T09:12:00.219997",
     "exception": false,
     "start_time": "2022-06-24T09:11:08.989297",
     "status": "completed"
    },
    "tags": []
   },
   "outputs": [
    {
     "name": "stdout",
     "output_type": "stream",
     "text": [
      "В галерее «Артефакт» открылась выставка, посвященная русскому авангарду начала ХХ века. Три художника рассказывают о своих любимых жанрах -- деревянной скульптуре, графике и кинетических объектах.\n"
     ]
    }
   ],
   "source": [
    "output_ids = model.generate(\n",
    "    input_ids=input_ids,\n",
    "    no_repeat_ngram_size=4\n",
    ")\n",
    "\n",
    "summary = tokenizer.decode(output_ids[0], skip_special_tokens=False)\n",
    "summary = summary.split(tokenizer.sep_token)[1]\n",
    "summary = summary.split(tokenizer.eos_token)[0]\n",
    "print(summary)"
   ]
  },
  {
   "cell_type": "code",
   "execution_count": 57,
   "id": "2036aad0",
   "metadata": {
    "execution": {
     "iopub.execute_input": "2022-06-24T09:12:00.390885Z",
     "iopub.status.busy": "2022-06-24T09:12:00.389906Z",
     "iopub.status.idle": "2022-06-24T09:12:45.930631Z",
     "shell.execute_reply": "2022-06-24T09:12:45.929747Z"
    },
    "papermill": {
     "duration": 45.723578,
     "end_time": "2022-06-24T09:12:46.027785",
     "exception": false,
     "start_time": "2022-06-24T09:12:00.304207",
     "status": "completed"
    },
    "tags": []
   },
   "outputs": [
    {
     "name": "stdout",
     "output_type": "stream",
     "text": [
      " Дорогие друзья! Вот наконец и моя новая книга. Правда, по условиям книжно-ковидного кризиса последних лет, пока не кардинально новое, но все равно приятно.Итак, вот второе издание моего иллюстрированного альбома \"Апокалипсис в искусстве. Путешествие к Армагеддону\"Первое издание (описание тут) даже попало в лонг-лист премии \"Просветитель\" в разделе \"гуманитарные науки\".Мы с \"Бомборой\" сделали его второе издание, исправленное и дополненное, с добавлением текста, заменой некоторых картинок и получше (я надеюсь) полиграфией.Отличия от первого: получше полиграфия, чуть покачественней бумага. Ряд иллюстраций заменен на новые. В том числе сделаны 2 илл. персонально для меня художником Марией Пономаревой. Добавлено много текста в описания картинок. Но страниц в основной части не прибавилось при этом Дополнены приложения, в т.ч. стих Анри Волохонского про Небесный Иерусалим. И впервые публикующийся русский духовный стих. Другой корректор (но результат не гарантирую).Посмотреть эту публикацию в InstagramПубликация от Sofia Bagdasarova (Shakko) (@shakko_art)Книга представляет собой издание новозаветного текста \"Откровения Иоанна Богослова\", которое в обычных изданиях Библии обычно занимает около 10 страниц. А тут заняло 200 с лишним, потому что каждый абзац текста тут проиллюстрирован соответствущей картинкой. Которая сопровождена искусствоведческим объяснением.Некоторые картинки по сравнению с первым изданием заменены на более интересные и подходящие. Также пара картинок была специально нарисована для меня, для этого издания в  2021 году.Альбомную часть предваряет небольшое предисловие, где я доступным языком рассказываю об истории этого христианского текста и его месте в русской культуре.А в конце книги, уже после того, как вся история рассказана и вроде бы добавить нечего, я поместила приложение -- несколько стихотворений русских поэтов Золотого и Серебряного века русской поэзии. Которые пронизаны символикой \"Апокалипсиса\", однако мы, в своей массе, не зная подробностей этой священной книги, просто пропускали эти маркеры мимо ушей. Для того же, кто прочтет книгу с картинками, эти стихотворения внезапно наполнятся истинной, намного более глубокой символикой.Ура, для переиздания семья Анри Волохонского разрешила мне использовать в этой части текст стихотворения \"Под небом голубым есть город золотой\", которое, пожалуй. самый знаменитый поэтический текст на тему Апокалипсиса в русской культуре сейчас. Во втором приложении помещен редкий, ранее не публиковавшийся древнерусский духовный стих. В общем, красиво и интересно.***В магазинах:https://book24.ru/author/bagdasarova-sofiya-andreeva-1869921/https://www.labirint.ru/books/844124/ \n",
      "В издательстве «Бомбардье» вышла моя новая книга «Апокалипсисы в искусстве».\n"
     ]
    }
   ],
   "source": [
    "article_text = dataset2.loc[85, \"article_text\"]\n",
    "text_tokens = tokenizer(\n",
    "    article_text,\n",
    "    max_length=600,\n",
    "    add_special_tokens=False, \n",
    "    padding=False,\n",
    "    truncation=True\n",
    ")[\"input_ids\"]\n",
    "input_ids = text_tokens + [tokenizer.sep_token_id]\n",
    "input_ids = torch.LongTensor([input_ids])#.to(\"cuda\")\n",
    "\n",
    "print(article_text)\n",
    "\n",
    "output_ids = model.generate(\n",
    "    input_ids=input_ids,\n",
    "    no_repeat_ngram_size=4\n",
    ")\n",
    "\n",
    "summary = tokenizer.decode(output_ids[0], skip_special_tokens=False)\n",
    "summary = summary.split(tokenizer.sep_token)[1]\n",
    "summary = summary.split(tokenizer.eos_token)[0]\n",
    "print(summary)"
   ]
  }
 ],
 "metadata": {
  "kernelspec": {
   "display_name": "Python 3",
   "language": "python",
   "name": "python3"
  },
  "language_info": {
   "codemirror_mode": {
    "name": "ipython",
    "version": 3
   },
   "file_extension": ".py",
   "mimetype": "text/x-python",
   "name": "python",
   "nbconvert_exporter": "python",
   "pygments_lexer": "ipython3",
   "version": "3.7.12"
  },
  "papermill": {
   "default_parameters": {},
   "duration": 325.828162,
   "end_time": "2022-06-24T09:12:49.466107",
   "environment_variables": {},
   "exception": null,
   "input_path": "__notebook__.ipynb",
   "output_path": "__notebook__.ipynb",
   "parameters": {},
   "start_time": "2022-06-24T09:07:23.637945",
   "version": "2.3.4"
  },
  "widgets": {
   "application/vnd.jupyter.widget-state+json": {
    "state": {
     "02eaa84d2c5943d39480aedfa30ad0e1": {
      "model_module": "@jupyter-widgets/base",
      "model_module_version": "1.2.0",
      "model_name": "LayoutModel",
      "state": {
       "_model_module": "@jupyter-widgets/base",
       "_model_module_version": "1.2.0",
       "_model_name": "LayoutModel",
       "_view_count": null,
       "_view_module": "@jupyter-widgets/base",
       "_view_module_version": "1.2.0",
       "_view_name": "LayoutView",
       "align_content": null,
       "align_items": null,
       "align_self": null,
       "border": null,
       "bottom": null,
       "display": null,
       "flex": null,
       "flex_flow": null,
       "grid_area": null,
       "grid_auto_columns": null,
       "grid_auto_flow": null,
       "grid_auto_rows": null,
       "grid_column": null,
       "grid_gap": null,
       "grid_row": null,
       "grid_template_areas": null,
       "grid_template_columns": null,
       "grid_template_rows": null,
       "height": null,
       "justify_content": null,
       "justify_items": null,
       "left": null,
       "margin": null,
       "max_height": null,
       "max_width": null,
       "min_height": null,
       "min_width": null,
       "object_fit": null,
       "object_position": null,
       "order": null,
       "overflow": null,
       "overflow_x": null,
       "overflow_y": null,
       "padding": null,
       "right": null,
       "top": null,
       "visibility": null,
       "width": null
      }
     },
     "0c21803dc525461f9522ffea7eab93e9": {
      "model_module": "@jupyter-widgets/controls",
      "model_module_version": "1.5.0",
      "model_name": "FloatProgressModel",
      "state": {
       "_dom_classes": [],
       "_model_module": "@jupyter-widgets/controls",
       "_model_module_version": "1.5.0",
       "_model_name": "FloatProgressModel",
       "_view_count": null,
       "_view_module": "@jupyter-widgets/controls",
       "_view_module_version": "1.5.0",
       "_view_name": "ProgressView",
       "bar_style": "success",
       "description": "",
       "description_tooltip": null,
       "layout": "IPY_MODEL_dd0c77c79be345119359aec499b3d157",
       "max": 1524273113.0,
       "min": 0.0,
       "orientation": "horizontal",
       "style": "IPY_MODEL_d0d616cf049f4ff09c929a26e4270fdb",
       "value": 1524273113.0
      }
     },
     "0d6c983ad9984b0690e531a7dbe80930": {
      "model_module": "@jupyter-widgets/base",
      "model_module_version": "1.2.0",
      "model_name": "LayoutModel",
      "state": {
       "_model_module": "@jupyter-widgets/base",
       "_model_module_version": "1.2.0",
       "_model_name": "LayoutModel",
       "_view_count": null,
       "_view_module": "@jupyter-widgets/base",
       "_view_module_version": "1.2.0",
       "_view_name": "LayoutView",
       "align_content": null,
       "align_items": null,
       "align_self": null,
       "border": null,
       "bottom": null,
       "display": null,
       "flex": null,
       "flex_flow": null,
       "grid_area": null,
       "grid_auto_columns": null,
       "grid_auto_flow": null,
       "grid_auto_rows": null,
       "grid_column": null,
       "grid_gap": null,
       "grid_row": null,
       "grid_template_areas": null,
       "grid_template_columns": null,
       "grid_template_rows": null,
       "height": null,
       "justify_content": null,
       "justify_items": null,
       "left": null,
       "margin": null,
       "max_height": null,
       "max_width": null,
       "min_height": null,
       "min_width": null,
       "object_fit": null,
       "object_position": null,
       "order": null,
       "overflow": null,
       "overflow_x": null,
       "overflow_y": null,
       "padding": null,
       "right": null,
       "top": null,
       "visibility": null,
       "width": null
      }
     },
     "0d94290d3a6d40009573ed4db4ad0403": {
      "model_module": "@jupyter-widgets/base",
      "model_module_version": "1.2.0",
      "model_name": "LayoutModel",
      "state": {
       "_model_module": "@jupyter-widgets/base",
       "_model_module_version": "1.2.0",
       "_model_name": "LayoutModel",
       "_view_count": null,
       "_view_module": "@jupyter-widgets/base",
       "_view_module_version": "1.2.0",
       "_view_name": "LayoutView",
       "align_content": null,
       "align_items": null,
       "align_self": null,
       "border": null,
       "bottom": null,
       "display": null,
       "flex": null,
       "flex_flow": null,
       "grid_area": null,
       "grid_auto_columns": null,
       "grid_auto_flow": null,
       "grid_auto_rows": null,
       "grid_column": null,
       "grid_gap": null,
       "grid_row": null,
       "grid_template_areas": null,
       "grid_template_columns": null,
       "grid_template_rows": null,
       "height": null,
       "justify_content": null,
       "justify_items": null,
       "left": null,
       "margin": null,
       "max_height": null,
       "max_width": null,
       "min_height": null,
       "min_width": null,
       "object_fit": null,
       "object_position": null,
       "order": null,
       "overflow": null,
       "overflow_x": null,
       "overflow_y": null,
       "padding": null,
       "right": null,
       "top": null,
       "visibility": null,
       "width": null
      }
     },
     "1394f05451584015950734ca2241c77c": {
      "model_module": "@jupyter-widgets/controls",
      "model_module_version": "1.5.0",
      "model_name": "DescriptionStyleModel",
      "state": {
       "_model_module": "@jupyter-widgets/controls",
       "_model_module_version": "1.5.0",
       "_model_name": "DescriptionStyleModel",
       "_view_count": null,
       "_view_module": "@jupyter-widgets/base",
       "_view_module_version": "1.2.0",
       "_view_name": "StyleView",
       "description_width": ""
      }
     },
     "153e9149838441cf97eb67c9b352ec20": {
      "model_module": "@jupyter-widgets/controls",
      "model_module_version": "1.5.0",
      "model_name": "HTMLModel",
      "state": {
       "_dom_classes": [],
       "_model_module": "@jupyter-widgets/controls",
       "_model_module_version": "1.5.0",
       "_model_name": "HTMLModel",
       "_view_count": null,
       "_view_module": "@jupyter-widgets/controls",
       "_view_module_version": "1.5.0",
       "_view_name": "HTMLView",
       "description": "",
       "description_tooltip": null,
       "layout": "IPY_MODEL_d939693b2a364d338da7183ed9d00226",
       "placeholder": "​",
       "style": "IPY_MODEL_1394f05451584015950734ca2241c77c",
       "value": " 986/986 [00:00&lt;00:00, 39.0kB/s]"
      }
     },
     "15cc48f0f17648a481d86d35a616789b": {
      "model_module": "@jupyter-widgets/controls",
      "model_module_version": "1.5.0",
      "model_name": "HTMLModel",
      "state": {
       "_dom_classes": [],
       "_model_module": "@jupyter-widgets/controls",
       "_model_module_version": "1.5.0",
       "_model_name": "HTMLModel",
       "_view_count": null,
       "_view_module": "@jupyter-widgets/controls",
       "_view_module_version": "1.5.0",
       "_view_name": "HTMLView",
       "description": "",
       "description_tooltip": null,
       "layout": "IPY_MODEL_719aa9cc3a4844ec95bf46d6b5969e59",
       "placeholder": "​",
       "style": "IPY_MODEL_e60a8837b5c84b8e90b958505b75a893",
       "value": " 2.85M/2.85M [00:00&lt;00:00, 5.18MB/s]"
      }
     },
     "163cec806cbb469f826f02c9ec8ae117": {
      "model_module": "@jupyter-widgets/base",
      "model_module_version": "1.2.0",
      "model_name": "LayoutModel",
      "state": {
       "_model_module": "@jupyter-widgets/base",
       "_model_module_version": "1.2.0",
       "_model_name": "LayoutModel",
       "_view_count": null,
       "_view_module": "@jupyter-widgets/base",
       "_view_module_version": "1.2.0",
       "_view_name": "LayoutView",
       "align_content": null,
       "align_items": null,
       "align_self": null,
       "border": null,
       "bottom": null,
       "display": null,
       "flex": null,
       "flex_flow": null,
       "grid_area": null,
       "grid_auto_columns": null,
       "grid_auto_flow": null,
       "grid_auto_rows": null,
       "grid_column": null,
       "grid_gap": null,
       "grid_row": null,
       "grid_template_areas": null,
       "grid_template_columns": null,
       "grid_template_rows": null,
       "height": null,
       "justify_content": null,
       "justify_items": null,
       "left": null,
       "margin": null,
       "max_height": null,
       "max_width": null,
       "min_height": null,
       "min_width": null,
       "object_fit": null,
       "object_position": null,
       "order": null,
       "overflow": null,
       "overflow_x": null,
       "overflow_y": null,
       "padding": null,
       "right": null,
       "top": null,
       "visibility": null,
       "width": null
      }
     },
     "1a4cec58456a4c7db7f7851d24f068c9": {
      "model_module": "@jupyter-widgets/controls",
      "model_module_version": "1.5.0",
      "model_name": "HTMLModel",
      "state": {
       "_dom_classes": [],
       "_model_module": "@jupyter-widgets/controls",
       "_model_module_version": "1.5.0",
       "_model_name": "HTMLModel",
       "_view_count": null,
       "_view_module": "@jupyter-widgets/controls",
       "_view_module_version": "1.5.0",
       "_view_name": "HTMLView",
       "description": "",
       "description_tooltip": null,
       "layout": "IPY_MODEL_9d049a6ac20f4f009a228cfcc19a10d4",
       "placeholder": "​",
       "style": "IPY_MODEL_5bf9ed7cda6f4ba5b37fedf2fce4c616",
       "value": "Downloading: 100%"
      }
     },
     "1bba13efc2eb4e5381efffe138f6c144": {
      "model_module": "@jupyter-widgets/controls",
      "model_module_version": "1.5.0",
      "model_name": "FloatProgressModel",
      "state": {
       "_dom_classes": [],
       "_model_module": "@jupyter-widgets/controls",
       "_model_module_version": "1.5.0",
       "_model_name": "FloatProgressModel",
       "_view_count": null,
       "_view_module": "@jupyter-widgets/controls",
       "_view_module_version": "1.5.0",
       "_view_name": "ProgressView",
       "bar_style": "success",
       "description": "",
       "description_tooltip": null,
       "layout": "IPY_MODEL_f6c10e4dc7464c1b8b1aea8be0563b05",
       "max": 678.0,
       "min": 0.0,
       "orientation": "horizontal",
       "style": "IPY_MODEL_6301b24c92ed4387bc89e5f8f7561b75",
       "value": 678.0
      }
     },
     "22fde768772040908465df1a4dc09a43": {
      "model_module": "@jupyter-widgets/base",
      "model_module_version": "1.2.0",
      "model_name": "LayoutModel",
      "state": {
       "_model_module": "@jupyter-widgets/base",
       "_model_module_version": "1.2.0",
       "_model_name": "LayoutModel",
       "_view_count": null,
       "_view_module": "@jupyter-widgets/base",
       "_view_module_version": "1.2.0",
       "_view_name": "LayoutView",
       "align_content": null,
       "align_items": null,
       "align_self": null,
       "border": null,
       "bottom": null,
       "display": null,
       "flex": null,
       "flex_flow": null,
       "grid_area": null,
       "grid_auto_columns": null,
       "grid_auto_flow": null,
       "grid_auto_rows": null,
       "grid_column": null,
       "grid_gap": null,
       "grid_row": null,
       "grid_template_areas": null,
       "grid_template_columns": null,
       "grid_template_rows": null,
       "height": null,
       "justify_content": null,
       "justify_items": null,
       "left": null,
       "margin": null,
       "max_height": null,
       "max_width": null,
       "min_height": null,
       "min_width": null,
       "object_fit": null,
       "object_position": null,
       "order": null,
       "overflow": null,
       "overflow_x": null,
       "overflow_y": null,
       "padding": null,
       "right": null,
       "top": null,
       "visibility": null,
       "width": null
      }
     },
     "25009c09411440ed80c98bd2b4f9ac70": {
      "model_module": "@jupyter-widgets/controls",
      "model_module_version": "1.5.0",
      "model_name": "DescriptionStyleModel",
      "state": {
       "_model_module": "@jupyter-widgets/controls",
       "_model_module_version": "1.5.0",
       "_model_name": "DescriptionStyleModel",
       "_view_count": null,
       "_view_module": "@jupyter-widgets/base",
       "_view_module_version": "1.2.0",
       "_view_name": "StyleView",
       "description_width": ""
      }
     },
     "28b11d76fcc54aaebdcac4b06c3a1b29": {
      "model_module": "@jupyter-widgets/base",
      "model_module_version": "1.2.0",
      "model_name": "LayoutModel",
      "state": {
       "_model_module": "@jupyter-widgets/base",
       "_model_module_version": "1.2.0",
       "_model_name": "LayoutModel",
       "_view_count": null,
       "_view_module": "@jupyter-widgets/base",
       "_view_module_version": "1.2.0",
       "_view_name": "LayoutView",
       "align_content": null,
       "align_items": null,
       "align_self": null,
       "border": null,
       "bottom": null,
       "display": null,
       "flex": null,
       "flex_flow": null,
       "grid_area": null,
       "grid_auto_columns": null,
       "grid_auto_flow": null,
       "grid_auto_rows": null,
       "grid_column": null,
       "grid_gap": null,
       "grid_row": null,
       "grid_template_areas": null,
       "grid_template_columns": null,
       "grid_template_rows": null,
       "height": null,
       "justify_content": null,
       "justify_items": null,
       "left": null,
       "margin": null,
       "max_height": null,
       "max_width": null,
       "min_height": null,
       "min_width": null,
       "object_fit": null,
       "object_position": null,
       "order": null,
       "overflow": null,
       "overflow_x": null,
       "overflow_y": null,
       "padding": null,
       "right": null,
       "top": null,
       "visibility": null,
       "width": null
      }
     },
     "3571c42a7c3d462a99585b527566d57c": {
      "model_module": "@jupyter-widgets/base",
      "model_module_version": "1.2.0",
      "model_name": "LayoutModel",
      "state": {
       "_model_module": "@jupyter-widgets/base",
       "_model_module_version": "1.2.0",
       "_model_name": "LayoutModel",
       "_view_count": null,
       "_view_module": "@jupyter-widgets/base",
       "_view_module_version": "1.2.0",
       "_view_name": "LayoutView",
       "align_content": null,
       "align_items": null,
       "align_self": null,
       "border": null,
       "bottom": null,
       "display": null,
       "flex": null,
       "flex_flow": null,
       "grid_area": null,
       "grid_auto_columns": null,
       "grid_auto_flow": null,
       "grid_auto_rows": null,
       "grid_column": null,
       "grid_gap": null,
       "grid_row": null,
       "grid_template_areas": null,
       "grid_template_columns": null,
       "grid_template_rows": null,
       "height": null,
       "justify_content": null,
       "justify_items": null,
       "left": null,
       "margin": null,
       "max_height": null,
       "max_width": null,
       "min_height": null,
       "min_width": null,
       "object_fit": null,
       "object_position": null,
       "order": null,
       "overflow": null,
       "overflow_x": null,
       "overflow_y": null,
       "padding": null,
       "right": null,
       "top": null,
       "visibility": null,
       "width": null
      }
     },
     "3ccbffe467ba47d38d2ffeeca5c2c777": {
      "model_module": "@jupyter-widgets/base",
      "model_module_version": "1.2.0",
      "model_name": "LayoutModel",
      "state": {
       "_model_module": "@jupyter-widgets/base",
       "_model_module_version": "1.2.0",
       "_model_name": "LayoutModel",
       "_view_count": null,
       "_view_module": "@jupyter-widgets/base",
       "_view_module_version": "1.2.0",
       "_view_name": "LayoutView",
       "align_content": null,
       "align_items": null,
       "align_self": null,
       "border": null,
       "bottom": null,
       "display": null,
       "flex": null,
       "flex_flow": null,
       "grid_area": null,
       "grid_auto_columns": null,
       "grid_auto_flow": null,
       "grid_auto_rows": null,
       "grid_column": null,
       "grid_gap": null,
       "grid_row": null,
       "grid_template_areas": null,
       "grid_template_columns": null,
       "grid_template_rows": null,
       "height": null,
       "justify_content": null,
       "justify_items": null,
       "left": null,
       "margin": null,
       "max_height": null,
       "max_width": null,
       "min_height": null,
       "min_width": null,
       "object_fit": null,
       "object_position": null,
       "order": null,
       "overflow": null,
       "overflow_x": null,
       "overflow_y": null,
       "padding": null,
       "right": null,
       "top": null,
       "visibility": null,
       "width": null
      }
     },
     "3e5c2f475a83441a8450e809e4adfba3": {
      "model_module": "@jupyter-widgets/controls",
      "model_module_version": "1.5.0",
      "model_name": "HBoxModel",
      "state": {
       "_dom_classes": [],
       "_model_module": "@jupyter-widgets/controls",
       "_model_module_version": "1.5.0",
       "_model_name": "HBoxModel",
       "_view_count": null,
       "_view_module": "@jupyter-widgets/controls",
       "_view_module_version": "1.5.0",
       "_view_name": "HBoxView",
       "box_style": "",
       "children": [
        "IPY_MODEL_9e89691d10924361961495bb24b60b59",
        "IPY_MODEL_42a7fa99765d4fd59099e2fba3d3bc65",
        "IPY_MODEL_6c3fd18a26ed49d9aede8c61f417889c"
       ],
       "layout": "IPY_MODEL_3571c42a7c3d462a99585b527566d57c"
      }
     },
     "42a7fa99765d4fd59099e2fba3d3bc65": {
      "model_module": "@jupyter-widgets/controls",
      "model_module_version": "1.5.0",
      "model_name": "FloatProgressModel",
      "state": {
       "_dom_classes": [],
       "_model_module": "@jupyter-widgets/controls",
       "_model_module_version": "1.5.0",
       "_model_name": "FloatProgressModel",
       "_view_count": null,
       "_view_module": "@jupyter-widgets/controls",
       "_view_module_version": "1.5.0",
       "_view_name": "ProgressView",
       "bar_style": "success",
       "description": "",
       "description_tooltip": null,
       "layout": "IPY_MODEL_9a648c93cfc84a1b8251ebfa197d081a",
       "max": 1612610.0,
       "min": 0.0,
       "orientation": "horizontal",
       "style": "IPY_MODEL_fd364d7f00ed4538aa13d965de4bbe0b",
       "value": 1612610.0
      }
     },
     "478261226d9b490f8da4422d105e740f": {
      "model_module": "@jupyter-widgets/base",
      "model_module_version": "1.2.0",
      "model_name": "LayoutModel",
      "state": {
       "_model_module": "@jupyter-widgets/base",
       "_model_module_version": "1.2.0",
       "_model_name": "LayoutModel",
       "_view_count": null,
       "_view_module": "@jupyter-widgets/base",
       "_view_module_version": "1.2.0",
       "_view_name": "LayoutView",
       "align_content": null,
       "align_items": null,
       "align_self": null,
       "border": null,
       "bottom": null,
       "display": null,
       "flex": null,
       "flex_flow": null,
       "grid_area": null,
       "grid_auto_columns": null,
       "grid_auto_flow": null,
       "grid_auto_rows": null,
       "grid_column": null,
       "grid_gap": null,
       "grid_row": null,
       "grid_template_areas": null,
       "grid_template_columns": null,
       "grid_template_rows": null,
       "height": null,
       "justify_content": null,
       "justify_items": null,
       "left": null,
       "margin": null,
       "max_height": null,
       "max_width": null,
       "min_height": null,
       "min_width": null,
       "object_fit": null,
       "object_position": null,
       "order": null,
       "overflow": null,
       "overflow_x": null,
       "overflow_y": null,
       "padding": null,
       "right": null,
       "top": null,
       "visibility": null,
       "width": null
      }
     },
     "4a30a019e20948f3bf742bb5d381af53": {
      "model_module": "@jupyter-widgets/base",
      "model_module_version": "1.2.0",
      "model_name": "LayoutModel",
      "state": {
       "_model_module": "@jupyter-widgets/base",
       "_model_module_version": "1.2.0",
       "_model_name": "LayoutModel",
       "_view_count": null,
       "_view_module": "@jupyter-widgets/base",
       "_view_module_version": "1.2.0",
       "_view_name": "LayoutView",
       "align_content": null,
       "align_items": null,
       "align_self": null,
       "border": null,
       "bottom": null,
       "display": null,
       "flex": null,
       "flex_flow": null,
       "grid_area": null,
       "grid_auto_columns": null,
       "grid_auto_flow": null,
       "grid_auto_rows": null,
       "grid_column": null,
       "grid_gap": null,
       "grid_row": null,
       "grid_template_areas": null,
       "grid_template_columns": null,
       "grid_template_rows": null,
       "height": null,
       "justify_content": null,
       "justify_items": null,
       "left": null,
       "margin": null,
       "max_height": null,
       "max_width": null,
       "min_height": null,
       "min_width": null,
       "object_fit": null,
       "object_position": null,
       "order": null,
       "overflow": null,
       "overflow_x": null,
       "overflow_y": null,
       "padding": null,
       "right": null,
       "top": null,
       "visibility": null,
       "width": null
      }
     },
     "4d1ed0ecbea2454a9433698883b4fb92": {
      "model_module": "@jupyter-widgets/controls",
      "model_module_version": "1.5.0",
      "model_name": "DescriptionStyleModel",
      "state": {
       "_model_module": "@jupyter-widgets/controls",
       "_model_module_version": "1.5.0",
       "_model_name": "DescriptionStyleModel",
       "_view_count": null,
       "_view_module": "@jupyter-widgets/base",
       "_view_module_version": "1.2.0",
       "_view_name": "StyleView",
       "description_width": ""
      }
     },
     "4dca12f5e79e4aa4bae6392a62125088": {
      "model_module": "@jupyter-widgets/base",
      "model_module_version": "1.2.0",
      "model_name": "LayoutModel",
      "state": {
       "_model_module": "@jupyter-widgets/base",
       "_model_module_version": "1.2.0",
       "_model_name": "LayoutModel",
       "_view_count": null,
       "_view_module": "@jupyter-widgets/base",
       "_view_module_version": "1.2.0",
       "_view_name": "LayoutView",
       "align_content": null,
       "align_items": null,
       "align_self": null,
       "border": null,
       "bottom": null,
       "display": null,
       "flex": null,
       "flex_flow": null,
       "grid_area": null,
       "grid_auto_columns": null,
       "grid_auto_flow": null,
       "grid_auto_rows": null,
       "grid_column": null,
       "grid_gap": null,
       "grid_row": null,
       "grid_template_areas": null,
       "grid_template_columns": null,
       "grid_template_rows": null,
       "height": null,
       "justify_content": null,
       "justify_items": null,
       "left": null,
       "margin": null,
       "max_height": null,
       "max_width": null,
       "min_height": null,
       "min_width": null,
       "object_fit": null,
       "object_position": null,
       "order": null,
       "overflow": null,
       "overflow_x": null,
       "overflow_y": null,
       "padding": null,
       "right": null,
       "top": null,
       "visibility": null,
       "width": null
      }
     },
     "4df471bfab3a478b852c3fe96b55bb5a": {
      "model_module": "@jupyter-widgets/controls",
      "model_module_version": "1.5.0",
      "model_name": "HTMLModel",
      "state": {
       "_dom_classes": [],
       "_model_module": "@jupyter-widgets/controls",
       "_model_module_version": "1.5.0",
       "_model_name": "HTMLModel",
       "_view_count": null,
       "_view_module": "@jupyter-widgets/controls",
       "_view_module_version": "1.5.0",
       "_view_name": "HTMLView",
       "description": "",
       "description_tooltip": null,
       "layout": "IPY_MODEL_163cec806cbb469f826f02c9ec8ae117",
       "placeholder": "​",
       "style": "IPY_MODEL_67a768a2247d440584442be588e6b8d0",
       "value": "Downloading: 100%"
      }
     },
     "4fc44070fade4372917fc228d4f02fd6": {
      "model_module": "@jupyter-widgets/controls",
      "model_module_version": "1.5.0",
      "model_name": "HBoxModel",
      "state": {
       "_dom_classes": [],
       "_model_module": "@jupyter-widgets/controls",
       "_model_module_version": "1.5.0",
       "_model_name": "HBoxModel",
       "_view_count": null,
       "_view_module": "@jupyter-widgets/controls",
       "_view_module_version": "1.5.0",
       "_view_name": "HBoxView",
       "box_style": "",
       "children": [
        "IPY_MODEL_d46175ec1e8c449f8d0e9bc71ad5e56c",
        "IPY_MODEL_1bba13efc2eb4e5381efffe138f6c144",
        "IPY_MODEL_aa032263731446dbbfd92f0d9906febe"
       ],
       "layout": "IPY_MODEL_28b11d76fcc54aaebdcac4b06c3a1b29"
      }
     },
     "535e02895dc1492fbf2523c9d38a80ca": {
      "model_module": "@jupyter-widgets/controls",
      "model_module_version": "1.5.0",
      "model_name": "ProgressStyleModel",
      "state": {
       "_model_module": "@jupyter-widgets/controls",
       "_model_module_version": "1.5.0",
       "_model_name": "ProgressStyleModel",
       "_view_count": null,
       "_view_module": "@jupyter-widgets/base",
       "_view_module_version": "1.2.0",
       "_view_name": "StyleView",
       "bar_color": null,
       "description_width": ""
      }
     },
     "5393cc9e79e047d8b73e3eb159e520ba": {
      "model_module": "@jupyter-widgets/base",
      "model_module_version": "1.2.0",
      "model_name": "LayoutModel",
      "state": {
       "_model_module": "@jupyter-widgets/base",
       "_model_module_version": "1.2.0",
       "_model_name": "LayoutModel",
       "_view_count": null,
       "_view_module": "@jupyter-widgets/base",
       "_view_module_version": "1.2.0",
       "_view_name": "LayoutView",
       "align_content": null,
       "align_items": null,
       "align_self": null,
       "border": null,
       "bottom": null,
       "display": null,
       "flex": null,
       "flex_flow": null,
       "grid_area": null,
       "grid_auto_columns": null,
       "grid_auto_flow": null,
       "grid_auto_rows": null,
       "grid_column": null,
       "grid_gap": null,
       "grid_row": null,
       "grid_template_areas": null,
       "grid_template_columns": null,
       "grid_template_rows": null,
       "height": null,
       "justify_content": null,
       "justify_items": null,
       "left": null,
       "margin": null,
       "max_height": null,
       "max_width": null,
       "min_height": null,
       "min_width": null,
       "object_fit": null,
       "object_position": null,
       "order": null,
       "overflow": null,
       "overflow_x": null,
       "overflow_y": null,
       "padding": null,
       "right": null,
       "top": null,
       "visibility": null,
       "width": null
      }
     },
     "5547c16f753240eb93bc533e06819674": {
      "model_module": "@jupyter-widgets/base",
      "model_module_version": "1.2.0",
      "model_name": "LayoutModel",
      "state": {
       "_model_module": "@jupyter-widgets/base",
       "_model_module_version": "1.2.0",
       "_model_name": "LayoutModel",
       "_view_count": null,
       "_view_module": "@jupyter-widgets/base",
       "_view_module_version": "1.2.0",
       "_view_name": "LayoutView",
       "align_content": null,
       "align_items": null,
       "align_self": null,
       "border": null,
       "bottom": null,
       "display": null,
       "flex": null,
       "flex_flow": null,
       "grid_area": null,
       "grid_auto_columns": null,
       "grid_auto_flow": null,
       "grid_auto_rows": null,
       "grid_column": null,
       "grid_gap": null,
       "grid_row": null,
       "grid_template_areas": null,
       "grid_template_columns": null,
       "grid_template_rows": null,
       "height": null,
       "justify_content": null,
       "justify_items": null,
       "left": null,
       "margin": null,
       "max_height": null,
       "max_width": null,
       "min_height": null,
       "min_width": null,
       "object_fit": null,
       "object_position": null,
       "order": null,
       "overflow": null,
       "overflow_x": null,
       "overflow_y": null,
       "padding": null,
       "right": null,
       "top": null,
       "visibility": null,
       "width": null
      }
     },
     "571296b462ad430c8f20b302a796b570": {
      "model_module": "@jupyter-widgets/controls",
      "model_module_version": "1.5.0",
      "model_name": "DescriptionStyleModel",
      "state": {
       "_model_module": "@jupyter-widgets/controls",
       "_model_module_version": "1.5.0",
       "_model_name": "DescriptionStyleModel",
       "_view_count": null,
       "_view_module": "@jupyter-widgets/base",
       "_view_module_version": "1.2.0",
       "_view_name": "StyleView",
       "description_width": ""
      }
     },
     "581569bdedaf49629e47c267fb97e836": {
      "model_module": "@jupyter-widgets/controls",
      "model_module_version": "1.5.0",
      "model_name": "HBoxModel",
      "state": {
       "_dom_classes": [],
       "_model_module": "@jupyter-widgets/controls",
       "_model_module_version": "1.5.0",
       "_model_name": "HBoxModel",
       "_view_count": null,
       "_view_module": "@jupyter-widgets/controls",
       "_view_module_version": "1.5.0",
       "_view_name": "HBoxView",
       "box_style": "",
       "children": [
        "IPY_MODEL_7f4c8da959774d52954fec53a6b257f1",
        "IPY_MODEL_857e5e3aeb2b480fa0b9700453f96a75",
        "IPY_MODEL_a0f55f3873574217af58e4be7f6c8442"
       ],
       "layout": "IPY_MODEL_a91a137fc826410c9d55d11b27a26ad3"
      }
     },
     "59baa6fb59864a4da92e2fe03fca69f2": {
      "model_module": "@jupyter-widgets/controls",
      "model_module_version": "1.5.0",
      "model_name": "HTMLModel",
      "state": {
       "_dom_classes": [],
       "_model_module": "@jupyter-widgets/controls",
       "_model_module_version": "1.5.0",
       "_model_name": "HTMLModel",
       "_view_count": null,
       "_view_module": "@jupyter-widgets/controls",
       "_view_module_version": "1.5.0",
       "_view_name": "HTMLView",
       "description": "",
       "description_tooltip": null,
       "layout": "IPY_MODEL_aefebe4959b54a6d91d8178f8cc88a1f",
       "placeholder": "​",
       "style": "IPY_MODEL_c5b617bd3ee74250b2b02a815beea065",
       "value": " 105/105 [00:00&lt;00:00, 4.53kB/s]"
      }
     },
     "5bf9ed7cda6f4ba5b37fedf2fce4c616": {
      "model_module": "@jupyter-widgets/controls",
      "model_module_version": "1.5.0",
      "model_name": "DescriptionStyleModel",
      "state": {
       "_model_module": "@jupyter-widgets/controls",
       "_model_module_version": "1.5.0",
       "_model_name": "DescriptionStyleModel",
       "_view_count": null,
       "_view_module": "@jupyter-widgets/base",
       "_view_module_version": "1.2.0",
       "_view_name": "StyleView",
       "description_width": ""
      }
     },
     "5c612d8a44fc4e7aa42f82bf5908d080": {
      "model_module": "@jupyter-widgets/controls",
      "model_module_version": "1.5.0",
      "model_name": "HBoxModel",
      "state": {
       "_dom_classes": [],
       "_model_module": "@jupyter-widgets/controls",
       "_model_module_version": "1.5.0",
       "_model_name": "HBoxModel",
       "_view_count": null,
       "_view_module": "@jupyter-widgets/controls",
       "_view_module_version": "1.5.0",
       "_view_name": "HBoxView",
       "box_style": "",
       "children": [
        "IPY_MODEL_4df471bfab3a478b852c3fe96b55bb5a",
        "IPY_MODEL_af1eeda841ac48b8a75a43776e6b94c8",
        "IPY_MODEL_59baa6fb59864a4da92e2fe03fca69f2"
       ],
       "layout": "IPY_MODEL_b1ed9e853fd04836bb48ffef16140bf0"
      }
     },
     "6301b24c92ed4387bc89e5f8f7561b75": {
      "model_module": "@jupyter-widgets/controls",
      "model_module_version": "1.5.0",
      "model_name": "ProgressStyleModel",
      "state": {
       "_model_module": "@jupyter-widgets/controls",
       "_model_module_version": "1.5.0",
       "_model_name": "ProgressStyleModel",
       "_view_count": null,
       "_view_module": "@jupyter-widgets/base",
       "_view_module_version": "1.2.0",
       "_view_name": "StyleView",
       "bar_color": null,
       "description_width": ""
      }
     },
     "676bedd84eb74b7ba29e1cc7b199a617": {
      "model_module": "@jupyter-widgets/controls",
      "model_module_version": "1.5.0",
      "model_name": "HBoxModel",
      "state": {
       "_dom_classes": [],
       "_model_module": "@jupyter-widgets/controls",
       "_model_module_version": "1.5.0",
       "_model_name": "HBoxModel",
       "_view_count": null,
       "_view_module": "@jupyter-widgets/controls",
       "_view_module_version": "1.5.0",
       "_view_name": "HBoxView",
       "box_style": "",
       "children": [
        "IPY_MODEL_c01588a3349949dc8dea1455d575de33",
        "IPY_MODEL_0c21803dc525461f9522ffea7eab93e9",
        "IPY_MODEL_ba0f02d57f184fac9164babb7d88e644"
       ],
       "layout": "IPY_MODEL_478261226d9b490f8da4422d105e740f"
      }
     },
     "67a768a2247d440584442be588e6b8d0": {
      "model_module": "@jupyter-widgets/controls",
      "model_module_version": "1.5.0",
      "model_name": "DescriptionStyleModel",
      "state": {
       "_model_module": "@jupyter-widgets/controls",
       "_model_module_version": "1.5.0",
       "_model_name": "DescriptionStyleModel",
       "_view_count": null,
       "_view_module": "@jupyter-widgets/base",
       "_view_module_version": "1.2.0",
       "_view_name": "StyleView",
       "description_width": ""
      }
     },
     "6c3fd18a26ed49d9aede8c61f417889c": {
      "model_module": "@jupyter-widgets/controls",
      "model_module_version": "1.5.0",
      "model_name": "HTMLModel",
      "state": {
       "_dom_classes": [],
       "_model_module": "@jupyter-widgets/controls",
       "_model_module_version": "1.5.0",
       "_model_name": "HTMLModel",
       "_view_count": null,
       "_view_module": "@jupyter-widgets/controls",
       "_view_module_version": "1.5.0",
       "_view_name": "HTMLView",
       "description": "",
       "description_tooltip": null,
       "layout": "IPY_MODEL_d632db1fcd204cedb73d8bb7160c1de9",
       "placeholder": "​",
       "style": "IPY_MODEL_a0cdf7f50de84b84a843e17c43af0d6c",
       "value": " 1.54M/1.54M [00:00&lt;00:00, 3.68MB/s]"
      }
     },
     "719aa9cc3a4844ec95bf46d6b5969e59": {
      "model_module": "@jupyter-widgets/base",
      "model_module_version": "1.2.0",
      "model_name": "LayoutModel",
      "state": {
       "_model_module": "@jupyter-widgets/base",
       "_model_module_version": "1.2.0",
       "_model_name": "LayoutModel",
       "_view_count": null,
       "_view_module": "@jupyter-widgets/base",
       "_view_module_version": "1.2.0",
       "_view_name": "LayoutView",
       "align_content": null,
       "align_items": null,
       "align_self": null,
       "border": null,
       "bottom": null,
       "display": null,
       "flex": null,
       "flex_flow": null,
       "grid_area": null,
       "grid_auto_columns": null,
       "grid_auto_flow": null,
       "grid_auto_rows": null,
       "grid_column": null,
       "grid_gap": null,
       "grid_row": null,
       "grid_template_areas": null,
       "grid_template_columns": null,
       "grid_template_rows": null,
       "height": null,
       "justify_content": null,
       "justify_items": null,
       "left": null,
       "margin": null,
       "max_height": null,
       "max_width": null,
       "min_height": null,
       "min_width": null,
       "object_fit": null,
       "object_position": null,
       "order": null,
       "overflow": null,
       "overflow_x": null,
       "overflow_y": null,
       "padding": null,
       "right": null,
       "top": null,
       "visibility": null,
       "width": null
      }
     },
     "7f4c8da959774d52954fec53a6b257f1": {
      "model_module": "@jupyter-widgets/controls",
      "model_module_version": "1.5.0",
      "model_name": "HTMLModel",
      "state": {
       "_dom_classes": [],
       "_model_module": "@jupyter-widgets/controls",
       "_model_module_version": "1.5.0",
       "_model_name": "HTMLModel",
       "_view_count": null,
       "_view_module": "@jupyter-widgets/controls",
       "_view_module_version": "1.5.0",
       "_view_name": "HTMLView",
       "description": "",
       "description_tooltip": null,
       "layout": "IPY_MODEL_02eaa84d2c5943d39480aedfa30ad0e1",
       "placeholder": "​",
       "style": "IPY_MODEL_8b4f888edbc9451a93c3d1487d6fc30d",
       "value": "Downloading: 100%"
      }
     },
     "84b3ad3626a14832b3d5a8fd80c34511": {
      "model_module": "@jupyter-widgets/base",
      "model_module_version": "1.2.0",
      "model_name": "LayoutModel",
      "state": {
       "_model_module": "@jupyter-widgets/base",
       "_model_module_version": "1.2.0",
       "_model_name": "LayoutModel",
       "_view_count": null,
       "_view_module": "@jupyter-widgets/base",
       "_view_module_version": "1.2.0",
       "_view_name": "LayoutView",
       "align_content": null,
       "align_items": null,
       "align_self": null,
       "border": null,
       "bottom": null,
       "display": null,
       "flex": null,
       "flex_flow": null,
       "grid_area": null,
       "grid_auto_columns": null,
       "grid_auto_flow": null,
       "grid_auto_rows": null,
       "grid_column": null,
       "grid_gap": null,
       "grid_row": null,
       "grid_template_areas": null,
       "grid_template_columns": null,
       "grid_template_rows": null,
       "height": null,
       "justify_content": null,
       "justify_items": null,
       "left": null,
       "margin": null,
       "max_height": null,
       "max_width": null,
       "min_height": null,
       "min_width": null,
       "object_fit": null,
       "object_position": null,
       "order": null,
       "overflow": null,
       "overflow_x": null,
       "overflow_y": null,
       "padding": null,
       "right": null,
       "top": null,
       "visibility": null,
       "width": null
      }
     },
     "857e5e3aeb2b480fa0b9700453f96a75": {
      "model_module": "@jupyter-widgets/controls",
      "model_module_version": "1.5.0",
      "model_name": "FloatProgressModel",
      "state": {
       "_dom_classes": [],
       "_model_module": "@jupyter-widgets/controls",
       "_model_module_version": "1.5.0",
       "_model_name": "FloatProgressModel",
       "_view_count": null,
       "_view_module": "@jupyter-widgets/controls",
       "_view_module_version": "1.5.0",
       "_view_name": "ProgressView",
       "bar_style": "success",
       "description": "",
       "description_tooltip": null,
       "layout": "IPY_MODEL_aeeaa5d2f2e54cb2ba14d0426148911c",
       "max": 24.0,
       "min": 0.0,
       "orientation": "horizontal",
       "style": "IPY_MODEL_535e02895dc1492fbf2523c9d38a80ca",
       "value": 24.0
      }
     },
     "8b4f888edbc9451a93c3d1487d6fc30d": {
      "model_module": "@jupyter-widgets/controls",
      "model_module_version": "1.5.0",
      "model_name": "DescriptionStyleModel",
      "state": {
       "_model_module": "@jupyter-widgets/controls",
       "_model_module_version": "1.5.0",
       "_model_name": "DescriptionStyleModel",
       "_view_count": null,
       "_view_module": "@jupyter-widgets/base",
       "_view_module_version": "1.2.0",
       "_view_name": "StyleView",
       "description_width": ""
      }
     },
     "9a51810fb43f4039aef4a249b38a9c45": {
      "model_module": "@jupyter-widgets/controls",
      "model_module_version": "1.5.0",
      "model_name": "DescriptionStyleModel",
      "state": {
       "_model_module": "@jupyter-widgets/controls",
       "_model_module_version": "1.5.0",
       "_model_name": "DescriptionStyleModel",
       "_view_count": null,
       "_view_module": "@jupyter-widgets/base",
       "_view_module_version": "1.2.0",
       "_view_name": "StyleView",
       "description_width": ""
      }
     },
     "9a648c93cfc84a1b8251ebfa197d081a": {
      "model_module": "@jupyter-widgets/base",
      "model_module_version": "1.2.0",
      "model_name": "LayoutModel",
      "state": {
       "_model_module": "@jupyter-widgets/base",
       "_model_module_version": "1.2.0",
       "_model_name": "LayoutModel",
       "_view_count": null,
       "_view_module": "@jupyter-widgets/base",
       "_view_module_version": "1.2.0",
       "_view_name": "LayoutView",
       "align_content": null,
       "align_items": null,
       "align_self": null,
       "border": null,
       "bottom": null,
       "display": null,
       "flex": null,
       "flex_flow": null,
       "grid_area": null,
       "grid_auto_columns": null,
       "grid_auto_flow": null,
       "grid_auto_rows": null,
       "grid_column": null,
       "grid_gap": null,
       "grid_row": null,
       "grid_template_areas": null,
       "grid_template_columns": null,
       "grid_template_rows": null,
       "height": null,
       "justify_content": null,
       "justify_items": null,
       "left": null,
       "margin": null,
       "max_height": null,
       "max_width": null,
       "min_height": null,
       "min_width": null,
       "object_fit": null,
       "object_position": null,
       "order": null,
       "overflow": null,
       "overflow_x": null,
       "overflow_y": null,
       "padding": null,
       "right": null,
       "top": null,
       "visibility": null,
       "width": null
      }
     },
     "9d049a6ac20f4f009a228cfcc19a10d4": {
      "model_module": "@jupyter-widgets/base",
      "model_module_version": "1.2.0",
      "model_name": "LayoutModel",
      "state": {
       "_model_module": "@jupyter-widgets/base",
       "_model_module_version": "1.2.0",
       "_model_name": "LayoutModel",
       "_view_count": null,
       "_view_module": "@jupyter-widgets/base",
       "_view_module_version": "1.2.0",
       "_view_name": "LayoutView",
       "align_content": null,
       "align_items": null,
       "align_self": null,
       "border": null,
       "bottom": null,
       "display": null,
       "flex": null,
       "flex_flow": null,
       "grid_area": null,
       "grid_auto_columns": null,
       "grid_auto_flow": null,
       "grid_auto_rows": null,
       "grid_column": null,
       "grid_gap": null,
       "grid_row": null,
       "grid_template_areas": null,
       "grid_template_columns": null,
       "grid_template_rows": null,
       "height": null,
       "justify_content": null,
       "justify_items": null,
       "left": null,
       "margin": null,
       "max_height": null,
       "max_width": null,
       "min_height": null,
       "min_width": null,
       "object_fit": null,
       "object_position": null,
       "order": null,
       "overflow": null,
       "overflow_x": null,
       "overflow_y": null,
       "padding": null,
       "right": null,
       "top": null,
       "visibility": null,
       "width": null
      }
     },
     "9e89691d10924361961495bb24b60b59": {
      "model_module": "@jupyter-widgets/controls",
      "model_module_version": "1.5.0",
      "model_name": "HTMLModel",
      "state": {
       "_dom_classes": [],
       "_model_module": "@jupyter-widgets/controls",
       "_model_module_version": "1.5.0",
       "_model_name": "HTMLModel",
       "_view_count": null,
       "_view_module": "@jupyter-widgets/controls",
       "_view_module_version": "1.5.0",
       "_view_name": "HTMLView",
       "description": "",
       "description_tooltip": null,
       "layout": "IPY_MODEL_a56e4fa64666402e99bc462fa88eaacc",
       "placeholder": "​",
       "style": "IPY_MODEL_aeb5d166457741c484d4cd12ad8271fe",
       "value": "Downloading: 100%"
      }
     },
     "a0cdf7f50de84b84a843e17c43af0d6c": {
      "model_module": "@jupyter-widgets/controls",
      "model_module_version": "1.5.0",
      "model_name": "DescriptionStyleModel",
      "state": {
       "_model_module": "@jupyter-widgets/controls",
       "_model_module_version": "1.5.0",
       "_model_name": "DescriptionStyleModel",
       "_view_count": null,
       "_view_module": "@jupyter-widgets/base",
       "_view_module_version": "1.2.0",
       "_view_name": "StyleView",
       "description_width": ""
      }
     },
     "a0f55f3873574217af58e4be7f6c8442": {
      "model_module": "@jupyter-widgets/controls",
      "model_module_version": "1.5.0",
      "model_name": "HTMLModel",
      "state": {
       "_dom_classes": [],
       "_model_module": "@jupyter-widgets/controls",
       "_model_module_version": "1.5.0",
       "_model_name": "HTMLModel",
       "_view_count": null,
       "_view_module": "@jupyter-widgets/controls",
       "_view_module_version": "1.5.0",
       "_view_name": "HTMLView",
       "description": "",
       "description_tooltip": null,
       "layout": "IPY_MODEL_5393cc9e79e047d8b73e3eb159e520ba",
       "placeholder": "​",
       "style": "IPY_MODEL_f8f19df72d4e48408ae4b874ded1c806",
       "value": " 24.0/24.0 [00:00&lt;00:00, 1.01kB/s]"
      }
     },
     "a56e4fa64666402e99bc462fa88eaacc": {
      "model_module": "@jupyter-widgets/base",
      "model_module_version": "1.2.0",
      "model_name": "LayoutModel",
      "state": {
       "_model_module": "@jupyter-widgets/base",
       "_model_module_version": "1.2.0",
       "_model_name": "LayoutModel",
       "_view_count": null,
       "_view_module": "@jupyter-widgets/base",
       "_view_module_version": "1.2.0",
       "_view_name": "LayoutView",
       "align_content": null,
       "align_items": null,
       "align_self": null,
       "border": null,
       "bottom": null,
       "display": null,
       "flex": null,
       "flex_flow": null,
       "grid_area": null,
       "grid_auto_columns": null,
       "grid_auto_flow": null,
       "grid_auto_rows": null,
       "grid_column": null,
       "grid_gap": null,
       "grid_row": null,
       "grid_template_areas": null,
       "grid_template_columns": null,
       "grid_template_rows": null,
       "height": null,
       "justify_content": null,
       "justify_items": null,
       "left": null,
       "margin": null,
       "max_height": null,
       "max_width": null,
       "min_height": null,
       "min_width": null,
       "object_fit": null,
       "object_position": null,
       "order": null,
       "overflow": null,
       "overflow_x": null,
       "overflow_y": null,
       "padding": null,
       "right": null,
       "top": null,
       "visibility": null,
       "width": null
      }
     },
     "a5bfda10ebee4a4e8d73703ef3a729fc": {
      "model_module": "@jupyter-widgets/controls",
      "model_module_version": "1.5.0",
      "model_name": "HTMLModel",
      "state": {
       "_dom_classes": [],
       "_model_module": "@jupyter-widgets/controls",
       "_model_module_version": "1.5.0",
       "_model_name": "HTMLModel",
       "_view_count": null,
       "_view_module": "@jupyter-widgets/controls",
       "_view_module_version": "1.5.0",
       "_view_name": "HTMLView",
       "description": "",
       "description_tooltip": null,
       "layout": "IPY_MODEL_22fde768772040908465df1a4dc09a43",
       "placeholder": "​",
       "style": "IPY_MODEL_25009c09411440ed80c98bd2b4f9ac70",
       "value": "Downloading: 100%"
      }
     },
     "a61fe17068df48b7953e270d1a07465f": {
      "model_module": "@jupyter-widgets/controls",
      "model_module_version": "1.5.0",
      "model_name": "ProgressStyleModel",
      "state": {
       "_model_module": "@jupyter-widgets/controls",
       "_model_module_version": "1.5.0",
       "_model_name": "ProgressStyleModel",
       "_view_count": null,
       "_view_module": "@jupyter-widgets/base",
       "_view_module_version": "1.2.0",
       "_view_name": "StyleView",
       "bar_color": null,
       "description_width": ""
      }
     },
     "a7c4de65006a4bf6a02583a786c3f552": {
      "model_module": "@jupyter-widgets/controls",
      "model_module_version": "1.5.0",
      "model_name": "ProgressStyleModel",
      "state": {
       "_model_module": "@jupyter-widgets/controls",
       "_model_module_version": "1.5.0",
       "_model_name": "ProgressStyleModel",
       "_view_count": null,
       "_view_module": "@jupyter-widgets/base",
       "_view_module_version": "1.2.0",
       "_view_name": "StyleView",
       "bar_color": null,
       "description_width": ""
      }
     },
     "a91a137fc826410c9d55d11b27a26ad3": {
      "model_module": "@jupyter-widgets/base",
      "model_module_version": "1.2.0",
      "model_name": "LayoutModel",
      "state": {
       "_model_module": "@jupyter-widgets/base",
       "_model_module_version": "1.2.0",
       "_model_name": "LayoutModel",
       "_view_count": null,
       "_view_module": "@jupyter-widgets/base",
       "_view_module_version": "1.2.0",
       "_view_name": "LayoutView",
       "align_content": null,
       "align_items": null,
       "align_self": null,
       "border": null,
       "bottom": null,
       "display": null,
       "flex": null,
       "flex_flow": null,
       "grid_area": null,
       "grid_auto_columns": null,
       "grid_auto_flow": null,
       "grid_auto_rows": null,
       "grid_column": null,
       "grid_gap": null,
       "grid_row": null,
       "grid_template_areas": null,
       "grid_template_columns": null,
       "grid_template_rows": null,
       "height": null,
       "justify_content": null,
       "justify_items": null,
       "left": null,
       "margin": null,
       "max_height": null,
       "max_width": null,
       "min_height": null,
       "min_width": null,
       "object_fit": null,
       "object_position": null,
       "order": null,
       "overflow": null,
       "overflow_x": null,
       "overflow_y": null,
       "padding": null,
       "right": null,
       "top": null,
       "visibility": null,
       "width": null
      }
     },
     "aa032263731446dbbfd92f0d9906febe": {
      "model_module": "@jupyter-widgets/controls",
      "model_module_version": "1.5.0",
      "model_name": "HTMLModel",
      "state": {
       "_dom_classes": [],
       "_model_module": "@jupyter-widgets/controls",
       "_model_module_version": "1.5.0",
       "_model_name": "HTMLModel",
       "_view_count": null,
       "_view_module": "@jupyter-widgets/controls",
       "_view_module_version": "1.5.0",
       "_view_name": "HTMLView",
       "description": "",
       "description_tooltip": null,
       "layout": "IPY_MODEL_c23ab83b1d3643d59610a3239dbafc8f",
       "placeholder": "​",
       "style": "IPY_MODEL_dc74e7609bec4c199f76b4d23786aedf",
       "value": " 678/678 [00:00&lt;00:00, 28.6kB/s]"
      }
     },
     "acf86998f6044c6f949838230b232e7d": {
      "model_module": "@jupyter-widgets/controls",
      "model_module_version": "1.5.0",
      "model_name": "FloatProgressModel",
      "state": {
       "_dom_classes": [],
       "_model_module": "@jupyter-widgets/controls",
       "_model_module_version": "1.5.0",
       "_model_name": "FloatProgressModel",
       "_view_count": null,
       "_view_module": "@jupyter-widgets/controls",
       "_view_module_version": "1.5.0",
       "_view_name": "ProgressView",
       "bar_style": "success",
       "description": "",
       "description_tooltip": null,
       "layout": "IPY_MODEL_3ccbffe467ba47d38d2ffeeca5c2c777",
       "max": 2984643.0,
       "min": 0.0,
       "orientation": "horizontal",
       "style": "IPY_MODEL_da9292c295a8418c9306276d7e91fc11",
       "value": 2984643.0
      }
     },
     "aeb5d166457741c484d4cd12ad8271fe": {
      "model_module": "@jupyter-widgets/controls",
      "model_module_version": "1.5.0",
      "model_name": "DescriptionStyleModel",
      "state": {
       "_model_module": "@jupyter-widgets/controls",
       "_model_module_version": "1.5.0",
       "_model_name": "DescriptionStyleModel",
       "_view_count": null,
       "_view_module": "@jupyter-widgets/base",
       "_view_module_version": "1.2.0",
       "_view_name": "StyleView",
       "description_width": ""
      }
     },
     "aeeaa5d2f2e54cb2ba14d0426148911c": {
      "model_module": "@jupyter-widgets/base",
      "model_module_version": "1.2.0",
      "model_name": "LayoutModel",
      "state": {
       "_model_module": "@jupyter-widgets/base",
       "_model_module_version": "1.2.0",
       "_model_name": "LayoutModel",
       "_view_count": null,
       "_view_module": "@jupyter-widgets/base",
       "_view_module_version": "1.2.0",
       "_view_name": "LayoutView",
       "align_content": null,
       "align_items": null,
       "align_self": null,
       "border": null,
       "bottom": null,
       "display": null,
       "flex": null,
       "flex_flow": null,
       "grid_area": null,
       "grid_auto_columns": null,
       "grid_auto_flow": null,
       "grid_auto_rows": null,
       "grid_column": null,
       "grid_gap": null,
       "grid_row": null,
       "grid_template_areas": null,
       "grid_template_columns": null,
       "grid_template_rows": null,
       "height": null,
       "justify_content": null,
       "justify_items": null,
       "left": null,
       "margin": null,
       "max_height": null,
       "max_width": null,
       "min_height": null,
       "min_width": null,
       "object_fit": null,
       "object_position": null,
       "order": null,
       "overflow": null,
       "overflow_x": null,
       "overflow_y": null,
       "padding": null,
       "right": null,
       "top": null,
       "visibility": null,
       "width": null
      }
     },
     "aefebe4959b54a6d91d8178f8cc88a1f": {
      "model_module": "@jupyter-widgets/base",
      "model_module_version": "1.2.0",
      "model_name": "LayoutModel",
      "state": {
       "_model_module": "@jupyter-widgets/base",
       "_model_module_version": "1.2.0",
       "_model_name": "LayoutModel",
       "_view_count": null,
       "_view_module": "@jupyter-widgets/base",
       "_view_module_version": "1.2.0",
       "_view_name": "LayoutView",
       "align_content": null,
       "align_items": null,
       "align_self": null,
       "border": null,
       "bottom": null,
       "display": null,
       "flex": null,
       "flex_flow": null,
       "grid_area": null,
       "grid_auto_columns": null,
       "grid_auto_flow": null,
       "grid_auto_rows": null,
       "grid_column": null,
       "grid_gap": null,
       "grid_row": null,
       "grid_template_areas": null,
       "grid_template_columns": null,
       "grid_template_rows": null,
       "height": null,
       "justify_content": null,
       "justify_items": null,
       "left": null,
       "margin": null,
       "max_height": null,
       "max_width": null,
       "min_height": null,
       "min_width": null,
       "object_fit": null,
       "object_position": null,
       "order": null,
       "overflow": null,
       "overflow_x": null,
       "overflow_y": null,
       "padding": null,
       "right": null,
       "top": null,
       "visibility": null,
       "width": null
      }
     },
     "af1eeda841ac48b8a75a43776e6b94c8": {
      "model_module": "@jupyter-widgets/controls",
      "model_module_version": "1.5.0",
      "model_name": "FloatProgressModel",
      "state": {
       "_dom_classes": [],
       "_model_module": "@jupyter-widgets/controls",
       "_model_module_version": "1.5.0",
       "_model_name": "FloatProgressModel",
       "_view_count": null,
       "_view_module": "@jupyter-widgets/controls",
       "_view_module_version": "1.5.0",
       "_view_name": "ProgressView",
       "bar_style": "success",
       "description": "",
       "description_tooltip": null,
       "layout": "IPY_MODEL_dcfbcd29b69e4af8a6d2bb13fc7b023a",
       "max": 105.0,
       "min": 0.0,
       "orientation": "horizontal",
       "style": "IPY_MODEL_a7c4de65006a4bf6a02583a786c3f552",
       "value": 105.0
      }
     },
     "b01ec0640c734a908606eab7e8a8c1a5": {
      "model_module": "@jupyter-widgets/controls",
      "model_module_version": "1.5.0",
      "model_name": "DescriptionStyleModel",
      "state": {
       "_model_module": "@jupyter-widgets/controls",
       "_model_module_version": "1.5.0",
       "_model_name": "DescriptionStyleModel",
       "_view_count": null,
       "_view_module": "@jupyter-widgets/base",
       "_view_module_version": "1.2.0",
       "_view_name": "StyleView",
       "description_width": ""
      }
     },
     "b1ed9e853fd04836bb48ffef16140bf0": {
      "model_module": "@jupyter-widgets/base",
      "model_module_version": "1.2.0",
      "model_name": "LayoutModel",
      "state": {
       "_model_module": "@jupyter-widgets/base",
       "_model_module_version": "1.2.0",
       "_model_name": "LayoutModel",
       "_view_count": null,
       "_view_module": "@jupyter-widgets/base",
       "_view_module_version": "1.2.0",
       "_view_name": "LayoutView",
       "align_content": null,
       "align_items": null,
       "align_self": null,
       "border": null,
       "bottom": null,
       "display": null,
       "flex": null,
       "flex_flow": null,
       "grid_area": null,
       "grid_auto_columns": null,
       "grid_auto_flow": null,
       "grid_auto_rows": null,
       "grid_column": null,
       "grid_gap": null,
       "grid_row": null,
       "grid_template_areas": null,
       "grid_template_columns": null,
       "grid_template_rows": null,
       "height": null,
       "justify_content": null,
       "justify_items": null,
       "left": null,
       "margin": null,
       "max_height": null,
       "max_width": null,
       "min_height": null,
       "min_width": null,
       "object_fit": null,
       "object_position": null,
       "order": null,
       "overflow": null,
       "overflow_x": null,
       "overflow_y": null,
       "padding": null,
       "right": null,
       "top": null,
       "visibility": null,
       "width": null
      }
     },
     "b640f16a7d9b4985a320bffb98e5e270": {
      "model_module": "@jupyter-widgets/controls",
      "model_module_version": "1.5.0",
      "model_name": "DescriptionStyleModel",
      "state": {
       "_model_module": "@jupyter-widgets/controls",
       "_model_module_version": "1.5.0",
       "_model_name": "DescriptionStyleModel",
       "_view_count": null,
       "_view_module": "@jupyter-widgets/base",
       "_view_module_version": "1.2.0",
       "_view_name": "StyleView",
       "description_width": ""
      }
     },
     "ba0f02d57f184fac9164babb7d88e644": {
      "model_module": "@jupyter-widgets/controls",
      "model_module_version": "1.5.0",
      "model_name": "HTMLModel",
      "state": {
       "_dom_classes": [],
       "_model_module": "@jupyter-widgets/controls",
       "_model_module_version": "1.5.0",
       "_model_name": "HTMLModel",
       "_view_count": null,
       "_view_module": "@jupyter-widgets/controls",
       "_view_module_version": "1.5.0",
       "_view_name": "HTMLView",
       "description": "",
       "description_tooltip": null,
       "layout": "IPY_MODEL_f657ba175b0546c28c2e8ef7cf70395b",
       "placeholder": "​",
       "style": "IPY_MODEL_4d1ed0ecbea2454a9433698883b4fb92",
       "value": " 1.42G/1.42G [00:44&lt;00:00, 35.2MB/s]"
      }
     },
     "c01588a3349949dc8dea1455d575de33": {
      "model_module": "@jupyter-widgets/controls",
      "model_module_version": "1.5.0",
      "model_name": "HTMLModel",
      "state": {
       "_dom_classes": [],
       "_model_module": "@jupyter-widgets/controls",
       "_model_module_version": "1.5.0",
       "_model_name": "HTMLModel",
       "_view_count": null,
       "_view_module": "@jupyter-widgets/controls",
       "_view_module_version": "1.5.0",
       "_view_name": "HTMLView",
       "description": "",
       "description_tooltip": null,
       "layout": "IPY_MODEL_4a30a019e20948f3bf742bb5d381af53",
       "placeholder": "​",
       "style": "IPY_MODEL_9a51810fb43f4039aef4a249b38a9c45",
       "value": "Downloading: 100%"
      }
     },
     "c23ab83b1d3643d59610a3239dbafc8f": {
      "model_module": "@jupyter-widgets/base",
      "model_module_version": "1.2.0",
      "model_name": "LayoutModel",
      "state": {
       "_model_module": "@jupyter-widgets/base",
       "_model_module_version": "1.2.0",
       "_model_name": "LayoutModel",
       "_view_count": null,
       "_view_module": "@jupyter-widgets/base",
       "_view_module_version": "1.2.0",
       "_view_name": "LayoutView",
       "align_content": null,
       "align_items": null,
       "align_self": null,
       "border": null,
       "bottom": null,
       "display": null,
       "flex": null,
       "flex_flow": null,
       "grid_area": null,
       "grid_auto_columns": null,
       "grid_auto_flow": null,
       "grid_auto_rows": null,
       "grid_column": null,
       "grid_gap": null,
       "grid_row": null,
       "grid_template_areas": null,
       "grid_template_columns": null,
       "grid_template_rows": null,
       "height": null,
       "justify_content": null,
       "justify_items": null,
       "left": null,
       "margin": null,
       "max_height": null,
       "max_width": null,
       "min_height": null,
       "min_width": null,
       "object_fit": null,
       "object_position": null,
       "order": null,
       "overflow": null,
       "overflow_x": null,
       "overflow_y": null,
       "padding": null,
       "right": null,
       "top": null,
       "visibility": null,
       "width": null
      }
     },
     "c46d8b2357be4f25b8ef02f24233a37a": {
      "model_module": "@jupyter-widgets/controls",
      "model_module_version": "1.5.0",
      "model_name": "HTMLModel",
      "state": {
       "_dom_classes": [],
       "_model_module": "@jupyter-widgets/controls",
       "_model_module_version": "1.5.0",
       "_model_name": "HTMLModel",
       "_view_count": null,
       "_view_module": "@jupyter-widgets/controls",
       "_view_module_version": "1.5.0",
       "_view_name": "HTMLView",
       "description": "",
       "description_tooltip": null,
       "layout": "IPY_MODEL_d410a8ca7770409281209e3498a28131",
       "placeholder": "​",
       "style": "IPY_MODEL_b01ec0640c734a908606eab7e8a8c1a5",
       "value": "Downloading: 100%"
      }
     },
     "c5b617bd3ee74250b2b02a815beea065": {
      "model_module": "@jupyter-widgets/controls",
      "model_module_version": "1.5.0",
      "model_name": "DescriptionStyleModel",
      "state": {
       "_model_module": "@jupyter-widgets/controls",
       "_model_module_version": "1.5.0",
       "_model_name": "DescriptionStyleModel",
       "_view_count": null,
       "_view_module": "@jupyter-widgets/base",
       "_view_module_version": "1.2.0",
       "_view_name": "StyleView",
       "description_width": ""
      }
     },
     "c679ad25a996425895161dc63cbe8c6e": {
      "model_module": "@jupyter-widgets/controls",
      "model_module_version": "1.5.0",
      "model_name": "HBoxModel",
      "state": {
       "_dom_classes": [],
       "_model_module": "@jupyter-widgets/controls",
       "_model_module_version": "1.5.0",
       "_model_name": "HBoxModel",
       "_view_count": null,
       "_view_module": "@jupyter-widgets/controls",
       "_view_module_version": "1.5.0",
       "_view_name": "HBoxView",
       "box_style": "",
       "children": [
        "IPY_MODEL_c46d8b2357be4f25b8ef02f24233a37a",
        "IPY_MODEL_cbac7f94b7d14c1a98504afeae100665",
        "IPY_MODEL_e0a89d244e22437eb799aa1bc2e2e9df"
       ],
       "layout": "IPY_MODEL_0d94290d3a6d40009573ed4db4ad0403"
      }
     },
     "c77a0c82fd524c988909cf78010c986b": {
      "model_module": "@jupyter-widgets/controls",
      "model_module_version": "1.5.0",
      "model_name": "ProgressStyleModel",
      "state": {
       "_model_module": "@jupyter-widgets/controls",
       "_model_module_version": "1.5.0",
       "_model_name": "ProgressStyleModel",
       "_view_count": null,
       "_view_module": "@jupyter-widgets/base",
       "_view_module_version": "1.2.0",
       "_view_name": "StyleView",
       "bar_color": null,
       "description_width": ""
      }
     },
     "c9bffbb96f81440f8548398fa522ed3c": {
      "model_module": "@jupyter-widgets/controls",
      "model_module_version": "1.5.0",
      "model_name": "HBoxModel",
      "state": {
       "_dom_classes": [],
       "_model_module": "@jupyter-widgets/controls",
       "_model_module_version": "1.5.0",
       "_model_name": "HBoxModel",
       "_view_count": null,
       "_view_module": "@jupyter-widgets/controls",
       "_view_module_version": "1.5.0",
       "_view_name": "HBoxView",
       "box_style": "",
       "children": [
        "IPY_MODEL_a5bfda10ebee4a4e8d73703ef3a729fc",
        "IPY_MODEL_acf86998f6044c6f949838230b232e7d",
        "IPY_MODEL_15cc48f0f17648a481d86d35a616789b"
       ],
       "layout": "IPY_MODEL_0d6c983ad9984b0690e531a7dbe80930"
      }
     },
     "c9d0d8fdf5244c68a44a6684447f2cc5": {
      "model_module": "@jupyter-widgets/controls",
      "model_module_version": "1.5.0",
      "model_name": "HBoxModel",
      "state": {
       "_dom_classes": [],
       "_model_module": "@jupyter-widgets/controls",
       "_model_module_version": "1.5.0",
       "_model_name": "HBoxModel",
       "_view_count": null,
       "_view_module": "@jupyter-widgets/controls",
       "_view_module_version": "1.5.0",
       "_view_name": "HBoxView",
       "box_style": "",
       "children": [
        "IPY_MODEL_1a4cec58456a4c7db7f7851d24f068c9",
        "IPY_MODEL_e733582342fe43e1a51fce4fac0fde94",
        "IPY_MODEL_153e9149838441cf97eb67c9b352ec20"
       ],
       "layout": "IPY_MODEL_f44b3be80be7428ebdc12cdfd3127d2b"
      }
     },
     "cbac7f94b7d14c1a98504afeae100665": {
      "model_module": "@jupyter-widgets/controls",
      "model_module_version": "1.5.0",
      "model_name": "FloatProgressModel",
      "state": {
       "_dom_classes": [],
       "_model_module": "@jupyter-widgets/controls",
       "_model_module_version": "1.5.0",
       "_model_name": "FloatProgressModel",
       "_view_count": null,
       "_view_module": "@jupyter-widgets/controls",
       "_view_module_version": "1.5.0",
       "_view_name": "ProgressView",
       "bar_style": "success",
       "description": "",
       "description_tooltip": null,
       "layout": "IPY_MODEL_4dca12f5e79e4aa4bae6392a62125088",
       "max": 1270963.0,
       "min": 0.0,
       "orientation": "horizontal",
       "style": "IPY_MODEL_c77a0c82fd524c988909cf78010c986b",
       "value": 1270963.0
      }
     },
     "d0d616cf049f4ff09c929a26e4270fdb": {
      "model_module": "@jupyter-widgets/controls",
      "model_module_version": "1.5.0",
      "model_name": "ProgressStyleModel",
      "state": {
       "_model_module": "@jupyter-widgets/controls",
       "_model_module_version": "1.5.0",
       "_model_name": "ProgressStyleModel",
       "_view_count": null,
       "_view_module": "@jupyter-widgets/base",
       "_view_module_version": "1.2.0",
       "_view_name": "StyleView",
       "bar_color": null,
       "description_width": ""
      }
     },
     "d410a8ca7770409281209e3498a28131": {
      "model_module": "@jupyter-widgets/base",
      "model_module_version": "1.2.0",
      "model_name": "LayoutModel",
      "state": {
       "_model_module": "@jupyter-widgets/base",
       "_model_module_version": "1.2.0",
       "_model_name": "LayoutModel",
       "_view_count": null,
       "_view_module": "@jupyter-widgets/base",
       "_view_module_version": "1.2.0",
       "_view_name": "LayoutView",
       "align_content": null,
       "align_items": null,
       "align_self": null,
       "border": null,
       "bottom": null,
       "display": null,
       "flex": null,
       "flex_flow": null,
       "grid_area": null,
       "grid_auto_columns": null,
       "grid_auto_flow": null,
       "grid_auto_rows": null,
       "grid_column": null,
       "grid_gap": null,
       "grid_row": null,
       "grid_template_areas": null,
       "grid_template_columns": null,
       "grid_template_rows": null,
       "height": null,
       "justify_content": null,
       "justify_items": null,
       "left": null,
       "margin": null,
       "max_height": null,
       "max_width": null,
       "min_height": null,
       "min_width": null,
       "object_fit": null,
       "object_position": null,
       "order": null,
       "overflow": null,
       "overflow_x": null,
       "overflow_y": null,
       "padding": null,
       "right": null,
       "top": null,
       "visibility": null,
       "width": null
      }
     },
     "d46175ec1e8c449f8d0e9bc71ad5e56c": {
      "model_module": "@jupyter-widgets/controls",
      "model_module_version": "1.5.0",
      "model_name": "HTMLModel",
      "state": {
       "_dom_classes": [],
       "_model_module": "@jupyter-widgets/controls",
       "_model_module_version": "1.5.0",
       "_model_name": "HTMLModel",
       "_view_count": null,
       "_view_module": "@jupyter-widgets/controls",
       "_view_module_version": "1.5.0",
       "_view_name": "HTMLView",
       "description": "",
       "description_tooltip": null,
       "layout": "IPY_MODEL_5547c16f753240eb93bc533e06819674",
       "placeholder": "​",
       "style": "IPY_MODEL_b640f16a7d9b4985a320bffb98e5e270",
       "value": "Downloading: 100%"
      }
     },
     "d632db1fcd204cedb73d8bb7160c1de9": {
      "model_module": "@jupyter-widgets/base",
      "model_module_version": "1.2.0",
      "model_name": "LayoutModel",
      "state": {
       "_model_module": "@jupyter-widgets/base",
       "_model_module_version": "1.2.0",
       "_model_name": "LayoutModel",
       "_view_count": null,
       "_view_module": "@jupyter-widgets/base",
       "_view_module_version": "1.2.0",
       "_view_name": "LayoutView",
       "align_content": null,
       "align_items": null,
       "align_self": null,
       "border": null,
       "bottom": null,
       "display": null,
       "flex": null,
       "flex_flow": null,
       "grid_area": null,
       "grid_auto_columns": null,
       "grid_auto_flow": null,
       "grid_auto_rows": null,
       "grid_column": null,
       "grid_gap": null,
       "grid_row": null,
       "grid_template_areas": null,
       "grid_template_columns": null,
       "grid_template_rows": null,
       "height": null,
       "justify_content": null,
       "justify_items": null,
       "left": null,
       "margin": null,
       "max_height": null,
       "max_width": null,
       "min_height": null,
       "min_width": null,
       "object_fit": null,
       "object_position": null,
       "order": null,
       "overflow": null,
       "overflow_x": null,
       "overflow_y": null,
       "padding": null,
       "right": null,
       "top": null,
       "visibility": null,
       "width": null
      }
     },
     "d939693b2a364d338da7183ed9d00226": {
      "model_module": "@jupyter-widgets/base",
      "model_module_version": "1.2.0",
      "model_name": "LayoutModel",
      "state": {
       "_model_module": "@jupyter-widgets/base",
       "_model_module_version": "1.2.0",
       "_model_name": "LayoutModel",
       "_view_count": null,
       "_view_module": "@jupyter-widgets/base",
       "_view_module_version": "1.2.0",
       "_view_name": "LayoutView",
       "align_content": null,
       "align_items": null,
       "align_self": null,
       "border": null,
       "bottom": null,
       "display": null,
       "flex": null,
       "flex_flow": null,
       "grid_area": null,
       "grid_auto_columns": null,
       "grid_auto_flow": null,
       "grid_auto_rows": null,
       "grid_column": null,
       "grid_gap": null,
       "grid_row": null,
       "grid_template_areas": null,
       "grid_template_columns": null,
       "grid_template_rows": null,
       "height": null,
       "justify_content": null,
       "justify_items": null,
       "left": null,
       "margin": null,
       "max_height": null,
       "max_width": null,
       "min_height": null,
       "min_width": null,
       "object_fit": null,
       "object_position": null,
       "order": null,
       "overflow": null,
       "overflow_x": null,
       "overflow_y": null,
       "padding": null,
       "right": null,
       "top": null,
       "visibility": null,
       "width": null
      }
     },
     "da9292c295a8418c9306276d7e91fc11": {
      "model_module": "@jupyter-widgets/controls",
      "model_module_version": "1.5.0",
      "model_name": "ProgressStyleModel",
      "state": {
       "_model_module": "@jupyter-widgets/controls",
       "_model_module_version": "1.5.0",
       "_model_name": "ProgressStyleModel",
       "_view_count": null,
       "_view_module": "@jupyter-widgets/base",
       "_view_module_version": "1.2.0",
       "_view_name": "StyleView",
       "bar_color": null,
       "description_width": ""
      }
     },
     "dc74e7609bec4c199f76b4d23786aedf": {
      "model_module": "@jupyter-widgets/controls",
      "model_module_version": "1.5.0",
      "model_name": "DescriptionStyleModel",
      "state": {
       "_model_module": "@jupyter-widgets/controls",
       "_model_module_version": "1.5.0",
       "_model_name": "DescriptionStyleModel",
       "_view_count": null,
       "_view_module": "@jupyter-widgets/base",
       "_view_module_version": "1.2.0",
       "_view_name": "StyleView",
       "description_width": ""
      }
     },
     "dcfbcd29b69e4af8a6d2bb13fc7b023a": {
      "model_module": "@jupyter-widgets/base",
      "model_module_version": "1.2.0",
      "model_name": "LayoutModel",
      "state": {
       "_model_module": "@jupyter-widgets/base",
       "_model_module_version": "1.2.0",
       "_model_name": "LayoutModel",
       "_view_count": null,
       "_view_module": "@jupyter-widgets/base",
       "_view_module_version": "1.2.0",
       "_view_name": "LayoutView",
       "align_content": null,
       "align_items": null,
       "align_self": null,
       "border": null,
       "bottom": null,
       "display": null,
       "flex": null,
       "flex_flow": null,
       "grid_area": null,
       "grid_auto_columns": null,
       "grid_auto_flow": null,
       "grid_auto_rows": null,
       "grid_column": null,
       "grid_gap": null,
       "grid_row": null,
       "grid_template_areas": null,
       "grid_template_columns": null,
       "grid_template_rows": null,
       "height": null,
       "justify_content": null,
       "justify_items": null,
       "left": null,
       "margin": null,
       "max_height": null,
       "max_width": null,
       "min_height": null,
       "min_width": null,
       "object_fit": null,
       "object_position": null,
       "order": null,
       "overflow": null,
       "overflow_x": null,
       "overflow_y": null,
       "padding": null,
       "right": null,
       "top": null,
       "visibility": null,
       "width": null
      }
     },
     "dd0c77c79be345119359aec499b3d157": {
      "model_module": "@jupyter-widgets/base",
      "model_module_version": "1.2.0",
      "model_name": "LayoutModel",
      "state": {
       "_model_module": "@jupyter-widgets/base",
       "_model_module_version": "1.2.0",
       "_model_name": "LayoutModel",
       "_view_count": null,
       "_view_module": "@jupyter-widgets/base",
       "_view_module_version": "1.2.0",
       "_view_name": "LayoutView",
       "align_content": null,
       "align_items": null,
       "align_self": null,
       "border": null,
       "bottom": null,
       "display": null,
       "flex": null,
       "flex_flow": null,
       "grid_area": null,
       "grid_auto_columns": null,
       "grid_auto_flow": null,
       "grid_auto_rows": null,
       "grid_column": null,
       "grid_gap": null,
       "grid_row": null,
       "grid_template_areas": null,
       "grid_template_columns": null,
       "grid_template_rows": null,
       "height": null,
       "justify_content": null,
       "justify_items": null,
       "left": null,
       "margin": null,
       "max_height": null,
       "max_width": null,
       "min_height": null,
       "min_width": null,
       "object_fit": null,
       "object_position": null,
       "order": null,
       "overflow": null,
       "overflow_x": null,
       "overflow_y": null,
       "padding": null,
       "right": null,
       "top": null,
       "visibility": null,
       "width": null
      }
     },
     "e0a89d244e22437eb799aa1bc2e2e9df": {
      "model_module": "@jupyter-widgets/controls",
      "model_module_version": "1.5.0",
      "model_name": "HTMLModel",
      "state": {
       "_dom_classes": [],
       "_model_module": "@jupyter-widgets/controls",
       "_model_module_version": "1.5.0",
       "_model_name": "HTMLModel",
       "_view_count": null,
       "_view_module": "@jupyter-widgets/controls",
       "_view_module_version": "1.5.0",
       "_view_name": "HTMLView",
       "description": "",
       "description_tooltip": null,
       "layout": "IPY_MODEL_84b3ad3626a14832b3d5a8fd80c34511",
       "placeholder": "​",
       "style": "IPY_MODEL_571296b462ad430c8f20b302a796b570",
       "value": " 1.21M/1.21M [00:00&lt;00:00, 2.58MB/s]"
      }
     },
     "e60a8837b5c84b8e90b958505b75a893": {
      "model_module": "@jupyter-widgets/controls",
      "model_module_version": "1.5.0",
      "model_name": "DescriptionStyleModel",
      "state": {
       "_model_module": "@jupyter-widgets/controls",
       "_model_module_version": "1.5.0",
       "_model_name": "DescriptionStyleModel",
       "_view_count": null,
       "_view_module": "@jupyter-widgets/base",
       "_view_module_version": "1.2.0",
       "_view_name": "StyleView",
       "description_width": ""
      }
     },
     "e733582342fe43e1a51fce4fac0fde94": {
      "model_module": "@jupyter-widgets/controls",
      "model_module_version": "1.5.0",
      "model_name": "FloatProgressModel",
      "state": {
       "_dom_classes": [],
       "_model_module": "@jupyter-widgets/controls",
       "_model_module_version": "1.5.0",
       "_model_name": "FloatProgressModel",
       "_view_count": null,
       "_view_module": "@jupyter-widgets/controls",
       "_view_module_version": "1.5.0",
       "_view_name": "ProgressView",
       "bar_style": "success",
       "description": "",
       "description_tooltip": null,
       "layout": "IPY_MODEL_eda3d14d1bd044cd9731468fd6dabee5",
       "max": 986.0,
       "min": 0.0,
       "orientation": "horizontal",
       "style": "IPY_MODEL_a61fe17068df48b7953e270d1a07465f",
       "value": 986.0
      }
     },
     "eda3d14d1bd044cd9731468fd6dabee5": {
      "model_module": "@jupyter-widgets/base",
      "model_module_version": "1.2.0",
      "model_name": "LayoutModel",
      "state": {
       "_model_module": "@jupyter-widgets/base",
       "_model_module_version": "1.2.0",
       "_model_name": "LayoutModel",
       "_view_count": null,
       "_view_module": "@jupyter-widgets/base",
       "_view_module_version": "1.2.0",
       "_view_name": "LayoutView",
       "align_content": null,
       "align_items": null,
       "align_self": null,
       "border": null,
       "bottom": null,
       "display": null,
       "flex": null,
       "flex_flow": null,
       "grid_area": null,
       "grid_auto_columns": null,
       "grid_auto_flow": null,
       "grid_auto_rows": null,
       "grid_column": null,
       "grid_gap": null,
       "grid_row": null,
       "grid_template_areas": null,
       "grid_template_columns": null,
       "grid_template_rows": null,
       "height": null,
       "justify_content": null,
       "justify_items": null,
       "left": null,
       "margin": null,
       "max_height": null,
       "max_width": null,
       "min_height": null,
       "min_width": null,
       "object_fit": null,
       "object_position": null,
       "order": null,
       "overflow": null,
       "overflow_x": null,
       "overflow_y": null,
       "padding": null,
       "right": null,
       "top": null,
       "visibility": null,
       "width": null
      }
     },
     "f44b3be80be7428ebdc12cdfd3127d2b": {
      "model_module": "@jupyter-widgets/base",
      "model_module_version": "1.2.0",
      "model_name": "LayoutModel",
      "state": {
       "_model_module": "@jupyter-widgets/base",
       "_model_module_version": "1.2.0",
       "_model_name": "LayoutModel",
       "_view_count": null,
       "_view_module": "@jupyter-widgets/base",
       "_view_module_version": "1.2.0",
       "_view_name": "LayoutView",
       "align_content": null,
       "align_items": null,
       "align_self": null,
       "border": null,
       "bottom": null,
       "display": null,
       "flex": null,
       "flex_flow": null,
       "grid_area": null,
       "grid_auto_columns": null,
       "grid_auto_flow": null,
       "grid_auto_rows": null,
       "grid_column": null,
       "grid_gap": null,
       "grid_row": null,
       "grid_template_areas": null,
       "grid_template_columns": null,
       "grid_template_rows": null,
       "height": null,
       "justify_content": null,
       "justify_items": null,
       "left": null,
       "margin": null,
       "max_height": null,
       "max_width": null,
       "min_height": null,
       "min_width": null,
       "object_fit": null,
       "object_position": null,
       "order": null,
       "overflow": null,
       "overflow_x": null,
       "overflow_y": null,
       "padding": null,
       "right": null,
       "top": null,
       "visibility": null,
       "width": null
      }
     },
     "f657ba175b0546c28c2e8ef7cf70395b": {
      "model_module": "@jupyter-widgets/base",
      "model_module_version": "1.2.0",
      "model_name": "LayoutModel",
      "state": {
       "_model_module": "@jupyter-widgets/base",
       "_model_module_version": "1.2.0",
       "_model_name": "LayoutModel",
       "_view_count": null,
       "_view_module": "@jupyter-widgets/base",
       "_view_module_version": "1.2.0",
       "_view_name": "LayoutView",
       "align_content": null,
       "align_items": null,
       "align_self": null,
       "border": null,
       "bottom": null,
       "display": null,
       "flex": null,
       "flex_flow": null,
       "grid_area": null,
       "grid_auto_columns": null,
       "grid_auto_flow": null,
       "grid_auto_rows": null,
       "grid_column": null,
       "grid_gap": null,
       "grid_row": null,
       "grid_template_areas": null,
       "grid_template_columns": null,
       "grid_template_rows": null,
       "height": null,
       "justify_content": null,
       "justify_items": null,
       "left": null,
       "margin": null,
       "max_height": null,
       "max_width": null,
       "min_height": null,
       "min_width": null,
       "object_fit": null,
       "object_position": null,
       "order": null,
       "overflow": null,
       "overflow_x": null,
       "overflow_y": null,
       "padding": null,
       "right": null,
       "top": null,
       "visibility": null,
       "width": null
      }
     },
     "f6c10e4dc7464c1b8b1aea8be0563b05": {
      "model_module": "@jupyter-widgets/base",
      "model_module_version": "1.2.0",
      "model_name": "LayoutModel",
      "state": {
       "_model_module": "@jupyter-widgets/base",
       "_model_module_version": "1.2.0",
       "_model_name": "LayoutModel",
       "_view_count": null,
       "_view_module": "@jupyter-widgets/base",
       "_view_module_version": "1.2.0",
       "_view_name": "LayoutView",
       "align_content": null,
       "align_items": null,
       "align_self": null,
       "border": null,
       "bottom": null,
       "display": null,
       "flex": null,
       "flex_flow": null,
       "grid_area": null,
       "grid_auto_columns": null,
       "grid_auto_flow": null,
       "grid_auto_rows": null,
       "grid_column": null,
       "grid_gap": null,
       "grid_row": null,
       "grid_template_areas": null,
       "grid_template_columns": null,
       "grid_template_rows": null,
       "height": null,
       "justify_content": null,
       "justify_items": null,
       "left": null,
       "margin": null,
       "max_height": null,
       "max_width": null,
       "min_height": null,
       "min_width": null,
       "object_fit": null,
       "object_position": null,
       "order": null,
       "overflow": null,
       "overflow_x": null,
       "overflow_y": null,
       "padding": null,
       "right": null,
       "top": null,
       "visibility": null,
       "width": null
      }
     },
     "f8f19df72d4e48408ae4b874ded1c806": {
      "model_module": "@jupyter-widgets/controls",
      "model_module_version": "1.5.0",
      "model_name": "DescriptionStyleModel",
      "state": {
       "_model_module": "@jupyter-widgets/controls",
       "_model_module_version": "1.5.0",
       "_model_name": "DescriptionStyleModel",
       "_view_count": null,
       "_view_module": "@jupyter-widgets/base",
       "_view_module_version": "1.2.0",
       "_view_name": "StyleView",
       "description_width": ""
      }
     },
     "fd364d7f00ed4538aa13d965de4bbe0b": {
      "model_module": "@jupyter-widgets/controls",
      "model_module_version": "1.5.0",
      "model_name": "ProgressStyleModel",
      "state": {
       "_model_module": "@jupyter-widgets/controls",
       "_model_module_version": "1.5.0",
       "_model_name": "ProgressStyleModel",
       "_view_count": null,
       "_view_module": "@jupyter-widgets/base",
       "_view_module_version": "1.2.0",
       "_view_name": "StyleView",
       "bar_color": null,
       "description_width": ""
      }
     }
    },
    "version_major": 2,
    "version_minor": 0
   }
  }
 },
 "nbformat": 4,
 "nbformat_minor": 5
}
