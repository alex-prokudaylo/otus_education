{
 "cells": [
  {
   "cell_type": "code",
   "execution_count": 1,
   "id": "a3b36cd7",
   "metadata": {
    "_cell_guid": "b1076dfc-b9ad-4769-8c92-a6c4dae69d19",
    "_uuid": "8f2839f25d086af736a60e9eeb907d3b93b6e0e5",
    "execution": {
     "iopub.execute_input": "2022-07-15T06:49:53.856280Z",
     "iopub.status.busy": "2022-07-15T06:49:53.855829Z",
     "iopub.status.idle": "2022-07-15T06:49:54.911846Z",
     "shell.execute_reply": "2022-07-15T06:49:54.910577Z"
    },
    "papermill": {
     "duration": 1.070008,
     "end_time": "2022-07-15T06:49:54.915397",
     "exception": false,
     "start_time": "2022-07-15T06:49:53.845389",
     "status": "completed"
    },
    "tags": []
   },
   "outputs": [],
   "source": [
    "import numpy as np # linear algebra\n",
    "import pandas as pd # data processing, CSV file I/O (e.g. pd.read_csv)\n",
    "import matplotlib.pyplot as plt # for plotting the data \n",
    "import seaborn as sns # Advanced data plotting on top of matplotlib\n",
    "import os\n",
    "\n",
    "\n",
    "from PIL import Image\n",
    "import pickle"
   ]
  },
  {
   "cell_type": "code",
   "execution_count": 2,
   "id": "5f2e7e08",
   "metadata": {
    "execution": {
     "iopub.execute_input": "2022-07-15T06:49:54.937038Z",
     "iopub.status.busy": "2022-07-15T06:49:54.936458Z",
     "iopub.status.idle": "2022-07-15T06:49:55.010832Z",
     "shell.execute_reply": "2022-07-15T06:49:55.010001Z"
    },
    "papermill": {
     "duration": 0.086086,
     "end_time": "2022-07-15T06:49:55.013357",
     "exception": false,
     "start_time": "2022-07-15T06:49:54.927271",
     "status": "completed"
    },
    "tags": []
   },
   "outputs": [],
   "source": [
    "customer_test_df = pd.read_csv(\"../input/fork-of-h-m-recsys-eda-and-split/customer_test.csv\")\n",
    "customer_test_df_open_transactions = pd.read_csv(\"../input/fork-of-h-m-recsys-eda-and-split/customer_test_df_open_transactions.csv\")\n",
    "customer_test_df_hiden_transactions = pd.read_csv(\"../input/fork-of-h-m-recsys-eda-and-split/customer_test_df_hiden_transactions.csv\")\n"
   ]
  },
  {
   "cell_type": "code",
   "execution_count": 3,
   "id": "a2bd070a",
   "metadata": {
    "execution": {
     "iopub.execute_input": "2022-07-15T06:49:55.029962Z",
     "iopub.status.busy": "2022-07-15T06:49:55.029017Z",
     "iopub.status.idle": "2022-07-15T06:49:55.077637Z",
     "shell.execute_reply": "2022-07-15T06:49:55.076563Z"
    },
    "papermill": {
     "duration": 0.059689,
     "end_time": "2022-07-15T06:49:55.080429",
     "exception": false,
     "start_time": "2022-07-15T06:49:55.020740",
     "status": "completed"
    },
    "tags": []
   },
   "outputs": [],
   "source": [
    "# text preds\n",
    "with open ('../input/h-m-recsys-nlp-description-similarity/text_preds', 'rb') as fp:\n",
    "    nlp_preds = pickle.load(fp)\n",
    "\n",
    "# image preds\n",
    "with open ('../input/h-m-recsys-using-image-similarity/img_preds', 'rb') as fp:\n",
    "    img_preds = pickle.load(fp)\n",
    "    \n",
    "# lightfm preds\n",
    "with open ('../input/h-m-recsys-lightfm/lightfm_preds', 'rb') as fp:\n",
    "    lightfm_preds = pickle.load(fp)\n",
    "    \n",
    "# lightfm + item features preds\n",
    "with open ('../input/fork-of-h-m-recsys-lightfm-with-clusterization/lightfm_plus_preds', 'rb') as fp:\n",
    "    lightfm_if_preds = pickle.load(fp)\n",
    "\n",
    "# lightfm + item features + user featues preds\n",
    "with open ('../input/fork-of-h-m-recsys-lightfm-with-clusterization/lightfm_plus_plus_preds', 'rb') as fp:\n",
    "    lightfm_if_uf_preds = pickle.load(fp)\n"
   ]
  },
  {
   "cell_type": "code",
   "execution_count": 4,
   "id": "7d36daab",
   "metadata": {
    "execution": {
     "iopub.execute_input": "2022-07-15T06:49:55.096897Z",
     "iopub.status.busy": "2022-07-15T06:49:55.096202Z",
     "iopub.status.idle": "2022-07-15T06:49:55.795124Z",
     "shell.execute_reply": "2022-07-15T06:49:55.793872Z"
    },
    "papermill": {
     "duration": 0.709993,
     "end_time": "2022-07-15T06:49:55.797762",
     "exception": false,
     "start_time": "2022-07-15T06:49:55.087769",
     "status": "completed"
    },
    "tags": []
   },
   "outputs": [
    {
     "name": "stdout",
     "output_type": "stream",
     "text": [
      "500\n"
     ]
    }
   ],
   "source": [
    "# hiden preds\n",
    "\n",
    "ground_truth_list = []\n",
    "\n",
    "# go through all customers from test list\n",
    "for k, customer in enumerate(customer_test_df.customer_id):\n",
    "    ground_truth_list.append(np.array(\n",
    "        customer_test_df_hiden_transactions[customer_test_df_hiden_transactions.customer_id == customer].article_id))\n",
    "    \n",
    "print(len(ground_truth_list))"
   ]
  },
  {
   "cell_type": "code",
   "execution_count": 5,
   "id": "95a17610",
   "metadata": {
    "execution": {
     "iopub.execute_input": "2022-07-15T06:49:55.814565Z",
     "iopub.status.busy": "2022-07-15T06:49:55.813697Z",
     "iopub.status.idle": "2022-07-15T06:51:01.437656Z",
     "shell.execute_reply": "2022-07-15T06:51:01.436295Z"
    },
    "papermill": {
     "duration": 65.637255,
     "end_time": "2022-07-15T06:51:01.442746",
     "exception": false,
     "start_time": "2022-07-15T06:49:55.805491",
     "status": "completed"
    },
    "tags": []
   },
   "outputs": [],
   "source": [
    "transactions_df = pd.read_csv(\"/kaggle/input/h-and-m-personalized-fashion-recommendations/transactions_train.csv\")"
   ]
  },
  {
   "cell_type": "code",
   "execution_count": 6,
   "id": "8e0938a7",
   "metadata": {
    "execution": {
     "iopub.execute_input": "2022-07-15T06:51:01.462675Z",
     "iopub.status.busy": "2022-07-15T06:51:01.461934Z",
     "iopub.status.idle": "2022-07-15T06:51:05.725877Z",
     "shell.execute_reply": "2022-07-15T06:51:05.724806Z"
    },
    "papermill": {
     "duration": 4.275642,
     "end_time": "2022-07-15T06:51:05.728465",
     "exception": false,
     "start_time": "2022-07-15T06:51:01.452823",
     "status": "completed"
    },
    "tags": []
   },
   "outputs": [
    {
     "data": {
      "text/plain": [
       "array([706016001, 706016002, 372860001, 610776002, 759871002, 464297007,\n",
       "       372860002, 610776001, 399223001, 706016003, 720125001, 156231001])"
      ]
     },
     "execution_count": 6,
     "metadata": {},
     "output_type": "execute_result"
    }
   ],
   "source": [
    "# 100 most popular items\n",
    "most_popular_100 = transactions_df.groupby(\"article_id\")[\"customer_id\"].count().sort_values(ascending=False).head(100).index.values\n",
    "most_popular_100[:12]"
   ]
  },
  {
   "cell_type": "code",
   "execution_count": 7,
   "id": "2d741c10",
   "metadata": {
    "execution": {
     "iopub.execute_input": "2022-07-15T06:51:05.744582Z",
     "iopub.status.busy": "2022-07-15T06:51:05.744232Z",
     "iopub.status.idle": "2022-07-15T06:51:05.752305Z",
     "shell.execute_reply": "2022-07-15T06:51:05.751124Z"
    },
    "papermill": {
     "duration": 0.01884,
     "end_time": "2022-07-15T06:51:05.754623",
     "exception": false,
     "start_time": "2022-07-15T06:51:05.735783",
     "status": "completed"
    },
    "tags": []
   },
   "outputs": [],
   "source": [
    "def print_img(open_ids):\n",
    "    img_list_open = []\n",
    "    for id in open_ids:    \n",
    "        image_path = \"../input/h-and-m-personalized-fashion-recommendations/images/0{}/0{}.jpg\".format(str(id)[:2], id)\n",
    "        try:\n",
    "            img = Image.open(image_path)\n",
    "        except FileNotFoundError:\n",
    "            continue            \n",
    "        img_list_open.append(img)\n",
    "    \n",
    "    plt.figure(figsize=(2*len(img_list_open),5))\n",
    "    for j in range(len(img_list_open)):\n",
    "        plt.subplot(1, len(img_list_open), j+1)\n",
    "        plt.axis('off')\n",
    "        plt.imshow(img_list_open[j])"
   ]
  },
  {
   "cell_type": "code",
   "execution_count": 8,
   "id": "68788809",
   "metadata": {
    "execution": {
     "iopub.execute_input": "2022-07-15T06:51:05.770592Z",
     "iopub.status.busy": "2022-07-15T06:51:05.770235Z",
     "iopub.status.idle": "2022-07-15T06:51:05.792301Z",
     "shell.execute_reply": "2022-07-15T06:51:05.791220Z"
    },
    "papermill": {
     "duration": 0.033283,
     "end_time": "2022-07-15T06:51:05.794999",
     "exception": false,
     "start_time": "2022-07-15T06:51:05.761716",
     "status": "completed"
    },
    "tags": []
   },
   "outputs": [],
   "source": [
    "def jaccard_similarity(list1, list2):\n",
    "    intersection = len(list(set(list1).intersection(list2)))\n",
    "    union = (len(set(list1)) + len(set(list2))) - intersection\n",
    "    return float(intersection) / union\n",
    "\n",
    "def jaccard(actual, predicted):\n",
    "    return np.mean([jaccard_similarity(a,b) for a,b in zip(actual, predicted)])\n",
    "\n",
    "def dice_similarity(list1, list2):\n",
    "    intersection = 2 * len(list(set(list1).intersection(list2)))\n",
    "    union = (len(set(list1)) + len(set(list2))) \n",
    "    return float(intersection) / union\n",
    "\n",
    "def dice(actual, predicted):\n",
    "    return np.mean([dice_similarity(a,b) for a,b in zip(actual, predicted)])\n",
    "\n",
    "def intersept(list1, list2):\n",
    "    return np.sum([len(list(set(a).intersection(b))) for a,b in zip(list1, list2)])\n",
    "\n",
    "def apk(actual, predicted, k=10):\n",
    "    \"\"\"\n",
    "    Computes the average precision at k.\n",
    "    This function computes the average prescision at k between two lists of\n",
    "    items.\n",
    "    Parameters\n",
    "    ----------\n",
    "    actual : list\n",
    "             A list of elements that are to be predicted (order doesn't matter)\n",
    "    predicted : list\n",
    "                A list of predicted elements (order does matter)\n",
    "    k : int, optional\n",
    "        The maximum number of predicted elements\n",
    "    Returns\n",
    "    -------\n",
    "    score : double\n",
    "            The average precision at k over the input lists\n",
    "    \"\"\"\n",
    "    if len(predicted)>k:\n",
    "        predicted = predicted[:k]\n",
    "\n",
    "    score = 0.0\n",
    "    num_hits = 0.0\n",
    "\n",
    "    for i,p in enumerate(predicted):\n",
    "        if p in actual and p not in predicted[:i]:\n",
    "            num_hits += 1.0\n",
    "            score += num_hits / (i+1.0)\n",
    "\n",
    "    #if not actual:\n",
    "    #    return 0.0\n",
    "\n",
    "    return score / min(len(actual), k)\n",
    "\n",
    "\n",
    "def mapk(actual, predicted, k=10):\n",
    "    \"\"\"\n",
    "    Computes the mean average precision at k.\n",
    "    This function computes the mean average prescision at k between two lists\n",
    "    of lists of items.\n",
    "    Parameters\n",
    "    ----------\n",
    "    actual : list\n",
    "             A list of lists of elements that are to be predicted \n",
    "             (order doesn't matter in the lists)\n",
    "    predicted : list\n",
    "                A list of lists of predicted elements\n",
    "                (order matters in the lists)\n",
    "    k : int, optional\n",
    "        The maximum number of predicted elements\n",
    "    Returns\n",
    "    -------\n",
    "    score : double\n",
    "            The mean average precision at k over the input lists\n",
    "    \"\"\"\n",
    "    return np.mean([apk(a,p,k) for a,p in zip(actual, predicted)])\n",
    "\n",
    "\n",
    "\n",
    "def metrics(ground_truth, mp_preds):\n",
    "    mp_interception = intersept(ground_truth_list, mp_preds)\n",
    "    mp_jaccard_similarity = jaccard(ground_truth_list, mp_preds)\n",
    "    mp_dice = dice(ground_truth_list, mp_preds)    \n",
    "    mp_maok12 = mapk(ground_truth_list, mp_preds, 12)\n",
    "\n",
    "    print(\"Interceptions: {} from {} ({:.4}%)\".format(mp_interception, len(ground_truth) * 12, mp_interception*100/(len(ground_truth) * 12)) )\n",
    "    print(\"Jaccard: {:.4}\".format(mp_jaccard_similarity))\n",
    "    print(\"Dice: {:.4}\".format(mp_dice))\n",
    "    print(\"Mean Average Precision @ 12: {:.4}\".format(mp_maok12))\n",
    "    \n",
    "    return [mp_interception, mp_interception*100/(len(ground_truth) * 12), mp_jaccard_similarity, mp_dice, mp_maok12]\n"
   ]
  },
  {
   "cell_type": "markdown",
   "id": "6c8895b3",
   "metadata": {
    "papermill": {
     "duration": 0.006881,
     "end_time": "2022-07-15T06:51:05.809179",
     "exception": false,
     "start_time": "2022-07-15T06:51:05.802298",
     "status": "completed"
    },
    "tags": []
   },
   "source": [
    "**100 most popular items results**"
   ]
  },
  {
   "cell_type": "code",
   "execution_count": 9,
   "id": "04f6bec4",
   "metadata": {
    "execution": {
     "iopub.execute_input": "2022-07-15T06:51:05.825884Z",
     "iopub.status.busy": "2022-07-15T06:51:05.825131Z",
     "iopub.status.idle": "2022-07-15T06:51:05.923495Z",
     "shell.execute_reply": "2022-07-15T06:51:05.922030Z"
    },
    "papermill": {
     "duration": 0.109804,
     "end_time": "2022-07-15T06:51:05.926089",
     "exception": false,
     "start_time": "2022-07-15T06:51:05.816285",
     "status": "completed"
    },
    "tags": []
   },
   "outputs": [
    {
     "name": "stdout",
     "output_type": "stream",
     "text": [
      "100 most popular items results\n",
      "\n",
      "Interceptions: 117 from 6000 (1.95%)\n",
      "Jaccard: 0.00216\n",
      "Dice: 0.004265\n",
      "Mean Average Precision @ 12: 0.0004845\n"
     ]
    }
   ],
   "source": [
    "# 100 most popular items results\n",
    "mp_preds = [most_popular_100 for i in range(500)]\n",
    "\n",
    "print(\"100 most popular items results\\n\")\n",
    "mp100_metrics = metrics(ground_truth_list, mp_preds)"
   ]
  },
  {
   "cell_type": "code",
   "execution_count": 10,
   "id": "1211e7d5",
   "metadata": {
    "execution": {
     "iopub.execute_input": "2022-07-15T06:51:05.943408Z",
     "iopub.status.busy": "2022-07-15T06:51:05.942321Z",
     "iopub.status.idle": "2022-07-15T06:51:06.000929Z",
     "shell.execute_reply": "2022-07-15T06:51:05.999682Z"
    },
    "papermill": {
     "duration": 0.069918,
     "end_time": "2022-07-15T06:51:06.003520",
     "exception": false,
     "start_time": "2022-07-15T06:51:05.933602",
     "status": "completed"
    },
    "tags": []
   },
   "outputs": [
    {
     "name": "stdout",
     "output_type": "stream",
     "text": [
      "12 most popular items results\n",
      "\n",
      "Interceptions: 18 from 6000 (0.3%)\n",
      "Jaccard: 0.001771\n",
      "Dice: 0.003336\n",
      "Mean Average Precision @ 12: 0.0004845\n"
     ]
    }
   ],
   "source": [
    "mp_preds_12 = [most_popular_100[:12] for i in range(500)]\n",
    "\n",
    "print(\"12 most popular items results\\n\")\n",
    "mp12_metrics = metrics(ground_truth_list, mp_preds_12)"
   ]
  },
  {
   "cell_type": "markdown",
   "id": "1ea5a02b",
   "metadata": {
    "papermill": {
     "duration": 0.007612,
     "end_time": "2022-07-15T06:51:06.018850",
     "exception": false,
     "start_time": "2022-07-15T06:51:06.011238",
     "status": "completed"
    },
    "tags": []
   },
   "source": [
    "**Description Similarity method**"
   ]
  },
  {
   "cell_type": "code",
   "execution_count": 11,
   "id": "393879c8",
   "metadata": {
    "execution": {
     "iopub.execute_input": "2022-07-15T06:51:06.036468Z",
     "iopub.status.busy": "2022-07-15T06:51:06.036073Z",
     "iopub.status.idle": "2022-07-15T06:51:06.131386Z",
     "shell.execute_reply": "2022-07-15T06:51:06.129948Z"
    },
    "papermill": {
     "duration": 0.107192,
     "end_time": "2022-07-15T06:51:06.133867",
     "exception": false,
     "start_time": "2022-07-15T06:51:06.026675",
     "status": "completed"
    },
    "tags": []
   },
   "outputs": [
    {
     "name": "stdout",
     "output_type": "stream",
     "text": [
      "Interceptions: 542 from 6000 (9.033%)\n",
      "Jaccard: 0.01378\n",
      "Dice: 0.02662\n",
      "Mean Average Precision @ 12: 0.006861\n"
     ]
    }
   ],
   "source": [
    "# 100 most popular items results\n",
    "\n",
    "nlp_metrics =  metrics(ground_truth_list, nlp_preds)"
   ]
  },
  {
   "cell_type": "code",
   "execution_count": 12,
   "id": "3e4f5b6e",
   "metadata": {
    "execution": {
     "iopub.execute_input": "2022-07-15T06:51:06.153617Z",
     "iopub.status.busy": "2022-07-15T06:51:06.153234Z",
     "iopub.status.idle": "2022-07-15T06:51:06.211979Z",
     "shell.execute_reply": "2022-07-15T06:51:06.210808Z"
    },
    "papermill": {
     "duration": 0.072803,
     "end_time": "2022-07-15T06:51:06.214595",
     "exception": false,
     "start_time": "2022-07-15T06:51:06.141792",
     "status": "completed"
    },
    "tags": []
   },
   "outputs": [
    {
     "name": "stdout",
     "output_type": "stream",
     "text": [
      "Interceptions: 136 from 6000 (2.267%)\n",
      "Jaccard: 0.01411\n",
      "Dice: 0.02628\n",
      "Mean Average Precision @ 12: 0.006861\n"
     ]
    }
   ],
   "source": [
    "mp_preds_12 = [item[:12] for item in nlp_preds]\n",
    "\n",
    "nlp12_metrics = metrics(ground_truth_list, mp_preds_12)"
   ]
  },
  {
   "cell_type": "markdown",
   "id": "ae244964",
   "metadata": {
    "papermill": {
     "duration": 0.007814,
     "end_time": "2022-07-15T06:51:06.230548",
     "exception": false,
     "start_time": "2022-07-15T06:51:06.222734",
     "status": "completed"
    },
    "tags": []
   },
   "source": [
    "**Lightfm**"
   ]
  },
  {
   "cell_type": "code",
   "execution_count": 13,
   "id": "0f33cac5",
   "metadata": {
    "execution": {
     "iopub.execute_input": "2022-07-15T06:51:06.247679Z",
     "iopub.status.busy": "2022-07-15T06:51:06.247325Z",
     "iopub.status.idle": "2022-07-15T06:51:06.400753Z",
     "shell.execute_reply": "2022-07-15T06:51:06.399378Z"
    },
    "papermill": {
     "duration": 0.165114,
     "end_time": "2022-07-15T06:51:06.403415",
     "exception": false,
     "start_time": "2022-07-15T06:51:06.238301",
     "status": "completed"
    },
    "tags": []
   },
   "outputs": [
    {
     "name": "stdout",
     "output_type": "stream",
     "text": [
      "Light FM without user/item features\n",
      "Interceptions: 234 from 6000 (3.9%)\n",
      "Jaccard: 0.01463\n",
      "Dice: 0.02763\n",
      "Mean Average Precision @ 12: 0.01053\n",
      "\n",
      "Light FM with item features\n",
      "Interceptions: 209 from 6000 (3.483%)\n",
      "Jaccard: 0.01306\n",
      "Dice: 0.02464\n",
      "Mean Average Precision @ 12: 0.008217\n",
      "\n",
      "Light FM with item and user features\n",
      "Interceptions: 176 from 6000 (2.933%)\n",
      "Jaccard: 0.01092\n",
      "Dice: 0.02072\n",
      "Mean Average Precision @ 12: 0.006615\n"
     ]
    }
   ],
   "source": [
    "print(\"Light FM without user/item features\")\n",
    "lfm_metrics = metrics(ground_truth_list, lightfm_preds)\n",
    "\n",
    "print(\"\\nLight FM with item features\")\n",
    "lfm_if_metrics = metrics(ground_truth_list, lightfm_if_preds)\n",
    "\n",
    "print(\"\\nLight FM with item and user features\")\n",
    "lfm_if_uf_metrics = metrics(ground_truth_list, lightfm_if_uf_preds)\n"
   ]
  },
  {
   "cell_type": "code",
   "execution_count": 14,
   "id": "ae3c570c",
   "metadata": {
    "execution": {
     "iopub.execute_input": "2022-07-15T06:51:06.421129Z",
     "iopub.status.busy": "2022-07-15T06:51:06.420742Z",
     "iopub.status.idle": "2022-07-15T06:51:06.564480Z",
     "shell.execute_reply": "2022-07-15T06:51:06.563259Z"
    },
    "papermill": {
     "duration": 0.155533,
     "end_time": "2022-07-15T06:51:06.566893",
     "exception": false,
     "start_time": "2022-07-15T06:51:06.411360",
     "status": "completed"
    },
    "tags": []
   },
   "outputs": [
    {
     "name": "stdout",
     "output_type": "stream",
     "text": [
      "Light FM top12 without user/item features\n",
      "Interceptions: 163 from 6000 (2.717%)\n",
      "Jaccard: 0.01635\n",
      "Dice: 0.03009\n",
      "Mean Average Precision @ 12: 0.01053\n",
      "\n",
      "Light FM top12 with item features\n",
      "Interceptions: 125 from 6000 (2.083%)\n",
      "Jaccard: 0.01243\n",
      "Dice: 0.02284\n",
      "Mean Average Precision @ 12: 0.008217\n",
      "\n",
      "Light FM top12 with item and user features\n",
      "Interceptions: 106 from 6000 (1.767%)\n",
      "Jaccard: 0.01032\n",
      "Dice: 0.01936\n",
      "Mean Average Precision @ 12: 0.006615\n"
     ]
    }
   ],
   "source": [
    "lightfm_preds12 = [pred[:12] for pred in lightfm_preds]\n",
    "lightfm_if_preds12 = [pred[:12] for pred in lightfm_if_preds]\n",
    "lightfm_if_uf_preds12 = [pred[:12] for pred in lightfm_if_uf_preds]\n",
    "\n",
    "print(\"Light FM top12 without user/item features\")\n",
    "lfm12_metrics = metrics(ground_truth_list, lightfm_preds12)\n",
    "\n",
    "print(\"\\nLight FM top12 with item features\")\n",
    "lfm12_if_metrics = metrics(ground_truth_list, lightfm_if_preds12)\n",
    "\n",
    "print(\"\\nLight FM top12 with item and user features\")\n",
    "lfm12_if_uf_metrics = metrics(ground_truth_list, lightfm_if_uf_preds12)"
   ]
  },
  {
   "cell_type": "markdown",
   "id": "52515981",
   "metadata": {
    "papermill": {
     "duration": 0.007573,
     "end_time": "2022-07-15T06:51:06.582584",
     "exception": false,
     "start_time": "2022-07-15T06:51:06.575011",
     "status": "completed"
    },
    "tags": []
   },
   "source": [
    "**Image similarity method**"
   ]
  },
  {
   "cell_type": "code",
   "execution_count": 15,
   "id": "9cbb9289",
   "metadata": {
    "execution": {
     "iopub.execute_input": "2022-07-15T06:51:06.600323Z",
     "iopub.status.busy": "2022-07-15T06:51:06.599953Z",
     "iopub.status.idle": "2022-07-15T06:51:06.689858Z",
     "shell.execute_reply": "2022-07-15T06:51:06.688733Z"
    },
    "papermill": {
     "duration": 0.102085,
     "end_time": "2022-07-15T06:51:06.692705",
     "exception": false,
     "start_time": "2022-07-15T06:51:06.590620",
     "status": "completed"
    },
    "tags": []
   },
   "outputs": [
    {
     "name": "stdout",
     "output_type": "stream",
     "text": [
      "Image similarity method results\n",
      "\n",
      "Interceptions: 39 from 6000 (0.65%)\n",
      "Jaccard: 0.00103\n",
      "Dice: 0.002003\n",
      "Mean Average Precision @ 12: 0.0006458\n"
     ]
    }
   ],
   "source": [
    "print(\"Image similarity method results\\n\")\n",
    "imgall_metrics = metrics(ground_truth_list, img_preds)"
   ]
  },
  {
   "cell_type": "code",
   "execution_count": 16,
   "id": "47a0e179",
   "metadata": {
    "execution": {
     "iopub.execute_input": "2022-07-15T06:51:06.710806Z",
     "iopub.status.busy": "2022-07-15T06:51:06.709972Z",
     "iopub.status.idle": "2022-07-15T06:51:06.769033Z",
     "shell.execute_reply": "2022-07-15T06:51:06.768011Z"
    },
    "papermill": {
     "duration": 0.070714,
     "end_time": "2022-07-15T06:51:06.771442",
     "exception": false,
     "start_time": "2022-07-15T06:51:06.700728",
     "status": "completed"
    },
    "tags": []
   },
   "outputs": [
    {
     "name": "stdout",
     "output_type": "stream",
     "text": [
      "Image similarity method results\n",
      "\n",
      "Interceptions: 8 from 6000 (0.1333%)\n",
      "Jaccard: 0.0009293\n",
      "Dice: 0.001707\n",
      "Mean Average Precision @ 12: 0.0006458\n"
     ]
    }
   ],
   "source": [
    "img_preds_first12 = [pred[:12] for pred in img_preds]\n",
    "\n",
    "print(\"Image similarity method results\\n\")\n",
    "img12_metrics = metrics(ground_truth_list, img_preds_first12)"
   ]
  },
  {
   "cell_type": "markdown",
   "id": "669a9368",
   "metadata": {
    "papermill": {
     "duration": 0.007979,
     "end_time": "2022-07-15T06:51:06.787600",
     "exception": false,
     "start_time": "2022-07-15T06:51:06.779621",
     "status": "completed"
    },
    "tags": []
   },
   "source": [
    "**All results**"
   ]
  },
  {
   "cell_type": "code",
   "execution_count": 17,
   "id": "3e98f24a",
   "metadata": {
    "execution": {
     "iopub.execute_input": "2022-07-15T06:51:06.806315Z",
     "iopub.status.busy": "2022-07-15T06:51:06.805890Z",
     "iopub.status.idle": "2022-07-15T06:51:06.819398Z",
     "shell.execute_reply": "2022-07-15T06:51:06.818246Z"
    },
    "papermill": {
     "duration": 0.025868,
     "end_time": "2022-07-15T06:51:06.821754",
     "exception": false,
     "start_time": "2022-07-15T06:51:06.795886",
     "status": "completed"
    },
    "tags": []
   },
   "outputs": [],
   "source": [
    "all_preds = [np.concatenate(item) for item in zip(mp_preds, nlp_preds, nlp_preds, lightfm_preds, lightfm_preds, lightfm_if_preds, lightfm_if_uf_preds)]\n",
    "#all_preds_top12 = [pd.value_counts(item).head(12).index.values for item in all_preds]\n",
    "#pd.value_counts(all_preds[3]).head(12) "
   ]
  },
  {
   "cell_type": "code",
   "execution_count": 18,
   "id": "9d6c3dcd",
   "metadata": {
    "execution": {
     "iopub.execute_input": "2022-07-15T06:51:06.840181Z",
     "iopub.status.busy": "2022-07-15T06:51:06.839760Z",
     "iopub.status.idle": "2022-07-15T06:51:07.063839Z",
     "shell.execute_reply": "2022-07-15T06:51:07.062389Z"
    },
    "papermill": {
     "duration": 0.236515,
     "end_time": "2022-07-15T06:51:07.066533",
     "exception": false,
     "start_time": "2022-07-15T06:51:06.830018",
     "status": "completed"
    },
    "tags": []
   },
   "outputs": [
    {
     "name": "stdout",
     "output_type": "stream",
     "text": [
      "Interceptions: 941 from 6000 (15.68%)\n",
      "Jaccard: 0.00802\n",
      "Dice: 0.01582\n",
      "Mean Average Precision @ 12: 0.0004845\n"
     ]
    }
   ],
   "source": [
    "all_preds_metrics = metrics(ground_truth_list, all_preds)\n",
    "#print()\n",
    "#all_preds_top12_metrics = metrics(ground_truth_list, all_preds_top12)"
   ]
  },
  {
   "cell_type": "code",
   "execution_count": 19,
   "id": "0862fcf0",
   "metadata": {
    "execution": {
     "iopub.execute_input": "2022-07-15T06:51:07.084934Z",
     "iopub.status.busy": "2022-07-15T06:51:07.084530Z",
     "iopub.status.idle": "2022-07-15T06:51:07.108597Z",
     "shell.execute_reply": "2022-07-15T06:51:07.107450Z"
    },
    "papermill": {
     "duration": 0.035978,
     "end_time": "2022-07-15T06:51:07.110896",
     "exception": false,
     "start_time": "2022-07-15T06:51:07.074918",
     "status": "completed"
    },
    "tags": []
   },
   "outputs": [
    {
     "data": {
      "text/html": [
       "<div>\n",
       "<style scoped>\n",
       "    .dataframe tbody tr th:only-of-type {\n",
       "        vertical-align: middle;\n",
       "    }\n",
       "\n",
       "    .dataframe tbody tr th {\n",
       "        vertical-align: top;\n",
       "    }\n",
       "\n",
       "    .dataframe thead th {\n",
       "        text-align: right;\n",
       "    }\n",
       "</style>\n",
       "<table border=\"1\" class=\"dataframe\">\n",
       "  <thead>\n",
       "    <tr style=\"text-align: right;\">\n",
       "      <th></th>\n",
       "      <th>True Predicted</th>\n",
       "      <th>Recall %</th>\n",
       "      <th>Jaccard</th>\n",
       "      <th>Dice</th>\n",
       "      <th>MAP@12</th>\n",
       "    </tr>\n",
       "  </thead>\n",
       "  <tbody>\n",
       "    <tr>\n",
       "      <th>Top 100 most popular</th>\n",
       "      <td>117</td>\n",
       "      <td>1.950000</td>\n",
       "      <td>0.002160</td>\n",
       "      <td>0.004265</td>\n",
       "      <td>0.000484</td>\n",
       "    </tr>\n",
       "    <tr>\n",
       "      <th>Description similarity 12 for every item</th>\n",
       "      <td>542</td>\n",
       "      <td>9.033333</td>\n",
       "      <td>0.013783</td>\n",
       "      <td>0.026618</td>\n",
       "      <td>0.006861</td>\n",
       "    </tr>\n",
       "    <tr>\n",
       "      <th>LightFM 24</th>\n",
       "      <td>234</td>\n",
       "      <td>3.900000</td>\n",
       "      <td>0.014634</td>\n",
       "      <td>0.027632</td>\n",
       "      <td>0.010527</td>\n",
       "    </tr>\n",
       "    <tr>\n",
       "      <th>LightFM+ItemF 24</th>\n",
       "      <td>209</td>\n",
       "      <td>3.483333</td>\n",
       "      <td>0.013059</td>\n",
       "      <td>0.024642</td>\n",
       "      <td>0.008217</td>\n",
       "    </tr>\n",
       "    <tr>\n",
       "      <th>LightFM+ItemF+UserF 24</th>\n",
       "      <td>176</td>\n",
       "      <td>2.933333</td>\n",
       "      <td>0.010919</td>\n",
       "      <td>0.020723</td>\n",
       "      <td>0.006615</td>\n",
       "    </tr>\n",
       "    <tr>\n",
       "      <th>Image similarity 12 for every item</th>\n",
       "      <td>39</td>\n",
       "      <td>0.650000</td>\n",
       "      <td>0.001030</td>\n",
       "      <td>0.002003</td>\n",
       "      <td>0.000646</td>\n",
       "    </tr>\n",
       "    <tr>\n",
       "      <th>All predictions</th>\n",
       "      <td>941</td>\n",
       "      <td>15.683333</td>\n",
       "      <td>0.008020</td>\n",
       "      <td>0.015823</td>\n",
       "      <td>0.000484</td>\n",
       "    </tr>\n",
       "  </tbody>\n",
       "</table>\n",
       "</div>"
      ],
      "text/plain": [
       "                                          True Predicted   Recall %   Jaccard  \\\n",
       "Top 100 most popular                                 117   1.950000  0.002160   \n",
       "Description similarity 12 for every item             542   9.033333  0.013783   \n",
       "LightFM 24                                           234   3.900000  0.014634   \n",
       "LightFM+ItemF 24                                     209   3.483333  0.013059   \n",
       "LightFM+ItemF+UserF 24                               176   2.933333  0.010919   \n",
       "Image similarity 12 for every item                    39   0.650000  0.001030   \n",
       "All predictions                                      941  15.683333  0.008020   \n",
       "\n",
       "                                              Dice    MAP@12  \n",
       "Top 100 most popular                      0.004265  0.000484  \n",
       "Description similarity 12 for every item  0.026618  0.006861  \n",
       "LightFM 24                                0.027632  0.010527  \n",
       "LightFM+ItemF 24                          0.024642  0.008217  \n",
       "LightFM+ItemF+UserF 24                    0.020723  0.006615  \n",
       "Image similarity 12 for every item        0.002003  0.000646  \n",
       "All predictions                           0.015823  0.000484  "
      ]
     },
     "execution_count": 19,
     "metadata": {},
     "output_type": "execute_result"
    }
   ],
   "source": [
    "pd.DataFrame([mp100_metrics, \n",
    "              nlp_metrics, \n",
    "              lfm_metrics,\n",
    "              lfm_if_metrics, \n",
    "              lfm_if_uf_metrics,\n",
    "              imgall_metrics, \n",
    "              all_preds_metrics,\n",
    "              ],\n",
    "             index = [\"Top 100 most popular\",\n",
    "                      \"Description similarity 12 for every item\", \n",
    "                      \"LightFM 24\", \n",
    "                      \"LightFM+ItemF 24\", \n",
    "                      \"LightFM+ItemF+UserF 24\", \n",
    "                      \"Image similarity 12 for every item\", \n",
    "                      \"All predictions\"\n",
    "                      ],\n",
    "            columns = [\"True Predicted\", \"Recall %\", \"Jaccard\", \"Dice\", \"MAP@12\"])"
   ]
  },
  {
   "cell_type": "code",
   "execution_count": 20,
   "id": "527b6076",
   "metadata": {
    "execution": {
     "iopub.execute_input": "2022-07-15T06:51:07.133133Z",
     "iopub.status.busy": "2022-07-15T06:51:07.131555Z",
     "iopub.status.idle": "2022-07-15T06:51:07.147916Z",
     "shell.execute_reply": "2022-07-15T06:51:07.146810Z"
    },
    "papermill": {
     "duration": 0.028972,
     "end_time": "2022-07-15T06:51:07.150318",
     "exception": false,
     "start_time": "2022-07-15T06:51:07.121346",
     "status": "completed"
    },
    "tags": []
   },
   "outputs": [
    {
     "data": {
      "text/html": [
       "<div>\n",
       "<style scoped>\n",
       "    .dataframe tbody tr th:only-of-type {\n",
       "        vertical-align: middle;\n",
       "    }\n",
       "\n",
       "    .dataframe tbody tr th {\n",
       "        vertical-align: top;\n",
       "    }\n",
       "\n",
       "    .dataframe thead th {\n",
       "        text-align: right;\n",
       "    }\n",
       "</style>\n",
       "<table border=\"1\" class=\"dataframe\">\n",
       "  <thead>\n",
       "    <tr style=\"text-align: right;\">\n",
       "      <th></th>\n",
       "      <th>True Predicted</th>\n",
       "      <th>Recall %</th>\n",
       "      <th>Jaccard</th>\n",
       "      <th>Dice</th>\n",
       "      <th>MAP@12</th>\n",
       "    </tr>\n",
       "  </thead>\n",
       "  <tbody>\n",
       "    <tr>\n",
       "      <th>Top 12 most popular</th>\n",
       "      <td>18</td>\n",
       "      <td>0.300000</td>\n",
       "      <td>0.001771</td>\n",
       "      <td>0.003336</td>\n",
       "      <td>0.000484</td>\n",
       "    </tr>\n",
       "    <tr>\n",
       "      <th>Description similarity first 12</th>\n",
       "      <td>136</td>\n",
       "      <td>2.266667</td>\n",
       "      <td>0.014106</td>\n",
       "      <td>0.026276</td>\n",
       "      <td>0.006861</td>\n",
       "    </tr>\n",
       "    <tr>\n",
       "      <th>LightFM 12</th>\n",
       "      <td>163</td>\n",
       "      <td>2.716667</td>\n",
       "      <td>0.016354</td>\n",
       "      <td>0.030090</td>\n",
       "      <td>0.010527</td>\n",
       "    </tr>\n",
       "    <tr>\n",
       "      <th>LightFM+ItemF 12</th>\n",
       "      <td>125</td>\n",
       "      <td>2.083333</td>\n",
       "      <td>0.012428</td>\n",
       "      <td>0.022835</td>\n",
       "      <td>0.008217</td>\n",
       "    </tr>\n",
       "    <tr>\n",
       "      <th>LightFM+ItemF+UserF 12</th>\n",
       "      <td>106</td>\n",
       "      <td>1.766667</td>\n",
       "      <td>0.010321</td>\n",
       "      <td>0.019365</td>\n",
       "      <td>0.006615</td>\n",
       "    </tr>\n",
       "    <tr>\n",
       "      <th>Image similarity first 12</th>\n",
       "      <td>8</td>\n",
       "      <td>0.133333</td>\n",
       "      <td>0.000929</td>\n",
       "      <td>0.001707</td>\n",
       "      <td>0.000646</td>\n",
       "    </tr>\n",
       "  </tbody>\n",
       "</table>\n",
       "</div>"
      ],
      "text/plain": [
       "                                 True Predicted  Recall %   Jaccard      Dice  \\\n",
       "Top 12 most popular                          18  0.300000  0.001771  0.003336   \n",
       "Description similarity first 12             136  2.266667  0.014106  0.026276   \n",
       "LightFM 12                                  163  2.716667  0.016354  0.030090   \n",
       "LightFM+ItemF 12                            125  2.083333  0.012428  0.022835   \n",
       "LightFM+ItemF+UserF 12                      106  1.766667  0.010321  0.019365   \n",
       "Image similarity first 12                     8  0.133333  0.000929  0.001707   \n",
       "\n",
       "                                   MAP@12  \n",
       "Top 12 most popular              0.000484  \n",
       "Description similarity first 12  0.006861  \n",
       "LightFM 12                       0.010527  \n",
       "LightFM+ItemF 12                 0.008217  \n",
       "LightFM+ItemF+UserF 12           0.006615  \n",
       "Image similarity first 12        0.000646  "
      ]
     },
     "execution_count": 20,
     "metadata": {},
     "output_type": "execute_result"
    }
   ],
   "source": [
    "pd.DataFrame([mp12_metrics,\n",
    "              nlp12_metrics,\n",
    "              lfm12_metrics,\n",
    "              lfm12_if_metrics,\n",
    "              lfm12_if_uf_metrics,\n",
    "              img12_metrics,\n",
    "              ],\n",
    "             index = [\"Top 12 most popular\",\n",
    "                      \"Description similarity first 12\",\n",
    "                      \"LightFM 12\",\n",
    "                      \"LightFM+ItemF 12\",\n",
    "                      \"LightFM+ItemF+UserF 12\",\n",
    "                      \"Image similarity first 12\",\n",
    "                      ],\n",
    "            columns = [\"True Predicted\", \"Recall %\", \"Jaccard\", \"Dice\", \"MAP@12\"])"
   ]
  },
  {
   "cell_type": "code",
   "execution_count": 21,
   "id": "b62d0e67",
   "metadata": {
    "execution": {
     "iopub.execute_input": "2022-07-15T06:51:07.170485Z",
     "iopub.status.busy": "2022-07-15T06:51:07.169448Z",
     "iopub.status.idle": "2022-07-15T06:51:08.771714Z",
     "shell.execute_reply": "2022-07-15T06:51:08.770371Z"
    },
    "papermill": {
     "duration": 1.614703,
     "end_time": "2022-07-15T06:51:08.773945",
     "exception": false,
     "start_time": "2022-07-15T06:51:07.159242",
     "status": "completed"
    },
    "tags": []
   },
   "outputs": [
    {
     "name": "stdout",
     "output_type": "stream",
     "text": [
      "\n",
      "Interceptions: 166 from 6000 (2.767%)\n",
      "Jaccard: 0.01666\n",
      "Dice: 0.03067\n",
      "Mean Average Precision @ 12: 0.009706\n",
      "\n",
      "Interceptions: 157 from 6000 (2.617%)\n",
      "Jaccard: 0.01542\n",
      "Dice: 0.02867\n",
      "Mean Average Precision @ 12: 0.008613\n",
      "\n",
      "Interceptions: 170 from 6000 (2.833%)\n",
      "Jaccard: 0.01694\n",
      "Dice: 0.03144\n",
      "Mean Average Precision @ 12: 0.01132\n",
      "\n",
      "Interceptions: 174 from 6000 (2.9%)\n",
      "Jaccard: 0.01731\n",
      "Dice: 0.03215\n",
      "Mean Average Precision @ 12: 0.01119\n",
      "\n",
      "Interceptions: 176 from 6000 (2.933%)\n",
      "Jaccard: 0.01761\n",
      "Dice: 0.03261\n",
      "Mean Average Precision @ 12: 0.01051\n",
      "\n",
      "Interceptions: 179 from 6000 (2.983%)\n",
      "Jaccard: 0.01793\n",
      "Dice: 0.03324\n",
      "Mean Average Precision @ 12: 0.0105\n",
      "\n",
      "Interceptions: 186 from 6000 (3.1%)\n",
      "Jaccard: 0.01897\n",
      "Dice: 0.03491\n",
      "Mean Average Precision @ 12: 0.01067\n",
      "\n",
      "Interceptions: 199 from 6000 (3.317%)\n",
      "Jaccard: 0.02005\n",
      "Dice: 0.03697\n",
      "Mean Average Precision @ 12: 0.01328\n"
     ]
    }
   ],
   "source": [
    "\n",
    "blends = []\n",
    "\n",
    "blends.append([mp_preds, nlp_preds, img_preds, lightfm_preds, lightfm_if_preds, lightfm_if_uf_preds])\n",
    "blends.append([mp_preds, nlp_preds, lightfm_preds, lightfm_if_preds, lightfm_if_uf_preds])\n",
    "blends.append([mp_preds, nlp_preds,  nlp_preds, lightfm_preds, lightfm_preds, lightfm_if_uf_preds])\n",
    "blends.append([ mp_preds, nlp_preds,  nlp_preds, lightfm_preds, lightfm_preds, lightfm_if_preds, lightfm_if_uf_preds])\n",
    "blends.append([ mp_preds,  mp_preds, nlp_preds,  nlp_preds, lightfm_preds, lightfm_preds, lightfm_if_preds, lightfm_if_uf_preds])\n",
    "blends.append([ mp_preds,  mp_preds, nlp_preds, img_preds,  nlp_preds, lightfm_preds, lightfm_preds, lightfm_if_preds, lightfm_if_uf_preds])\n",
    "blends.append([ mp_preds,  mp_preds, nlp_preds, nlp_preds, img_preds, lightfm_preds, lightfm_preds, lightfm_if_preds, lightfm_if_preds])\n",
    "blends.append([ mp_preds,  nlp_preds, nlp_preds, img_preds, lightfm_preds, lightfm_if_preds, lightfm_if_preds])\n",
    "\n",
    "\n",
    "all_metrics = []\n",
    "for blend in blends:\n",
    "    print()\n",
    "    all_preds = [np.concatenate(item) for item in zip(*blend)]\n",
    "    all_preds_top12 = [pd.value_counts(item).head(12).index.values for item in all_preds]\n",
    "    cur_metrics = metrics(ground_truth_list, all_preds_top12)\n",
    "    all_metrics.append(cur_metrics)\n",
    "    \n",
    "#pd.value_counts(all_preds[3]).head(12) "
   ]
  }
 ],
 "metadata": {
  "kernelspec": {
   "display_name": "Python 3",
   "language": "python",
   "name": "python3"
  },
  "language_info": {
   "codemirror_mode": {
    "name": "ipython",
    "version": 3
   },
   "file_extension": ".py",
   "mimetype": "text/x-python",
   "name": "python",
   "nbconvert_exporter": "python",
   "pygments_lexer": "ipython3",
   "version": "3.7.12"
  },
  "papermill": {
   "default_parameters": {},
   "duration": 85.460309,
   "end_time": "2022-07-15T06:51:10.208144",
   "environment_variables": {},
   "exception": null,
   "input_path": "__notebook__.ipynb",
   "output_path": "__notebook__.ipynb",
   "parameters": {},
   "start_time": "2022-07-15T06:49:44.747835",
   "version": "2.3.4"
  }
 },
 "nbformat": 4,
 "nbformat_minor": 5
}
